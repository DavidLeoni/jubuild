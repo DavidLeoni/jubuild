{
 "cells": [
  {
   "cell_type": "code",
   "execution_count": 1,
   "metadata": {
    "nbsphinx": "hidden"
   },
   "outputs": [
    {
     "data": {
      "text/html": [
       "<style>\n",
       "\n",
       "/** ONLY AVAILABLE IN JUPYTER **/\n",
       "\n",
       "#jupman-nav {\n",
       "    position: fixed;\n",
       "    top: 10px; \n",
       "    left: 5px; \n",
       "    background: white;\n",
       "    width: 200px; \n",
       "    padding: 10px; \n",
       "    z-index: 10;\n",
       "}\n",
       "\n",
       "/* style=\"background: rgba(255, 255, 255, 0);\" class=\"unstyled\" */\n",
       "\n",
       "#jupman-toc {\n",
       "    position: fixed;\n",
       "    top: 100px; \n",
       "    left: -55px; \n",
       "    background: rgba(255, 255, 255, 0);\n",
       "    \n",
       "    height: 80%;\n",
       "    width: 200px; \n",
       "    padding: 20px; \n",
       "    z-index: 10;\n",
       "    overflow-y: scroll;        \n",
       "        /* font-size: 50%; */\n",
       "}\n",
       "\n",
       "\n",
       "\n",
       "code {\n",
       "    background-color:rgb(245, 249, 249) !important;\n",
       "}\n",
       "\n",
       "\n",
       ".jupman-nav-item {\n",
       "    font-weight:bold;\n",
       "    font-size:120%  \n",
       "}\n",
       "\n",
       ".jupman-chapter-link {\n",
       "    font-size:150%;\n",
       "    margin-right:15px;        \n",
       "}\n",
       "\n",
       ".jupman-chapter-link a {\n",
       "    text-decoration: none;\n",
       "}    \n",
       "\n",
       ".jupman-title {\n",
       "    font-size:250%; \n",
       "    font-weight:bold        \n",
       "}    \n",
       "    \n",
       ".jupman-warn {    \n",
       "    background-color: #fcf2f2;        \n",
       "    border-left: 5px solid #dfb5b4;\n",
       "    padding: 1.5em;\n",
       "    font-weight:bold;\n",
       "    margin-bottom:10px;\n",
       "}\n",
       "\n",
       ".jupman-question {    \n",
       "    background-color: rgb(251, 231, 250);\n",
       "    border-left: 5px solid rgb(189, 151, 184);\n",
       "    padding: 1.5em;\n",
       "    font-weight:bold;\n",
       "    margin-bottom:10px;\n",
       "}\n",
       "    \n",
       "\n",
       ".jupman-important {\n",
       "    background-color: rgba(255, 238, 0, 0.31);\n",
       "    border-left: 5px solid rgba(205, 208, 0, 1.0);\n",
       "    color: #000;        \n",
       "    padding: 1.5em;\n",
       "    font-weight:bold;\n",
       "    margin-bottom:10px;\n",
       "}\n",
       "\n",
       "\n",
       "#jupman-toc ul {                                                                                                                                                                           \n",
       "    list-style-type: none;                                                                                                                                                                 \n",
       "    margin-left: 5px;\n",
       "}\n",
       "\n",
       "#jupman-toc li {        \n",
       "        padding-left: 3px;\n",
       "}    \n",
       "\n",
       "#jupman-toc .h1 {\n",
       "    font-size:110%; \n",
       "    \n",
       "}\n",
       "\n",
       "#jupman-toc .h2 {\n",
       "    font-size:100%; \n",
       "    padding-left:15px;\n",
       "}\n",
       "\n",
       "#jupman-toc .h3 {\n",
       "    font-size:100%; \n",
       "    padding-left:25px;\n",
       "}\n",
       "\n",
       "\n",
       "\n",
       "#notebook-container {\n",
       "    box-shadow : none;\n",
       "-web-kit-box-shadow: none;\n",
       "}\n",
       "\n",
       "\n",
       "#jupman-toc .toc-active {\n",
       "    background: rgba(168, 254, 255, 0.32);\n",
       "}\n",
       "\n",
       "\n",
       ".jupman-toggable-header {\n",
       "    text-decoration: none; \n",
       "    display:block;\n",
       "}\n",
       " </style>\n",
       "\n",
       "<script>\n",
       "var JUPMAN_IN_JUPYTER = true;\n",
       "\n",
       "/**\n",
       " * JUPYTER MANAGER JavaScript https://github.com/DavidLeoni/jupman \n",
       " * \n",
       " */\n",
       "\n",
       "\n",
       "/**\n",
       " * @deprecated use jupman.toggleVisibility instead\n",
       " * @param {string} what \n",
       " */\n",
       "function toggleVisibility(what){\n",
       "    console.warn(\"global toggleVisibility is deprecated, use jupman.toggleVisibility instead\");\n",
       "    jupman.toggleVisibility(what);            \n",
       "};\n",
       "\n",
       "function showthis(url) {\n",
       "    window.open(url, \"pres\", \"toolbar=yes,scrollbars=yes,resizable=yes,top=10,left=400,width=500,height=500\");\n",
       "    return(false);\n",
       "}\n",
       "\n",
       "var jupman = {\n",
       "    \n",
       "    /** \n",
       "        Checks if toc was injected in the script. \n",
       "    */\n",
       "    hasToc : function(){\n",
       "        return $('#jupman-toc').toc;\n",
       "    },\n",
       "    \n",
       "    isReduced : function(){\n",
       "        return $(window).width() < 924;\n",
       "    },\n",
       "    hoverToc : function(){\n",
       "        return $('#jupman-toc:hover').length != 0;\n",
       "    },\n",
       "    resize : function(){\n",
       "        if (jupman.isReduced()){\n",
       "            $(\"#jupman-toc\").hide();\n",
       "                \n",
       "        } else {\n",
       "            $(\"#jupman-toc\").show();\n",
       "            $(\"#jupman-toc\").css(\"background\",\"rgba(255, 255, 255, 0)\");\n",
       "            \n",
       "            tocParams = {\n",
       "                \n",
       "                'selectors': 'h1,h2,h3', //elements to use as headings\n",
       "                'container': 'body', //element to find all selectors in\n",
       "                'smoothScrolling': true, //enable or disable smooth scrolling on click\n",
       "                 //doesn't work  'prefix': 'jupman-toc', //prefix for anchor tags and class names\n",
       "                //'onHighlight': function(el) {}, //called when a new section is highlighted \n",
       "                'highlightOnScroll': true, //add class to heading that is currently in focus\n",
       "                'highlightOffset': 100, //offset to trigger the next headline\n",
       "                'anchorName': function(i, heading, prefix) { //custom function for anchor name\n",
       "                    return prefix+i;\n",
       "                },\n",
       "                'headerText': function(i, heading, $heading) { //custom function building the header-item text                  \n",
       "                    return $heading.text().replace(\"¶\",\"\");\n",
       "                },\n",
       "                'itemClass': function(i, heading, $heading, prefix) { // custom function for item class\n",
       "                    return $heading[0].tagName.toLowerCase();\n",
       "                }                \n",
       "            }\n",
       "            \n",
       "            if (jupman.hasToc()){\n",
       "                $('#jupman-toc').toc(tocParams);\n",
       "            }\n",
       "        }\n",
       "    },\n",
       "    /**\n",
       "        Hides cell input\n",
       "        \n",
       "        Renamed in 0.19\n",
       "    */    \n",
       "    hideCell : function(prefixOrRegex){\n",
       "        \n",
       "        $('.border-box-sizing .code_cell pre').filter(function() { \n",
       "                var t = $(this).text();\n",
       "                if (typeof prefixOrRegex == \"string\"){\n",
       "                    return t.indexOf(prefixOrRegex) === 0;\n",
       "                } else if ( prefixOrRegex instanceof RegExp){\n",
       "                    return t.match(prefixOrRegex);\n",
       "                } else {\n",
       "                    console.error(\"Invalid argument:\", prefixOrRegex);\n",
       "                    throw new Error(\"Invalid argument!\");\n",
       "                }\n",
       "            }).parents('div .cell .input').hide();        \n",
       "    },\n",
       "    /**\n",
       "        Hides the cell input AND output.\n",
       "        \n",
       "        @since 0.19\n",
       "    */\n",
       "    hideCellAll : function(prefixOrRegex){        \n",
       "        $('.border-box-sizing .code_cell pre').filter(function() { \n",
       "                var t = $(this).text();\n",
       "                if (typeof prefixOrRegex == \"string\"){\n",
       "                    return t.indexOf(prefixOrRegex) === 0;\n",
       "                } else if ( prefixOrRegex instanceof RegExp){\n",
       "                    return t.match(prefixOrRegex);\n",
       "                } else {\n",
       "                    console.error(\"Invalid argument:\", prefixOrRegex);\n",
       "                    throw new Error(\"Invalid argument!\");\n",
       "                }\n",
       "            }).parents('div .cell ').hide();        \n",
       "    },\n",
       "   \n",
       "    /**\n",
       "     * NOTE: ONLY WORKS ON THE WEBSITE\n",
       "     *      \n",
       "     * @param {@string} solId i.e. jupman-sol-7\n",
       "     * @since 3.2 \n",
       "     */\n",
       "    toggleSolution : function(solId){\n",
       "        \n",
       "        let sol = $('#' + solId);\n",
       "                \n",
       "        button = sol.children(':first');                        \n",
       "                \n",
       "        content = sol.children(':nth-child(2)');\n",
       "\n",
       "        if (content.css('display') === 'none'){            \n",
       "            button.val(button.data('jupman-hide'));\n",
       "        } else {                                    \n",
       "            button.val(button.data('jupman-show'));            \n",
       "        }\n",
       "        content.slideToggle();                                \n",
       "    },\n",
       "    \n",
       "    /**\n",
       "     * Simple vanilla way to toggle an element\n",
       "     * @param {string} what i.e. someid (no # prefix)\n",
       "     */\n",
       "    toggleVisibility : function (what){\n",
       "\n",
       "        var e = document.getElementById(what);\n",
       "        if(e.style.display == 'block') {\n",
       "            e.style.display = 'none';\n",
       "        } else {\n",
       "            e.style.display = 'block';        \n",
       "        }\n",
       "    },\n",
       "\n",
       "    /**\n",
       "     *  Code common to both jupman in jupyter and Website\n",
       "    */\n",
       "    initCommon : function(){\n",
       "        \n",
       "        console.log('jupman.js initCommon start')\n",
       "        \n",
       "        console.log(\"Initializing generic jupman-toggable stuff\");\n",
       "        if (typeof $ == \"undefined\"){\n",
       "            console.error(\"   No jquery found! Skipping ... \");\n",
       "        } else {\n",
       "            let defaultShowMsg = 'Show';\n",
       "            let defaultHideMsg = 'Hide';\n",
       "\n",
       "            $(\".jupman-toggable-header\").remove();\n",
       "            \n",
       "            $(\".jupman-toggable\").each(function(index, value) {\n",
       "                let toggler = $('<a href=\"#\"></a>');\n",
       "                toggler.addClass('jupman-toggable-header');\n",
       "                let showMsg = defaultShowMsg;            \n",
       "                if ($(this).data('jupman-show')){\n",
       "                    showMsg = $(this).data('jupman-show');\n",
       "                }\n",
       "                \n",
       "                toggler.text(showMsg);\n",
       "                toggler.insertBefore(value);\n",
       "            });\n",
       "            \n",
       "            $(\".jupman-toggable\").hide();\n",
       "            $(\".jupman-toggable-header\").show();\n",
       "\n",
       "            $('.jupman-toggable-header')\n",
       "                .off('click')\n",
       "                .click(function(ev){                                \n",
       "                    let toggler = $(this);\n",
       "                    \n",
       "                    let uls = toggler.nextAll(\".jupman-toggable\");\n",
       "                    let sibling = uls.eq(0);\n",
       "                    \n",
       "                    let showMsg = defaultShowMsg;\n",
       "                    let hideMsg = defaultHideMsg;\n",
       "                    if (sibling.data('jupman-show')){\n",
       "                        showMsg = sibling.data('jupman-show');\n",
       "                    }\n",
       "                    if (sibling.data('jupman-hide')){\n",
       "                        hideMsg = sibling.data('jupman-hide');\n",
       "                    }\n",
       "                    if (sibling.css('display') === 'none'){            \n",
       "                        toggler.text(hideMsg);\n",
       "                    } else {                                    \n",
       "                        toggler.text(showMsg);\n",
       "                    }\n",
       "                    sibling.slideToggle();        \n",
       "                    ev.preventDefault();\n",
       "                    ev.stopPropagation();\n",
       "                    return false;\n",
       "            });\n",
       "        } \n",
       "        console.log('jupman.js initCommon end')\n",
       "\n",
       "    },\n",
       "\n",
       "    /**\n",
       "     *   Jupyter only instructions - doesn't run on ReadTheDocs\n",
       "     */\n",
       "    initJupyter : function(){\n",
       "       console.log('jupman.js initJupyter start') \n",
       "\n",
       "       var toc = $(\"<div>\").attr(\"id\", \"jupman-toc\");              \n",
       "                                                             \n",
       "       var nav = $(\"<div>\")\n",
       "                     .attr(\"id\", \"jupman-nav\")\n",
       "                    \n",
       "        \n",
       "        \n",
       "       // ****************************     WARNING      ********************************\n",
       "       //         THIS HIDE STUFF DOES NOT WORK IN SPHINX, ONLY WORKS WHEN YOU MANUALLY EXPORT TO HTML \n",
       "       // ******************************************************************************\n",
       "       \n",
       "       \n",
       "       if (jupman.hasToc()){\n",
       "           if ($(\"#jupman-toc\").length === 0){\n",
       "               $(\"body\").append(toc);       \n",
       "           } else {\n",
       "               $(\"#jupman-toc\").replaceWith(toc);\n",
       "           }\n",
       "       } else {\n",
       "           $(\"#jupman-toc\").hide();\n",
       "       }\n",
       "       \n",
       "       if ($(\"#jupman-nav\").length === 0){\n",
       "           $(\"body\").append(nav);       \n",
       "       } else {\n",
       "           $(\"#jupman-nav\").replaceWith(nav);\n",
       "       }              \n",
       "\n",
       "       \n",
       "        $( window ).resize(function() {\n",
       "            jupman.resize();\n",
       "        });\n",
       "\n",
       "\n",
       "        $(\"body\").on(\"mousemove\",function(event) {\n",
       "            if (jupman.isReduced()){\n",
       "                if (event.pageX < 50) {            \n",
       "                     $(\"#jupman-toc\").show(); \n",
       "                     $(\"#jupman-toc\").css(\"background\",\"rgba(255, 255, 255, 1.0)\");\n",
       "                } else {\n",
       "                    if (jupman.hoverToc()) {                    \n",
       "                    } else {\n",
       "                        $(\"#jupman-toc\").hide();                        \n",
       "                    }\n",
       "$\n",
       "        /*            if ($(\"#jupman-toc\").is(\":visible\")){\n",
       "                        if (jupman.hoverToc()) {                    \n",
       "                        } else {\n",
       "                            $(\"#jupman-toc\").hide();                        \n",
       "                        }\n",
       "                    } else {\n",
       "                        if (jupman.hoverToc())\n",
       "                          show\n",
       "                      } else {\n",
       "                        $(\"#jupman-toc\").hide();                        \n",
       "                       }                 \n",
       "                    }\n",
       "          */     \n",
       "                }\n",
       "            }\n",
       "        });\n",
       " \n",
       "        \n",
       "       jupman.resize();\n",
       "       console.log('jupman.js initJupyter end')\n",
       "    },\n",
       "    \n",
       "    /**\n",
       "    * RTD only instructions\n",
       "    */\n",
       "    initWebsite : function(){  \n",
       "        \n",
       "        console.log(\"jupman.js initWebsite start\")\n",
       "        \n",
       "        console.log(\"Fixing menu clicks for https://github.com/DavidLeoni/jupman/issues/38\")\n",
       "\n",
       "        // function copied as is from\n",
       "        // https://github.com/readthedocs/sphinx_rtd_theme/blob/master/src/theme.js#L190\n",
       "        var toggleCurrent = function (elem) {\n",
       "            var parent_li = elem.closest('li');\n",
       "            parent_li.siblings('li.current').removeClass('current');\n",
       "            parent_li.siblings().find('li.current').removeClass('current');\n",
       "            parent_li.find('> ul li.current').removeClass('current');\n",
       "            parent_li.toggleClass('current');\n",
       "        }        \n",
       "\n",
       "        \n",
       "        var fix = function(prefix){\n",
       "\n",
       "            s = 'a.reference.internal[href^=\"' + prefix + 'toc.html\"]'\n",
       "\n",
       "            // DIRTY: THIS IS A POTENTIAL BUG: IF 'index' is not the last one it won't be selected !\n",
       "           //  Made so because index may be translated in other languages   \n",
       "\n",
       "            var link = $(s).not(\":last\")\n",
       "            var span = $(s + ' > span');\n",
       "            span.off('click')\n",
       "\n",
       "            link.on('click', function (ev) {\n",
       "                ev.preventDefault();\n",
       "                toggleCurrent($(this));\n",
       "                ev.stopPropagation();\n",
       "                return false;\n",
       "            });\n",
       "        }\n",
       "\n",
       "        fix('')\n",
       "        fix('../')\n",
       "        fix('../../')    // probably useless but just in case ...\n",
       "        fix('../../../') // probably useless but just in case ... \n",
       "\n",
       "        console.log(\"Fixing Python Tutor overflow ...\");\n",
       "        \n",
       "        // need it in js as there are no css parent selectors.\n",
       "        // NOTE: these selectors are different from Jupyter ones !!!\n",
       "        var pytuts = $('.pytutorVisualizer')        \n",
       "        pytuts.closest('div.output_area.rendered_html.docutils.container')\n",
       "              .css('overflow', 'visible')\n",
       "\n",
       "        console.log(\"jupman.js initWebsite end\")\n",
       "    },\n",
       "    \n",
       "    /**\n",
       "     * Initializes jupman.js\n",
       "     */\n",
       "    init : function(){\n",
       "\n",
       "       jupman.initCommon();\n",
       "        \n",
       "       if (typeof JUPMAN_IN_JUPYTER === \"undefined\" || !JUPMAN_IN_JUPYTER ){\n",
       "           jupman.initWebsite();\n",
       "       } else {\n",
       "           jupman.initJupyter();\n",
       "       }\n",
       "        \n",
       "    }\n",
       "}\n",
       "\n",
       "$(document).ready(jupman.init);\n",
       "\n",
       "</script>\n"
      ],
      "text/plain": [
       "<IPython.core.display.HTML object>"
      ]
     },
     "execution_count": 1,
     "metadata": {},
     "output_type": "execute_result"
    }
   ],
   "source": [
    "import jupman;\n",
    "jupman.init()"
   ]
  },
  {
   "cell_type": "markdown",
   "metadata": {},
   "source": [
    "# Jupman Tests\n",
    "\n",
    "In this page we put some tests for Jupyter. The page Title has one sharp, the Sections always have two sharps.\n",
    "\n",
    "## Sezione 1\n",
    "\n",
    "bla bla \n",
    "\n",
    "## Sezione 2\n",
    "\n",
    "Subsections always have three sharps\n",
    "\n",
    "### Subsection 1\n",
    "bla bla \n",
    "\n",
    "### Subsection 2\n",
    "bla bla \n"
   ]
  },
  {
   "cell_type": "markdown",
   "metadata": {},
   "source": [
    "## Quotes"
   ]
  },
  {
   "cell_type": "markdown",
   "metadata": {},
   "source": [
    "> I'm quoted with **greater than** symbol\n",
    "> on multiple lines\n",
    "> Am I readable?"
   ]
  },
  {
   "cell_type": "markdown",
   "metadata": {},
   "source": [
    "    I'm quoted with **spaces** \n",
    "    on multiple lines\n",
    "    Am I readable?"
   ]
  },
  {
   "cell_type": "markdown",
   "metadata": {},
   "source": [
    "## Download links\n",
    "\n",
    "Files manually put in `_static` : \n",
    "\n",
    "* Download [trial.odt](_static/trial.odt)\n",
    "* Download [trial.pdf](_static/trial.pdf)\n",
    "\n",
    "Files in arbitrary folder position : \n",
    "\n",
    "* Download [requirements.txt](requirements.txt)\n",
    "\n",
    "NOTE: download links are messy, [see issue 8](https://github.com/DavidLeoni/jupman/issues/8)\n",
    "\n",
    "\n"
   ]
  },
  {
   "cell_type": "markdown",
   "metadata": {
    "collapsed": true
   },
   "source": [
    "## Info/Warning Boxes\n",
    "\n",
    "Until there is an info/warning extension for Markdown/CommonMark (see this issue), such boxes can be created by using HTML <div> elements like this:"
   ]
  },
  {
   "cell_type": "markdown",
   "metadata": {},
   "source": [
    "<div class=\"alert alert-info\">\n",
    "\n",
    "**Note:** This is an info!\n",
    "\n",
    "</div>"
   ]
  },
  {
   "cell_type": "markdown",
   "metadata": {},
   "source": [
    "<div class=\"alert alert-warning\">\n",
    "\n",
    "**Note:** This is a warn!\n",
    "\n",
    "</div>"
   ]
  },
  {
   "cell_type": "markdown",
   "metadata": {},
   "source": [
    "For this to work reliably, you should obey the following guidelines:\n",
    "\n",
    "* The class attribute has to be either \"alert alert-info\" or \"alert alert-warning\", other values will not be converted correctly.\n",
    "* No further attributes are allowed.\n",
    "* For compatibility with CommonMark, you should add an empty line between the <div> start tag and the beginning of the content.\n"
   ]
  },
  {
   "cell_type": "markdown",
   "metadata": {},
   "source": [
    "\n",
    "## Math\n",
    "\n",
    "For math stuff, [see npshpinx docs](https://nbsphinx.readthedocs.io/en/0.2.14/markdown-cells.html#Equations)\n",
    "\n",
    "Here we put just some equation to show it behaves fine in Jupman\n",
    "\n",
    "This is infinity: $\\infty$ "
   ]
  },
  {
   "cell_type": "markdown",
   "metadata": {},
   "source": [
    "## Unicode \n",
    "\n",
    "Unicode characters should display an HTML, but with latex you might have problems, and need to manually map characters in conf.py\n",
    "\n",
    "\n",
    "You should see a star in a black circle: ✪ \n",
    "\n",
    "You should see a check: ✓\n",
    "\n",
    "table characters: │ ├ └ ─"
   ]
  },
  {
   "cell_type": "markdown",
   "metadata": {},
   "source": [
    "## Image\n",
    "\n",
    "### SVG Images\n",
    "\n",
    "SVG images work in notebook, but here it is commented since it breaks Latex, [see issue](https://github.com/DavidLeoni/jupman/issues/1)\n",
    "\n",
    "```\n",
    "![An image](img/cc-by.svg)\n",
    "```\n",
    "\n",
    "This one also doesn't works (and shows ugly code in the notebook anyway)\n",
    "\n",
    "```\n",
    "from IPython.display import SVG\n",
    "SVG(filename='img/cc-by.svg')\n",
    "```\n"
   ]
  },
  {
   "cell_type": "markdown",
   "metadata": {},
   "source": [
    "### PNG Images\n",
    "\n",
    "![A PNG image](_static/img/notebook_icon.png)"
   ]
  },
  {
   "cell_type": "markdown",
   "metadata": {},
   "source": [
    "### Inline images - pure markdown"
   ]
  },
  {
   "cell_type": "markdown",
   "metadata": {},
   "source": [
    "    Bla ![A PNG image](_static/img/notebook_icon.png)  bli blo"
   ]
  },
  {
   "cell_type": "markdown",
   "metadata": {},
   "source": [
    "Bla ![A PNG image](_static/img/notebook_icon.png)  bli blo"
   ]
  },
  {
   "cell_type": "markdown",
   "metadata": {},
   "source": [
    "### Inline images - markdown and img"
   ]
  },
  {
   "cell_type": "markdown",
   "metadata": {},
   "source": [
    "    bla <img style=\"display:inline\" src=\"_static/img/notebook_icon.png\"> bli blo"
   ]
  },
  {
   "cell_type": "markdown",
   "metadata": {},
   "source": [
    "\n",
    "bla <img style=\"display:inline !important\" src=\"_static/img/notebook_icon.png\"> bli blo"
   ]
  },
  {
   "cell_type": "markdown",
   "metadata": {},
   "source": [
    "### Img class\n",
    "\n",
    "If we pass a class, it will to be present in the website:\n",
    "\n",
    "    <img class=\"jupman-inline-img\" src=\"_static/img/notebook_icon.png\">\n",
    "    \n",
    "This  <img class=\"jupman-inline-img\" src=\"_static/img/notebook_icon.png\"> should be inline"
   ]
  },
  {
   "cell_type": "markdown",
   "metadata": {},
   "source": [
    "## Expressions list\n",
    "\n",
    "Highlighting **does** work both in Jupyter and Sphinx\n",
    "\n",
    "Three quotes, multiple lines - Careful: put **exactly 4 spaces** indentation\n",
    "\n",
    "1.  ```python \n",
    "    [2,3,1] != \"[2,3,1]\"\n",
    "    ```\n",
    "1.  ```python \n",
    "    [4,8,12] == [2*2,\"4*2\",6*2]\n",
    "    ```\n",
    "1.  ```python \n",
    "    [][:] == []\n",
    "    ```"
   ]
  },
  {
   "cell_type": "markdown",
   "metadata": {},
   "source": [
    "Three quotes, multiple lines, more compact - works in Jupyter,  **doesn't** in Sphinx\n",
    "\n",
    "1.  ```python \n",
    "    [2,3,1] != \"[2,3,1]\"```\n",
    "1.  ```python \n",
    "    [4,8,12] == [2*2,\"4*2\",6*2]```\n",
    "1.  ```python \n",
    "    [][:] == []```"
   ]
  },
  {
   "cell_type": "markdown",
   "metadata": {},
   "source": [
    "Highlighting **doesn't** work in Jupyter neither in Sphinx:\n",
    "\n",
    "Three quotes, single line\n",
    "\n",
    "1. ```python [2,3,1] != [\"2\",3,1]```\n",
    "1. ```python [4,8,12] == [2*2,\"4*2\",6*2]```\n",
    "1. ```python [][:] == \"[]\"```\n",
    "\n",
    "Single quote, single line\n",
    "\n",
    "1. `python [2,3,1] != [\"2\",3,1]`\n",
    "1. `python [4,8,12] == [2*2,\"4*2\",6*2]`\n",
    "1. `python [][:] == \"[]\"`\n"
   ]
  },
  {
   "cell_type": "markdown",
   "metadata": {},
   "source": [
    "## Toggable cells\n",
    "\n",
    "There are various ways to have toggable cells.\n",
    "\n",
    "### Show/hide exercises (PREFERRED)\n",
    "\n",
    "If you need clickable show/hide buttons for exercise solutions , see here: [Usage - Exercise types](https://jupman.softpython.org/en/latest/usage.html#Type-of-exercises). It manages comprehensively use cases for display in website, student zips, exams, etc\n",
    "\n",
    "If you have other needs, we report here some test we made, but keep in mind this sort of hacks tend to change behaviour with different versions of jupyter.\n",
    "\n",
    "### Toggling with Javascript\n",
    "\n",
    "* Works in MarkDown\n",
    "* Works while in Jupyter\n",
    "* Works in HTML\n",
    "* Does not show in Latex (which might be a good point, if you intend to put somehow solutions at the end of the document)\n",
    "* NOTE: after creating the text to see the results you have to run the initial cell with jupman.init (as for the toc) \n",
    "* NOTE: you can't use Markdown block code since of Sept 2017 doesn't show well in HTML output \n",
    "\n",
    "<div class=\"jupman-toggable\">\n",
    "\n",
    "<code>\n",
    "<pre>\n",
    "    # SOME CODE\n",
    "    color = raw_input(\"What's your eyes' color?\")\n",
    "    if color == \"\":\n",
    "        sys.exit()\n",
    "</pre>\n",
    "</code>\n",
    "</div>\n",
    "\n",
    "<div class=\"jupman-toggable\" \n",
    "     data-jupman-show=\"Customized show msg\" \n",
    "     data-jupman-hide=\"Customized hide msg\">\n",
    "\n",
    "<code>\n",
    "<pre>\n",
    "    # SOME OTHER CODE\n",
    "    how_old = raw_input(\"How old are you?\")\n",
    "    x = random.randint(1,8)\n",
    "    if question == \"\":\n",
    "        sys.exit()\n",
    "        \n",
    "</pre>\n",
    "</code>\n",
    "</div>"
   ]
  },
  {
   "cell_type": "markdown",
   "metadata": {},
   "source": [
    "### HTML details in Markdown, code tag \n",
    "\n",
    "* Works while in Jupyter\n",
    "* Doesn't work in HTML output\n",
    "* as of Sept Oct 2017, not yet supported in Microsoft browsers\n",
    "\n",
    "<details>\n",
    "\n",
    "<summary>Click here to see the code</summary>\n",
    "\n",
    "<code>\n",
    "\n",
    "    question = raw_input(\"What?\")\n",
    "    answers = random.randint(1,8)\n",
    "    if question == \"\":\n",
    "        sys.exit()\n",
    "</code>\n",
    "\n",
    "</details>\n"
   ]
  },
  {
   "cell_type": "markdown",
   "metadata": {},
   "source": [
    "### HTML details in Markdown, Markdown mixed code\n",
    "\n",
    "* Works while in Jupyter \n",
    "* Doesn't work in HTML output\n",
    "* as of Sept Oct 2017, not yet supported in Microsoft browsers\n",
    "\n",
    "\n",
    "<details>\n",
    "\n",
    "<summary>Click here to see the code</summary>\n",
    "\n",
    "```python\n",
    "    question = raw_input(\"What?\")\n",
    "    answers = random.randint(1,8)\n",
    "    if question == \"\":\n",
    "        sys.exit()\n",
    "```\n",
    "\n",
    "</details>\n"
   ]
  },
  {
   "cell_type": "markdown",
   "metadata": {},
   "source": [
    "### HTML details in HTML, raw NBConvert Format \n",
    "\n",
    "* Doesn't work in Jupyter\n",
    "* Works in HTML output\n",
    "    * NOTE: as of Sept Oct 2017, not yet supported in Microsoft browsers\n",
    "* Doesn't show at all in PDF output\n"
   ]
  },
  {
   "cell_type": "raw",
   "metadata": {
    "raw_mimetype": "text/html"
   },
   "source": [
    "<details>\n",
    "<summary>Click here to see the code</summary>\n",
    "<code>\n",
    "<pre>\n",
    "    question = raw_input(\"What?\")\n",
    "    answers = random.randint(1,8)\n",
    "    if question == \"\":\n",
    "        sys.exit()\n",
    "</pre>\n",
    "</code>\n",
    "</details>"
   ]
  },
  {
   "cell_type": "markdown",
   "metadata": {},
   "source": [
    "Some other Markdown cell afterwards ...."
   ]
  },
  {
   "cell_type": "markdown",
   "metadata": {},
   "source": [
    "## Files in templates\n",
    "\n",
    "Since Dec 2019 they are not accessible [see issue 10](https://github.com/DavidLeoni/jupman/issues/10), but it is not a great problem, you can always put a link to Github, see for example [exam-yyyy-mm-dd.ipynb](https://github.com/DavidLeoni/jupman/tree/master/_templates/exam/exam-yyyy-mm-dd.ipynb)"
   ]
  },
  {
   "cell_type": "markdown",
   "metadata": {},
   "source": [
    "## Python tutor\n",
    "\n",
    "There are various ways to embed Python tutor, first we put the recommended one."
   ]
  },
  {
   "cell_type": "markdown",
   "metadata": {},
   "source": [
    "###  jupman.pytut"
   ]
  },
  {
   "cell_type": "markdown",
   "metadata": {},
   "source": [
    "**RECOMMENDED**: You can put a call to `jupman.pytut()` at the end of a cell, and the cell code will magically appear in python tutor in the output (except the call to `pytut()` of course). \n",
    "Does not need internet  connection."
   ]
  },
  {
   "cell_type": "code",
   "execution_count": 2,
   "metadata": {},
   "outputs": [
    {
     "data": {
      "text/html": [
       "\n",
       "        <script src=\"_static/js/pytutor-embed.bundle.min.js\" type=\"application/javascript\"></script>\n",
       "     \n",
       "        <script id=\"json-jme44b0cd7-f081-491b-a8c0-452f544a7f8d\" type=\"application/json\" >\n",
       "            {\"code\": \" \\nx = [5,8,4,10,30,20,40,50,60,70,20,30]\\ny= {3:9}\\nz = [x]\", \"trace\": [{\"func_name\": \"<module>\", \"globals\": {}, \"line\": 2, \"event\": \"step_line\", \"ordered_globals\": [], \"heap\": {}, \"stdout\": \"\", \"stack_to_render\": []}, {\"func_name\": \"<module>\", \"globals\": {\"x\": [\"REF\", 1]}, \"line\": 3, \"event\": \"step_line\", \"ordered_globals\": [\"x\"], \"heap\": {\"1\": [\"LIST\", 5, 8, 4, 10, 30, 20, 40, 50, 60, 70, 20, 30]}, \"stdout\": \"\", \"stack_to_render\": []}, {\"func_name\": \"<module>\", \"globals\": {\"x\": [\"REF\", 1], \"y\": [\"REF\", 2]}, \"line\": 4, \"event\": \"step_line\", \"ordered_globals\": [\"x\", \"y\"], \"heap\": {\"1\": [\"LIST\", 5, 8, 4, 10, 30, 20, 40, 50, 60, 70, 20, 30], \"2\": [\"DICT\", [3, 9]]}, \"stdout\": \"\", \"stack_to_render\": []}, {\"func_name\": \"<module>\", \"globals\": {\"z\": [\"REF\", 3], \"x\": [\"REF\", 1], \"y\": [\"REF\", 2]}, \"line\": 4, \"event\": \"return\", \"ordered_globals\": [\"x\", \"y\", \"z\"], \"heap\": {\"1\": [\"LIST\", 5, 8, 4, 10, 30, 20, 40, 50, 60, 70, 20, 30], \"2\": [\"DICT\", [3, 9]], \"3\": [\"LIST\", [\"REF\", 1]]}, \"stdout\": \"\", \"stack_to_render\": []}]}\n",
       "        </script>\n",
       "        <div id=\"jme44b0cd7-f081-491b-a8c0-452f544a7f8d\" class=\"pytutorVisualizer\"> </div>\n",
       " \n",
       "        <style>\n",
       "        .vizLayoutTd {\n",
       "            background-color: #fff !important;\n",
       "        }\n",
       "                            \n",
       "        #pyStdout {\n",
       "            min-height:25px;\n",
       "        }\n",
       "\n",
       "        /* 'Edit this code' link, hiding because replaces browser tab !!!*/\n",
       "        #editCodeLinkDiv {\n",
       "            display:none;  \n",
       "        }\n",
       "        </style>   \n",
       "                            \n",
       "        <script>\n",
       "        (function(){\n",
       "\n",
       "            var trace = JSON.parse(document.getElementById('json-jme44b0cd7-f081-491b-a8c0-452f544a7f8d').innerHTML);                                        \n",
       "            // NOTE 1: id without #\n",
       "            // NOTE 2 - maybe there are more predictable ways, but this will work anyway\n",
       "            //        - id should be number\n",
       "            visualizerIdOverride = Math.trunc(Math.random() * 100000000000)\n",
       "            addVisualizerToPage(trace, 'jme44b0cd7-f081-491b-a8c0-452f544a7f8d',{'embeddedMode' : false,\n",
       "                                             'visualizerIdOverride':visualizerIdOverride})  \n",
       "            \n",
       "            \n",
       "            // set overflow for pytuts - need to do in python as css \n",
       "            // does not allow parent selection\n",
       "            var pytuts = $('.pytutorVisualizer')\n",
       "            pytuts.closest('div.output_html.rendered_html.output_result')\n",
       "                    .css('overflow-x', 'visible')\n",
       "        \n",
       "            //pytuts.closest('div.output_html.rendered_html.output_result')\n",
       "            //      .css('background-color','red')                \n",
       "            \n",
       "        })()\n",
       "        </script>\n",
       "                \n",
       "                "
      ],
      "text/plain": [
       "<IPython.core.display.HTML object>"
      ]
     },
     "execution_count": 2,
     "metadata": {},
     "output_type": "execute_result"
    }
   ],
   "source": [
    "x = [5,8,4,10,30,20,40,50,60,70,20,30]\n",
    "y= {3:9}\n",
    "z = [x]\n",
    "\n",
    "jupman.pytut()"
   ]
  },
  {
   "cell_type": "markdown",
   "metadata": {},
   "source": [
    "**jupman.pytut scope**: BEWARE of variables which were initialized in previous cells, they WILL NOT be available in Python Tutor:"
   ]
  },
  {
   "cell_type": "code",
   "execution_count": 3,
   "metadata": {},
   "outputs": [],
   "source": [
    "w = 8"
   ]
  },
  {
   "cell_type": "code",
   "execution_count": 4,
   "metadata": {
    "scrolled": false
   },
   "outputs": [
    {
     "name": "stderr",
     "output_type": "stream",
     "text": [
      "Traceback (most recent call last):\n",
      "  File \"/home/da/Da/prj/jupman/prj/jupman.py\", line 2305, in _runscript\n",
      "    self.run(script_str, user_globals, user_globals)\n",
      "  File \"/usr/lib/python3.5/bdb.py\", line 431, in run\n",
      "    exec(cmd, globals, locals)\n",
      "  File \"<string>\", line 2, in <module>\n",
      "NameError: name 'w' is not defined\n"
     ]
    },
    {
     "data": {
      "text/html": [
       "\n",
       "        <script src=\"_static/js/pytutor-embed.bundle.min.js\" type=\"application/javascript\"></script>\n",
       "     \n",
       "        <script id=\"json-jm45734a49-436a-4bc4-820e-606d0ead2337\" type=\"application/json\" >\n",
       "            {\"code\": \" \\nx =  w + 5\", \"trace\": [{\"func_name\": \"<module>\", \"globals\": {}, \"line\": 2, \"event\": \"step_line\", \"ordered_globals\": [], \"heap\": {}, \"stdout\": \"\", \"stack_to_render\": []}, {\"func_name\": \"<module>\", \"exception_msg\": \"NameError: name 'w' is not defined\", \"globals\": {}, \"line\": 2, \"event\": \"exception\", \"ordered_globals\": [], \"heap\": {}, \"stdout\": \"\", \"stack_to_render\": []}]}\n",
       "        </script>\n",
       "        <div id=\"jm45734a49-436a-4bc4-820e-606d0ead2337\" class=\"pytutorVisualizer\"> </div>\n",
       " \n",
       "        <style>\n",
       "        .vizLayoutTd {\n",
       "            background-color: #fff !important;\n",
       "        }\n",
       "                            \n",
       "        #pyStdout {\n",
       "            min-height:25px;\n",
       "        }\n",
       "\n",
       "        /* 'Edit this code' link, hiding because replaces browser tab !!!*/\n",
       "        #editCodeLinkDiv {\n",
       "            display:none;  \n",
       "        }\n",
       "        </style>   \n",
       "                            \n",
       "        <script>\n",
       "        (function(){\n",
       "\n",
       "            var trace = JSON.parse(document.getElementById('json-jm45734a49-436a-4bc4-820e-606d0ead2337').innerHTML);                                        \n",
       "            // NOTE 1: id without #\n",
       "            // NOTE 2 - maybe there are more predictable ways, but this will work anyway\n",
       "            //        - id should be number\n",
       "            visualizerIdOverride = Math.trunc(Math.random() * 100000000000)\n",
       "            addVisualizerToPage(trace, 'jm45734a49-436a-4bc4-820e-606d0ead2337',{'embeddedMode' : false,\n",
       "                                             'visualizerIdOverride':visualizerIdOverride})  \n",
       "            \n",
       "            \n",
       "            // set overflow for pytuts - need to do in python as css \n",
       "            // does not allow parent selection\n",
       "            var pytuts = $('.pytutorVisualizer')\n",
       "            pytuts.closest('div.output_html.rendered_html.output_result')\n",
       "                    .css('overflow-x', 'visible')\n",
       "        \n",
       "            //pytuts.closest('div.output_html.rendered_html.output_result')\n",
       "            //      .css('background-color','red')                \n",
       "            \n",
       "        })()\n",
       "        </script>\n",
       "                \n",
       "                "
      ],
      "text/plain": [
       "<IPython.core.display.HTML object>"
      ]
     },
     "execution_count": 4,
     "metadata": {},
     "output_type": "execute_result"
    }
   ],
   "source": [
    "x =  w + 5\n",
    "jupman.pytut()"
   ]
  },
  {
   "cell_type": "markdown",
   "metadata": {},
   "source": [
    "**jupman.pytut window overflow**: When too much right space is taken, it might be difficult to scroll:\n"
   ]
  },
  {
   "cell_type": "code",
   "execution_count": 5,
   "metadata": {},
   "outputs": [
    {
     "data": {
      "text/html": [
       "\n",
       "        <script src=\"_static/js/pytutor-embed.bundle.min.js\" type=\"application/javascript\"></script>\n",
       "     \n",
       "        <script id=\"json-jm8b2fec27-b323-47bc-9675-6036a84835f0\" type=\"application/json\" >\n",
       "            {\"code\": \" \\nx = [3,2,5,2,42,34,2,4,34,2,3,4,23,4,23,4,2,34,23,4,23,4,23,4,234,34,23,4,23,4,23,4,2]\", \"trace\": [{\"func_name\": \"<module>\", \"globals\": {}, \"line\": 2, \"event\": \"step_line\", \"ordered_globals\": [], \"heap\": {}, \"stdout\": \"\", \"stack_to_render\": []}, {\"func_name\": \"<module>\", \"globals\": {\"x\": [\"REF\", 1]}, \"line\": 2, \"event\": \"return\", \"ordered_globals\": [\"x\"], \"heap\": {\"1\": [\"LIST\", 3, 2, 5, 2, 42, 34, 2, 4, 34, 2, 3, 4, 23, 4, 23, 4, 2, 34, 23, 4, 23, 4, 23, 4, 234, 34, 23, 4, 23, 4, 23, 4, 2]}, \"stdout\": \"\", \"stack_to_render\": []}]}\n",
       "        </script>\n",
       "        <div id=\"jm8b2fec27-b323-47bc-9675-6036a84835f0\" class=\"pytutorVisualizer\"> </div>\n",
       " \n",
       "        <style>\n",
       "        .vizLayoutTd {\n",
       "            background-color: #fff !important;\n",
       "        }\n",
       "                            \n",
       "        #pyStdout {\n",
       "            min-height:25px;\n",
       "        }\n",
       "\n",
       "        /* 'Edit this code' link, hiding because replaces browser tab !!!*/\n",
       "        #editCodeLinkDiv {\n",
       "            display:none;  \n",
       "        }\n",
       "        </style>   \n",
       "                            \n",
       "        <script>\n",
       "        (function(){\n",
       "\n",
       "            var trace = JSON.parse(document.getElementById('json-jm8b2fec27-b323-47bc-9675-6036a84835f0').innerHTML);                                        \n",
       "            // NOTE 1: id without #\n",
       "            // NOTE 2 - maybe there are more predictable ways, but this will work anyway\n",
       "            //        - id should be number\n",
       "            visualizerIdOverride = Math.trunc(Math.random() * 100000000000)\n",
       "            addVisualizerToPage(trace, 'jm8b2fec27-b323-47bc-9675-6036a84835f0',{'embeddedMode' : false,\n",
       "                                             'visualizerIdOverride':visualizerIdOverride})  \n",
       "            \n",
       "            \n",
       "            // set overflow for pytuts - need to do in python as css \n",
       "            // does not allow parent selection\n",
       "            var pytuts = $('.pytutorVisualizer')\n",
       "            pytuts.closest('div.output_html.rendered_html.output_result')\n",
       "                    .css('overflow-x', 'visible')\n",
       "        \n",
       "            //pytuts.closest('div.output_html.rendered_html.output_result')\n",
       "            //      .css('background-color','red')                \n",
       "            \n",
       "        })()\n",
       "        </script>\n",
       "                \n",
       "                "
      ],
      "text/plain": [
       "<IPython.core.display.HTML object>"
      ]
     },
     "execution_count": 5,
     "metadata": {},
     "output_type": "execute_result"
    }
   ],
   "source": [
    "x = [3,2,5,2,42,34,2,4,34,2,3,4,23,4,23,4,2,34,23,4,23,4,23,4,234,34,23,4,23,4,23,4,2]\n",
    "\n",
    "jupman.pytut()"
   ]
  },
  {
   "cell_type": "code",
   "execution_count": 6,
   "metadata": {},
   "outputs": [
    {
     "name": "stderr",
     "output_type": "stream",
     "text": [
      "Traceback (most recent call last):\n",
      "  File \"/home/da/Da/prj/jupman/prj/jupman.py\", line 2305, in _runscript\n",
      "    self.run(script_str, user_globals, user_globals)\n",
      "  File \"/usr/lib/python3.5/bdb.py\", line 431, in run\n",
      "    exec(cmd, globals, locals)\n",
      "  File \"<string>\", line 2, in <module>\n",
      "NameError: name 'w' is not defined\n"
     ]
    },
    {
     "data": {
      "text/html": [
       "\n",
       "        <script src=\"_static/js/pytutor-embed.bundle.min.js\" type=\"application/javascript\"></script>\n",
       "     \n",
       "        <script id=\"json-jmd12f5054-a17b-4a7f-aa68-ebfd0845c6e5\" type=\"application/json\" >\n",
       "            {\"code\": \" \\nx =  w + 5\", \"trace\": [{\"func_name\": \"<module>\", \"globals\": {}, \"line\": 2, \"event\": \"step_line\", \"ordered_globals\": [], \"heap\": {}, \"stdout\": \"\", \"stack_to_render\": []}, {\"func_name\": \"<module>\", \"exception_msg\": \"NameError: name 'w' is not defined\", \"globals\": {}, \"line\": 2, \"event\": \"exception\", \"ordered_globals\": [], \"heap\": {}, \"stdout\": \"\", \"stack_to_render\": []}]}\n",
       "        </script>\n",
       "        <div id=\"jmd12f5054-a17b-4a7f-aa68-ebfd0845c6e5\" class=\"pytutorVisualizer\"> </div>\n",
       " \n",
       "        <style>\n",
       "        .vizLayoutTd {\n",
       "            background-color: #fff !important;\n",
       "        }\n",
       "                            \n",
       "        #pyStdout {\n",
       "            min-height:25px;\n",
       "        }\n",
       "\n",
       "        /* 'Edit this code' link, hiding because replaces browser tab !!!*/\n",
       "        #editCodeLinkDiv {\n",
       "            display:none;  \n",
       "        }\n",
       "        </style>   \n",
       "                            \n",
       "        <script>\n",
       "        (function(){\n",
       "\n",
       "            var trace = JSON.parse(document.getElementById('json-jmd12f5054-a17b-4a7f-aa68-ebfd0845c6e5').innerHTML);                                        \n",
       "            // NOTE 1: id without #\n",
       "            // NOTE 2 - maybe there are more predictable ways, but this will work anyway\n",
       "            //        - id should be number\n",
       "            visualizerIdOverride = Math.trunc(Math.random() * 100000000000)\n",
       "            addVisualizerToPage(trace, 'jmd12f5054-a17b-4a7f-aa68-ebfd0845c6e5',{'embeddedMode' : false,\n",
       "                                             'visualizerIdOverride':visualizerIdOverride})  \n",
       "            \n",
       "            \n",
       "            // set overflow for pytuts - need to do in python as css \n",
       "            // does not allow parent selection\n",
       "            var pytuts = $('.pytutorVisualizer')\n",
       "            pytuts.closest('div.output_html.rendered_html.output_result')\n",
       "                    .css('overflow-x', 'visible')\n",
       "        \n",
       "            //pytuts.closest('div.output_html.rendered_html.output_result')\n",
       "            //      .css('background-color','red')                \n",
       "            \n",
       "        })()\n",
       "        </script>\n",
       "                \n",
       "                "
      ],
      "text/plain": [
       "<IPython.core.display.HTML object>"
      ]
     },
     "execution_count": 6,
     "metadata": {},
     "output_type": "execute_result"
    }
   ],
   "source": [
    "x =  w + 5\n",
    "jupman.pytut()"
   ]
  },
  {
   "cell_type": "markdown",
   "metadata": {},
   "source": [
    "**jupman.pytut execution:** Some cells might execute in Jupyter but not so well in Python Tutor, due to [its inherent limitations](https://github.com/pgbovine/OnlinePythonTutor/blob/master/unsupported-features.md):"
   ]
  },
  {
   "cell_type": "code",
   "execution_count": 7,
   "metadata": {},
   "outputs": [
    {
     "name": "stdout",
     "output_type": "stream",
     "text": [
      "10000\n"
     ]
    },
    {
     "data": {
      "text/html": [
       "\n",
       "        <script src=\"_static/js/pytutor-embed.bundle.min.js\" type=\"application/javascript\"></script>\n",
       "     \n",
       "        <script id=\"json-jm29d127c5-f34f-4d37-86cd-2179d1d9f5c9\" type=\"application/json\" >\n",
       "            {\"code\": \" \\nx = 0\\nfor i in range(10000):\\n    x += 1\\nprint(x)\", \"trace\": [{\"func_name\": \"<module>\", \"globals\": {}, \"line\": 2, \"event\": \"step_line\", \"ordered_globals\": [], \"heap\": {}, \"stdout\": \"\", \"stack_to_render\": []}, {\"func_name\": \"<module>\", \"globals\": {\"x\": 0}, \"line\": 3, \"event\": \"step_line\", \"ordered_globals\": [\"x\"], \"heap\": {}, \"stdout\": \"\", \"stack_to_render\": []}, {\"func_name\": \"<module>\", \"globals\": {\"x\": 0, \"i\": 0}, \"line\": 4, \"event\": \"step_line\", \"ordered_globals\": [\"x\", \"i\"], \"heap\": {}, \"stdout\": \"\", \"stack_to_render\": []}, {\"func_name\": \"<module>\", \"globals\": {\"x\": 1, \"i\": 0}, \"line\": 3, \"event\": \"step_line\", \"ordered_globals\": [\"x\", \"i\"], \"heap\": {}, \"stdout\": \"\", \"stack_to_render\": []}, {\"func_name\": \"<module>\", \"globals\": {\"x\": 1, \"i\": 1}, \"line\": 4, \"event\": \"step_line\", \"ordered_globals\": [\"x\", \"i\"], \"heap\": {}, \"stdout\": \"\", \"stack_to_render\": []}, {\"func_name\": \"<module>\", \"globals\": {\"x\": 2, \"i\": 1}, \"line\": 3, \"event\": \"step_line\", \"ordered_globals\": [\"x\", \"i\"], \"heap\": {}, \"stdout\": \"\", \"stack_to_render\": []}, {\"func_name\": \"<module>\", \"globals\": {\"x\": 2, \"i\": 2}, \"line\": 4, \"event\": \"step_line\", \"ordered_globals\": [\"x\", \"i\"], \"heap\": {}, \"stdout\": \"\", \"stack_to_render\": []}, {\"func_name\": \"<module>\", \"globals\": {\"x\": 3, \"i\": 2}, \"line\": 3, \"event\": \"step_line\", \"ordered_globals\": [\"x\", \"i\"], \"heap\": {}, \"stdout\": \"\", \"stack_to_render\": []}, {\"func_name\": \"<module>\", \"globals\": {\"x\": 3, \"i\": 3}, \"line\": 4, \"event\": \"step_line\", \"ordered_globals\": [\"x\", \"i\"], \"heap\": {}, \"stdout\": \"\", \"stack_to_render\": []}, {\"func_name\": \"<module>\", \"globals\": {\"x\": 4, \"i\": 3}, \"line\": 3, \"event\": \"step_line\", \"ordered_globals\": [\"x\", \"i\"], \"heap\": {}, \"stdout\": \"\", \"stack_to_render\": []}, {\"func_name\": \"<module>\", \"globals\": {\"x\": 4, \"i\": 4}, \"line\": 4, \"event\": \"step_line\", \"ordered_globals\": [\"x\", \"i\"], \"heap\": {}, \"stdout\": \"\", \"stack_to_render\": []}, {\"func_name\": \"<module>\", \"globals\": {\"x\": 5, \"i\": 4}, \"line\": 3, \"event\": \"step_line\", \"ordered_globals\": [\"x\", \"i\"], \"heap\": {}, \"stdout\": \"\", \"stack_to_render\": []}, {\"func_name\": \"<module>\", \"globals\": {\"x\": 5, \"i\": 5}, \"line\": 4, \"event\": \"step_line\", \"ordered_globals\": [\"x\", \"i\"], \"heap\": {}, \"stdout\": \"\", \"stack_to_render\": []}, {\"func_name\": \"<module>\", \"globals\": {\"x\": 6, \"i\": 5}, \"line\": 3, \"event\": \"step_line\", \"ordered_globals\": [\"x\", \"i\"], \"heap\": {}, \"stdout\": \"\", \"stack_to_render\": []}, {\"func_name\": \"<module>\", \"globals\": {\"x\": 6, \"i\": 6}, \"line\": 4, \"event\": \"step_line\", \"ordered_globals\": [\"x\", \"i\"], \"heap\": {}, \"stdout\": \"\", \"stack_to_render\": []}, {\"func_name\": \"<module>\", \"globals\": {\"x\": 7, \"i\": 6}, \"line\": 3, \"event\": \"step_line\", \"ordered_globals\": [\"x\", \"i\"], \"heap\": {}, \"stdout\": \"\", \"stack_to_render\": []}, {\"func_name\": \"<module>\", \"globals\": {\"x\": 7, \"i\": 7}, \"line\": 4, \"event\": \"step_line\", \"ordered_globals\": [\"x\", \"i\"], \"heap\": {}, \"stdout\": \"\", \"stack_to_render\": []}, {\"func_name\": \"<module>\", \"globals\": {\"x\": 8, \"i\": 7}, \"line\": 3, \"event\": \"step_line\", \"ordered_globals\": [\"x\", \"i\"], \"heap\": {}, \"stdout\": \"\", \"stack_to_render\": []}, {\"func_name\": \"<module>\", \"globals\": {\"x\": 8, \"i\": 8}, \"line\": 4, \"event\": \"step_line\", \"ordered_globals\": [\"x\", \"i\"], \"heap\": {}, \"stdout\": \"\", \"stack_to_render\": []}, {\"func_name\": \"<module>\", \"globals\": {\"x\": 9, \"i\": 8}, \"line\": 3, \"event\": \"step_line\", \"ordered_globals\": [\"x\", \"i\"], \"heap\": {}, \"stdout\": \"\", \"stack_to_render\": []}, {\"func_name\": \"<module>\", \"globals\": {\"x\": 9, \"i\": 9}, \"line\": 4, \"event\": \"step_line\", \"ordered_globals\": [\"x\", \"i\"], \"heap\": {}, \"stdout\": \"\", \"stack_to_render\": []}, {\"func_name\": \"<module>\", \"globals\": {\"x\": 10, \"i\": 9}, \"line\": 3, \"event\": \"step_line\", \"ordered_globals\": [\"x\", \"i\"], \"heap\": {}, \"stdout\": \"\", \"stack_to_render\": []}, {\"func_name\": \"<module>\", \"globals\": {\"x\": 10, \"i\": 10}, \"line\": 4, \"event\": \"step_line\", \"ordered_globals\": [\"x\", \"i\"], \"heap\": {}, \"stdout\": \"\", \"stack_to_render\": []}, {\"func_name\": \"<module>\", \"globals\": {\"x\": 11, \"i\": 10}, \"line\": 3, \"event\": \"step_line\", \"ordered_globals\": [\"x\", \"i\"], \"heap\": {}, \"stdout\": \"\", \"stack_to_render\": []}, {\"func_name\": \"<module>\", \"globals\": {\"x\": 11, \"i\": 11}, \"line\": 4, \"event\": \"step_line\", \"ordered_globals\": [\"x\", \"i\"], \"heap\": {}, \"stdout\": \"\", \"stack_to_render\": []}, {\"func_name\": \"<module>\", \"globals\": {\"x\": 12, \"i\": 11}, \"line\": 3, \"event\": \"step_line\", \"ordered_globals\": [\"x\", \"i\"], \"heap\": {}, \"stdout\": \"\", \"stack_to_render\": []}, {\"func_name\": \"<module>\", \"globals\": {\"x\": 12, \"i\": 12}, \"line\": 4, \"event\": \"step_line\", \"ordered_globals\": [\"x\", \"i\"], \"heap\": {}, \"stdout\": \"\", \"stack_to_render\": []}, {\"func_name\": \"<module>\", \"globals\": {\"x\": 13, \"i\": 12}, \"line\": 3, \"event\": \"step_line\", \"ordered_globals\": [\"x\", \"i\"], \"heap\": {}, \"stdout\": \"\", \"stack_to_render\": []}, {\"func_name\": \"<module>\", \"globals\": {\"x\": 13, \"i\": 13}, \"line\": 4, \"event\": \"step_line\", \"ordered_globals\": [\"x\", \"i\"], \"heap\": {}, \"stdout\": \"\", \"stack_to_render\": []}, {\"func_name\": \"<module>\", \"globals\": {\"x\": 14, \"i\": 13}, \"line\": 3, \"event\": \"step_line\", \"ordered_globals\": [\"x\", \"i\"], \"heap\": {}, \"stdout\": \"\", \"stack_to_render\": []}, {\"func_name\": \"<module>\", \"globals\": {\"x\": 14, \"i\": 14}, \"line\": 4, \"event\": \"step_line\", \"ordered_globals\": [\"x\", \"i\"], \"heap\": {}, \"stdout\": \"\", \"stack_to_render\": []}, {\"func_name\": \"<module>\", \"globals\": {\"x\": 15, \"i\": 14}, \"line\": 3, \"event\": \"step_line\", \"ordered_globals\": [\"x\", \"i\"], \"heap\": {}, \"stdout\": \"\", \"stack_to_render\": []}, {\"func_name\": \"<module>\", \"globals\": {\"x\": 15, \"i\": 15}, \"line\": 4, \"event\": \"step_line\", \"ordered_globals\": [\"x\", \"i\"], \"heap\": {}, \"stdout\": \"\", \"stack_to_render\": []}, {\"func_name\": \"<module>\", \"globals\": {\"x\": 16, \"i\": 15}, \"line\": 3, \"event\": \"step_line\", \"ordered_globals\": [\"x\", \"i\"], \"heap\": {}, \"stdout\": \"\", \"stack_to_render\": []}, {\"func_name\": \"<module>\", \"globals\": {\"x\": 16, \"i\": 16}, \"line\": 4, \"event\": \"step_line\", \"ordered_globals\": [\"x\", \"i\"], \"heap\": {}, \"stdout\": \"\", \"stack_to_render\": []}, {\"func_name\": \"<module>\", \"globals\": {\"x\": 17, \"i\": 16}, \"line\": 3, \"event\": \"step_line\", \"ordered_globals\": [\"x\", \"i\"], \"heap\": {}, \"stdout\": \"\", \"stack_to_render\": []}, {\"func_name\": \"<module>\", \"globals\": {\"x\": 17, \"i\": 17}, \"line\": 4, \"event\": \"step_line\", \"ordered_globals\": [\"x\", \"i\"], \"heap\": {}, \"stdout\": \"\", \"stack_to_render\": []}, {\"func_name\": \"<module>\", \"globals\": {\"x\": 18, \"i\": 17}, \"line\": 3, \"event\": \"step_line\", \"ordered_globals\": [\"x\", \"i\"], \"heap\": {}, \"stdout\": \"\", \"stack_to_render\": []}, {\"func_name\": \"<module>\", \"globals\": {\"x\": 18, \"i\": 18}, \"line\": 4, \"event\": \"step_line\", \"ordered_globals\": [\"x\", \"i\"], \"heap\": {}, \"stdout\": \"\", \"stack_to_render\": []}, {\"func_name\": \"<module>\", \"globals\": {\"x\": 19, \"i\": 18}, \"line\": 3, \"event\": \"step_line\", \"ordered_globals\": [\"x\", \"i\"], \"heap\": {}, \"stdout\": \"\", \"stack_to_render\": []}, {\"func_name\": \"<module>\", \"globals\": {\"x\": 19, \"i\": 19}, \"line\": 4, \"event\": \"step_line\", \"ordered_globals\": [\"x\", \"i\"], \"heap\": {}, \"stdout\": \"\", \"stack_to_render\": []}, {\"func_name\": \"<module>\", \"globals\": {\"x\": 20, \"i\": 19}, \"line\": 3, \"event\": \"step_line\", \"ordered_globals\": [\"x\", \"i\"], \"heap\": {}, \"stdout\": \"\", \"stack_to_render\": []}, {\"func_name\": \"<module>\", \"globals\": {\"x\": 20, \"i\": 20}, \"line\": 4, \"event\": \"step_line\", \"ordered_globals\": [\"x\", \"i\"], \"heap\": {}, \"stdout\": \"\", \"stack_to_render\": []}, {\"func_name\": \"<module>\", \"globals\": {\"x\": 21, \"i\": 20}, \"line\": 3, \"event\": \"step_line\", \"ordered_globals\": [\"x\", \"i\"], \"heap\": {}, \"stdout\": \"\", \"stack_to_render\": []}, {\"func_name\": \"<module>\", \"globals\": {\"x\": 21, \"i\": 21}, \"line\": 4, \"event\": \"step_line\", \"ordered_globals\": [\"x\", \"i\"], \"heap\": {}, \"stdout\": \"\", \"stack_to_render\": []}, {\"func_name\": \"<module>\", \"globals\": {\"x\": 22, \"i\": 21}, \"line\": 3, \"event\": \"step_line\", \"ordered_globals\": [\"x\", \"i\"], \"heap\": {}, \"stdout\": \"\", \"stack_to_render\": []}, {\"func_name\": \"<module>\", \"globals\": {\"x\": 22, \"i\": 22}, \"line\": 4, \"event\": \"step_line\", \"ordered_globals\": [\"x\", \"i\"], \"heap\": {}, \"stdout\": \"\", \"stack_to_render\": []}, {\"func_name\": \"<module>\", \"globals\": {\"x\": 23, \"i\": 22}, \"line\": 3, \"event\": \"step_line\", \"ordered_globals\": [\"x\", \"i\"], \"heap\": {}, \"stdout\": \"\", \"stack_to_render\": []}, {\"func_name\": \"<module>\", \"globals\": {\"x\": 23, \"i\": 23}, \"line\": 4, \"event\": \"step_line\", \"ordered_globals\": [\"x\", \"i\"], \"heap\": {}, \"stdout\": \"\", \"stack_to_render\": []}, {\"func_name\": \"<module>\", \"globals\": {\"x\": 24, \"i\": 23}, \"line\": 3, \"event\": \"step_line\", \"ordered_globals\": [\"x\", \"i\"], \"heap\": {}, \"stdout\": \"\", \"stack_to_render\": []}, {\"func_name\": \"<module>\", \"globals\": {\"x\": 24, \"i\": 24}, \"line\": 4, \"event\": \"step_line\", \"ordered_globals\": [\"x\", \"i\"], \"heap\": {}, \"stdout\": \"\", \"stack_to_render\": []}, {\"func_name\": \"<module>\", \"globals\": {\"x\": 25, \"i\": 24}, \"line\": 3, \"event\": \"step_line\", \"ordered_globals\": [\"x\", \"i\"], \"heap\": {}, \"stdout\": \"\", \"stack_to_render\": []}, {\"func_name\": \"<module>\", \"globals\": {\"x\": 25, \"i\": 25}, \"line\": 4, \"event\": \"step_line\", \"ordered_globals\": [\"x\", \"i\"], \"heap\": {}, \"stdout\": \"\", \"stack_to_render\": []}, {\"func_name\": \"<module>\", \"globals\": {\"x\": 26, \"i\": 25}, \"line\": 3, \"event\": \"step_line\", \"ordered_globals\": [\"x\", \"i\"], \"heap\": {}, \"stdout\": \"\", \"stack_to_render\": []}, {\"func_name\": \"<module>\", \"globals\": {\"x\": 26, \"i\": 26}, \"line\": 4, \"event\": \"step_line\", \"ordered_globals\": [\"x\", \"i\"], \"heap\": {}, \"stdout\": \"\", \"stack_to_render\": []}, {\"func_name\": \"<module>\", \"globals\": {\"x\": 27, \"i\": 26}, \"line\": 3, \"event\": \"step_line\", \"ordered_globals\": [\"x\", \"i\"], \"heap\": {}, \"stdout\": \"\", \"stack_to_render\": []}, {\"func_name\": \"<module>\", \"globals\": {\"x\": 27, \"i\": 27}, \"line\": 4, \"event\": \"step_line\", \"ordered_globals\": [\"x\", \"i\"], \"heap\": {}, \"stdout\": \"\", \"stack_to_render\": []}, {\"func_name\": \"<module>\", \"globals\": {\"x\": 28, \"i\": 27}, \"line\": 3, \"event\": \"step_line\", \"ordered_globals\": [\"x\", \"i\"], \"heap\": {}, \"stdout\": \"\", \"stack_to_render\": []}, {\"func_name\": \"<module>\", \"globals\": {\"x\": 28, \"i\": 28}, \"line\": 4, \"event\": \"step_line\", \"ordered_globals\": [\"x\", \"i\"], \"heap\": {}, \"stdout\": \"\", \"stack_to_render\": []}, {\"func_name\": \"<module>\", \"globals\": {\"x\": 29, \"i\": 28}, \"line\": 3, \"event\": \"step_line\", \"ordered_globals\": [\"x\", \"i\"], \"heap\": {}, \"stdout\": \"\", \"stack_to_render\": []}, {\"func_name\": \"<module>\", \"globals\": {\"x\": 29, \"i\": 29}, \"line\": 4, \"event\": \"step_line\", \"ordered_globals\": [\"x\", \"i\"], \"heap\": {}, \"stdout\": \"\", \"stack_to_render\": []}, {\"func_name\": \"<module>\", \"globals\": {\"x\": 30, \"i\": 29}, \"line\": 3, \"event\": \"step_line\", \"ordered_globals\": [\"x\", \"i\"], \"heap\": {}, \"stdout\": \"\", \"stack_to_render\": []}, {\"func_name\": \"<module>\", \"globals\": {\"x\": 30, \"i\": 30}, \"line\": 4, \"event\": \"step_line\", \"ordered_globals\": [\"x\", \"i\"], \"heap\": {}, \"stdout\": \"\", \"stack_to_render\": []}, {\"func_name\": \"<module>\", \"globals\": {\"x\": 31, \"i\": 30}, \"line\": 3, \"event\": \"step_line\", \"ordered_globals\": [\"x\", \"i\"], \"heap\": {}, \"stdout\": \"\", \"stack_to_render\": []}, {\"func_name\": \"<module>\", \"globals\": {\"x\": 31, \"i\": 31}, \"line\": 4, \"event\": \"step_line\", \"ordered_globals\": [\"x\", \"i\"], \"heap\": {}, \"stdout\": \"\", \"stack_to_render\": []}, {\"func_name\": \"<module>\", \"globals\": {\"x\": 32, \"i\": 31}, \"line\": 3, \"event\": \"step_line\", \"ordered_globals\": [\"x\", \"i\"], \"heap\": {}, \"stdout\": \"\", \"stack_to_render\": []}, {\"func_name\": \"<module>\", \"globals\": {\"x\": 32, \"i\": 32}, \"line\": 4, \"event\": \"step_line\", \"ordered_globals\": [\"x\", \"i\"], \"heap\": {}, \"stdout\": \"\", \"stack_to_render\": []}, {\"func_name\": \"<module>\", \"globals\": {\"x\": 33, \"i\": 32}, \"line\": 3, \"event\": \"step_line\", \"ordered_globals\": [\"x\", \"i\"], \"heap\": {}, \"stdout\": \"\", \"stack_to_render\": []}, {\"func_name\": \"<module>\", \"globals\": {\"x\": 33, \"i\": 33}, \"line\": 4, \"event\": \"step_line\", \"ordered_globals\": [\"x\", \"i\"], \"heap\": {}, \"stdout\": \"\", \"stack_to_render\": []}, {\"func_name\": \"<module>\", \"globals\": {\"x\": 34, \"i\": 33}, \"line\": 3, \"event\": \"step_line\", \"ordered_globals\": [\"x\", \"i\"], \"heap\": {}, \"stdout\": \"\", \"stack_to_render\": []}, {\"func_name\": \"<module>\", \"globals\": {\"x\": 34, \"i\": 34}, \"line\": 4, \"event\": \"step_line\", \"ordered_globals\": [\"x\", \"i\"], \"heap\": {}, \"stdout\": \"\", \"stack_to_render\": []}, {\"func_name\": \"<module>\", \"globals\": {\"x\": 35, \"i\": 34}, \"line\": 3, \"event\": \"step_line\", \"ordered_globals\": [\"x\", \"i\"], \"heap\": {}, \"stdout\": \"\", \"stack_to_render\": []}, {\"func_name\": \"<module>\", \"globals\": {\"x\": 35, \"i\": 35}, \"line\": 4, \"event\": \"step_line\", \"ordered_globals\": [\"x\", \"i\"], \"heap\": {}, \"stdout\": \"\", \"stack_to_render\": []}, {\"func_name\": \"<module>\", \"globals\": {\"x\": 36, \"i\": 35}, \"line\": 3, \"event\": \"step_line\", \"ordered_globals\": [\"x\", \"i\"], \"heap\": {}, \"stdout\": \"\", \"stack_to_render\": []}, {\"func_name\": \"<module>\", \"globals\": {\"x\": 36, \"i\": 36}, \"line\": 4, \"event\": \"step_line\", \"ordered_globals\": [\"x\", \"i\"], \"heap\": {}, \"stdout\": \"\", \"stack_to_render\": []}, {\"func_name\": \"<module>\", \"globals\": {\"x\": 37, \"i\": 36}, \"line\": 3, \"event\": \"step_line\", \"ordered_globals\": [\"x\", \"i\"], \"heap\": {}, \"stdout\": \"\", \"stack_to_render\": []}, {\"func_name\": \"<module>\", \"globals\": {\"x\": 37, \"i\": 37}, \"line\": 4, \"event\": \"step_line\", \"ordered_globals\": [\"x\", \"i\"], \"heap\": {}, \"stdout\": \"\", \"stack_to_render\": []}, {\"func_name\": \"<module>\", \"globals\": {\"x\": 38, \"i\": 37}, \"line\": 3, \"event\": \"step_line\", \"ordered_globals\": [\"x\", \"i\"], \"heap\": {}, \"stdout\": \"\", \"stack_to_render\": []}, {\"func_name\": \"<module>\", \"globals\": {\"x\": 38, \"i\": 38}, \"line\": 4, \"event\": \"step_line\", \"ordered_globals\": [\"x\", \"i\"], \"heap\": {}, \"stdout\": \"\", \"stack_to_render\": []}, {\"func_name\": \"<module>\", \"globals\": {\"x\": 39, \"i\": 38}, \"line\": 3, \"event\": \"step_line\", \"ordered_globals\": [\"x\", \"i\"], \"heap\": {}, \"stdout\": \"\", \"stack_to_render\": []}, {\"func_name\": \"<module>\", \"globals\": {\"x\": 39, \"i\": 39}, \"line\": 4, \"event\": \"step_line\", \"ordered_globals\": [\"x\", \"i\"], \"heap\": {}, \"stdout\": \"\", \"stack_to_render\": []}, {\"func_name\": \"<module>\", \"globals\": {\"x\": 40, \"i\": 39}, \"line\": 3, \"event\": \"step_line\", \"ordered_globals\": [\"x\", \"i\"], \"heap\": {}, \"stdout\": \"\", \"stack_to_render\": []}, {\"func_name\": \"<module>\", \"globals\": {\"x\": 40, \"i\": 40}, \"line\": 4, \"event\": \"step_line\", \"ordered_globals\": [\"x\", \"i\"], \"heap\": {}, \"stdout\": \"\", \"stack_to_render\": []}, {\"func_name\": \"<module>\", \"globals\": {\"x\": 41, \"i\": 40}, \"line\": 3, \"event\": \"step_line\", \"ordered_globals\": [\"x\", \"i\"], \"heap\": {}, \"stdout\": \"\", \"stack_to_render\": []}, {\"func_name\": \"<module>\", \"globals\": {\"x\": 41, \"i\": 41}, \"line\": 4, \"event\": \"step_line\", \"ordered_globals\": [\"x\", \"i\"], \"heap\": {}, \"stdout\": \"\", \"stack_to_render\": []}, {\"func_name\": \"<module>\", \"globals\": {\"x\": 42, \"i\": 41}, \"line\": 3, \"event\": \"step_line\", \"ordered_globals\": [\"x\", \"i\"], \"heap\": {}, \"stdout\": \"\", \"stack_to_render\": []}, {\"func_name\": \"<module>\", \"globals\": {\"x\": 42, \"i\": 42}, \"line\": 4, \"event\": \"step_line\", \"ordered_globals\": [\"x\", \"i\"], \"heap\": {}, \"stdout\": \"\", \"stack_to_render\": []}, {\"func_name\": \"<module>\", \"globals\": {\"x\": 43, \"i\": 42}, \"line\": 3, \"event\": \"step_line\", \"ordered_globals\": [\"x\", \"i\"], \"heap\": {}, \"stdout\": \"\", \"stack_to_render\": []}, {\"func_name\": \"<module>\", \"globals\": {\"x\": 43, \"i\": 43}, \"line\": 4, \"event\": \"step_line\", \"ordered_globals\": [\"x\", \"i\"], \"heap\": {}, \"stdout\": \"\", \"stack_to_render\": []}, {\"func_name\": \"<module>\", \"globals\": {\"x\": 44, \"i\": 43}, \"line\": 3, \"event\": \"step_line\", \"ordered_globals\": [\"x\", \"i\"], \"heap\": {}, \"stdout\": \"\", \"stack_to_render\": []}, {\"func_name\": \"<module>\", \"globals\": {\"x\": 44, \"i\": 44}, \"line\": 4, \"event\": \"step_line\", \"ordered_globals\": [\"x\", \"i\"], \"heap\": {}, \"stdout\": \"\", \"stack_to_render\": []}, {\"func_name\": \"<module>\", \"globals\": {\"x\": 45, \"i\": 44}, \"line\": 3, \"event\": \"step_line\", \"ordered_globals\": [\"x\", \"i\"], \"heap\": {}, \"stdout\": \"\", \"stack_to_render\": []}, {\"func_name\": \"<module>\", \"globals\": {\"x\": 45, \"i\": 45}, \"line\": 4, \"event\": \"step_line\", \"ordered_globals\": [\"x\", \"i\"], \"heap\": {}, \"stdout\": \"\", \"stack_to_render\": []}, {\"func_name\": \"<module>\", \"globals\": {\"x\": 46, \"i\": 45}, \"line\": 3, \"event\": \"step_line\", \"ordered_globals\": [\"x\", \"i\"], \"heap\": {}, \"stdout\": \"\", \"stack_to_render\": []}, {\"func_name\": \"<module>\", \"globals\": {\"x\": 46, \"i\": 46}, \"line\": 4, \"event\": \"step_line\", \"ordered_globals\": [\"x\", \"i\"], \"heap\": {}, \"stdout\": \"\", \"stack_to_render\": []}, {\"func_name\": \"<module>\", \"globals\": {\"x\": 47, \"i\": 46}, \"line\": 3, \"event\": \"step_line\", \"ordered_globals\": [\"x\", \"i\"], \"heap\": {}, \"stdout\": \"\", \"stack_to_render\": []}, {\"func_name\": \"<module>\", \"globals\": {\"x\": 47, \"i\": 47}, \"line\": 4, \"event\": \"step_line\", \"ordered_globals\": [\"x\", \"i\"], \"heap\": {}, \"stdout\": \"\", \"stack_to_render\": []}, {\"func_name\": \"<module>\", \"globals\": {\"x\": 48, \"i\": 47}, \"line\": 3, \"event\": \"step_line\", \"ordered_globals\": [\"x\", \"i\"], \"heap\": {}, \"stdout\": \"\", \"stack_to_render\": []}, {\"func_name\": \"<module>\", \"globals\": {\"x\": 48, \"i\": 48}, \"line\": 4, \"event\": \"step_line\", \"ordered_globals\": [\"x\", \"i\"], \"heap\": {}, \"stdout\": \"\", \"stack_to_render\": []}, {\"func_name\": \"<module>\", \"globals\": {\"x\": 49, \"i\": 48}, \"line\": 3, \"event\": \"step_line\", \"ordered_globals\": [\"x\", \"i\"], \"heap\": {}, \"stdout\": \"\", \"stack_to_render\": []}, {\"func_name\": \"<module>\", \"globals\": {\"x\": 49, \"i\": 49}, \"line\": 4, \"event\": \"step_line\", \"ordered_globals\": [\"x\", \"i\"], \"heap\": {}, \"stdout\": \"\", \"stack_to_render\": []}, {\"func_name\": \"<module>\", \"globals\": {\"x\": 50, \"i\": 49}, \"line\": 3, \"event\": \"step_line\", \"ordered_globals\": [\"x\", \"i\"], \"heap\": {}, \"stdout\": \"\", \"stack_to_render\": []}, {\"func_name\": \"<module>\", \"globals\": {\"x\": 50, \"i\": 50}, \"line\": 4, \"event\": \"step_line\", \"ordered_globals\": [\"x\", \"i\"], \"heap\": {}, \"stdout\": \"\", \"stack_to_render\": []}, {\"func_name\": \"<module>\", \"globals\": {\"x\": 51, \"i\": 50}, \"line\": 3, \"event\": \"step_line\", \"ordered_globals\": [\"x\", \"i\"], \"heap\": {}, \"stdout\": \"\", \"stack_to_render\": []}, {\"func_name\": \"<module>\", \"globals\": {\"x\": 51, \"i\": 51}, \"line\": 4, \"event\": \"step_line\", \"ordered_globals\": [\"x\", \"i\"], \"heap\": {}, \"stdout\": \"\", \"stack_to_render\": []}, {\"func_name\": \"<module>\", \"globals\": {\"x\": 52, \"i\": 51}, \"line\": 3, \"event\": \"step_line\", \"ordered_globals\": [\"x\", \"i\"], \"heap\": {}, \"stdout\": \"\", \"stack_to_render\": []}, {\"func_name\": \"<module>\", \"globals\": {\"x\": 52, \"i\": 52}, \"line\": 4, \"event\": \"step_line\", \"ordered_globals\": [\"x\", \"i\"], \"heap\": {}, \"stdout\": \"\", \"stack_to_render\": []}, {\"func_name\": \"<module>\", \"globals\": {\"x\": 53, \"i\": 52}, \"line\": 3, \"event\": \"step_line\", \"ordered_globals\": [\"x\", \"i\"], \"heap\": {}, \"stdout\": \"\", \"stack_to_render\": []}, {\"func_name\": \"<module>\", \"globals\": {\"x\": 53, \"i\": 53}, \"line\": 4, \"event\": \"step_line\", \"ordered_globals\": [\"x\", \"i\"], \"heap\": {}, \"stdout\": \"\", \"stack_to_render\": []}, {\"func_name\": \"<module>\", \"globals\": {\"x\": 54, \"i\": 53}, \"line\": 3, \"event\": \"step_line\", \"ordered_globals\": [\"x\", \"i\"], \"heap\": {}, \"stdout\": \"\", \"stack_to_render\": []}, {\"func_name\": \"<module>\", \"globals\": {\"x\": 54, \"i\": 54}, \"line\": 4, \"event\": \"step_line\", \"ordered_globals\": [\"x\", \"i\"], \"heap\": {}, \"stdout\": \"\", \"stack_to_render\": []}, {\"func_name\": \"<module>\", \"globals\": {\"x\": 55, \"i\": 54}, \"line\": 3, \"event\": \"step_line\", \"ordered_globals\": [\"x\", \"i\"], \"heap\": {}, \"stdout\": \"\", \"stack_to_render\": []}, {\"func_name\": \"<module>\", \"globals\": {\"x\": 55, \"i\": 55}, \"line\": 4, \"event\": \"step_line\", \"ordered_globals\": [\"x\", \"i\"], \"heap\": {}, \"stdout\": \"\", \"stack_to_render\": []}, {\"func_name\": \"<module>\", \"globals\": {\"x\": 56, \"i\": 55}, \"line\": 3, \"event\": \"step_line\", \"ordered_globals\": [\"x\", \"i\"], \"heap\": {}, \"stdout\": \"\", \"stack_to_render\": []}, {\"func_name\": \"<module>\", \"globals\": {\"x\": 56, \"i\": 56}, \"line\": 4, \"event\": \"step_line\", \"ordered_globals\": [\"x\", \"i\"], \"heap\": {}, \"stdout\": \"\", \"stack_to_render\": []}, {\"func_name\": \"<module>\", \"globals\": {\"x\": 57, \"i\": 56}, \"line\": 3, \"event\": \"step_line\", \"ordered_globals\": [\"x\", \"i\"], \"heap\": {}, \"stdout\": \"\", \"stack_to_render\": []}, {\"func_name\": \"<module>\", \"globals\": {\"x\": 57, \"i\": 57}, \"line\": 4, \"event\": \"step_line\", \"ordered_globals\": [\"x\", \"i\"], \"heap\": {}, \"stdout\": \"\", \"stack_to_render\": []}, {\"func_name\": \"<module>\", \"globals\": {\"x\": 58, \"i\": 57}, \"line\": 3, \"event\": \"step_line\", \"ordered_globals\": [\"x\", \"i\"], \"heap\": {}, \"stdout\": \"\", \"stack_to_render\": []}, {\"func_name\": \"<module>\", \"globals\": {\"x\": 58, \"i\": 58}, \"line\": 4, \"event\": \"step_line\", \"ordered_globals\": [\"x\", \"i\"], \"heap\": {}, \"stdout\": \"\", \"stack_to_render\": []}, {\"func_name\": \"<module>\", \"globals\": {\"x\": 59, \"i\": 58}, \"line\": 3, \"event\": \"step_line\", \"ordered_globals\": [\"x\", \"i\"], \"heap\": {}, \"stdout\": \"\", \"stack_to_render\": []}, {\"func_name\": \"<module>\", \"globals\": {\"x\": 59, \"i\": 59}, \"line\": 4, \"event\": \"step_line\", \"ordered_globals\": [\"x\", \"i\"], \"heap\": {}, \"stdout\": \"\", \"stack_to_render\": []}, {\"func_name\": \"<module>\", \"globals\": {\"x\": 60, \"i\": 59}, \"line\": 3, \"event\": \"step_line\", \"ordered_globals\": [\"x\", \"i\"], \"heap\": {}, \"stdout\": \"\", \"stack_to_render\": []}, {\"func_name\": \"<module>\", \"globals\": {\"x\": 60, \"i\": 60}, \"line\": 4, \"event\": \"step_line\", \"ordered_globals\": [\"x\", \"i\"], \"heap\": {}, \"stdout\": \"\", \"stack_to_render\": []}, {\"func_name\": \"<module>\", \"globals\": {\"x\": 61, \"i\": 60}, \"line\": 3, \"event\": \"step_line\", \"ordered_globals\": [\"x\", \"i\"], \"heap\": {}, \"stdout\": \"\", \"stack_to_render\": []}, {\"func_name\": \"<module>\", \"globals\": {\"x\": 61, \"i\": 61}, \"line\": 4, \"event\": \"step_line\", \"ordered_globals\": [\"x\", \"i\"], \"heap\": {}, \"stdout\": \"\", \"stack_to_render\": []}, {\"func_name\": \"<module>\", \"globals\": {\"x\": 62, \"i\": 61}, \"line\": 3, \"event\": \"step_line\", \"ordered_globals\": [\"x\", \"i\"], \"heap\": {}, \"stdout\": \"\", \"stack_to_render\": []}, {\"func_name\": \"<module>\", \"globals\": {\"x\": 62, \"i\": 62}, \"line\": 4, \"event\": \"step_line\", \"ordered_globals\": [\"x\", \"i\"], \"heap\": {}, \"stdout\": \"\", \"stack_to_render\": []}, {\"func_name\": \"<module>\", \"globals\": {\"x\": 63, \"i\": 62}, \"line\": 3, \"event\": \"step_line\", \"ordered_globals\": [\"x\", \"i\"], \"heap\": {}, \"stdout\": \"\", \"stack_to_render\": []}, {\"func_name\": \"<module>\", \"globals\": {\"x\": 63, \"i\": 63}, \"line\": 4, \"event\": \"step_line\", \"ordered_globals\": [\"x\", \"i\"], \"heap\": {}, \"stdout\": \"\", \"stack_to_render\": []}, {\"func_name\": \"<module>\", \"globals\": {\"x\": 64, \"i\": 63}, \"line\": 3, \"event\": \"step_line\", \"ordered_globals\": [\"x\", \"i\"], \"heap\": {}, \"stdout\": \"\", \"stack_to_render\": []}, {\"func_name\": \"<module>\", \"globals\": {\"x\": 64, \"i\": 64}, \"line\": 4, \"event\": \"step_line\", \"ordered_globals\": [\"x\", \"i\"], \"heap\": {}, \"stdout\": \"\", \"stack_to_render\": []}, {\"func_name\": \"<module>\", \"globals\": {\"x\": 65, \"i\": 64}, \"line\": 3, \"event\": \"step_line\", \"ordered_globals\": [\"x\", \"i\"], \"heap\": {}, \"stdout\": \"\", \"stack_to_render\": []}, {\"func_name\": \"<module>\", \"globals\": {\"x\": 65, \"i\": 65}, \"line\": 4, \"event\": \"step_line\", \"ordered_globals\": [\"x\", \"i\"], \"heap\": {}, \"stdout\": \"\", \"stack_to_render\": []}, {\"func_name\": \"<module>\", \"globals\": {\"x\": 66, \"i\": 65}, \"line\": 3, \"event\": \"step_line\", \"ordered_globals\": [\"x\", \"i\"], \"heap\": {}, \"stdout\": \"\", \"stack_to_render\": []}, {\"func_name\": \"<module>\", \"globals\": {\"x\": 66, \"i\": 66}, \"line\": 4, \"event\": \"step_line\", \"ordered_globals\": [\"x\", \"i\"], \"heap\": {}, \"stdout\": \"\", \"stack_to_render\": []}, {\"func_name\": \"<module>\", \"globals\": {\"x\": 67, \"i\": 66}, \"line\": 3, \"event\": \"step_line\", \"ordered_globals\": [\"x\", \"i\"], \"heap\": {}, \"stdout\": \"\", \"stack_to_render\": []}, {\"func_name\": \"<module>\", \"globals\": {\"x\": 67, \"i\": 67}, \"line\": 4, \"event\": \"step_line\", \"ordered_globals\": [\"x\", \"i\"], \"heap\": {}, \"stdout\": \"\", \"stack_to_render\": []}, {\"func_name\": \"<module>\", \"globals\": {\"x\": 68, \"i\": 67}, \"line\": 3, \"event\": \"step_line\", \"ordered_globals\": [\"x\", \"i\"], \"heap\": {}, \"stdout\": \"\", \"stack_to_render\": []}, {\"func_name\": \"<module>\", \"globals\": {\"x\": 68, \"i\": 68}, \"line\": 4, \"event\": \"step_line\", \"ordered_globals\": [\"x\", \"i\"], \"heap\": {}, \"stdout\": \"\", \"stack_to_render\": []}, {\"func_name\": \"<module>\", \"globals\": {\"x\": 69, \"i\": 68}, \"line\": 3, \"event\": \"step_line\", \"ordered_globals\": [\"x\", \"i\"], \"heap\": {}, \"stdout\": \"\", \"stack_to_render\": []}, {\"func_name\": \"<module>\", \"globals\": {\"x\": 69, \"i\": 69}, \"line\": 4, \"event\": \"step_line\", \"ordered_globals\": [\"x\", \"i\"], \"heap\": {}, \"stdout\": \"\", \"stack_to_render\": []}, {\"func_name\": \"<module>\", \"globals\": {\"x\": 70, \"i\": 69}, \"line\": 3, \"event\": \"step_line\", \"ordered_globals\": [\"x\", \"i\"], \"heap\": {}, \"stdout\": \"\", \"stack_to_render\": []}, {\"func_name\": \"<module>\", \"globals\": {\"x\": 70, \"i\": 70}, \"line\": 4, \"event\": \"step_line\", \"ordered_globals\": [\"x\", \"i\"], \"heap\": {}, \"stdout\": \"\", \"stack_to_render\": []}, {\"func_name\": \"<module>\", \"globals\": {\"x\": 71, \"i\": 70}, \"line\": 3, \"event\": \"step_line\", \"ordered_globals\": [\"x\", \"i\"], \"heap\": {}, \"stdout\": \"\", \"stack_to_render\": []}, {\"func_name\": \"<module>\", \"globals\": {\"x\": 71, \"i\": 71}, \"line\": 4, \"event\": \"step_line\", \"ordered_globals\": [\"x\", \"i\"], \"heap\": {}, \"stdout\": \"\", \"stack_to_render\": []}, {\"func_name\": \"<module>\", \"globals\": {\"x\": 72, \"i\": 71}, \"line\": 3, \"event\": \"step_line\", \"ordered_globals\": [\"x\", \"i\"], \"heap\": {}, \"stdout\": \"\", \"stack_to_render\": []}, {\"func_name\": \"<module>\", \"globals\": {\"x\": 72, \"i\": 72}, \"line\": 4, \"event\": \"step_line\", \"ordered_globals\": [\"x\", \"i\"], \"heap\": {}, \"stdout\": \"\", \"stack_to_render\": []}, {\"func_name\": \"<module>\", \"globals\": {\"x\": 73, \"i\": 72}, \"line\": 3, \"event\": \"step_line\", \"ordered_globals\": [\"x\", \"i\"], \"heap\": {}, \"stdout\": \"\", \"stack_to_render\": []}, {\"func_name\": \"<module>\", \"globals\": {\"x\": 73, \"i\": 73}, \"line\": 4, \"event\": \"step_line\", \"ordered_globals\": [\"x\", \"i\"], \"heap\": {}, \"stdout\": \"\", \"stack_to_render\": []}, {\"func_name\": \"<module>\", \"globals\": {\"x\": 74, \"i\": 73}, \"line\": 3, \"event\": \"step_line\", \"ordered_globals\": [\"x\", \"i\"], \"heap\": {}, \"stdout\": \"\", \"stack_to_render\": []}, {\"func_name\": \"<module>\", \"globals\": {\"x\": 74, \"i\": 74}, \"line\": 4, \"event\": \"step_line\", \"ordered_globals\": [\"x\", \"i\"], \"heap\": {}, \"stdout\": \"\", \"stack_to_render\": []}, {\"func_name\": \"<module>\", \"globals\": {\"x\": 75, \"i\": 74}, \"line\": 3, \"event\": \"step_line\", \"ordered_globals\": [\"x\", \"i\"], \"heap\": {}, \"stdout\": \"\", \"stack_to_render\": []}, {\"func_name\": \"<module>\", \"globals\": {\"x\": 75, \"i\": 75}, \"line\": 4, \"event\": \"step_line\", \"ordered_globals\": [\"x\", \"i\"], \"heap\": {}, \"stdout\": \"\", \"stack_to_render\": []}, {\"func_name\": \"<module>\", \"globals\": {\"x\": 76, \"i\": 75}, \"line\": 3, \"event\": \"step_line\", \"ordered_globals\": [\"x\", \"i\"], \"heap\": {}, \"stdout\": \"\", \"stack_to_render\": []}, {\"func_name\": \"<module>\", \"globals\": {\"x\": 76, \"i\": 76}, \"line\": 4, \"event\": \"step_line\", \"ordered_globals\": [\"x\", \"i\"], \"heap\": {}, \"stdout\": \"\", \"stack_to_render\": []}, {\"func_name\": \"<module>\", \"globals\": {\"x\": 77, \"i\": 76}, \"line\": 3, \"event\": \"step_line\", \"ordered_globals\": [\"x\", \"i\"], \"heap\": {}, \"stdout\": \"\", \"stack_to_render\": []}, {\"func_name\": \"<module>\", \"globals\": {\"x\": 77, \"i\": 77}, \"line\": 4, \"event\": \"step_line\", \"ordered_globals\": [\"x\", \"i\"], \"heap\": {}, \"stdout\": \"\", \"stack_to_render\": []}, {\"func_name\": \"<module>\", \"globals\": {\"x\": 78, \"i\": 77}, \"line\": 3, \"event\": \"step_line\", \"ordered_globals\": [\"x\", \"i\"], \"heap\": {}, \"stdout\": \"\", \"stack_to_render\": []}, {\"func_name\": \"<module>\", \"globals\": {\"x\": 78, \"i\": 78}, \"line\": 4, \"event\": \"step_line\", \"ordered_globals\": [\"x\", \"i\"], \"heap\": {}, \"stdout\": \"\", \"stack_to_render\": []}, {\"func_name\": \"<module>\", \"globals\": {\"x\": 79, \"i\": 78}, \"line\": 3, \"event\": \"step_line\", \"ordered_globals\": [\"x\", \"i\"], \"heap\": {}, \"stdout\": \"\", \"stack_to_render\": []}, {\"func_name\": \"<module>\", \"globals\": {\"x\": 79, \"i\": 79}, \"line\": 4, \"event\": \"step_line\", \"ordered_globals\": [\"x\", \"i\"], \"heap\": {}, \"stdout\": \"\", \"stack_to_render\": []}, {\"func_name\": \"<module>\", \"globals\": {\"x\": 80, \"i\": 79}, \"line\": 3, \"event\": \"step_line\", \"ordered_globals\": [\"x\", \"i\"], \"heap\": {}, \"stdout\": \"\", \"stack_to_render\": []}, {\"func_name\": \"<module>\", \"globals\": {\"x\": 80, \"i\": 80}, \"line\": 4, \"event\": \"step_line\", \"ordered_globals\": [\"x\", \"i\"], \"heap\": {}, \"stdout\": \"\", \"stack_to_render\": []}, {\"func_name\": \"<module>\", \"globals\": {\"x\": 81, \"i\": 80}, \"line\": 3, \"event\": \"step_line\", \"ordered_globals\": [\"x\", \"i\"], \"heap\": {}, \"stdout\": \"\", \"stack_to_render\": []}, {\"func_name\": \"<module>\", \"globals\": {\"x\": 81, \"i\": 81}, \"line\": 4, \"event\": \"step_line\", \"ordered_globals\": [\"x\", \"i\"], \"heap\": {}, \"stdout\": \"\", \"stack_to_render\": []}, {\"func_name\": \"<module>\", \"globals\": {\"x\": 82, \"i\": 81}, \"line\": 3, \"event\": \"step_line\", \"ordered_globals\": [\"x\", \"i\"], \"heap\": {}, \"stdout\": \"\", \"stack_to_render\": []}, {\"func_name\": \"<module>\", \"globals\": {\"x\": 82, \"i\": 82}, \"line\": 4, \"event\": \"step_line\", \"ordered_globals\": [\"x\", \"i\"], \"heap\": {}, \"stdout\": \"\", \"stack_to_render\": []}, {\"func_name\": \"<module>\", \"globals\": {\"x\": 83, \"i\": 82}, \"line\": 3, \"event\": \"step_line\", \"ordered_globals\": [\"x\", \"i\"], \"heap\": {}, \"stdout\": \"\", \"stack_to_render\": []}, {\"func_name\": \"<module>\", \"globals\": {\"x\": 83, \"i\": 83}, \"line\": 4, \"event\": \"step_line\", \"ordered_globals\": [\"x\", \"i\"], \"heap\": {}, \"stdout\": \"\", \"stack_to_render\": []}, {\"func_name\": \"<module>\", \"globals\": {\"x\": 84, \"i\": 83}, \"line\": 3, \"event\": \"step_line\", \"ordered_globals\": [\"x\", \"i\"], \"heap\": {}, \"stdout\": \"\", \"stack_to_render\": []}, {\"func_name\": \"<module>\", \"globals\": {\"x\": 84, \"i\": 84}, \"line\": 4, \"event\": \"step_line\", \"ordered_globals\": [\"x\", \"i\"], \"heap\": {}, \"stdout\": \"\", \"stack_to_render\": []}, {\"func_name\": \"<module>\", \"globals\": {\"x\": 85, \"i\": 84}, \"line\": 3, \"event\": \"step_line\", \"ordered_globals\": [\"x\", \"i\"], \"heap\": {}, \"stdout\": \"\", \"stack_to_render\": []}, {\"func_name\": \"<module>\", \"globals\": {\"x\": 85, \"i\": 85}, \"line\": 4, \"event\": \"step_line\", \"ordered_globals\": [\"x\", \"i\"], \"heap\": {}, \"stdout\": \"\", \"stack_to_render\": []}, {\"func_name\": \"<module>\", \"globals\": {\"x\": 86, \"i\": 85}, \"line\": 3, \"event\": \"step_line\", \"ordered_globals\": [\"x\", \"i\"], \"heap\": {}, \"stdout\": \"\", \"stack_to_render\": []}, {\"func_name\": \"<module>\", \"globals\": {\"x\": 86, \"i\": 86}, \"line\": 4, \"event\": \"step_line\", \"ordered_globals\": [\"x\", \"i\"], \"heap\": {}, \"stdout\": \"\", \"stack_to_render\": []}, {\"func_name\": \"<module>\", \"globals\": {\"x\": 87, \"i\": 86}, \"line\": 3, \"event\": \"step_line\", \"ordered_globals\": [\"x\", \"i\"], \"heap\": {}, \"stdout\": \"\", \"stack_to_render\": []}, {\"func_name\": \"<module>\", \"globals\": {\"x\": 87, \"i\": 87}, \"line\": 4, \"event\": \"step_line\", \"ordered_globals\": [\"x\", \"i\"], \"heap\": {}, \"stdout\": \"\", \"stack_to_render\": []}, {\"func_name\": \"<module>\", \"globals\": {\"x\": 88, \"i\": 87}, \"line\": 3, \"event\": \"step_line\", \"ordered_globals\": [\"x\", \"i\"], \"heap\": {}, \"stdout\": \"\", \"stack_to_render\": []}, {\"func_name\": \"<module>\", \"globals\": {\"x\": 88, \"i\": 88}, \"line\": 4, \"event\": \"step_line\", \"ordered_globals\": [\"x\", \"i\"], \"heap\": {}, \"stdout\": \"\", \"stack_to_render\": []}, {\"func_name\": \"<module>\", \"globals\": {\"x\": 89, \"i\": 88}, \"line\": 3, \"event\": \"step_line\", \"ordered_globals\": [\"x\", \"i\"], \"heap\": {}, \"stdout\": \"\", \"stack_to_render\": []}, {\"func_name\": \"<module>\", \"globals\": {\"x\": 89, \"i\": 89}, \"line\": 4, \"event\": \"step_line\", \"ordered_globals\": [\"x\", \"i\"], \"heap\": {}, \"stdout\": \"\", \"stack_to_render\": []}, {\"func_name\": \"<module>\", \"globals\": {\"x\": 90, \"i\": 89}, \"line\": 3, \"event\": \"step_line\", \"ordered_globals\": [\"x\", \"i\"], \"heap\": {}, \"stdout\": \"\", \"stack_to_render\": []}, {\"func_name\": \"<module>\", \"globals\": {\"x\": 90, \"i\": 90}, \"line\": 4, \"event\": \"step_line\", \"ordered_globals\": [\"x\", \"i\"], \"heap\": {}, \"stdout\": \"\", \"stack_to_render\": []}, {\"func_name\": \"<module>\", \"globals\": {\"x\": 91, \"i\": 90}, \"line\": 3, \"event\": \"step_line\", \"ordered_globals\": [\"x\", \"i\"], \"heap\": {}, \"stdout\": \"\", \"stack_to_render\": []}, {\"func_name\": \"<module>\", \"globals\": {\"x\": 91, \"i\": 91}, \"line\": 4, \"event\": \"step_line\", \"ordered_globals\": [\"x\", \"i\"], \"heap\": {}, \"stdout\": \"\", \"stack_to_render\": []}, {\"func_name\": \"<module>\", \"globals\": {\"x\": 92, \"i\": 91}, \"line\": 3, \"event\": \"step_line\", \"ordered_globals\": [\"x\", \"i\"], \"heap\": {}, \"stdout\": \"\", \"stack_to_render\": []}, {\"func_name\": \"<module>\", \"globals\": {\"x\": 92, \"i\": 92}, \"line\": 4, \"event\": \"step_line\", \"ordered_globals\": [\"x\", \"i\"], \"heap\": {}, \"stdout\": \"\", \"stack_to_render\": []}, {\"func_name\": \"<module>\", \"globals\": {\"x\": 93, \"i\": 92}, \"line\": 3, \"event\": \"step_line\", \"ordered_globals\": [\"x\", \"i\"], \"heap\": {}, \"stdout\": \"\", \"stack_to_render\": []}, {\"func_name\": \"<module>\", \"globals\": {\"x\": 93, \"i\": 93}, \"line\": 4, \"event\": \"step_line\", \"ordered_globals\": [\"x\", \"i\"], \"heap\": {}, \"stdout\": \"\", \"stack_to_render\": []}, {\"func_name\": \"<module>\", \"globals\": {\"x\": 94, \"i\": 93}, \"line\": 3, \"event\": \"step_line\", \"ordered_globals\": [\"x\", \"i\"], \"heap\": {}, \"stdout\": \"\", \"stack_to_render\": []}, {\"func_name\": \"<module>\", \"globals\": {\"x\": 94, \"i\": 94}, \"line\": 4, \"event\": \"step_line\", \"ordered_globals\": [\"x\", \"i\"], \"heap\": {}, \"stdout\": \"\", \"stack_to_render\": []}, {\"func_name\": \"<module>\", \"globals\": {\"x\": 95, \"i\": 94}, \"line\": 3, \"event\": \"step_line\", \"ordered_globals\": [\"x\", \"i\"], \"heap\": {}, \"stdout\": \"\", \"stack_to_render\": []}, {\"func_name\": \"<module>\", \"globals\": {\"x\": 95, \"i\": 95}, \"line\": 4, \"event\": \"step_line\", \"ordered_globals\": [\"x\", \"i\"], \"heap\": {}, \"stdout\": \"\", \"stack_to_render\": []}, {\"func_name\": \"<module>\", \"globals\": {\"x\": 96, \"i\": 95}, \"line\": 3, \"event\": \"step_line\", \"ordered_globals\": [\"x\", \"i\"], \"heap\": {}, \"stdout\": \"\", \"stack_to_render\": []}, {\"func_name\": \"<module>\", \"globals\": {\"x\": 96, \"i\": 96}, \"line\": 4, \"event\": \"step_line\", \"ordered_globals\": [\"x\", \"i\"], \"heap\": {}, \"stdout\": \"\", \"stack_to_render\": []}, {\"func_name\": \"<module>\", \"globals\": {\"x\": 97, \"i\": 96}, \"line\": 3, \"event\": \"step_line\", \"ordered_globals\": [\"x\", \"i\"], \"heap\": {}, \"stdout\": \"\", \"stack_to_render\": []}, {\"func_name\": \"<module>\", \"globals\": {\"x\": 97, \"i\": 97}, \"line\": 4, \"event\": \"step_line\", \"ordered_globals\": [\"x\", \"i\"], \"heap\": {}, \"stdout\": \"\", \"stack_to_render\": []}, {\"func_name\": \"<module>\", \"globals\": {\"x\": 98, \"i\": 97}, \"line\": 3, \"event\": \"step_line\", \"ordered_globals\": [\"x\", \"i\"], \"heap\": {}, \"stdout\": \"\", \"stack_to_render\": []}, {\"func_name\": \"<module>\", \"globals\": {\"x\": 98, \"i\": 98}, \"line\": 4, \"event\": \"step_line\", \"ordered_globals\": [\"x\", \"i\"], \"heap\": {}, \"stdout\": \"\", \"stack_to_render\": []}, {\"func_name\": \"<module>\", \"globals\": {\"x\": 99, \"i\": 98}, \"line\": 3, \"event\": \"step_line\", \"ordered_globals\": [\"x\", \"i\"], \"heap\": {}, \"stdout\": \"\", \"stack_to_render\": []}, {\"func_name\": \"<module>\", \"globals\": {\"x\": 99, \"i\": 99}, \"line\": 4, \"event\": \"step_line\", \"ordered_globals\": [\"x\", \"i\"], \"heap\": {}, \"stdout\": \"\", \"stack_to_render\": []}, {\"func_name\": \"<module>\", \"globals\": {\"x\": 100, \"i\": 99}, \"line\": 3, \"event\": \"step_line\", \"ordered_globals\": [\"x\", \"i\"], \"heap\": {}, \"stdout\": \"\", \"stack_to_render\": []}, {\"func_name\": \"<module>\", \"globals\": {\"x\": 100, \"i\": 100}, \"line\": 4, \"event\": \"step_line\", \"ordered_globals\": [\"x\", \"i\"], \"heap\": {}, \"stdout\": \"\", \"stack_to_render\": []}, {\"func_name\": \"<module>\", \"globals\": {\"x\": 101, \"i\": 100}, \"line\": 3, \"event\": \"step_line\", \"ordered_globals\": [\"x\", \"i\"], \"heap\": {}, \"stdout\": \"\", \"stack_to_render\": []}, {\"func_name\": \"<module>\", \"globals\": {\"x\": 101, \"i\": 101}, \"line\": 4, \"event\": \"step_line\", \"ordered_globals\": [\"x\", \"i\"], \"heap\": {}, \"stdout\": \"\", \"stack_to_render\": []}, {\"func_name\": \"<module>\", \"globals\": {\"x\": 102, \"i\": 101}, \"line\": 3, \"event\": \"step_line\", \"ordered_globals\": [\"x\", \"i\"], \"heap\": {}, \"stdout\": \"\", \"stack_to_render\": []}, {\"func_name\": \"<module>\", \"globals\": {\"x\": 102, \"i\": 102}, \"line\": 4, \"event\": \"step_line\", \"ordered_globals\": [\"x\", \"i\"], \"heap\": {}, \"stdout\": \"\", \"stack_to_render\": []}, {\"func_name\": \"<module>\", \"globals\": {\"x\": 103, \"i\": 102}, \"line\": 3, \"event\": \"step_line\", \"ordered_globals\": [\"x\", \"i\"], \"heap\": {}, \"stdout\": \"\", \"stack_to_render\": []}, {\"func_name\": \"<module>\", \"globals\": {\"x\": 103, \"i\": 103}, \"line\": 4, \"event\": \"step_line\", \"ordered_globals\": [\"x\", \"i\"], \"heap\": {}, \"stdout\": \"\", \"stack_to_render\": []}, {\"func_name\": \"<module>\", \"globals\": {\"x\": 104, \"i\": 103}, \"line\": 3, \"event\": \"step_line\", \"ordered_globals\": [\"x\", \"i\"], \"heap\": {}, \"stdout\": \"\", \"stack_to_render\": []}, {\"func_name\": \"<module>\", \"globals\": {\"x\": 104, \"i\": 104}, \"line\": 4, \"event\": \"step_line\", \"ordered_globals\": [\"x\", \"i\"], \"heap\": {}, \"stdout\": \"\", \"stack_to_render\": []}, {\"func_name\": \"<module>\", \"globals\": {\"x\": 105, \"i\": 104}, \"line\": 3, \"event\": \"step_line\", \"ordered_globals\": [\"x\", \"i\"], \"heap\": {}, \"stdout\": \"\", \"stack_to_render\": []}, {\"func_name\": \"<module>\", \"globals\": {\"x\": 105, \"i\": 105}, \"line\": 4, \"event\": \"step_line\", \"ordered_globals\": [\"x\", \"i\"], \"heap\": {}, \"stdout\": \"\", \"stack_to_render\": []}, {\"func_name\": \"<module>\", \"globals\": {\"x\": 106, \"i\": 105}, \"line\": 3, \"event\": \"step_line\", \"ordered_globals\": [\"x\", \"i\"], \"heap\": {}, \"stdout\": \"\", \"stack_to_render\": []}, {\"func_name\": \"<module>\", \"globals\": {\"x\": 106, \"i\": 106}, \"line\": 4, \"event\": \"step_line\", \"ordered_globals\": [\"x\", \"i\"], \"heap\": {}, \"stdout\": \"\", \"stack_to_render\": []}, {\"func_name\": \"<module>\", \"globals\": {\"x\": 107, \"i\": 106}, \"line\": 3, \"event\": \"step_line\", \"ordered_globals\": [\"x\", \"i\"], \"heap\": {}, \"stdout\": \"\", \"stack_to_render\": []}, {\"func_name\": \"<module>\", \"globals\": {\"x\": 107, \"i\": 107}, \"line\": 4, \"event\": \"step_line\", \"ordered_globals\": [\"x\", \"i\"], \"heap\": {}, \"stdout\": \"\", \"stack_to_render\": []}, {\"func_name\": \"<module>\", \"globals\": {\"x\": 108, \"i\": 107}, \"line\": 3, \"event\": \"step_line\", \"ordered_globals\": [\"x\", \"i\"], \"heap\": {}, \"stdout\": \"\", \"stack_to_render\": []}, {\"func_name\": \"<module>\", \"globals\": {\"x\": 108, \"i\": 108}, \"line\": 4, \"event\": \"step_line\", \"ordered_globals\": [\"x\", \"i\"], \"heap\": {}, \"stdout\": \"\", \"stack_to_render\": []}, {\"func_name\": \"<module>\", \"globals\": {\"x\": 109, \"i\": 108}, \"line\": 3, \"event\": \"step_line\", \"ordered_globals\": [\"x\", \"i\"], \"heap\": {}, \"stdout\": \"\", \"stack_to_render\": []}, {\"func_name\": \"<module>\", \"globals\": {\"x\": 109, \"i\": 109}, \"line\": 4, \"event\": \"step_line\", \"ordered_globals\": [\"x\", \"i\"], \"heap\": {}, \"stdout\": \"\", \"stack_to_render\": []}, {\"func_name\": \"<module>\", \"globals\": {\"x\": 110, \"i\": 109}, \"line\": 3, \"event\": \"step_line\", \"ordered_globals\": [\"x\", \"i\"], \"heap\": {}, \"stdout\": \"\", \"stack_to_render\": []}, {\"func_name\": \"<module>\", \"globals\": {\"x\": 110, \"i\": 110}, \"line\": 4, \"event\": \"step_line\", \"ordered_globals\": [\"x\", \"i\"], \"heap\": {}, \"stdout\": \"\", \"stack_to_render\": []}, {\"func_name\": \"<module>\", \"globals\": {\"x\": 111, \"i\": 110}, \"line\": 3, \"event\": \"step_line\", \"ordered_globals\": [\"x\", \"i\"], \"heap\": {}, \"stdout\": \"\", \"stack_to_render\": []}, {\"func_name\": \"<module>\", \"globals\": {\"x\": 111, \"i\": 111}, \"line\": 4, \"event\": \"step_line\", \"ordered_globals\": [\"x\", \"i\"], \"heap\": {}, \"stdout\": \"\", \"stack_to_render\": []}, {\"func_name\": \"<module>\", \"globals\": {\"x\": 112, \"i\": 111}, \"line\": 3, \"event\": \"step_line\", \"ordered_globals\": [\"x\", \"i\"], \"heap\": {}, \"stdout\": \"\", \"stack_to_render\": []}, {\"func_name\": \"<module>\", \"globals\": {\"x\": 112, \"i\": 112}, \"line\": 4, \"event\": \"step_line\", \"ordered_globals\": [\"x\", \"i\"], \"heap\": {}, \"stdout\": \"\", \"stack_to_render\": []}, {\"func_name\": \"<module>\", \"globals\": {\"x\": 113, \"i\": 112}, \"line\": 3, \"event\": \"step_line\", \"ordered_globals\": [\"x\", \"i\"], \"heap\": {}, \"stdout\": \"\", \"stack_to_render\": []}, {\"func_name\": \"<module>\", \"globals\": {\"x\": 113, \"i\": 113}, \"line\": 4, \"event\": \"step_line\", \"ordered_globals\": [\"x\", \"i\"], \"heap\": {}, \"stdout\": \"\", \"stack_to_render\": []}, {\"func_name\": \"<module>\", \"globals\": {\"x\": 114, \"i\": 113}, \"line\": 3, \"event\": \"step_line\", \"ordered_globals\": [\"x\", \"i\"], \"heap\": {}, \"stdout\": \"\", \"stack_to_render\": []}, {\"func_name\": \"<module>\", \"globals\": {\"x\": 114, \"i\": 114}, \"line\": 4, \"event\": \"step_line\", \"ordered_globals\": [\"x\", \"i\"], \"heap\": {}, \"stdout\": \"\", \"stack_to_render\": []}, {\"func_name\": \"<module>\", \"globals\": {\"x\": 115, \"i\": 114}, \"line\": 3, \"event\": \"step_line\", \"ordered_globals\": [\"x\", \"i\"], \"heap\": {}, \"stdout\": \"\", \"stack_to_render\": []}, {\"func_name\": \"<module>\", \"globals\": {\"x\": 115, \"i\": 115}, \"line\": 4, \"event\": \"step_line\", \"ordered_globals\": [\"x\", \"i\"], \"heap\": {}, \"stdout\": \"\", \"stack_to_render\": []}, {\"func_name\": \"<module>\", \"globals\": {\"x\": 116, \"i\": 115}, \"line\": 3, \"event\": \"step_line\", \"ordered_globals\": [\"x\", \"i\"], \"heap\": {}, \"stdout\": \"\", \"stack_to_render\": []}, {\"func_name\": \"<module>\", \"globals\": {\"x\": 116, \"i\": 116}, \"line\": 4, \"event\": \"step_line\", \"ordered_globals\": [\"x\", \"i\"], \"heap\": {}, \"stdout\": \"\", \"stack_to_render\": []}, {\"func_name\": \"<module>\", \"globals\": {\"x\": 117, \"i\": 116}, \"line\": 3, \"event\": \"step_line\", \"ordered_globals\": [\"x\", \"i\"], \"heap\": {}, \"stdout\": \"\", \"stack_to_render\": []}, {\"func_name\": \"<module>\", \"globals\": {\"x\": 117, \"i\": 117}, \"line\": 4, \"event\": \"step_line\", \"ordered_globals\": [\"x\", \"i\"], \"heap\": {}, \"stdout\": \"\", \"stack_to_render\": []}, {\"func_name\": \"<module>\", \"globals\": {\"x\": 118, \"i\": 117}, \"line\": 3, \"event\": \"step_line\", \"ordered_globals\": [\"x\", \"i\"], \"heap\": {}, \"stdout\": \"\", \"stack_to_render\": []}, {\"func_name\": \"<module>\", \"globals\": {\"x\": 118, \"i\": 118}, \"line\": 4, \"event\": \"step_line\", \"ordered_globals\": [\"x\", \"i\"], \"heap\": {}, \"stdout\": \"\", \"stack_to_render\": []}, {\"func_name\": \"<module>\", \"globals\": {\"x\": 119, \"i\": 118}, \"line\": 3, \"event\": \"step_line\", \"ordered_globals\": [\"x\", \"i\"], \"heap\": {}, \"stdout\": \"\", \"stack_to_render\": []}, {\"func_name\": \"<module>\", \"globals\": {\"x\": 119, \"i\": 119}, \"line\": 4, \"event\": \"step_line\", \"ordered_globals\": [\"x\", \"i\"], \"heap\": {}, \"stdout\": \"\", \"stack_to_render\": []}, {\"func_name\": \"<module>\", \"globals\": {\"x\": 120, \"i\": 119}, \"line\": 3, \"event\": \"step_line\", \"ordered_globals\": [\"x\", \"i\"], \"heap\": {}, \"stdout\": \"\", \"stack_to_render\": []}, {\"func_name\": \"<module>\", \"globals\": {\"x\": 120, \"i\": 120}, \"line\": 4, \"event\": \"step_line\", \"ordered_globals\": [\"x\", \"i\"], \"heap\": {}, \"stdout\": \"\", \"stack_to_render\": []}, {\"func_name\": \"<module>\", \"globals\": {\"x\": 121, \"i\": 120}, \"line\": 3, \"event\": \"step_line\", \"ordered_globals\": [\"x\", \"i\"], \"heap\": {}, \"stdout\": \"\", \"stack_to_render\": []}, {\"func_name\": \"<module>\", \"globals\": {\"x\": 121, \"i\": 121}, \"line\": 4, \"event\": \"step_line\", \"ordered_globals\": [\"x\", \"i\"], \"heap\": {}, \"stdout\": \"\", \"stack_to_render\": []}, {\"func_name\": \"<module>\", \"globals\": {\"x\": 122, \"i\": 121}, \"line\": 3, \"event\": \"step_line\", \"ordered_globals\": [\"x\", \"i\"], \"heap\": {}, \"stdout\": \"\", \"stack_to_render\": []}, {\"func_name\": \"<module>\", \"globals\": {\"x\": 122, \"i\": 122}, \"line\": 4, \"event\": \"step_line\", \"ordered_globals\": [\"x\", \"i\"], \"heap\": {}, \"stdout\": \"\", \"stack_to_render\": []}, {\"func_name\": \"<module>\", \"globals\": {\"x\": 123, \"i\": 122}, \"line\": 3, \"event\": \"step_line\", \"ordered_globals\": [\"x\", \"i\"], \"heap\": {}, \"stdout\": \"\", \"stack_to_render\": []}, {\"func_name\": \"<module>\", \"globals\": {\"x\": 123, \"i\": 123}, \"line\": 4, \"event\": \"step_line\", \"ordered_globals\": [\"x\", \"i\"], \"heap\": {}, \"stdout\": \"\", \"stack_to_render\": []}, {\"func_name\": \"<module>\", \"globals\": {\"x\": 124, \"i\": 123}, \"line\": 3, \"event\": \"step_line\", \"ordered_globals\": [\"x\", \"i\"], \"heap\": {}, \"stdout\": \"\", \"stack_to_render\": []}, {\"func_name\": \"<module>\", \"globals\": {\"x\": 124, \"i\": 124}, \"line\": 4, \"event\": \"step_line\", \"ordered_globals\": [\"x\", \"i\"], \"heap\": {}, \"stdout\": \"\", \"stack_to_render\": []}, {\"func_name\": \"<module>\", \"globals\": {\"x\": 125, \"i\": 124}, \"line\": 3, \"event\": \"step_line\", \"ordered_globals\": [\"x\", \"i\"], \"heap\": {}, \"stdout\": \"\", \"stack_to_render\": []}, {\"func_name\": \"<module>\", \"globals\": {\"x\": 125, \"i\": 125}, \"line\": 4, \"event\": \"step_line\", \"ordered_globals\": [\"x\", \"i\"], \"heap\": {}, \"stdout\": \"\", \"stack_to_render\": []}, {\"func_name\": \"<module>\", \"globals\": {\"x\": 126, \"i\": 125}, \"line\": 3, \"event\": \"step_line\", \"ordered_globals\": [\"x\", \"i\"], \"heap\": {}, \"stdout\": \"\", \"stack_to_render\": []}, {\"func_name\": \"<module>\", \"globals\": {\"x\": 126, \"i\": 126}, \"line\": 4, \"event\": \"step_line\", \"ordered_globals\": [\"x\", \"i\"], \"heap\": {}, \"stdout\": \"\", \"stack_to_render\": []}, {\"func_name\": \"<module>\", \"globals\": {\"x\": 127, \"i\": 126}, \"line\": 3, \"event\": \"step_line\", \"ordered_globals\": [\"x\", \"i\"], \"heap\": {}, \"stdout\": \"\", \"stack_to_render\": []}, {\"func_name\": \"<module>\", \"globals\": {\"x\": 127, \"i\": 127}, \"line\": 4, \"event\": \"step_line\", \"ordered_globals\": [\"x\", \"i\"], \"heap\": {}, \"stdout\": \"\", \"stack_to_render\": []}, {\"func_name\": \"<module>\", \"globals\": {\"x\": 128, \"i\": 127}, \"line\": 3, \"event\": \"step_line\", \"ordered_globals\": [\"x\", \"i\"], \"heap\": {}, \"stdout\": \"\", \"stack_to_render\": []}, {\"func_name\": \"<module>\", \"globals\": {\"x\": 128, \"i\": 128}, \"line\": 4, \"event\": \"step_line\", \"ordered_globals\": [\"x\", \"i\"], \"heap\": {}, \"stdout\": \"\", \"stack_to_render\": []}, {\"func_name\": \"<module>\", \"globals\": {\"x\": 129, \"i\": 128}, \"line\": 3, \"event\": \"step_line\", \"ordered_globals\": [\"x\", \"i\"], \"heap\": {}, \"stdout\": \"\", \"stack_to_render\": []}, {\"func_name\": \"<module>\", \"globals\": {\"x\": 129, \"i\": 129}, \"line\": 4, \"event\": \"step_line\", \"ordered_globals\": [\"x\", \"i\"], \"heap\": {}, \"stdout\": \"\", \"stack_to_render\": []}, {\"func_name\": \"<module>\", \"globals\": {\"x\": 130, \"i\": 129}, \"line\": 3, \"event\": \"step_line\", \"ordered_globals\": [\"x\", \"i\"], \"heap\": {}, \"stdout\": \"\", \"stack_to_render\": []}, {\"func_name\": \"<module>\", \"globals\": {\"x\": 130, \"i\": 130}, \"line\": 4, \"event\": \"step_line\", \"ordered_globals\": [\"x\", \"i\"], \"heap\": {}, \"stdout\": \"\", \"stack_to_render\": []}, {\"func_name\": \"<module>\", \"globals\": {\"x\": 131, \"i\": 130}, \"line\": 3, \"event\": \"step_line\", \"ordered_globals\": [\"x\", \"i\"], \"heap\": {}, \"stdout\": \"\", \"stack_to_render\": []}, {\"func_name\": \"<module>\", \"globals\": {\"x\": 131, \"i\": 131}, \"line\": 4, \"event\": \"step_line\", \"ordered_globals\": [\"x\", \"i\"], \"heap\": {}, \"stdout\": \"\", \"stack_to_render\": []}, {\"func_name\": \"<module>\", \"globals\": {\"x\": 132, \"i\": 131}, \"line\": 3, \"event\": \"step_line\", \"ordered_globals\": [\"x\", \"i\"], \"heap\": {}, \"stdout\": \"\", \"stack_to_render\": []}, {\"func_name\": \"<module>\", \"globals\": {\"x\": 132, \"i\": 132}, \"line\": 4, \"event\": \"step_line\", \"ordered_globals\": [\"x\", \"i\"], \"heap\": {}, \"stdout\": \"\", \"stack_to_render\": []}, {\"func_name\": \"<module>\", \"globals\": {\"x\": 133, \"i\": 132}, \"line\": 3, \"event\": \"step_line\", \"ordered_globals\": [\"x\", \"i\"], \"heap\": {}, \"stdout\": \"\", \"stack_to_render\": []}, {\"func_name\": \"<module>\", \"globals\": {\"x\": 133, \"i\": 133}, \"line\": 4, \"event\": \"step_line\", \"ordered_globals\": [\"x\", \"i\"], \"heap\": {}, \"stdout\": \"\", \"stack_to_render\": []}, {\"func_name\": \"<module>\", \"globals\": {\"x\": 134, \"i\": 133}, \"line\": 3, \"event\": \"step_line\", \"ordered_globals\": [\"x\", \"i\"], \"heap\": {}, \"stdout\": \"\", \"stack_to_render\": []}, {\"func_name\": \"<module>\", \"globals\": {\"x\": 134, \"i\": 134}, \"line\": 4, \"event\": \"step_line\", \"ordered_globals\": [\"x\", \"i\"], \"heap\": {}, \"stdout\": \"\", \"stack_to_render\": []}, {\"func_name\": \"<module>\", \"globals\": {\"x\": 135, \"i\": 134}, \"line\": 3, \"event\": \"step_line\", \"ordered_globals\": [\"x\", \"i\"], \"heap\": {}, \"stdout\": \"\", \"stack_to_render\": []}, {\"func_name\": \"<module>\", \"globals\": {\"x\": 135, \"i\": 135}, \"line\": 4, \"event\": \"step_line\", \"ordered_globals\": [\"x\", \"i\"], \"heap\": {}, \"stdout\": \"\", \"stack_to_render\": []}, {\"func_name\": \"<module>\", \"globals\": {\"x\": 136, \"i\": 135}, \"line\": 3, \"event\": \"step_line\", \"ordered_globals\": [\"x\", \"i\"], \"heap\": {}, \"stdout\": \"\", \"stack_to_render\": []}, {\"func_name\": \"<module>\", \"globals\": {\"x\": 136, \"i\": 136}, \"line\": 4, \"event\": \"step_line\", \"ordered_globals\": [\"x\", \"i\"], \"heap\": {}, \"stdout\": \"\", \"stack_to_render\": []}, {\"func_name\": \"<module>\", \"globals\": {\"x\": 137, \"i\": 136}, \"line\": 3, \"event\": \"step_line\", \"ordered_globals\": [\"x\", \"i\"], \"heap\": {}, \"stdout\": \"\", \"stack_to_render\": []}, {\"func_name\": \"<module>\", \"globals\": {\"x\": 137, \"i\": 137}, \"line\": 4, \"event\": \"step_line\", \"ordered_globals\": [\"x\", \"i\"], \"heap\": {}, \"stdout\": \"\", \"stack_to_render\": []}, {\"func_name\": \"<module>\", \"globals\": {\"x\": 138, \"i\": 137}, \"line\": 3, \"event\": \"step_line\", \"ordered_globals\": [\"x\", \"i\"], \"heap\": {}, \"stdout\": \"\", \"stack_to_render\": []}, {\"func_name\": \"<module>\", \"globals\": {\"x\": 138, \"i\": 138}, \"line\": 4, \"event\": \"step_line\", \"ordered_globals\": [\"x\", \"i\"], \"heap\": {}, \"stdout\": \"\", \"stack_to_render\": []}, {\"func_name\": \"<module>\", \"globals\": {\"x\": 139, \"i\": 138}, \"line\": 3, \"event\": \"step_line\", \"ordered_globals\": [\"x\", \"i\"], \"heap\": {}, \"stdout\": \"\", \"stack_to_render\": []}, {\"func_name\": \"<module>\", \"globals\": {\"x\": 139, \"i\": 139}, \"line\": 4, \"event\": \"step_line\", \"ordered_globals\": [\"x\", \"i\"], \"heap\": {}, \"stdout\": \"\", \"stack_to_render\": []}, {\"func_name\": \"<module>\", \"globals\": {\"x\": 140, \"i\": 139}, \"line\": 3, \"event\": \"step_line\", \"ordered_globals\": [\"x\", \"i\"], \"heap\": {}, \"stdout\": \"\", \"stack_to_render\": []}, {\"func_name\": \"<module>\", \"globals\": {\"x\": 140, \"i\": 140}, \"line\": 4, \"event\": \"step_line\", \"ordered_globals\": [\"x\", \"i\"], \"heap\": {}, \"stdout\": \"\", \"stack_to_render\": []}, {\"func_name\": \"<module>\", \"globals\": {\"x\": 141, \"i\": 140}, \"line\": 3, \"event\": \"step_line\", \"ordered_globals\": [\"x\", \"i\"], \"heap\": {}, \"stdout\": \"\", \"stack_to_render\": []}, {\"func_name\": \"<module>\", \"globals\": {\"x\": 141, \"i\": 141}, \"line\": 4, \"event\": \"step_line\", \"ordered_globals\": [\"x\", \"i\"], \"heap\": {}, \"stdout\": \"\", \"stack_to_render\": []}, {\"func_name\": \"<module>\", \"globals\": {\"x\": 142, \"i\": 141}, \"line\": 3, \"event\": \"step_line\", \"ordered_globals\": [\"x\", \"i\"], \"heap\": {}, \"stdout\": \"\", \"stack_to_render\": []}, {\"func_name\": \"<module>\", \"globals\": {\"x\": 142, \"i\": 142}, \"line\": 4, \"event\": \"step_line\", \"ordered_globals\": [\"x\", \"i\"], \"heap\": {}, \"stdout\": \"\", \"stack_to_render\": []}, {\"func_name\": \"<module>\", \"globals\": {\"x\": 143, \"i\": 142}, \"line\": 3, \"event\": \"step_line\", \"ordered_globals\": [\"x\", \"i\"], \"heap\": {}, \"stdout\": \"\", \"stack_to_render\": []}, {\"func_name\": \"<module>\", \"globals\": {\"x\": 143, \"i\": 143}, \"line\": 4, \"event\": \"step_line\", \"ordered_globals\": [\"x\", \"i\"], \"heap\": {}, \"stdout\": \"\", \"stack_to_render\": []}, {\"func_name\": \"<module>\", \"globals\": {\"x\": 144, \"i\": 143}, \"line\": 3, \"event\": \"step_line\", \"ordered_globals\": [\"x\", \"i\"], \"heap\": {}, \"stdout\": \"\", \"stack_to_render\": []}, {\"func_name\": \"<module>\", \"globals\": {\"x\": 144, \"i\": 144}, \"line\": 4, \"event\": \"step_line\", \"ordered_globals\": [\"x\", \"i\"], \"heap\": {}, \"stdout\": \"\", \"stack_to_render\": []}, {\"func_name\": \"<module>\", \"globals\": {\"x\": 145, \"i\": 144}, \"line\": 3, \"event\": \"step_line\", \"ordered_globals\": [\"x\", \"i\"], \"heap\": {}, \"stdout\": \"\", \"stack_to_render\": []}, {\"func_name\": \"<module>\", \"globals\": {\"x\": 145, \"i\": 145}, \"line\": 4, \"event\": \"step_line\", \"ordered_globals\": [\"x\", \"i\"], \"heap\": {}, \"stdout\": \"\", \"stack_to_render\": []}, {\"func_name\": \"<module>\", \"globals\": {\"x\": 146, \"i\": 145}, \"line\": 3, \"event\": \"step_line\", \"ordered_globals\": [\"x\", \"i\"], \"heap\": {}, \"stdout\": \"\", \"stack_to_render\": []}, {\"func_name\": \"<module>\", \"globals\": {\"x\": 146, \"i\": 146}, \"line\": 4, \"event\": \"step_line\", \"ordered_globals\": [\"x\", \"i\"], \"heap\": {}, \"stdout\": \"\", \"stack_to_render\": []}, {\"func_name\": \"<module>\", \"globals\": {\"x\": 147, \"i\": 146}, \"line\": 3, \"event\": \"step_line\", \"ordered_globals\": [\"x\", \"i\"], \"heap\": {}, \"stdout\": \"\", \"stack_to_render\": []}, {\"func_name\": \"<module>\", \"globals\": {\"x\": 147, \"i\": 147}, \"line\": 4, \"event\": \"step_line\", \"ordered_globals\": [\"x\", \"i\"], \"heap\": {}, \"stdout\": \"\", \"stack_to_render\": []}, {\"func_name\": \"<module>\", \"globals\": {\"x\": 148, \"i\": 147}, \"line\": 3, \"event\": \"step_line\", \"ordered_globals\": [\"x\", \"i\"], \"heap\": {}, \"stdout\": \"\", \"stack_to_render\": []}, {\"func_name\": \"<module>\", \"globals\": {\"x\": 148, \"i\": 148}, \"line\": 4, \"event\": \"step_line\", \"ordered_globals\": [\"x\", \"i\"], \"heap\": {}, \"stdout\": \"\", \"stack_to_render\": []}, {\"func_name\": \"<module>\", \"globals\": {\"x\": 149, \"i\": 148}, \"line\": 3, \"event\": \"step_line\", \"ordered_globals\": [\"x\", \"i\"], \"heap\": {}, \"stdout\": \"\", \"stack_to_render\": []}, {\"func_name\": \"<module>\", \"globals\": {\"x\": 149, \"i\": 149}, \"line\": 4, \"event\": \"step_line\", \"ordered_globals\": [\"x\", \"i\"], \"heap\": {}, \"stdout\": \"\", \"stack_to_render\": []}, {\"func_name\": \"<module>\", \"globals\": {\"x\": 150, \"i\": 149}, \"line\": 3, \"event\": \"step_line\", \"ordered_globals\": [\"x\", \"i\"], \"heap\": {}, \"stdout\": \"\", \"stack_to_render\": []}, {\"func_name\": \"<module>\", \"globals\": {\"x\": 150, \"i\": 150}, \"line\": 4, \"event\": \"step_line\", \"ordered_globals\": [\"x\", \"i\"], \"heap\": {}, \"stdout\": \"\", \"stack_to_render\": []}, {\"func_name\": \"<module>\", \"globals\": {\"x\": 151, \"i\": 150}, \"line\": 3, \"event\": \"step_line\", \"ordered_globals\": [\"x\", \"i\"], \"heap\": {}, \"stdout\": \"\", \"stack_to_render\": []}, {\"func_name\": \"<module>\", \"globals\": {\"x\": 151, \"i\": 151}, \"line\": 4, \"event\": \"step_line\", \"ordered_globals\": [\"x\", \"i\"], \"heap\": {}, \"stdout\": \"\", \"stack_to_render\": []}, {\"func_name\": \"<module>\", \"globals\": {\"x\": 152, \"i\": 151}, \"line\": 3, \"event\": \"step_line\", \"ordered_globals\": [\"x\", \"i\"], \"heap\": {}, \"stdout\": \"\", \"stack_to_render\": []}, {\"func_name\": \"<module>\", \"globals\": {\"x\": 152, \"i\": 152}, \"line\": 4, \"event\": \"step_line\", \"ordered_globals\": [\"x\", \"i\"], \"heap\": {}, \"stdout\": \"\", \"stack_to_render\": []}, {\"func_name\": \"<module>\", \"globals\": {\"x\": 153, \"i\": 152}, \"line\": 3, \"event\": \"step_line\", \"ordered_globals\": [\"x\", \"i\"], \"heap\": {}, \"stdout\": \"\", \"stack_to_render\": []}, {\"func_name\": \"<module>\", \"globals\": {\"x\": 153, \"i\": 153}, \"line\": 4, \"event\": \"step_line\", \"ordered_globals\": [\"x\", \"i\"], \"heap\": {}, \"stdout\": \"\", \"stack_to_render\": []}, {\"func_name\": \"<module>\", \"globals\": {\"x\": 154, \"i\": 153}, \"line\": 3, \"event\": \"step_line\", \"ordered_globals\": [\"x\", \"i\"], \"heap\": {}, \"stdout\": \"\", \"stack_to_render\": []}, {\"func_name\": \"<module>\", \"globals\": {\"x\": 154, \"i\": 154}, \"line\": 4, \"event\": \"step_line\", \"ordered_globals\": [\"x\", \"i\"], \"heap\": {}, \"stdout\": \"\", \"stack_to_render\": []}, {\"func_name\": \"<module>\", \"globals\": {\"x\": 155, \"i\": 154}, \"line\": 3, \"event\": \"step_line\", \"ordered_globals\": [\"x\", \"i\"], \"heap\": {}, \"stdout\": \"\", \"stack_to_render\": []}, {\"func_name\": \"<module>\", \"globals\": {\"x\": 155, \"i\": 155}, \"line\": 4, \"event\": \"step_line\", \"ordered_globals\": [\"x\", \"i\"], \"heap\": {}, \"stdout\": \"\", \"stack_to_render\": []}, {\"func_name\": \"<module>\", \"globals\": {\"x\": 156, \"i\": 155}, \"line\": 3, \"event\": \"step_line\", \"ordered_globals\": [\"x\", \"i\"], \"heap\": {}, \"stdout\": \"\", \"stack_to_render\": []}, {\"func_name\": \"<module>\", \"globals\": {\"x\": 156, \"i\": 156}, \"line\": 4, \"event\": \"step_line\", \"ordered_globals\": [\"x\", \"i\"], \"heap\": {}, \"stdout\": \"\", \"stack_to_render\": []}, {\"func_name\": \"<module>\", \"globals\": {\"x\": 157, \"i\": 156}, \"line\": 3, \"event\": \"step_line\", \"ordered_globals\": [\"x\", \"i\"], \"heap\": {}, \"stdout\": \"\", \"stack_to_render\": []}, {\"func_name\": \"<module>\", \"globals\": {\"x\": 157, \"i\": 157}, \"line\": 4, \"event\": \"step_line\", \"ordered_globals\": [\"x\", \"i\"], \"heap\": {}, \"stdout\": \"\", \"stack_to_render\": []}, {\"func_name\": \"<module>\", \"globals\": {\"x\": 158, \"i\": 157}, \"line\": 3, \"event\": \"step_line\", \"ordered_globals\": [\"x\", \"i\"], \"heap\": {}, \"stdout\": \"\", \"stack_to_render\": []}, {\"func_name\": \"<module>\", \"globals\": {\"x\": 158, \"i\": 158}, \"line\": 4, \"event\": \"step_line\", \"ordered_globals\": [\"x\", \"i\"], \"heap\": {}, \"stdout\": \"\", \"stack_to_render\": []}, {\"func_name\": \"<module>\", \"globals\": {\"x\": 159, \"i\": 158}, \"line\": 3, \"event\": \"step_line\", \"ordered_globals\": [\"x\", \"i\"], \"heap\": {}, \"stdout\": \"\", \"stack_to_render\": []}, {\"func_name\": \"<module>\", \"globals\": {\"x\": 159, \"i\": 159}, \"line\": 4, \"event\": \"step_line\", \"ordered_globals\": [\"x\", \"i\"], \"heap\": {}, \"stdout\": \"\", \"stack_to_render\": []}, {\"func_name\": \"<module>\", \"globals\": {\"x\": 160, \"i\": 159}, \"line\": 3, \"event\": \"step_line\", \"ordered_globals\": [\"x\", \"i\"], \"heap\": {}, \"stdout\": \"\", \"stack_to_render\": []}, {\"func_name\": \"<module>\", \"globals\": {\"x\": 160, \"i\": 160}, \"line\": 4, \"event\": \"step_line\", \"ordered_globals\": [\"x\", \"i\"], \"heap\": {}, \"stdout\": \"\", \"stack_to_render\": []}, {\"func_name\": \"<module>\", \"globals\": {\"x\": 161, \"i\": 160}, \"line\": 3, \"event\": \"step_line\", \"ordered_globals\": [\"x\", \"i\"], \"heap\": {}, \"stdout\": \"\", \"stack_to_render\": []}, {\"func_name\": \"<module>\", \"globals\": {\"x\": 161, \"i\": 161}, \"line\": 4, \"event\": \"step_line\", \"ordered_globals\": [\"x\", \"i\"], \"heap\": {}, \"stdout\": \"\", \"stack_to_render\": []}, {\"func_name\": \"<module>\", \"globals\": {\"x\": 162, \"i\": 161}, \"line\": 3, \"event\": \"step_line\", \"ordered_globals\": [\"x\", \"i\"], \"heap\": {}, \"stdout\": \"\", \"stack_to_render\": []}, {\"func_name\": \"<module>\", \"globals\": {\"x\": 162, \"i\": 162}, \"line\": 4, \"event\": \"step_line\", \"ordered_globals\": [\"x\", \"i\"], \"heap\": {}, \"stdout\": \"\", \"stack_to_render\": []}, {\"func_name\": \"<module>\", \"globals\": {\"x\": 163, \"i\": 162}, \"line\": 3, \"event\": \"step_line\", \"ordered_globals\": [\"x\", \"i\"], \"heap\": {}, \"stdout\": \"\", \"stack_to_render\": []}, {\"func_name\": \"<module>\", \"globals\": {\"x\": 163, \"i\": 163}, \"line\": 4, \"event\": \"step_line\", \"ordered_globals\": [\"x\", \"i\"], \"heap\": {}, \"stdout\": \"\", \"stack_to_render\": []}, {\"func_name\": \"<module>\", \"globals\": {\"x\": 164, \"i\": 163}, \"line\": 3, \"event\": \"step_line\", \"ordered_globals\": [\"x\", \"i\"], \"heap\": {}, \"stdout\": \"\", \"stack_to_render\": []}, {\"func_name\": \"<module>\", \"globals\": {\"x\": 164, \"i\": 164}, \"line\": 4, \"event\": \"step_line\", \"ordered_globals\": [\"x\", \"i\"], \"heap\": {}, \"stdout\": \"\", \"stack_to_render\": []}, {\"func_name\": \"<module>\", \"globals\": {\"x\": 165, \"i\": 164}, \"line\": 3, \"event\": \"step_line\", \"ordered_globals\": [\"x\", \"i\"], \"heap\": {}, \"stdout\": \"\", \"stack_to_render\": []}, {\"func_name\": \"<module>\", \"globals\": {\"x\": 165, \"i\": 165}, \"line\": 4, \"event\": \"step_line\", \"ordered_globals\": [\"x\", \"i\"], \"heap\": {}, \"stdout\": \"\", \"stack_to_render\": []}, {\"func_name\": \"<module>\", \"globals\": {\"x\": 166, \"i\": 165}, \"line\": 3, \"event\": \"step_line\", \"ordered_globals\": [\"x\", \"i\"], \"heap\": {}, \"stdout\": \"\", \"stack_to_render\": []}, {\"func_name\": \"<module>\", \"globals\": {\"x\": 166, \"i\": 166}, \"line\": 4, \"event\": \"step_line\", \"ordered_globals\": [\"x\", \"i\"], \"heap\": {}, \"stdout\": \"\", \"stack_to_render\": []}, {\"func_name\": \"<module>\", \"globals\": {\"x\": 167, \"i\": 166}, \"line\": 3, \"event\": \"step_line\", \"ordered_globals\": [\"x\", \"i\"], \"heap\": {}, \"stdout\": \"\", \"stack_to_render\": []}, {\"func_name\": \"<module>\", \"globals\": {\"x\": 167, \"i\": 167}, \"line\": 4, \"event\": \"step_line\", \"ordered_globals\": [\"x\", \"i\"], \"heap\": {}, \"stdout\": \"\", \"stack_to_render\": []}, {\"func_name\": \"<module>\", \"globals\": {\"x\": 168, \"i\": 167}, \"line\": 3, \"event\": \"step_line\", \"ordered_globals\": [\"x\", \"i\"], \"heap\": {}, \"stdout\": \"\", \"stack_to_render\": []}, {\"func_name\": \"<module>\", \"globals\": {\"x\": 168, \"i\": 168}, \"line\": 4, \"event\": \"step_line\", \"ordered_globals\": [\"x\", \"i\"], \"heap\": {}, \"stdout\": \"\", \"stack_to_render\": []}, {\"func_name\": \"<module>\", \"globals\": {\"x\": 169, \"i\": 168}, \"line\": 3, \"event\": \"step_line\", \"ordered_globals\": [\"x\", \"i\"], \"heap\": {}, \"stdout\": \"\", \"stack_to_render\": []}, {\"func_name\": \"<module>\", \"globals\": {\"x\": 169, \"i\": 169}, \"line\": 4, \"event\": \"step_line\", \"ordered_globals\": [\"x\", \"i\"], \"heap\": {}, \"stdout\": \"\", \"stack_to_render\": []}, {\"func_name\": \"<module>\", \"globals\": {\"x\": 170, \"i\": 169}, \"line\": 3, \"event\": \"step_line\", \"ordered_globals\": [\"x\", \"i\"], \"heap\": {}, \"stdout\": \"\", \"stack_to_render\": []}, {\"func_name\": \"<module>\", \"globals\": {\"x\": 170, \"i\": 170}, \"line\": 4, \"event\": \"step_line\", \"ordered_globals\": [\"x\", \"i\"], \"heap\": {}, \"stdout\": \"\", \"stack_to_render\": []}, {\"func_name\": \"<module>\", \"globals\": {\"x\": 171, \"i\": 170}, \"line\": 3, \"event\": \"step_line\", \"ordered_globals\": [\"x\", \"i\"], \"heap\": {}, \"stdout\": \"\", \"stack_to_render\": []}, {\"func_name\": \"<module>\", \"globals\": {\"x\": 171, \"i\": 171}, \"line\": 4, \"event\": \"step_line\", \"ordered_globals\": [\"x\", \"i\"], \"heap\": {}, \"stdout\": \"\", \"stack_to_render\": []}, {\"func_name\": \"<module>\", \"globals\": {\"x\": 172, \"i\": 171}, \"line\": 3, \"event\": \"step_line\", \"ordered_globals\": [\"x\", \"i\"], \"heap\": {}, \"stdout\": \"\", \"stack_to_render\": []}, {\"func_name\": \"<module>\", \"globals\": {\"x\": 172, \"i\": 172}, \"line\": 4, \"event\": \"step_line\", \"ordered_globals\": [\"x\", \"i\"], \"heap\": {}, \"stdout\": \"\", \"stack_to_render\": []}, {\"func_name\": \"<module>\", \"globals\": {\"x\": 173, \"i\": 172}, \"line\": 3, \"event\": \"step_line\", \"ordered_globals\": [\"x\", \"i\"], \"heap\": {}, \"stdout\": \"\", \"stack_to_render\": []}, {\"func_name\": \"<module>\", \"globals\": {\"x\": 173, \"i\": 173}, \"line\": 4, \"event\": \"step_line\", \"ordered_globals\": [\"x\", \"i\"], \"heap\": {}, \"stdout\": \"\", \"stack_to_render\": []}, {\"func_name\": \"<module>\", \"globals\": {\"x\": 174, \"i\": 173}, \"line\": 3, \"event\": \"step_line\", \"ordered_globals\": [\"x\", \"i\"], \"heap\": {}, \"stdout\": \"\", \"stack_to_render\": []}, {\"func_name\": \"<module>\", \"globals\": {\"x\": 174, \"i\": 174}, \"line\": 4, \"event\": \"step_line\", \"ordered_globals\": [\"x\", \"i\"], \"heap\": {}, \"stdout\": \"\", \"stack_to_render\": []}, {\"func_name\": \"<module>\", \"globals\": {\"x\": 175, \"i\": 174}, \"line\": 3, \"event\": \"step_line\", \"ordered_globals\": [\"x\", \"i\"], \"heap\": {}, \"stdout\": \"\", \"stack_to_render\": []}, {\"func_name\": \"<module>\", \"globals\": {\"x\": 175, \"i\": 175}, \"line\": 4, \"event\": \"step_line\", \"ordered_globals\": [\"x\", \"i\"], \"heap\": {}, \"stdout\": \"\", \"stack_to_render\": []}, {\"func_name\": \"<module>\", \"globals\": {\"x\": 176, \"i\": 175}, \"line\": 3, \"event\": \"step_line\", \"ordered_globals\": [\"x\", \"i\"], \"heap\": {}, \"stdout\": \"\", \"stack_to_render\": []}, {\"func_name\": \"<module>\", \"globals\": {\"x\": 176, \"i\": 176}, \"line\": 4, \"event\": \"step_line\", \"ordered_globals\": [\"x\", \"i\"], \"heap\": {}, \"stdout\": \"\", \"stack_to_render\": []}, {\"func_name\": \"<module>\", \"globals\": {\"x\": 177, \"i\": 176}, \"line\": 3, \"event\": \"step_line\", \"ordered_globals\": [\"x\", \"i\"], \"heap\": {}, \"stdout\": \"\", \"stack_to_render\": []}, {\"func_name\": \"<module>\", \"globals\": {\"x\": 177, \"i\": 177}, \"line\": 4, \"event\": \"step_line\", \"ordered_globals\": [\"x\", \"i\"], \"heap\": {}, \"stdout\": \"\", \"stack_to_render\": []}, {\"func_name\": \"<module>\", \"globals\": {\"x\": 178, \"i\": 177}, \"line\": 3, \"event\": \"step_line\", \"ordered_globals\": [\"x\", \"i\"], \"heap\": {}, \"stdout\": \"\", \"stack_to_render\": []}, {\"func_name\": \"<module>\", \"globals\": {\"x\": 178, \"i\": 178}, \"line\": 4, \"event\": \"step_line\", \"ordered_globals\": [\"x\", \"i\"], \"heap\": {}, \"stdout\": \"\", \"stack_to_render\": []}, {\"func_name\": \"<module>\", \"globals\": {\"x\": 179, \"i\": 178}, \"line\": 3, \"event\": \"step_line\", \"ordered_globals\": [\"x\", \"i\"], \"heap\": {}, \"stdout\": \"\", \"stack_to_render\": []}, {\"func_name\": \"<module>\", \"globals\": {\"x\": 179, \"i\": 179}, \"line\": 4, \"event\": \"step_line\", \"ordered_globals\": [\"x\", \"i\"], \"heap\": {}, \"stdout\": \"\", \"stack_to_render\": []}, {\"func_name\": \"<module>\", \"globals\": {\"x\": 180, \"i\": 179}, \"line\": 3, \"event\": \"step_line\", \"ordered_globals\": [\"x\", \"i\"], \"heap\": {}, \"stdout\": \"\", \"stack_to_render\": []}, {\"func_name\": \"<module>\", \"globals\": {\"x\": 180, \"i\": 180}, \"line\": 4, \"event\": \"step_line\", \"ordered_globals\": [\"x\", \"i\"], \"heap\": {}, \"stdout\": \"\", \"stack_to_render\": []}, {\"func_name\": \"<module>\", \"globals\": {\"x\": 181, \"i\": 180}, \"line\": 3, \"event\": \"step_line\", \"ordered_globals\": [\"x\", \"i\"], \"heap\": {}, \"stdout\": \"\", \"stack_to_render\": []}, {\"func_name\": \"<module>\", \"globals\": {\"x\": 181, \"i\": 181}, \"line\": 4, \"event\": \"step_line\", \"ordered_globals\": [\"x\", \"i\"], \"heap\": {}, \"stdout\": \"\", \"stack_to_render\": []}, {\"func_name\": \"<module>\", \"globals\": {\"x\": 182, \"i\": 181}, \"line\": 3, \"event\": \"step_line\", \"ordered_globals\": [\"x\", \"i\"], \"heap\": {}, \"stdout\": \"\", \"stack_to_render\": []}, {\"func_name\": \"<module>\", \"globals\": {\"x\": 182, \"i\": 182}, \"line\": 4, \"event\": \"step_line\", \"ordered_globals\": [\"x\", \"i\"], \"heap\": {}, \"stdout\": \"\", \"stack_to_render\": []}, {\"func_name\": \"<module>\", \"globals\": {\"x\": 183, \"i\": 182}, \"line\": 3, \"event\": \"step_line\", \"ordered_globals\": [\"x\", \"i\"], \"heap\": {}, \"stdout\": \"\", \"stack_to_render\": []}, {\"func_name\": \"<module>\", \"globals\": {\"x\": 183, \"i\": 183}, \"line\": 4, \"event\": \"step_line\", \"ordered_globals\": [\"x\", \"i\"], \"heap\": {}, \"stdout\": \"\", \"stack_to_render\": []}, {\"func_name\": \"<module>\", \"globals\": {\"x\": 184, \"i\": 183}, \"line\": 3, \"event\": \"step_line\", \"ordered_globals\": [\"x\", \"i\"], \"heap\": {}, \"stdout\": \"\", \"stack_to_render\": []}, {\"func_name\": \"<module>\", \"globals\": {\"x\": 184, \"i\": 184}, \"line\": 4, \"event\": \"step_line\", \"ordered_globals\": [\"x\", \"i\"], \"heap\": {}, \"stdout\": \"\", \"stack_to_render\": []}, {\"func_name\": \"<module>\", \"globals\": {\"x\": 185, \"i\": 184}, \"line\": 3, \"event\": \"step_line\", \"ordered_globals\": [\"x\", \"i\"], \"heap\": {}, \"stdout\": \"\", \"stack_to_render\": []}, {\"func_name\": \"<module>\", \"globals\": {\"x\": 185, \"i\": 185}, \"line\": 4, \"event\": \"step_line\", \"ordered_globals\": [\"x\", \"i\"], \"heap\": {}, \"stdout\": \"\", \"stack_to_render\": []}, {\"func_name\": \"<module>\", \"globals\": {\"x\": 186, \"i\": 185}, \"line\": 3, \"event\": \"step_line\", \"ordered_globals\": [\"x\", \"i\"], \"heap\": {}, \"stdout\": \"\", \"stack_to_render\": []}, {\"func_name\": \"<module>\", \"globals\": {\"x\": 186, \"i\": 186}, \"line\": 4, \"event\": \"step_line\", \"ordered_globals\": [\"x\", \"i\"], \"heap\": {}, \"stdout\": \"\", \"stack_to_render\": []}, {\"func_name\": \"<module>\", \"globals\": {\"x\": 187, \"i\": 186}, \"line\": 3, \"event\": \"step_line\", \"ordered_globals\": [\"x\", \"i\"], \"heap\": {}, \"stdout\": \"\", \"stack_to_render\": []}, {\"func_name\": \"<module>\", \"globals\": {\"x\": 187, \"i\": 187}, \"line\": 4, \"event\": \"step_line\", \"ordered_globals\": [\"x\", \"i\"], \"heap\": {}, \"stdout\": \"\", \"stack_to_render\": []}, {\"func_name\": \"<module>\", \"globals\": {\"x\": 188, \"i\": 187}, \"line\": 3, \"event\": \"step_line\", \"ordered_globals\": [\"x\", \"i\"], \"heap\": {}, \"stdout\": \"\", \"stack_to_render\": []}, {\"func_name\": \"<module>\", \"globals\": {\"x\": 188, \"i\": 188}, \"line\": 4, \"event\": \"step_line\", \"ordered_globals\": [\"x\", \"i\"], \"heap\": {}, \"stdout\": \"\", \"stack_to_render\": []}, {\"func_name\": \"<module>\", \"globals\": {\"x\": 189, \"i\": 188}, \"line\": 3, \"event\": \"step_line\", \"ordered_globals\": [\"x\", \"i\"], \"heap\": {}, \"stdout\": \"\", \"stack_to_render\": []}, {\"func_name\": \"<module>\", \"globals\": {\"x\": 189, \"i\": 189}, \"line\": 4, \"event\": \"step_line\", \"ordered_globals\": [\"x\", \"i\"], \"heap\": {}, \"stdout\": \"\", \"stack_to_render\": []}, {\"func_name\": \"<module>\", \"globals\": {\"x\": 190, \"i\": 189}, \"line\": 3, \"event\": \"step_line\", \"ordered_globals\": [\"x\", \"i\"], \"heap\": {}, \"stdout\": \"\", \"stack_to_render\": []}, {\"func_name\": \"<module>\", \"globals\": {\"x\": 190, \"i\": 190}, \"line\": 4, \"event\": \"step_line\", \"ordered_globals\": [\"x\", \"i\"], \"heap\": {}, \"stdout\": \"\", \"stack_to_render\": []}, {\"func_name\": \"<module>\", \"globals\": {\"x\": 191, \"i\": 190}, \"line\": 3, \"event\": \"step_line\", \"ordered_globals\": [\"x\", \"i\"], \"heap\": {}, \"stdout\": \"\", \"stack_to_render\": []}, {\"func_name\": \"<module>\", \"globals\": {\"x\": 191, \"i\": 191}, \"line\": 4, \"event\": \"step_line\", \"ordered_globals\": [\"x\", \"i\"], \"heap\": {}, \"stdout\": \"\", \"stack_to_render\": []}, {\"func_name\": \"<module>\", \"globals\": {\"x\": 192, \"i\": 191}, \"line\": 3, \"event\": \"step_line\", \"ordered_globals\": [\"x\", \"i\"], \"heap\": {}, \"stdout\": \"\", \"stack_to_render\": []}, {\"func_name\": \"<module>\", \"globals\": {\"x\": 192, \"i\": 192}, \"line\": 4, \"event\": \"step_line\", \"ordered_globals\": [\"x\", \"i\"], \"heap\": {}, \"stdout\": \"\", \"stack_to_render\": []}, {\"func_name\": \"<module>\", \"globals\": {\"x\": 193, \"i\": 192}, \"line\": 3, \"event\": \"step_line\", \"ordered_globals\": [\"x\", \"i\"], \"heap\": {}, \"stdout\": \"\", \"stack_to_render\": []}, {\"func_name\": \"<module>\", \"globals\": {\"x\": 193, \"i\": 193}, \"line\": 4, \"event\": \"step_line\", \"ordered_globals\": [\"x\", \"i\"], \"heap\": {}, \"stdout\": \"\", \"stack_to_render\": []}, {\"func_name\": \"<module>\", \"globals\": {\"x\": 194, \"i\": 193}, \"line\": 3, \"event\": \"step_line\", \"ordered_globals\": [\"x\", \"i\"], \"heap\": {}, \"stdout\": \"\", \"stack_to_render\": []}, {\"func_name\": \"<module>\", \"globals\": {\"x\": 194, \"i\": 194}, \"line\": 4, \"event\": \"step_line\", \"ordered_globals\": [\"x\", \"i\"], \"heap\": {}, \"stdout\": \"\", \"stack_to_render\": []}, {\"func_name\": \"<module>\", \"globals\": {\"x\": 195, \"i\": 194}, \"line\": 3, \"event\": \"step_line\", \"ordered_globals\": [\"x\", \"i\"], \"heap\": {}, \"stdout\": \"\", \"stack_to_render\": []}, {\"func_name\": \"<module>\", \"globals\": {\"x\": 195, \"i\": 195}, \"line\": 4, \"event\": \"step_line\", \"ordered_globals\": [\"x\", \"i\"], \"heap\": {}, \"stdout\": \"\", \"stack_to_render\": []}, {\"func_name\": \"<module>\", \"globals\": {\"x\": 196, \"i\": 195}, \"line\": 3, \"event\": \"step_line\", \"ordered_globals\": [\"x\", \"i\"], \"heap\": {}, \"stdout\": \"\", \"stack_to_render\": []}, {\"func_name\": \"<module>\", \"globals\": {\"x\": 196, \"i\": 196}, \"line\": 4, \"event\": \"step_line\", \"ordered_globals\": [\"x\", \"i\"], \"heap\": {}, \"stdout\": \"\", \"stack_to_render\": []}, {\"func_name\": \"<module>\", \"globals\": {\"x\": 197, \"i\": 196}, \"line\": 3, \"event\": \"step_line\", \"ordered_globals\": [\"x\", \"i\"], \"heap\": {}, \"stdout\": \"\", \"stack_to_render\": []}, {\"func_name\": \"<module>\", \"globals\": {\"x\": 197, \"i\": 197}, \"line\": 4, \"event\": \"step_line\", \"ordered_globals\": [\"x\", \"i\"], \"heap\": {}, \"stdout\": \"\", \"stack_to_render\": []}, {\"func_name\": \"<module>\", \"globals\": {\"x\": 198, \"i\": 197}, \"line\": 3, \"event\": \"step_line\", \"ordered_globals\": [\"x\", \"i\"], \"heap\": {}, \"stdout\": \"\", \"stack_to_render\": []}, {\"func_name\": \"<module>\", \"globals\": {\"x\": 198, \"i\": 198}, \"line\": 4, \"event\": \"step_line\", \"ordered_globals\": [\"x\", \"i\"], \"heap\": {}, \"stdout\": \"\", \"stack_to_render\": []}, {\"func_name\": \"<module>\", \"globals\": {\"x\": 199, \"i\": 198}, \"line\": 3, \"event\": \"step_line\", \"ordered_globals\": [\"x\", \"i\"], \"heap\": {}, \"stdout\": \"\", \"stack_to_render\": []}, {\"func_name\": \"<module>\", \"globals\": {\"x\": 199, \"i\": 199}, \"line\": 4, \"event\": \"step_line\", \"ordered_globals\": [\"x\", \"i\"], \"heap\": {}, \"stdout\": \"\", \"stack_to_render\": []}, {\"func_name\": \"<module>\", \"globals\": {\"x\": 200, \"i\": 199}, \"line\": 3, \"event\": \"step_line\", \"ordered_globals\": [\"x\", \"i\"], \"heap\": {}, \"stdout\": \"\", \"stack_to_render\": []}, {\"func_name\": \"<module>\", \"globals\": {\"x\": 200, \"i\": 200}, \"line\": 4, \"event\": \"step_line\", \"ordered_globals\": [\"x\", \"i\"], \"heap\": {}, \"stdout\": \"\", \"stack_to_render\": []}, {\"func_name\": \"<module>\", \"globals\": {\"x\": 201, \"i\": 200}, \"line\": 3, \"event\": \"step_line\", \"ordered_globals\": [\"x\", \"i\"], \"heap\": {}, \"stdout\": \"\", \"stack_to_render\": []}, {\"func_name\": \"<module>\", \"globals\": {\"x\": 201, \"i\": 201}, \"line\": 4, \"event\": \"step_line\", \"ordered_globals\": [\"x\", \"i\"], \"heap\": {}, \"stdout\": \"\", \"stack_to_render\": []}, {\"func_name\": \"<module>\", \"globals\": {\"x\": 202, \"i\": 201}, \"line\": 3, \"event\": \"step_line\", \"ordered_globals\": [\"x\", \"i\"], \"heap\": {}, \"stdout\": \"\", \"stack_to_render\": []}, {\"func_name\": \"<module>\", \"globals\": {\"x\": 202, \"i\": 202}, \"line\": 4, \"event\": \"step_line\", \"ordered_globals\": [\"x\", \"i\"], \"heap\": {}, \"stdout\": \"\", \"stack_to_render\": []}, {\"func_name\": \"<module>\", \"globals\": {\"x\": 203, \"i\": 202}, \"line\": 3, \"event\": \"step_line\", \"ordered_globals\": [\"x\", \"i\"], \"heap\": {}, \"stdout\": \"\", \"stack_to_render\": []}, {\"func_name\": \"<module>\", \"globals\": {\"x\": 203, \"i\": 203}, \"line\": 4, \"event\": \"step_line\", \"ordered_globals\": [\"x\", \"i\"], \"heap\": {}, \"stdout\": \"\", \"stack_to_render\": []}, {\"func_name\": \"<module>\", \"globals\": {\"x\": 204, \"i\": 203}, \"line\": 3, \"event\": \"step_line\", \"ordered_globals\": [\"x\", \"i\"], \"heap\": {}, \"stdout\": \"\", \"stack_to_render\": []}, {\"func_name\": \"<module>\", \"globals\": {\"x\": 204, \"i\": 204}, \"line\": 4, \"event\": \"step_line\", \"ordered_globals\": [\"x\", \"i\"], \"heap\": {}, \"stdout\": \"\", \"stack_to_render\": []}, {\"func_name\": \"<module>\", \"globals\": {\"x\": 205, \"i\": 204}, \"line\": 3, \"event\": \"step_line\", \"ordered_globals\": [\"x\", \"i\"], \"heap\": {}, \"stdout\": \"\", \"stack_to_render\": []}, {\"func_name\": \"<module>\", \"globals\": {\"x\": 205, \"i\": 205}, \"line\": 4, \"event\": \"step_line\", \"ordered_globals\": [\"x\", \"i\"], \"heap\": {}, \"stdout\": \"\", \"stack_to_render\": []}, {\"func_name\": \"<module>\", \"globals\": {\"x\": 206, \"i\": 205}, \"line\": 3, \"event\": \"step_line\", \"ordered_globals\": [\"x\", \"i\"], \"heap\": {}, \"stdout\": \"\", \"stack_to_render\": []}, {\"func_name\": \"<module>\", \"globals\": {\"x\": 206, \"i\": 206}, \"line\": 4, \"event\": \"step_line\", \"ordered_globals\": [\"x\", \"i\"], \"heap\": {}, \"stdout\": \"\", \"stack_to_render\": []}, {\"func_name\": \"<module>\", \"globals\": {\"x\": 207, \"i\": 206}, \"line\": 3, \"event\": \"step_line\", \"ordered_globals\": [\"x\", \"i\"], \"heap\": {}, \"stdout\": \"\", \"stack_to_render\": []}, {\"func_name\": \"<module>\", \"globals\": {\"x\": 207, \"i\": 207}, \"line\": 4, \"event\": \"step_line\", \"ordered_globals\": [\"x\", \"i\"], \"heap\": {}, \"stdout\": \"\", \"stack_to_render\": []}, {\"func_name\": \"<module>\", \"globals\": {\"x\": 208, \"i\": 207}, \"line\": 3, \"event\": \"step_line\", \"ordered_globals\": [\"x\", \"i\"], \"heap\": {}, \"stdout\": \"\", \"stack_to_render\": []}, {\"func_name\": \"<module>\", \"globals\": {\"x\": 208, \"i\": 208}, \"line\": 4, \"event\": \"step_line\", \"ordered_globals\": [\"x\", \"i\"], \"heap\": {}, \"stdout\": \"\", \"stack_to_render\": []}, {\"func_name\": \"<module>\", \"globals\": {\"x\": 209, \"i\": 208}, \"line\": 3, \"event\": \"step_line\", \"ordered_globals\": [\"x\", \"i\"], \"heap\": {}, \"stdout\": \"\", \"stack_to_render\": []}, {\"func_name\": \"<module>\", \"globals\": {\"x\": 209, \"i\": 209}, \"line\": 4, \"event\": \"step_line\", \"ordered_globals\": [\"x\", \"i\"], \"heap\": {}, \"stdout\": \"\", \"stack_to_render\": []}, {\"func_name\": \"<module>\", \"globals\": {\"x\": 210, \"i\": 209}, \"line\": 3, \"event\": \"step_line\", \"ordered_globals\": [\"x\", \"i\"], \"heap\": {}, \"stdout\": \"\", \"stack_to_render\": []}, {\"func_name\": \"<module>\", \"globals\": {\"x\": 210, \"i\": 210}, \"line\": 4, \"event\": \"step_line\", \"ordered_globals\": [\"x\", \"i\"], \"heap\": {}, \"stdout\": \"\", \"stack_to_render\": []}, {\"func_name\": \"<module>\", \"globals\": {\"x\": 211, \"i\": 210}, \"line\": 3, \"event\": \"step_line\", \"ordered_globals\": [\"x\", \"i\"], \"heap\": {}, \"stdout\": \"\", \"stack_to_render\": []}, {\"func_name\": \"<module>\", \"globals\": {\"x\": 211, \"i\": 211}, \"line\": 4, \"event\": \"step_line\", \"ordered_globals\": [\"x\", \"i\"], \"heap\": {}, \"stdout\": \"\", \"stack_to_render\": []}, {\"func_name\": \"<module>\", \"globals\": {\"x\": 212, \"i\": 211}, \"line\": 3, \"event\": \"step_line\", \"ordered_globals\": [\"x\", \"i\"], \"heap\": {}, \"stdout\": \"\", \"stack_to_render\": []}, {\"func_name\": \"<module>\", \"globals\": {\"x\": 212, \"i\": 212}, \"line\": 4, \"event\": \"step_line\", \"ordered_globals\": [\"x\", \"i\"], \"heap\": {}, \"stdout\": \"\", \"stack_to_render\": []}, {\"func_name\": \"<module>\", \"globals\": {\"x\": 213, \"i\": 212}, \"line\": 3, \"event\": \"step_line\", \"ordered_globals\": [\"x\", \"i\"], \"heap\": {}, \"stdout\": \"\", \"stack_to_render\": []}, {\"func_name\": \"<module>\", \"globals\": {\"x\": 213, \"i\": 213}, \"line\": 4, \"event\": \"step_line\", \"ordered_globals\": [\"x\", \"i\"], \"heap\": {}, \"stdout\": \"\", \"stack_to_render\": []}, {\"func_name\": \"<module>\", \"globals\": {\"x\": 214, \"i\": 213}, \"line\": 3, \"event\": \"step_line\", \"ordered_globals\": [\"x\", \"i\"], \"heap\": {}, \"stdout\": \"\", \"stack_to_render\": []}, {\"func_name\": \"<module>\", \"globals\": {\"x\": 214, \"i\": 214}, \"line\": 4, \"event\": \"step_line\", \"ordered_globals\": [\"x\", \"i\"], \"heap\": {}, \"stdout\": \"\", \"stack_to_render\": []}, {\"func_name\": \"<module>\", \"globals\": {\"x\": 215, \"i\": 214}, \"line\": 3, \"event\": \"step_line\", \"ordered_globals\": [\"x\", \"i\"], \"heap\": {}, \"stdout\": \"\", \"stack_to_render\": []}, {\"func_name\": \"<module>\", \"globals\": {\"x\": 215, \"i\": 215}, \"line\": 4, \"event\": \"step_line\", \"ordered_globals\": [\"x\", \"i\"], \"heap\": {}, \"stdout\": \"\", \"stack_to_render\": []}, {\"func_name\": \"<module>\", \"globals\": {\"x\": 216, \"i\": 215}, \"line\": 3, \"event\": \"step_line\", \"ordered_globals\": [\"x\", \"i\"], \"heap\": {}, \"stdout\": \"\", \"stack_to_render\": []}, {\"func_name\": \"<module>\", \"globals\": {\"x\": 216, \"i\": 216}, \"line\": 4, \"event\": \"step_line\", \"ordered_globals\": [\"x\", \"i\"], \"heap\": {}, \"stdout\": \"\", \"stack_to_render\": []}, {\"func_name\": \"<module>\", \"globals\": {\"x\": 217, \"i\": 216}, \"line\": 3, \"event\": \"step_line\", \"ordered_globals\": [\"x\", \"i\"], \"heap\": {}, \"stdout\": \"\", \"stack_to_render\": []}, {\"func_name\": \"<module>\", \"globals\": {\"x\": 217, \"i\": 217}, \"line\": 4, \"event\": \"step_line\", \"ordered_globals\": [\"x\", \"i\"], \"heap\": {}, \"stdout\": \"\", \"stack_to_render\": []}, {\"func_name\": \"<module>\", \"globals\": {\"x\": 218, \"i\": 217}, \"line\": 3, \"event\": \"step_line\", \"ordered_globals\": [\"x\", \"i\"], \"heap\": {}, \"stdout\": \"\", \"stack_to_render\": []}, {\"func_name\": \"<module>\", \"globals\": {\"x\": 218, \"i\": 218}, \"line\": 4, \"event\": \"step_line\", \"ordered_globals\": [\"x\", \"i\"], \"heap\": {}, \"stdout\": \"\", \"stack_to_render\": []}, {\"func_name\": \"<module>\", \"globals\": {\"x\": 219, \"i\": 218}, \"line\": 3, \"event\": \"step_line\", \"ordered_globals\": [\"x\", \"i\"], \"heap\": {}, \"stdout\": \"\", \"stack_to_render\": []}, {\"func_name\": \"<module>\", \"globals\": {\"x\": 219, \"i\": 219}, \"line\": 4, \"event\": \"step_line\", \"ordered_globals\": [\"x\", \"i\"], \"heap\": {}, \"stdout\": \"\", \"stack_to_render\": []}, {\"func_name\": \"<module>\", \"globals\": {\"x\": 220, \"i\": 219}, \"line\": 3, \"event\": \"step_line\", \"ordered_globals\": [\"x\", \"i\"], \"heap\": {}, \"stdout\": \"\", \"stack_to_render\": []}, {\"func_name\": \"<module>\", \"globals\": {\"x\": 220, \"i\": 220}, \"line\": 4, \"event\": \"step_line\", \"ordered_globals\": [\"x\", \"i\"], \"heap\": {}, \"stdout\": \"\", \"stack_to_render\": []}, {\"func_name\": \"<module>\", \"globals\": {\"x\": 221, \"i\": 220}, \"line\": 3, \"event\": \"step_line\", \"ordered_globals\": [\"x\", \"i\"], \"heap\": {}, \"stdout\": \"\", \"stack_to_render\": []}, {\"func_name\": \"<module>\", \"globals\": {\"x\": 221, \"i\": 221}, \"line\": 4, \"event\": \"step_line\", \"ordered_globals\": [\"x\", \"i\"], \"heap\": {}, \"stdout\": \"\", \"stack_to_render\": []}, {\"func_name\": \"<module>\", \"globals\": {\"x\": 222, \"i\": 221}, \"line\": 3, \"event\": \"step_line\", \"ordered_globals\": [\"x\", \"i\"], \"heap\": {}, \"stdout\": \"\", \"stack_to_render\": []}, {\"func_name\": \"<module>\", \"globals\": {\"x\": 222, \"i\": 222}, \"line\": 4, \"event\": \"step_line\", \"ordered_globals\": [\"x\", \"i\"], \"heap\": {}, \"stdout\": \"\", \"stack_to_render\": []}, {\"func_name\": \"<module>\", \"globals\": {\"x\": 223, \"i\": 222}, \"line\": 3, \"event\": \"step_line\", \"ordered_globals\": [\"x\", \"i\"], \"heap\": {}, \"stdout\": \"\", \"stack_to_render\": []}, {\"func_name\": \"<module>\", \"globals\": {\"x\": 223, \"i\": 223}, \"line\": 4, \"event\": \"step_line\", \"ordered_globals\": [\"x\", \"i\"], \"heap\": {}, \"stdout\": \"\", \"stack_to_render\": []}, {\"func_name\": \"<module>\", \"globals\": {\"x\": 224, \"i\": 223}, \"line\": 3, \"event\": \"step_line\", \"ordered_globals\": [\"x\", \"i\"], \"heap\": {}, \"stdout\": \"\", \"stack_to_render\": []}, {\"func_name\": \"<module>\", \"globals\": {\"x\": 224, \"i\": 224}, \"line\": 4, \"event\": \"step_line\", \"ordered_globals\": [\"x\", \"i\"], \"heap\": {}, \"stdout\": \"\", \"stack_to_render\": []}, {\"func_name\": \"<module>\", \"globals\": {\"x\": 225, \"i\": 224}, \"line\": 3, \"event\": \"step_line\", \"ordered_globals\": [\"x\", \"i\"], \"heap\": {}, \"stdout\": \"\", \"stack_to_render\": []}, {\"func_name\": \"<module>\", \"globals\": {\"x\": 225, \"i\": 225}, \"line\": 4, \"event\": \"step_line\", \"ordered_globals\": [\"x\", \"i\"], \"heap\": {}, \"stdout\": \"\", \"stack_to_render\": []}, {\"func_name\": \"<module>\", \"globals\": {\"x\": 226, \"i\": 225}, \"line\": 3, \"event\": \"step_line\", \"ordered_globals\": [\"x\", \"i\"], \"heap\": {}, \"stdout\": \"\", \"stack_to_render\": []}, {\"func_name\": \"<module>\", \"globals\": {\"x\": 226, \"i\": 226}, \"line\": 4, \"event\": \"step_line\", \"ordered_globals\": [\"x\", \"i\"], \"heap\": {}, \"stdout\": \"\", \"stack_to_render\": []}, {\"func_name\": \"<module>\", \"globals\": {\"x\": 227, \"i\": 226}, \"line\": 3, \"event\": \"step_line\", \"ordered_globals\": [\"x\", \"i\"], \"heap\": {}, \"stdout\": \"\", \"stack_to_render\": []}, {\"func_name\": \"<module>\", \"globals\": {\"x\": 227, \"i\": 227}, \"line\": 4, \"event\": \"step_line\", \"ordered_globals\": [\"x\", \"i\"], \"heap\": {}, \"stdout\": \"\", \"stack_to_render\": []}, {\"func_name\": \"<module>\", \"globals\": {\"x\": 228, \"i\": 227}, \"line\": 3, \"event\": \"step_line\", \"ordered_globals\": [\"x\", \"i\"], \"heap\": {}, \"stdout\": \"\", \"stack_to_render\": []}, {\"func_name\": \"<module>\", \"globals\": {\"x\": 228, \"i\": 228}, \"line\": 4, \"event\": \"step_line\", \"ordered_globals\": [\"x\", \"i\"], \"heap\": {}, \"stdout\": \"\", \"stack_to_render\": []}, {\"func_name\": \"<module>\", \"globals\": {\"x\": 229, \"i\": 228}, \"line\": 3, \"event\": \"step_line\", \"ordered_globals\": [\"x\", \"i\"], \"heap\": {}, \"stdout\": \"\", \"stack_to_render\": []}, {\"func_name\": \"<module>\", \"globals\": {\"x\": 229, \"i\": 229}, \"line\": 4, \"event\": \"step_line\", \"ordered_globals\": [\"x\", \"i\"], \"heap\": {}, \"stdout\": \"\", \"stack_to_render\": []}, {\"func_name\": \"<module>\", \"globals\": {\"x\": 230, \"i\": 229}, \"line\": 3, \"event\": \"step_line\", \"ordered_globals\": [\"x\", \"i\"], \"heap\": {}, \"stdout\": \"\", \"stack_to_render\": []}, {\"func_name\": \"<module>\", \"globals\": {\"x\": 230, \"i\": 230}, \"line\": 4, \"event\": \"step_line\", \"ordered_globals\": [\"x\", \"i\"], \"heap\": {}, \"stdout\": \"\", \"stack_to_render\": []}, {\"func_name\": \"<module>\", \"globals\": {\"x\": 231, \"i\": 230}, \"line\": 3, \"event\": \"step_line\", \"ordered_globals\": [\"x\", \"i\"], \"heap\": {}, \"stdout\": \"\", \"stack_to_render\": []}, {\"func_name\": \"<module>\", \"globals\": {\"x\": 231, \"i\": 231}, \"line\": 4, \"event\": \"step_line\", \"ordered_globals\": [\"x\", \"i\"], \"heap\": {}, \"stdout\": \"\", \"stack_to_render\": []}, {\"func_name\": \"<module>\", \"globals\": {\"x\": 232, \"i\": 231}, \"line\": 3, \"event\": \"step_line\", \"ordered_globals\": [\"x\", \"i\"], \"heap\": {}, \"stdout\": \"\", \"stack_to_render\": []}, {\"func_name\": \"<module>\", \"globals\": {\"x\": 232, \"i\": 232}, \"line\": 4, \"event\": \"step_line\", \"ordered_globals\": [\"x\", \"i\"], \"heap\": {}, \"stdout\": \"\", \"stack_to_render\": []}, {\"func_name\": \"<module>\", \"globals\": {\"x\": 233, \"i\": 232}, \"line\": 3, \"event\": \"step_line\", \"ordered_globals\": [\"x\", \"i\"], \"heap\": {}, \"stdout\": \"\", \"stack_to_render\": []}, {\"func_name\": \"<module>\", \"globals\": {\"x\": 233, \"i\": 233}, \"line\": 4, \"event\": \"step_line\", \"ordered_globals\": [\"x\", \"i\"], \"heap\": {}, \"stdout\": \"\", \"stack_to_render\": []}, {\"func_name\": \"<module>\", \"globals\": {\"x\": 234, \"i\": 233}, \"line\": 3, \"event\": \"step_line\", \"ordered_globals\": [\"x\", \"i\"], \"heap\": {}, \"stdout\": \"\", \"stack_to_render\": []}, {\"func_name\": \"<module>\", \"globals\": {\"x\": 234, \"i\": 234}, \"line\": 4, \"event\": \"step_line\", \"ordered_globals\": [\"x\", \"i\"], \"heap\": {}, \"stdout\": \"\", \"stack_to_render\": []}, {\"func_name\": \"<module>\", \"globals\": {\"x\": 235, \"i\": 234}, \"line\": 3, \"event\": \"step_line\", \"ordered_globals\": [\"x\", \"i\"], \"heap\": {}, \"stdout\": \"\", \"stack_to_render\": []}, {\"func_name\": \"<module>\", \"globals\": {\"x\": 235, \"i\": 235}, \"line\": 4, \"event\": \"step_line\", \"ordered_globals\": [\"x\", \"i\"], \"heap\": {}, \"stdout\": \"\", \"stack_to_render\": []}, {\"func_name\": \"<module>\", \"globals\": {\"x\": 236, \"i\": 235}, \"line\": 3, \"event\": \"step_line\", \"ordered_globals\": [\"x\", \"i\"], \"heap\": {}, \"stdout\": \"\", \"stack_to_render\": []}, {\"func_name\": \"<module>\", \"globals\": {\"x\": 236, \"i\": 236}, \"line\": 4, \"event\": \"step_line\", \"ordered_globals\": [\"x\", \"i\"], \"heap\": {}, \"stdout\": \"\", \"stack_to_render\": []}, {\"func_name\": \"<module>\", \"globals\": {\"x\": 237, \"i\": 236}, \"line\": 3, \"event\": \"step_line\", \"ordered_globals\": [\"x\", \"i\"], \"heap\": {}, \"stdout\": \"\", \"stack_to_render\": []}, {\"func_name\": \"<module>\", \"globals\": {\"x\": 237, \"i\": 237}, \"line\": 4, \"event\": \"step_line\", \"ordered_globals\": [\"x\", \"i\"], \"heap\": {}, \"stdout\": \"\", \"stack_to_render\": []}, {\"func_name\": \"<module>\", \"globals\": {\"x\": 238, \"i\": 237}, \"line\": 3, \"event\": \"step_line\", \"ordered_globals\": [\"x\", \"i\"], \"heap\": {}, \"stdout\": \"\", \"stack_to_render\": []}, {\"func_name\": \"<module>\", \"globals\": {\"x\": 238, \"i\": 238}, \"line\": 4, \"event\": \"step_line\", \"ordered_globals\": [\"x\", \"i\"], \"heap\": {}, \"stdout\": \"\", \"stack_to_render\": []}, {\"func_name\": \"<module>\", \"globals\": {\"x\": 239, \"i\": 238}, \"line\": 3, \"event\": \"step_line\", \"ordered_globals\": [\"x\", \"i\"], \"heap\": {}, \"stdout\": \"\", \"stack_to_render\": []}, {\"func_name\": \"<module>\", \"globals\": {\"x\": 239, \"i\": 239}, \"line\": 4, \"event\": \"step_line\", \"ordered_globals\": [\"x\", \"i\"], \"heap\": {}, \"stdout\": \"\", \"stack_to_render\": []}, {\"func_name\": \"<module>\", \"globals\": {\"x\": 240, \"i\": 239}, \"line\": 3, \"event\": \"step_line\", \"ordered_globals\": [\"x\", \"i\"], \"heap\": {}, \"stdout\": \"\", \"stack_to_render\": []}, {\"func_name\": \"<module>\", \"globals\": {\"x\": 240, \"i\": 240}, \"line\": 4, \"event\": \"step_line\", \"ordered_globals\": [\"x\", \"i\"], \"heap\": {}, \"stdout\": \"\", \"stack_to_render\": []}, {\"func_name\": \"<module>\", \"globals\": {\"x\": 241, \"i\": 240}, \"line\": 3, \"event\": \"step_line\", \"ordered_globals\": [\"x\", \"i\"], \"heap\": {}, \"stdout\": \"\", \"stack_to_render\": []}, {\"func_name\": \"<module>\", \"globals\": {\"x\": 241, \"i\": 241}, \"line\": 4, \"event\": \"step_line\", \"ordered_globals\": [\"x\", \"i\"], \"heap\": {}, \"stdout\": \"\", \"stack_to_render\": []}, {\"func_name\": \"<module>\", \"globals\": {\"x\": 242, \"i\": 241}, \"line\": 3, \"event\": \"step_line\", \"ordered_globals\": [\"x\", \"i\"], \"heap\": {}, \"stdout\": \"\", \"stack_to_render\": []}, {\"func_name\": \"<module>\", \"globals\": {\"x\": 242, \"i\": 242}, \"line\": 4, \"event\": \"step_line\", \"ordered_globals\": [\"x\", \"i\"], \"heap\": {}, \"stdout\": \"\", \"stack_to_render\": []}, {\"func_name\": \"<module>\", \"globals\": {\"x\": 243, \"i\": 242}, \"line\": 3, \"event\": \"step_line\", \"ordered_globals\": [\"x\", \"i\"], \"heap\": {}, \"stdout\": \"\", \"stack_to_render\": []}, {\"func_name\": \"<module>\", \"globals\": {\"x\": 243, \"i\": 243}, \"line\": 4, \"event\": \"step_line\", \"ordered_globals\": [\"x\", \"i\"], \"heap\": {}, \"stdout\": \"\", \"stack_to_render\": []}, {\"func_name\": \"<module>\", \"globals\": {\"x\": 244, \"i\": 243}, \"line\": 3, \"event\": \"step_line\", \"ordered_globals\": [\"x\", \"i\"], \"heap\": {}, \"stdout\": \"\", \"stack_to_render\": []}, {\"func_name\": \"<module>\", \"globals\": {\"x\": 244, \"i\": 244}, \"line\": 4, \"event\": \"step_line\", \"ordered_globals\": [\"x\", \"i\"], \"heap\": {}, \"stdout\": \"\", \"stack_to_render\": []}, {\"func_name\": \"<module>\", \"globals\": {\"x\": 245, \"i\": 244}, \"line\": 3, \"event\": \"step_line\", \"ordered_globals\": [\"x\", \"i\"], \"heap\": {}, \"stdout\": \"\", \"stack_to_render\": []}, {\"func_name\": \"<module>\", \"globals\": {\"x\": 245, \"i\": 245}, \"line\": 4, \"event\": \"step_line\", \"ordered_globals\": [\"x\", \"i\"], \"heap\": {}, \"stdout\": \"\", \"stack_to_render\": []}, {\"func_name\": \"<module>\", \"globals\": {\"x\": 246, \"i\": 245}, \"line\": 3, \"event\": \"step_line\", \"ordered_globals\": [\"x\", \"i\"], \"heap\": {}, \"stdout\": \"\", \"stack_to_render\": []}, {\"func_name\": \"<module>\", \"globals\": {\"x\": 246, \"i\": 246}, \"line\": 4, \"event\": \"step_line\", \"ordered_globals\": [\"x\", \"i\"], \"heap\": {}, \"stdout\": \"\", \"stack_to_render\": []}, {\"func_name\": \"<module>\", \"globals\": {\"x\": 247, \"i\": 246}, \"line\": 3, \"event\": \"step_line\", \"ordered_globals\": [\"x\", \"i\"], \"heap\": {}, \"stdout\": \"\", \"stack_to_render\": []}, {\"func_name\": \"<module>\", \"globals\": {\"x\": 247, \"i\": 247}, \"line\": 4, \"event\": \"step_line\", \"ordered_globals\": [\"x\", \"i\"], \"heap\": {}, \"stdout\": \"\", \"stack_to_render\": []}, {\"func_name\": \"<module>\", \"globals\": {\"x\": 248, \"i\": 247}, \"line\": 3, \"event\": \"step_line\", \"ordered_globals\": [\"x\", \"i\"], \"heap\": {}, \"stdout\": \"\", \"stack_to_render\": []}, {\"func_name\": \"<module>\", \"globals\": {\"x\": 248, \"i\": 248}, \"line\": 4, \"event\": \"step_line\", \"ordered_globals\": [\"x\", \"i\"], \"heap\": {}, \"stdout\": \"\", \"stack_to_render\": []}, {\"func_name\": \"<module>\", \"globals\": {\"x\": 249, \"i\": 248}, \"line\": 3, \"event\": \"step_line\", \"ordered_globals\": [\"x\", \"i\"], \"heap\": {}, \"stdout\": \"\", \"stack_to_render\": []}, {\"func_name\": \"<module>\", \"globals\": {\"x\": 249, \"i\": 249}, \"line\": 4, \"event\": \"step_line\", \"ordered_globals\": [\"x\", \"i\"], \"heap\": {}, \"stdout\": \"\", \"stack_to_render\": []}, {\"func_name\": \"<module>\", \"globals\": {\"x\": 250, \"i\": 249}, \"line\": 3, \"event\": \"step_line\", \"ordered_globals\": [\"x\", \"i\"], \"heap\": {}, \"stdout\": \"\", \"stack_to_render\": []}, {\"func_name\": \"<module>\", \"globals\": {\"x\": 250, \"i\": 250}, \"line\": 4, \"event\": \"step_line\", \"ordered_globals\": [\"x\", \"i\"], \"heap\": {}, \"stdout\": \"\", \"stack_to_render\": []}, {\"func_name\": \"<module>\", \"globals\": {\"x\": 251, \"i\": 250}, \"line\": 3, \"event\": \"step_line\", \"ordered_globals\": [\"x\", \"i\"], \"heap\": {}, \"stdout\": \"\", \"stack_to_render\": []}, {\"func_name\": \"<module>\", \"globals\": {\"x\": 251, \"i\": 251}, \"line\": 4, \"event\": \"step_line\", \"ordered_globals\": [\"x\", \"i\"], \"heap\": {}, \"stdout\": \"\", \"stack_to_render\": []}, {\"func_name\": \"<module>\", \"globals\": {\"x\": 252, \"i\": 251}, \"line\": 3, \"event\": \"step_line\", \"ordered_globals\": [\"x\", \"i\"], \"heap\": {}, \"stdout\": \"\", \"stack_to_render\": []}, {\"func_name\": \"<module>\", \"globals\": {\"x\": 252, \"i\": 252}, \"line\": 4, \"event\": \"step_line\", \"ordered_globals\": [\"x\", \"i\"], \"heap\": {}, \"stdout\": \"\", \"stack_to_render\": []}, {\"func_name\": \"<module>\", \"globals\": {\"x\": 253, \"i\": 252}, \"line\": 3, \"event\": \"step_line\", \"ordered_globals\": [\"x\", \"i\"], \"heap\": {}, \"stdout\": \"\", \"stack_to_render\": []}, {\"func_name\": \"<module>\", \"globals\": {\"x\": 253, \"i\": 253}, \"line\": 4, \"event\": \"step_line\", \"ordered_globals\": [\"x\", \"i\"], \"heap\": {}, \"stdout\": \"\", \"stack_to_render\": []}, {\"func_name\": \"<module>\", \"globals\": {\"x\": 254, \"i\": 253}, \"line\": 3, \"event\": \"step_line\", \"ordered_globals\": [\"x\", \"i\"], \"heap\": {}, \"stdout\": \"\", \"stack_to_render\": []}, {\"func_name\": \"<module>\", \"globals\": {\"x\": 254, \"i\": 254}, \"line\": 4, \"event\": \"step_line\", \"ordered_globals\": [\"x\", \"i\"], \"heap\": {}, \"stdout\": \"\", \"stack_to_render\": []}, {\"func_name\": \"<module>\", \"globals\": {\"x\": 255, \"i\": 254}, \"line\": 3, \"event\": \"step_line\", \"ordered_globals\": [\"x\", \"i\"], \"heap\": {}, \"stdout\": \"\", \"stack_to_render\": []}, {\"func_name\": \"<module>\", \"globals\": {\"x\": 255, \"i\": 255}, \"line\": 4, \"event\": \"step_line\", \"ordered_globals\": [\"x\", \"i\"], \"heap\": {}, \"stdout\": \"\", \"stack_to_render\": []}, {\"func_name\": \"<module>\", \"globals\": {\"x\": 256, \"i\": 255}, \"line\": 3, \"event\": \"step_line\", \"ordered_globals\": [\"x\", \"i\"], \"heap\": {}, \"stdout\": \"\", \"stack_to_render\": []}, {\"func_name\": \"<module>\", \"globals\": {\"x\": 256, \"i\": 256}, \"line\": 4, \"event\": \"step_line\", \"ordered_globals\": [\"x\", \"i\"], \"heap\": {}, \"stdout\": \"\", \"stack_to_render\": []}, {\"func_name\": \"<module>\", \"globals\": {\"x\": 257, \"i\": 256}, \"line\": 3, \"event\": \"step_line\", \"ordered_globals\": [\"x\", \"i\"], \"heap\": {}, \"stdout\": \"\", \"stack_to_render\": []}, {\"func_name\": \"<module>\", \"globals\": {\"x\": 257, \"i\": 257}, \"line\": 4, \"event\": \"step_line\", \"ordered_globals\": [\"x\", \"i\"], \"heap\": {}, \"stdout\": \"\", \"stack_to_render\": []}, {\"func_name\": \"<module>\", \"globals\": {\"x\": 258, \"i\": 257}, \"line\": 3, \"event\": \"step_line\", \"ordered_globals\": [\"x\", \"i\"], \"heap\": {}, \"stdout\": \"\", \"stack_to_render\": []}, {\"func_name\": \"<module>\", \"globals\": {\"x\": 258, \"i\": 258}, \"line\": 4, \"event\": \"step_line\", \"ordered_globals\": [\"x\", \"i\"], \"heap\": {}, \"stdout\": \"\", \"stack_to_render\": []}, {\"func_name\": \"<module>\", \"globals\": {\"x\": 259, \"i\": 258}, \"line\": 3, \"event\": \"step_line\", \"ordered_globals\": [\"x\", \"i\"], \"heap\": {}, \"stdout\": \"\", \"stack_to_render\": []}, {\"func_name\": \"<module>\", \"globals\": {\"x\": 259, \"i\": 259}, \"line\": 4, \"event\": \"step_line\", \"ordered_globals\": [\"x\", \"i\"], \"heap\": {}, \"stdout\": \"\", \"stack_to_render\": []}, {\"func_name\": \"<module>\", \"globals\": {\"x\": 260, \"i\": 259}, \"line\": 3, \"event\": \"step_line\", \"ordered_globals\": [\"x\", \"i\"], \"heap\": {}, \"stdout\": \"\", \"stack_to_render\": []}, {\"func_name\": \"<module>\", \"globals\": {\"x\": 260, \"i\": 260}, \"line\": 4, \"event\": \"step_line\", \"ordered_globals\": [\"x\", \"i\"], \"heap\": {}, \"stdout\": \"\", \"stack_to_render\": []}, {\"func_name\": \"<module>\", \"globals\": {\"x\": 261, \"i\": 260}, \"line\": 3, \"event\": \"step_line\", \"ordered_globals\": [\"x\", \"i\"], \"heap\": {}, \"stdout\": \"\", \"stack_to_render\": []}, {\"func_name\": \"<module>\", \"globals\": {\"x\": 261, \"i\": 261}, \"line\": 4, \"event\": \"step_line\", \"ordered_globals\": [\"x\", \"i\"], \"heap\": {}, \"stdout\": \"\", \"stack_to_render\": []}, {\"func_name\": \"<module>\", \"globals\": {\"x\": 262, \"i\": 261}, \"line\": 3, \"event\": \"step_line\", \"ordered_globals\": [\"x\", \"i\"], \"heap\": {}, \"stdout\": \"\", \"stack_to_render\": []}, {\"func_name\": \"<module>\", \"globals\": {\"x\": 262, \"i\": 262}, \"line\": 4, \"event\": \"step_line\", \"ordered_globals\": [\"x\", \"i\"], \"heap\": {}, \"stdout\": \"\", \"stack_to_render\": []}, {\"func_name\": \"<module>\", \"globals\": {\"x\": 263, \"i\": 262}, \"line\": 3, \"event\": \"step_line\", \"ordered_globals\": [\"x\", \"i\"], \"heap\": {}, \"stdout\": \"\", \"stack_to_render\": []}, {\"func_name\": \"<module>\", \"globals\": {\"x\": 263, \"i\": 263}, \"line\": 4, \"event\": \"step_line\", \"ordered_globals\": [\"x\", \"i\"], \"heap\": {}, \"stdout\": \"\", \"stack_to_render\": []}, {\"func_name\": \"<module>\", \"globals\": {\"x\": 264, \"i\": 263}, \"line\": 3, \"event\": \"step_line\", \"ordered_globals\": [\"x\", \"i\"], \"heap\": {}, \"stdout\": \"\", \"stack_to_render\": []}, {\"func_name\": \"<module>\", \"globals\": {\"x\": 264, \"i\": 264}, \"line\": 4, \"event\": \"step_line\", \"ordered_globals\": [\"x\", \"i\"], \"heap\": {}, \"stdout\": \"\", \"stack_to_render\": []}, {\"func_name\": \"<module>\", \"globals\": {\"x\": 265, \"i\": 264}, \"line\": 3, \"event\": \"step_line\", \"ordered_globals\": [\"x\", \"i\"], \"heap\": {}, \"stdout\": \"\", \"stack_to_render\": []}, {\"func_name\": \"<module>\", \"globals\": {\"x\": 265, \"i\": 265}, \"line\": 4, \"event\": \"step_line\", \"ordered_globals\": [\"x\", \"i\"], \"heap\": {}, \"stdout\": \"\", \"stack_to_render\": []}, {\"func_name\": \"<module>\", \"globals\": {\"x\": 266, \"i\": 265}, \"line\": 3, \"event\": \"step_line\", \"ordered_globals\": [\"x\", \"i\"], \"heap\": {}, \"stdout\": \"\", \"stack_to_render\": []}, {\"func_name\": \"<module>\", \"globals\": {\"x\": 266, \"i\": 266}, \"line\": 4, \"event\": \"step_line\", \"ordered_globals\": [\"x\", \"i\"], \"heap\": {}, \"stdout\": \"\", \"stack_to_render\": []}, {\"func_name\": \"<module>\", \"globals\": {\"x\": 267, \"i\": 266}, \"line\": 3, \"event\": \"step_line\", \"ordered_globals\": [\"x\", \"i\"], \"heap\": {}, \"stdout\": \"\", \"stack_to_render\": []}, {\"func_name\": \"<module>\", \"globals\": {\"x\": 267, \"i\": 267}, \"line\": 4, \"event\": \"step_line\", \"ordered_globals\": [\"x\", \"i\"], \"heap\": {}, \"stdout\": \"\", \"stack_to_render\": []}, {\"func_name\": \"<module>\", \"globals\": {\"x\": 268, \"i\": 267}, \"line\": 3, \"event\": \"step_line\", \"ordered_globals\": [\"x\", \"i\"], \"heap\": {}, \"stdout\": \"\", \"stack_to_render\": []}, {\"func_name\": \"<module>\", \"globals\": {\"x\": 268, \"i\": 268}, \"line\": 4, \"event\": \"step_line\", \"ordered_globals\": [\"x\", \"i\"], \"heap\": {}, \"stdout\": \"\", \"stack_to_render\": []}, {\"func_name\": \"<module>\", \"globals\": {\"x\": 269, \"i\": 268}, \"line\": 3, \"event\": \"step_line\", \"ordered_globals\": [\"x\", \"i\"], \"heap\": {}, \"stdout\": \"\", \"stack_to_render\": []}, {\"func_name\": \"<module>\", \"globals\": {\"x\": 269, \"i\": 269}, \"line\": 4, \"event\": \"step_line\", \"ordered_globals\": [\"x\", \"i\"], \"heap\": {}, \"stdout\": \"\", \"stack_to_render\": []}, {\"func_name\": \"<module>\", \"globals\": {\"x\": 270, \"i\": 269}, \"line\": 3, \"event\": \"step_line\", \"ordered_globals\": [\"x\", \"i\"], \"heap\": {}, \"stdout\": \"\", \"stack_to_render\": []}, {\"func_name\": \"<module>\", \"globals\": {\"x\": 270, \"i\": 270}, \"line\": 4, \"event\": \"step_line\", \"ordered_globals\": [\"x\", \"i\"], \"heap\": {}, \"stdout\": \"\", \"stack_to_render\": []}, {\"func_name\": \"<module>\", \"globals\": {\"x\": 271, \"i\": 270}, \"line\": 3, \"event\": \"step_line\", \"ordered_globals\": [\"x\", \"i\"], \"heap\": {}, \"stdout\": \"\", \"stack_to_render\": []}, {\"func_name\": \"<module>\", \"globals\": {\"x\": 271, \"i\": 271}, \"line\": 4, \"event\": \"step_line\", \"ordered_globals\": [\"x\", \"i\"], \"heap\": {}, \"stdout\": \"\", \"stack_to_render\": []}, {\"func_name\": \"<module>\", \"globals\": {\"x\": 272, \"i\": 271}, \"line\": 3, \"event\": \"step_line\", \"ordered_globals\": [\"x\", \"i\"], \"heap\": {}, \"stdout\": \"\", \"stack_to_render\": []}, {\"func_name\": \"<module>\", \"globals\": {\"x\": 272, \"i\": 272}, \"line\": 4, \"event\": \"step_line\", \"ordered_globals\": [\"x\", \"i\"], \"heap\": {}, \"stdout\": \"\", \"stack_to_render\": []}, {\"func_name\": \"<module>\", \"globals\": {\"x\": 273, \"i\": 272}, \"line\": 3, \"event\": \"step_line\", \"ordered_globals\": [\"x\", \"i\"], \"heap\": {}, \"stdout\": \"\", \"stack_to_render\": []}, {\"func_name\": \"<module>\", \"globals\": {\"x\": 273, \"i\": 273}, \"line\": 4, \"event\": \"step_line\", \"ordered_globals\": [\"x\", \"i\"], \"heap\": {}, \"stdout\": \"\", \"stack_to_render\": []}, {\"func_name\": \"<module>\", \"globals\": {\"x\": 274, \"i\": 273}, \"line\": 3, \"event\": \"step_line\", \"ordered_globals\": [\"x\", \"i\"], \"heap\": {}, \"stdout\": \"\", \"stack_to_render\": []}, {\"func_name\": \"<module>\", \"globals\": {\"x\": 274, \"i\": 274}, \"line\": 4, \"event\": \"step_line\", \"ordered_globals\": [\"x\", \"i\"], \"heap\": {}, \"stdout\": \"\", \"stack_to_render\": []}, {\"func_name\": \"<module>\", \"globals\": {\"x\": 275, \"i\": 274}, \"line\": 3, \"event\": \"step_line\", \"ordered_globals\": [\"x\", \"i\"], \"heap\": {}, \"stdout\": \"\", \"stack_to_render\": []}, {\"func_name\": \"<module>\", \"globals\": {\"x\": 275, \"i\": 275}, \"line\": 4, \"event\": \"step_line\", \"ordered_globals\": [\"x\", \"i\"], \"heap\": {}, \"stdout\": \"\", \"stack_to_render\": []}, {\"func_name\": \"<module>\", \"globals\": {\"x\": 276, \"i\": 275}, \"line\": 3, \"event\": \"step_line\", \"ordered_globals\": [\"x\", \"i\"], \"heap\": {}, \"stdout\": \"\", \"stack_to_render\": []}, {\"func_name\": \"<module>\", \"globals\": {\"x\": 276, \"i\": 276}, \"line\": 4, \"event\": \"step_line\", \"ordered_globals\": [\"x\", \"i\"], \"heap\": {}, \"stdout\": \"\", \"stack_to_render\": []}, {\"func_name\": \"<module>\", \"globals\": {\"x\": 277, \"i\": 276}, \"line\": 3, \"event\": \"step_line\", \"ordered_globals\": [\"x\", \"i\"], \"heap\": {}, \"stdout\": \"\", \"stack_to_render\": []}, {\"func_name\": \"<module>\", \"globals\": {\"x\": 277, \"i\": 277}, \"line\": 4, \"event\": \"step_line\", \"ordered_globals\": [\"x\", \"i\"], \"heap\": {}, \"stdout\": \"\", \"stack_to_render\": []}, {\"func_name\": \"<module>\", \"globals\": {\"x\": 278, \"i\": 277}, \"line\": 3, \"event\": \"step_line\", \"ordered_globals\": [\"x\", \"i\"], \"heap\": {}, \"stdout\": \"\", \"stack_to_render\": []}, {\"func_name\": \"<module>\", \"globals\": {\"x\": 278, \"i\": 278}, \"line\": 4, \"event\": \"step_line\", \"ordered_globals\": [\"x\", \"i\"], \"heap\": {}, \"stdout\": \"\", \"stack_to_render\": []}, {\"func_name\": \"<module>\", \"globals\": {\"x\": 279, \"i\": 278}, \"line\": 3, \"event\": \"step_line\", \"ordered_globals\": [\"x\", \"i\"], \"heap\": {}, \"stdout\": \"\", \"stack_to_render\": []}, {\"func_name\": \"<module>\", \"globals\": {\"x\": 279, \"i\": 279}, \"line\": 4, \"event\": \"step_line\", \"ordered_globals\": [\"x\", \"i\"], \"heap\": {}, \"stdout\": \"\", \"stack_to_render\": []}, {\"func_name\": \"<module>\", \"globals\": {\"x\": 280, \"i\": 279}, \"line\": 3, \"event\": \"step_line\", \"ordered_globals\": [\"x\", \"i\"], \"heap\": {}, \"stdout\": \"\", \"stack_to_render\": []}, {\"func_name\": \"<module>\", \"globals\": {\"x\": 280, \"i\": 280}, \"line\": 4, \"event\": \"step_line\", \"ordered_globals\": [\"x\", \"i\"], \"heap\": {}, \"stdout\": \"\", \"stack_to_render\": []}, {\"func_name\": \"<module>\", \"globals\": {\"x\": 281, \"i\": 280}, \"line\": 3, \"event\": \"step_line\", \"ordered_globals\": [\"x\", \"i\"], \"heap\": {}, \"stdout\": \"\", \"stack_to_render\": []}, {\"func_name\": \"<module>\", \"globals\": {\"x\": 281, \"i\": 281}, \"line\": 4, \"event\": \"step_line\", \"ordered_globals\": [\"x\", \"i\"], \"heap\": {}, \"stdout\": \"\", \"stack_to_render\": []}, {\"func_name\": \"<module>\", \"globals\": {\"x\": 282, \"i\": 281}, \"line\": 3, \"event\": \"step_line\", \"ordered_globals\": [\"x\", \"i\"], \"heap\": {}, \"stdout\": \"\", \"stack_to_render\": []}, {\"func_name\": \"<module>\", \"globals\": {\"x\": 282, \"i\": 282}, \"line\": 4, \"event\": \"step_line\", \"ordered_globals\": [\"x\", \"i\"], \"heap\": {}, \"stdout\": \"\", \"stack_to_render\": []}, {\"func_name\": \"<module>\", \"globals\": {\"x\": 283, \"i\": 282}, \"line\": 3, \"event\": \"step_line\", \"ordered_globals\": [\"x\", \"i\"], \"heap\": {}, \"stdout\": \"\", \"stack_to_render\": []}, {\"func_name\": \"<module>\", \"globals\": {\"x\": 283, \"i\": 283}, \"line\": 4, \"event\": \"step_line\", \"ordered_globals\": [\"x\", \"i\"], \"heap\": {}, \"stdout\": \"\", \"stack_to_render\": []}, {\"func_name\": \"<module>\", \"globals\": {\"x\": 284, \"i\": 283}, \"line\": 3, \"event\": \"step_line\", \"ordered_globals\": [\"x\", \"i\"], \"heap\": {}, \"stdout\": \"\", \"stack_to_render\": []}, {\"func_name\": \"<module>\", \"globals\": {\"x\": 284, \"i\": 284}, \"line\": 4, \"event\": \"step_line\", \"ordered_globals\": [\"x\", \"i\"], \"heap\": {}, \"stdout\": \"\", \"stack_to_render\": []}, {\"func_name\": \"<module>\", \"globals\": {\"x\": 285, \"i\": 284}, \"line\": 3, \"event\": \"step_line\", \"ordered_globals\": [\"x\", \"i\"], \"heap\": {}, \"stdout\": \"\", \"stack_to_render\": []}, {\"func_name\": \"<module>\", \"globals\": {\"x\": 285, \"i\": 285}, \"line\": 4, \"event\": \"step_line\", \"ordered_globals\": [\"x\", \"i\"], \"heap\": {}, \"stdout\": \"\", \"stack_to_render\": []}, {\"func_name\": \"<module>\", \"globals\": {\"x\": 286, \"i\": 285}, \"line\": 3, \"event\": \"step_line\", \"ordered_globals\": [\"x\", \"i\"], \"heap\": {}, \"stdout\": \"\", \"stack_to_render\": []}, {\"func_name\": \"<module>\", \"globals\": {\"x\": 286, \"i\": 286}, \"line\": 4, \"event\": \"step_line\", \"ordered_globals\": [\"x\", \"i\"], \"heap\": {}, \"stdout\": \"\", \"stack_to_render\": []}, {\"func_name\": \"<module>\", \"globals\": {\"x\": 287, \"i\": 286}, \"line\": 3, \"event\": \"step_line\", \"ordered_globals\": [\"x\", \"i\"], \"heap\": {}, \"stdout\": \"\", \"stack_to_render\": []}, {\"func_name\": \"<module>\", \"globals\": {\"x\": 287, \"i\": 287}, \"line\": 4, \"event\": \"step_line\", \"ordered_globals\": [\"x\", \"i\"], \"heap\": {}, \"stdout\": \"\", \"stack_to_render\": []}, {\"func_name\": \"<module>\", \"globals\": {\"x\": 288, \"i\": 287}, \"line\": 3, \"event\": \"step_line\", \"ordered_globals\": [\"x\", \"i\"], \"heap\": {}, \"stdout\": \"\", \"stack_to_render\": []}, {\"func_name\": \"<module>\", \"globals\": {\"x\": 288, \"i\": 288}, \"line\": 4, \"event\": \"step_line\", \"ordered_globals\": [\"x\", \"i\"], \"heap\": {}, \"stdout\": \"\", \"stack_to_render\": []}, {\"func_name\": \"<module>\", \"globals\": {\"x\": 289, \"i\": 288}, \"line\": 3, \"event\": \"step_line\", \"ordered_globals\": [\"x\", \"i\"], \"heap\": {}, \"stdout\": \"\", \"stack_to_render\": []}, {\"func_name\": \"<module>\", \"globals\": {\"x\": 289, \"i\": 289}, \"line\": 4, \"event\": \"step_line\", \"ordered_globals\": [\"x\", \"i\"], \"heap\": {}, \"stdout\": \"\", \"stack_to_render\": []}, {\"func_name\": \"<module>\", \"globals\": {\"x\": 290, \"i\": 289}, \"line\": 3, \"event\": \"step_line\", \"ordered_globals\": [\"x\", \"i\"], \"heap\": {}, \"stdout\": \"\", \"stack_to_render\": []}, {\"func_name\": \"<module>\", \"globals\": {\"x\": 290, \"i\": 290}, \"line\": 4, \"event\": \"step_line\", \"ordered_globals\": [\"x\", \"i\"], \"heap\": {}, \"stdout\": \"\", \"stack_to_render\": []}, {\"func_name\": \"<module>\", \"globals\": {\"x\": 291, \"i\": 290}, \"line\": 3, \"event\": \"step_line\", \"ordered_globals\": [\"x\", \"i\"], \"heap\": {}, \"stdout\": \"\", \"stack_to_render\": []}, {\"func_name\": \"<module>\", \"globals\": {\"x\": 291, \"i\": 291}, \"line\": 4, \"event\": \"step_line\", \"ordered_globals\": [\"x\", \"i\"], \"heap\": {}, \"stdout\": \"\", \"stack_to_render\": []}, {\"func_name\": \"<module>\", \"globals\": {\"x\": 292, \"i\": 291}, \"line\": 3, \"event\": \"step_line\", \"ordered_globals\": [\"x\", \"i\"], \"heap\": {}, \"stdout\": \"\", \"stack_to_render\": []}, {\"func_name\": \"<module>\", \"globals\": {\"x\": 292, \"i\": 292}, \"line\": 4, \"event\": \"step_line\", \"ordered_globals\": [\"x\", \"i\"], \"heap\": {}, \"stdout\": \"\", \"stack_to_render\": []}, {\"func_name\": \"<module>\", \"globals\": {\"x\": 293, \"i\": 292}, \"line\": 3, \"event\": \"step_line\", \"ordered_globals\": [\"x\", \"i\"], \"heap\": {}, \"stdout\": \"\", \"stack_to_render\": []}, {\"func_name\": \"<module>\", \"globals\": {\"x\": 293, \"i\": 293}, \"line\": 4, \"event\": \"step_line\", \"ordered_globals\": [\"x\", \"i\"], \"heap\": {}, \"stdout\": \"\", \"stack_to_render\": []}, {\"func_name\": \"<module>\", \"globals\": {\"x\": 294, \"i\": 293}, \"line\": 3, \"event\": \"step_line\", \"ordered_globals\": [\"x\", \"i\"], \"heap\": {}, \"stdout\": \"\", \"stack_to_render\": []}, {\"func_name\": \"<module>\", \"globals\": {\"x\": 294, \"i\": 294}, \"line\": 4, \"event\": \"step_line\", \"ordered_globals\": [\"x\", \"i\"], \"heap\": {}, \"stdout\": \"\", \"stack_to_render\": []}, {\"func_name\": \"<module>\", \"globals\": {\"x\": 295, \"i\": 294}, \"line\": 3, \"event\": \"step_line\", \"ordered_globals\": [\"x\", \"i\"], \"heap\": {}, \"stdout\": \"\", \"stack_to_render\": []}, {\"func_name\": \"<module>\", \"globals\": {\"x\": 295, \"i\": 295}, \"line\": 4, \"event\": \"step_line\", \"ordered_globals\": [\"x\", \"i\"], \"heap\": {}, \"stdout\": \"\", \"stack_to_render\": []}, {\"func_name\": \"<module>\", \"globals\": {\"x\": 296, \"i\": 295}, \"line\": 3, \"event\": \"step_line\", \"ordered_globals\": [\"x\", \"i\"], \"heap\": {}, \"stdout\": \"\", \"stack_to_render\": []}, {\"func_name\": \"<module>\", \"globals\": {\"x\": 296, \"i\": 296}, \"line\": 4, \"event\": \"step_line\", \"ordered_globals\": [\"x\", \"i\"], \"heap\": {}, \"stdout\": \"\", \"stack_to_render\": []}, {\"func_name\": \"<module>\", \"globals\": {\"x\": 297, \"i\": 296}, \"line\": 3, \"event\": \"step_line\", \"ordered_globals\": [\"x\", \"i\"], \"heap\": {}, \"stdout\": \"\", \"stack_to_render\": []}, {\"func_name\": \"<module>\", \"globals\": {\"x\": 297, \"i\": 297}, \"line\": 4, \"event\": \"step_line\", \"ordered_globals\": [\"x\", \"i\"], \"heap\": {}, \"stdout\": \"\", \"stack_to_render\": []}, {\"func_name\": \"<module>\", \"globals\": {\"x\": 298, \"i\": 297}, \"line\": 3, \"event\": \"step_line\", \"ordered_globals\": [\"x\", \"i\"], \"heap\": {}, \"stdout\": \"\", \"stack_to_render\": []}, {\"func_name\": \"<module>\", \"globals\": {\"x\": 298, \"i\": 298}, \"line\": 4, \"event\": \"step_line\", \"ordered_globals\": [\"x\", \"i\"], \"heap\": {}, \"stdout\": \"\", \"stack_to_render\": []}, {\"func_name\": \"<module>\", \"globals\": {\"x\": 299, \"i\": 298}, \"line\": 3, \"event\": \"step_line\", \"ordered_globals\": [\"x\", \"i\"], \"heap\": {}, \"stdout\": \"\", \"stack_to_render\": []}, {\"func_name\": \"<module>\", \"globals\": {\"x\": 299, \"i\": 299}, \"line\": 4, \"event\": \"step_line\", \"ordered_globals\": [\"x\", \"i\"], \"heap\": {}, \"stdout\": \"\", \"stack_to_render\": []}, {\"func_name\": \"<module>\", \"globals\": {\"x\": 300, \"i\": 299}, \"line\": 3, \"event\": \"step_line\", \"ordered_globals\": [\"x\", \"i\"], \"heap\": {}, \"stdout\": \"\", \"stack_to_render\": []}, {\"func_name\": \"<module>\", \"globals\": {\"x\": 300, \"i\": 300}, \"line\": 4, \"event\": \"step_line\", \"ordered_globals\": [\"x\", \"i\"], \"heap\": {}, \"stdout\": \"\", \"stack_to_render\": []}, {\"func_name\": \"<module>\", \"globals\": {\"x\": 301, \"i\": 300}, \"line\": 3, \"event\": \"step_line\", \"ordered_globals\": [\"x\", \"i\"], \"heap\": {}, \"stdout\": \"\", \"stack_to_render\": []}, {\"func_name\": \"<module>\", \"globals\": {\"x\": 301, \"i\": 301}, \"line\": 4, \"event\": \"step_line\", \"ordered_globals\": [\"x\", \"i\"], \"heap\": {}, \"stdout\": \"\", \"stack_to_render\": []}, {\"func_name\": \"<module>\", \"globals\": {\"x\": 302, \"i\": 301}, \"line\": 3, \"event\": \"step_line\", \"ordered_globals\": [\"x\", \"i\"], \"heap\": {}, \"stdout\": \"\", \"stack_to_render\": []}, {\"func_name\": \"<module>\", \"globals\": {\"x\": 302, \"i\": 302}, \"line\": 4, \"event\": \"step_line\", \"ordered_globals\": [\"x\", \"i\"], \"heap\": {}, \"stdout\": \"\", \"stack_to_render\": []}, {\"func_name\": \"<module>\", \"globals\": {\"x\": 303, \"i\": 302}, \"line\": 3, \"event\": \"step_line\", \"ordered_globals\": [\"x\", \"i\"], \"heap\": {}, \"stdout\": \"\", \"stack_to_render\": []}, {\"func_name\": \"<module>\", \"globals\": {\"x\": 303, \"i\": 303}, \"line\": 4, \"event\": \"step_line\", \"ordered_globals\": [\"x\", \"i\"], \"heap\": {}, \"stdout\": \"\", \"stack_to_render\": []}, {\"func_name\": \"<module>\", \"globals\": {\"x\": 304, \"i\": 303}, \"line\": 3, \"event\": \"step_line\", \"ordered_globals\": [\"x\", \"i\"], \"heap\": {}, \"stdout\": \"\", \"stack_to_render\": []}, {\"func_name\": \"<module>\", \"globals\": {\"x\": 304, \"i\": 304}, \"line\": 4, \"event\": \"step_line\", \"ordered_globals\": [\"x\", \"i\"], \"heap\": {}, \"stdout\": \"\", \"stack_to_render\": []}, {\"func_name\": \"<module>\", \"globals\": {\"x\": 305, \"i\": 304}, \"line\": 3, \"event\": \"step_line\", \"ordered_globals\": [\"x\", \"i\"], \"heap\": {}, \"stdout\": \"\", \"stack_to_render\": []}, {\"func_name\": \"<module>\", \"globals\": {\"x\": 305, \"i\": 305}, \"line\": 4, \"event\": \"step_line\", \"ordered_globals\": [\"x\", \"i\"], \"heap\": {}, \"stdout\": \"\", \"stack_to_render\": []}, {\"func_name\": \"<module>\", \"globals\": {\"x\": 306, \"i\": 305}, \"line\": 3, \"event\": \"step_line\", \"ordered_globals\": [\"x\", \"i\"], \"heap\": {}, \"stdout\": \"\", \"stack_to_render\": []}, {\"func_name\": \"<module>\", \"globals\": {\"x\": 306, \"i\": 306}, \"line\": 4, \"event\": \"step_line\", \"ordered_globals\": [\"x\", \"i\"], \"heap\": {}, \"stdout\": \"\", \"stack_to_render\": []}, {\"func_name\": \"<module>\", \"globals\": {\"x\": 307, \"i\": 306}, \"line\": 3, \"event\": \"step_line\", \"ordered_globals\": [\"x\", \"i\"], \"heap\": {}, \"stdout\": \"\", \"stack_to_render\": []}, {\"func_name\": \"<module>\", \"globals\": {\"x\": 307, \"i\": 307}, \"line\": 4, \"event\": \"step_line\", \"ordered_globals\": [\"x\", \"i\"], \"heap\": {}, \"stdout\": \"\", \"stack_to_render\": []}, {\"func_name\": \"<module>\", \"globals\": {\"x\": 308, \"i\": 307}, \"line\": 3, \"event\": \"step_line\", \"ordered_globals\": [\"x\", \"i\"], \"heap\": {}, \"stdout\": \"\", \"stack_to_render\": []}, {\"func_name\": \"<module>\", \"globals\": {\"x\": 308, \"i\": 308}, \"line\": 4, \"event\": \"step_line\", \"ordered_globals\": [\"x\", \"i\"], \"heap\": {}, \"stdout\": \"\", \"stack_to_render\": []}, {\"func_name\": \"<module>\", \"globals\": {\"x\": 309, \"i\": 308}, \"line\": 3, \"event\": \"step_line\", \"ordered_globals\": [\"x\", \"i\"], \"heap\": {}, \"stdout\": \"\", \"stack_to_render\": []}, {\"func_name\": \"<module>\", \"globals\": {\"x\": 309, \"i\": 309}, \"line\": 4, \"event\": \"step_line\", \"ordered_globals\": [\"x\", \"i\"], \"heap\": {}, \"stdout\": \"\", \"stack_to_render\": []}, {\"func_name\": \"<module>\", \"globals\": {\"x\": 310, \"i\": 309}, \"line\": 3, \"event\": \"step_line\", \"ordered_globals\": [\"x\", \"i\"], \"heap\": {}, \"stdout\": \"\", \"stack_to_render\": []}, {\"func_name\": \"<module>\", \"globals\": {\"x\": 310, \"i\": 310}, \"line\": 4, \"event\": \"step_line\", \"ordered_globals\": [\"x\", \"i\"], \"heap\": {}, \"stdout\": \"\", \"stack_to_render\": []}, {\"func_name\": \"<module>\", \"globals\": {\"x\": 311, \"i\": 310}, \"line\": 3, \"event\": \"step_line\", \"ordered_globals\": [\"x\", \"i\"], \"heap\": {}, \"stdout\": \"\", \"stack_to_render\": []}, {\"func_name\": \"<module>\", \"globals\": {\"x\": 311, \"i\": 311}, \"line\": 4, \"event\": \"step_line\", \"ordered_globals\": [\"x\", \"i\"], \"heap\": {}, \"stdout\": \"\", \"stack_to_render\": []}, {\"func_name\": \"<module>\", \"globals\": {\"x\": 312, \"i\": 311}, \"line\": 3, \"event\": \"step_line\", \"ordered_globals\": [\"x\", \"i\"], \"heap\": {}, \"stdout\": \"\", \"stack_to_render\": []}, {\"func_name\": \"<module>\", \"globals\": {\"x\": 312, \"i\": 312}, \"line\": 4, \"event\": \"step_line\", \"ordered_globals\": [\"x\", \"i\"], \"heap\": {}, \"stdout\": \"\", \"stack_to_render\": []}, {\"func_name\": \"<module>\", \"globals\": {\"x\": 313, \"i\": 312}, \"line\": 3, \"event\": \"step_line\", \"ordered_globals\": [\"x\", \"i\"], \"heap\": {}, \"stdout\": \"\", \"stack_to_render\": []}, {\"func_name\": \"<module>\", \"globals\": {\"x\": 313, \"i\": 313}, \"line\": 4, \"event\": \"step_line\", \"ordered_globals\": [\"x\", \"i\"], \"heap\": {}, \"stdout\": \"\", \"stack_to_render\": []}, {\"func_name\": \"<module>\", \"globals\": {\"x\": 314, \"i\": 313}, \"line\": 3, \"event\": \"step_line\", \"ordered_globals\": [\"x\", \"i\"], \"heap\": {}, \"stdout\": \"\", \"stack_to_render\": []}, {\"func_name\": \"<module>\", \"globals\": {\"x\": 314, \"i\": 314}, \"line\": 4, \"event\": \"step_line\", \"ordered_globals\": [\"x\", \"i\"], \"heap\": {}, \"stdout\": \"\", \"stack_to_render\": []}, {\"func_name\": \"<module>\", \"globals\": {\"x\": 315, \"i\": 314}, \"line\": 3, \"event\": \"step_line\", \"ordered_globals\": [\"x\", \"i\"], \"heap\": {}, \"stdout\": \"\", \"stack_to_render\": []}, {\"func_name\": \"<module>\", \"globals\": {\"x\": 315, \"i\": 315}, \"line\": 4, \"event\": \"step_line\", \"ordered_globals\": [\"x\", \"i\"], \"heap\": {}, \"stdout\": \"\", \"stack_to_render\": []}, {\"func_name\": \"<module>\", \"globals\": {\"x\": 316, \"i\": 315}, \"line\": 3, \"event\": \"step_line\", \"ordered_globals\": [\"x\", \"i\"], \"heap\": {}, \"stdout\": \"\", \"stack_to_render\": []}, {\"func_name\": \"<module>\", \"globals\": {\"x\": 316, \"i\": 316}, \"line\": 4, \"event\": \"step_line\", \"ordered_globals\": [\"x\", \"i\"], \"heap\": {}, \"stdout\": \"\", \"stack_to_render\": []}, {\"func_name\": \"<module>\", \"globals\": {\"x\": 317, \"i\": 316}, \"line\": 3, \"event\": \"step_line\", \"ordered_globals\": [\"x\", \"i\"], \"heap\": {}, \"stdout\": \"\", \"stack_to_render\": []}, {\"func_name\": \"<module>\", \"globals\": {\"x\": 317, \"i\": 317}, \"line\": 4, \"event\": \"step_line\", \"ordered_globals\": [\"x\", \"i\"], \"heap\": {}, \"stdout\": \"\", \"stack_to_render\": []}, {\"func_name\": \"<module>\", \"globals\": {\"x\": 318, \"i\": 317}, \"line\": 3, \"event\": \"step_line\", \"ordered_globals\": [\"x\", \"i\"], \"heap\": {}, \"stdout\": \"\", \"stack_to_render\": []}, {\"func_name\": \"<module>\", \"globals\": {\"x\": 318, \"i\": 318}, \"line\": 4, \"event\": \"step_line\", \"ordered_globals\": [\"x\", \"i\"], \"heap\": {}, \"stdout\": \"\", \"stack_to_render\": []}, {\"func_name\": \"<module>\", \"globals\": {\"x\": 319, \"i\": 318}, \"line\": 3, \"event\": \"step_line\", \"ordered_globals\": [\"x\", \"i\"], \"heap\": {}, \"stdout\": \"\", \"stack_to_render\": []}, {\"func_name\": \"<module>\", \"globals\": {\"x\": 319, \"i\": 319}, \"line\": 4, \"event\": \"step_line\", \"ordered_globals\": [\"x\", \"i\"], \"heap\": {}, \"stdout\": \"\", \"stack_to_render\": []}, {\"func_name\": \"<module>\", \"globals\": {\"x\": 320, \"i\": 319}, \"line\": 3, \"event\": \"step_line\", \"ordered_globals\": [\"x\", \"i\"], \"heap\": {}, \"stdout\": \"\", \"stack_to_render\": []}, {\"func_name\": \"<module>\", \"globals\": {\"x\": 320, \"i\": 320}, \"line\": 4, \"event\": \"step_line\", \"ordered_globals\": [\"x\", \"i\"], \"heap\": {}, \"stdout\": \"\", \"stack_to_render\": []}, {\"func_name\": \"<module>\", \"globals\": {\"x\": 321, \"i\": 320}, \"line\": 3, \"event\": \"step_line\", \"ordered_globals\": [\"x\", \"i\"], \"heap\": {}, \"stdout\": \"\", \"stack_to_render\": []}, {\"func_name\": \"<module>\", \"globals\": {\"x\": 321, \"i\": 321}, \"line\": 4, \"event\": \"step_line\", \"ordered_globals\": [\"x\", \"i\"], \"heap\": {}, \"stdout\": \"\", \"stack_to_render\": []}, {\"func_name\": \"<module>\", \"globals\": {\"x\": 322, \"i\": 321}, \"line\": 3, \"event\": \"step_line\", \"ordered_globals\": [\"x\", \"i\"], \"heap\": {}, \"stdout\": \"\", \"stack_to_render\": []}, {\"func_name\": \"<module>\", \"globals\": {\"x\": 322, \"i\": 322}, \"line\": 4, \"event\": \"step_line\", \"ordered_globals\": [\"x\", \"i\"], \"heap\": {}, \"stdout\": \"\", \"stack_to_render\": []}, {\"func_name\": \"<module>\", \"globals\": {\"x\": 323, \"i\": 322}, \"line\": 3, \"event\": \"step_line\", \"ordered_globals\": [\"x\", \"i\"], \"heap\": {}, \"stdout\": \"\", \"stack_to_render\": []}, {\"func_name\": \"<module>\", \"globals\": {\"x\": 323, \"i\": 323}, \"line\": 4, \"event\": \"step_line\", \"ordered_globals\": [\"x\", \"i\"], \"heap\": {}, \"stdout\": \"\", \"stack_to_render\": []}, {\"func_name\": \"<module>\", \"globals\": {\"x\": 324, \"i\": 323}, \"line\": 3, \"event\": \"step_line\", \"ordered_globals\": [\"x\", \"i\"], \"heap\": {}, \"stdout\": \"\", \"stack_to_render\": []}, {\"func_name\": \"<module>\", \"globals\": {\"x\": 324, \"i\": 324}, \"line\": 4, \"event\": \"step_line\", \"ordered_globals\": [\"x\", \"i\"], \"heap\": {}, \"stdout\": \"\", \"stack_to_render\": []}, {\"func_name\": \"<module>\", \"globals\": {\"x\": 325, \"i\": 324}, \"line\": 3, \"event\": \"step_line\", \"ordered_globals\": [\"x\", \"i\"], \"heap\": {}, \"stdout\": \"\", \"stack_to_render\": []}, {\"func_name\": \"<module>\", \"globals\": {\"x\": 325, \"i\": 325}, \"line\": 4, \"event\": \"step_line\", \"ordered_globals\": [\"x\", \"i\"], \"heap\": {}, \"stdout\": \"\", \"stack_to_render\": []}, {\"func_name\": \"<module>\", \"globals\": {\"x\": 326, \"i\": 325}, \"line\": 3, \"event\": \"step_line\", \"ordered_globals\": [\"x\", \"i\"], \"heap\": {}, \"stdout\": \"\", \"stack_to_render\": []}, {\"func_name\": \"<module>\", \"globals\": {\"x\": 326, \"i\": 326}, \"line\": 4, \"event\": \"step_line\", \"ordered_globals\": [\"x\", \"i\"], \"heap\": {}, \"stdout\": \"\", \"stack_to_render\": []}, {\"func_name\": \"<module>\", \"globals\": {\"x\": 327, \"i\": 326}, \"line\": 3, \"event\": \"step_line\", \"ordered_globals\": [\"x\", \"i\"], \"heap\": {}, \"stdout\": \"\", \"stack_to_render\": []}, {\"func_name\": \"<module>\", \"globals\": {\"x\": 327, \"i\": 327}, \"line\": 4, \"event\": \"step_line\", \"ordered_globals\": [\"x\", \"i\"], \"heap\": {}, \"stdout\": \"\", \"stack_to_render\": []}, {\"func_name\": \"<module>\", \"globals\": {\"x\": 328, \"i\": 327}, \"line\": 3, \"event\": \"step_line\", \"ordered_globals\": [\"x\", \"i\"], \"heap\": {}, \"stdout\": \"\", \"stack_to_render\": []}, {\"func_name\": \"<module>\", \"globals\": {\"x\": 328, \"i\": 328}, \"line\": 4, \"event\": \"step_line\", \"ordered_globals\": [\"x\", \"i\"], \"heap\": {}, \"stdout\": \"\", \"stack_to_render\": []}, {\"func_name\": \"<module>\", \"globals\": {\"x\": 329, \"i\": 328}, \"line\": 3, \"event\": \"step_line\", \"ordered_globals\": [\"x\", \"i\"], \"heap\": {}, \"stdout\": \"\", \"stack_to_render\": []}, {\"func_name\": \"<module>\", \"globals\": {\"x\": 329, \"i\": 329}, \"line\": 4, \"event\": \"step_line\", \"ordered_globals\": [\"x\", \"i\"], \"heap\": {}, \"stdout\": \"\", \"stack_to_render\": []}, {\"func_name\": \"<module>\", \"globals\": {\"x\": 330, \"i\": 329}, \"line\": 3, \"event\": \"step_line\", \"ordered_globals\": [\"x\", \"i\"], \"heap\": {}, \"stdout\": \"\", \"stack_to_render\": []}, {\"func_name\": \"<module>\", \"globals\": {\"x\": 330, \"i\": 330}, \"line\": 4, \"event\": \"step_line\", \"ordered_globals\": [\"x\", \"i\"], \"heap\": {}, \"stdout\": \"\", \"stack_to_render\": []}, {\"func_name\": \"<module>\", \"globals\": {\"x\": 331, \"i\": 330}, \"line\": 3, \"event\": \"step_line\", \"ordered_globals\": [\"x\", \"i\"], \"heap\": {}, \"stdout\": \"\", \"stack_to_render\": []}, {\"func_name\": \"<module>\", \"globals\": {\"x\": 331, \"i\": 331}, \"line\": 4, \"event\": \"step_line\", \"ordered_globals\": [\"x\", \"i\"], \"heap\": {}, \"stdout\": \"\", \"stack_to_render\": []}, {\"func_name\": \"<module>\", \"globals\": {\"x\": 332, \"i\": 331}, \"line\": 3, \"event\": \"step_line\", \"ordered_globals\": [\"x\", \"i\"], \"heap\": {}, \"stdout\": \"\", \"stack_to_render\": []}, {\"func_name\": \"<module>\", \"globals\": {\"x\": 332, \"i\": 332}, \"line\": 4, \"event\": \"step_line\", \"ordered_globals\": [\"x\", \"i\"], \"heap\": {}, \"stdout\": \"\", \"stack_to_render\": []}, {\"func_name\": \"<module>\", \"globals\": {\"x\": 333, \"i\": 332}, \"line\": 3, \"event\": \"step_line\", \"ordered_globals\": [\"x\", \"i\"], \"heap\": {}, \"stdout\": \"\", \"stack_to_render\": []}, {\"func_name\": \"<module>\", \"globals\": {\"x\": 333, \"i\": 333}, \"line\": 4, \"event\": \"step_line\", \"ordered_globals\": [\"x\", \"i\"], \"heap\": {}, \"stdout\": \"\", \"stack_to_render\": []}, {\"func_name\": \"<module>\", \"globals\": {\"x\": 334, \"i\": 333}, \"line\": 3, \"event\": \"step_line\", \"ordered_globals\": [\"x\", \"i\"], \"heap\": {}, \"stdout\": \"\", \"stack_to_render\": []}, {\"func_name\": \"<module>\", \"globals\": {\"x\": 334, \"i\": 334}, \"line\": 4, \"event\": \"step_line\", \"ordered_globals\": [\"x\", \"i\"], \"heap\": {}, \"stdout\": \"\", \"stack_to_render\": []}, {\"func_name\": \"<module>\", \"globals\": {\"x\": 335, \"i\": 334}, \"line\": 3, \"event\": \"step_line\", \"ordered_globals\": [\"x\", \"i\"], \"heap\": {}, \"stdout\": \"\", \"stack_to_render\": []}, {\"func_name\": \"<module>\", \"globals\": {\"x\": 335, \"i\": 335}, \"line\": 4, \"event\": \"step_line\", \"ordered_globals\": [\"x\", \"i\"], \"heap\": {}, \"stdout\": \"\", \"stack_to_render\": []}, {\"func_name\": \"<module>\", \"globals\": {\"x\": 336, \"i\": 335}, \"line\": 3, \"event\": \"step_line\", \"ordered_globals\": [\"x\", \"i\"], \"heap\": {}, \"stdout\": \"\", \"stack_to_render\": []}, {\"func_name\": \"<module>\", \"globals\": {\"x\": 336, \"i\": 336}, \"line\": 4, \"event\": \"step_line\", \"ordered_globals\": [\"x\", \"i\"], \"heap\": {}, \"stdout\": \"\", \"stack_to_render\": []}, {\"func_name\": \"<module>\", \"globals\": {\"x\": 337, \"i\": 336}, \"line\": 3, \"event\": \"step_line\", \"ordered_globals\": [\"x\", \"i\"], \"heap\": {}, \"stdout\": \"\", \"stack_to_render\": []}, {\"func_name\": \"<module>\", \"globals\": {\"x\": 337, \"i\": 337}, \"line\": 4, \"event\": \"step_line\", \"ordered_globals\": [\"x\", \"i\"], \"heap\": {}, \"stdout\": \"\", \"stack_to_render\": []}, {\"func_name\": \"<module>\", \"globals\": {\"x\": 338, \"i\": 337}, \"line\": 3, \"event\": \"step_line\", \"ordered_globals\": [\"x\", \"i\"], \"heap\": {}, \"stdout\": \"\", \"stack_to_render\": []}, {\"func_name\": \"<module>\", \"globals\": {\"x\": 338, \"i\": 338}, \"line\": 4, \"event\": \"step_line\", \"ordered_globals\": [\"x\", \"i\"], \"heap\": {}, \"stdout\": \"\", \"stack_to_render\": []}, {\"func_name\": \"<module>\", \"globals\": {\"x\": 339, \"i\": 338}, \"line\": 3, \"event\": \"step_line\", \"ordered_globals\": [\"x\", \"i\"], \"heap\": {}, \"stdout\": \"\", \"stack_to_render\": []}, {\"func_name\": \"<module>\", \"globals\": {\"x\": 339, \"i\": 339}, \"line\": 4, \"event\": \"step_line\", \"ordered_globals\": [\"x\", \"i\"], \"heap\": {}, \"stdout\": \"\", \"stack_to_render\": []}, {\"func_name\": \"<module>\", \"globals\": {\"x\": 340, \"i\": 339}, \"line\": 3, \"event\": \"step_line\", \"ordered_globals\": [\"x\", \"i\"], \"heap\": {}, \"stdout\": \"\", \"stack_to_render\": []}, {\"func_name\": \"<module>\", \"globals\": {\"x\": 340, \"i\": 340}, \"line\": 4, \"event\": \"step_line\", \"ordered_globals\": [\"x\", \"i\"], \"heap\": {}, \"stdout\": \"\", \"stack_to_render\": []}, {\"func_name\": \"<module>\", \"globals\": {\"x\": 341, \"i\": 340}, \"line\": 3, \"event\": \"step_line\", \"ordered_globals\": [\"x\", \"i\"], \"heap\": {}, \"stdout\": \"\", \"stack_to_render\": []}, {\"func_name\": \"<module>\", \"globals\": {\"x\": 341, \"i\": 341}, \"line\": 4, \"event\": \"step_line\", \"ordered_globals\": [\"x\", \"i\"], \"heap\": {}, \"stdout\": \"\", \"stack_to_render\": []}, {\"func_name\": \"<module>\", \"globals\": {\"x\": 342, \"i\": 341}, \"line\": 3, \"event\": \"step_line\", \"ordered_globals\": [\"x\", \"i\"], \"heap\": {}, \"stdout\": \"\", \"stack_to_render\": []}, {\"func_name\": \"<module>\", \"globals\": {\"x\": 342, \"i\": 342}, \"line\": 4, \"event\": \"step_line\", \"ordered_globals\": [\"x\", \"i\"], \"heap\": {}, \"stdout\": \"\", \"stack_to_render\": []}, {\"func_name\": \"<module>\", \"globals\": {\"x\": 343, \"i\": 342}, \"line\": 3, \"event\": \"step_line\", \"ordered_globals\": [\"x\", \"i\"], \"heap\": {}, \"stdout\": \"\", \"stack_to_render\": []}, {\"func_name\": \"<module>\", \"globals\": {\"x\": 343, \"i\": 343}, \"line\": 4, \"event\": \"step_line\", \"ordered_globals\": [\"x\", \"i\"], \"heap\": {}, \"stdout\": \"\", \"stack_to_render\": []}, {\"func_name\": \"<module>\", \"globals\": {\"x\": 344, \"i\": 343}, \"line\": 3, \"event\": \"step_line\", \"ordered_globals\": [\"x\", \"i\"], \"heap\": {}, \"stdout\": \"\", \"stack_to_render\": []}, {\"func_name\": \"<module>\", \"globals\": {\"x\": 344, \"i\": 344}, \"line\": 4, \"event\": \"step_line\", \"ordered_globals\": [\"x\", \"i\"], \"heap\": {}, \"stdout\": \"\", \"stack_to_render\": []}, {\"func_name\": \"<module>\", \"globals\": {\"x\": 345, \"i\": 344}, \"line\": 3, \"event\": \"step_line\", \"ordered_globals\": [\"x\", \"i\"], \"heap\": {}, \"stdout\": \"\", \"stack_to_render\": []}, {\"func_name\": \"<module>\", \"globals\": {\"x\": 345, \"i\": 345}, \"line\": 4, \"event\": \"step_line\", \"ordered_globals\": [\"x\", \"i\"], \"heap\": {}, \"stdout\": \"\", \"stack_to_render\": []}, {\"func_name\": \"<module>\", \"globals\": {\"x\": 346, \"i\": 345}, \"line\": 3, \"event\": \"step_line\", \"ordered_globals\": [\"x\", \"i\"], \"heap\": {}, \"stdout\": \"\", \"stack_to_render\": []}, {\"func_name\": \"<module>\", \"globals\": {\"x\": 346, \"i\": 346}, \"line\": 4, \"event\": \"step_line\", \"ordered_globals\": [\"x\", \"i\"], \"heap\": {}, \"stdout\": \"\", \"stack_to_render\": []}, {\"func_name\": \"<module>\", \"globals\": {\"x\": 347, \"i\": 346}, \"line\": 3, \"event\": \"step_line\", \"ordered_globals\": [\"x\", \"i\"], \"heap\": {}, \"stdout\": \"\", \"stack_to_render\": []}, {\"func_name\": \"<module>\", \"globals\": {\"x\": 347, \"i\": 347}, \"line\": 4, \"event\": \"step_line\", \"ordered_globals\": [\"x\", \"i\"], \"heap\": {}, \"stdout\": \"\", \"stack_to_render\": []}, {\"func_name\": \"<module>\", \"globals\": {\"x\": 348, \"i\": 347}, \"line\": 3, \"event\": \"step_line\", \"ordered_globals\": [\"x\", \"i\"], \"heap\": {}, \"stdout\": \"\", \"stack_to_render\": []}, {\"func_name\": \"<module>\", \"globals\": {\"x\": 348, \"i\": 348}, \"line\": 4, \"event\": \"step_line\", \"ordered_globals\": [\"x\", \"i\"], \"heap\": {}, \"stdout\": \"\", \"stack_to_render\": []}, {\"func_name\": \"<module>\", \"globals\": {\"x\": 349, \"i\": 348}, \"line\": 3, \"event\": \"step_line\", \"ordered_globals\": [\"x\", \"i\"], \"heap\": {}, \"stdout\": \"\", \"stack_to_render\": []}, {\"func_name\": \"<module>\", \"globals\": {\"x\": 349, \"i\": 349}, \"line\": 4, \"event\": \"step_line\", \"ordered_globals\": [\"x\", \"i\"], \"heap\": {}, \"stdout\": \"\", \"stack_to_render\": []}, {\"func_name\": \"<module>\", \"globals\": {\"x\": 350, \"i\": 349}, \"line\": 3, \"event\": \"step_line\", \"ordered_globals\": [\"x\", \"i\"], \"heap\": {}, \"stdout\": \"\", \"stack_to_render\": []}, {\"func_name\": \"<module>\", \"globals\": {\"x\": 350, \"i\": 350}, \"line\": 4, \"event\": \"step_line\", \"ordered_globals\": [\"x\", \"i\"], \"heap\": {}, \"stdout\": \"\", \"stack_to_render\": []}, {\"func_name\": \"<module>\", \"globals\": {\"x\": 351, \"i\": 350}, \"line\": 3, \"event\": \"step_line\", \"ordered_globals\": [\"x\", \"i\"], \"heap\": {}, \"stdout\": \"\", \"stack_to_render\": []}, {\"func_name\": \"<module>\", \"globals\": {\"x\": 351, \"i\": 351}, \"line\": 4, \"event\": \"step_line\", \"ordered_globals\": [\"x\", \"i\"], \"heap\": {}, \"stdout\": \"\", \"stack_to_render\": []}, {\"func_name\": \"<module>\", \"globals\": {\"x\": 352, \"i\": 351}, \"line\": 3, \"event\": \"step_line\", \"ordered_globals\": [\"x\", \"i\"], \"heap\": {}, \"stdout\": \"\", \"stack_to_render\": []}, {\"func_name\": \"<module>\", \"globals\": {\"x\": 352, \"i\": 352}, \"line\": 4, \"event\": \"step_line\", \"ordered_globals\": [\"x\", \"i\"], \"heap\": {}, \"stdout\": \"\", \"stack_to_render\": []}, {\"func_name\": \"<module>\", \"globals\": {\"x\": 353, \"i\": 352}, \"line\": 3, \"event\": \"step_line\", \"ordered_globals\": [\"x\", \"i\"], \"heap\": {}, \"stdout\": \"\", \"stack_to_render\": []}, {\"func_name\": \"<module>\", \"globals\": {\"x\": 353, \"i\": 353}, \"line\": 4, \"event\": \"step_line\", \"ordered_globals\": [\"x\", \"i\"], \"heap\": {}, \"stdout\": \"\", \"stack_to_render\": []}, {\"func_name\": \"<module>\", \"globals\": {\"x\": 354, \"i\": 353}, \"line\": 3, \"event\": \"step_line\", \"ordered_globals\": [\"x\", \"i\"], \"heap\": {}, \"stdout\": \"\", \"stack_to_render\": []}, {\"func_name\": \"<module>\", \"globals\": {\"x\": 354, \"i\": 354}, \"line\": 4, \"event\": \"step_line\", \"ordered_globals\": [\"x\", \"i\"], \"heap\": {}, \"stdout\": \"\", \"stack_to_render\": []}, {\"func_name\": \"<module>\", \"globals\": {\"x\": 355, \"i\": 354}, \"line\": 3, \"event\": \"step_line\", \"ordered_globals\": [\"x\", \"i\"], \"heap\": {}, \"stdout\": \"\", \"stack_to_render\": []}, {\"func_name\": \"<module>\", \"globals\": {\"x\": 355, \"i\": 355}, \"line\": 4, \"event\": \"step_line\", \"ordered_globals\": [\"x\", \"i\"], \"heap\": {}, \"stdout\": \"\", \"stack_to_render\": []}, {\"func_name\": \"<module>\", \"globals\": {\"x\": 356, \"i\": 355}, \"line\": 3, \"event\": \"step_line\", \"ordered_globals\": [\"x\", \"i\"], \"heap\": {}, \"stdout\": \"\", \"stack_to_render\": []}, {\"func_name\": \"<module>\", \"globals\": {\"x\": 356, \"i\": 356}, \"line\": 4, \"event\": \"step_line\", \"ordered_globals\": [\"x\", \"i\"], \"heap\": {}, \"stdout\": \"\", \"stack_to_render\": []}, {\"func_name\": \"<module>\", \"globals\": {\"x\": 357, \"i\": 356}, \"line\": 3, \"event\": \"step_line\", \"ordered_globals\": [\"x\", \"i\"], \"heap\": {}, \"stdout\": \"\", \"stack_to_render\": []}, {\"func_name\": \"<module>\", \"globals\": {\"x\": 357, \"i\": 357}, \"line\": 4, \"event\": \"step_line\", \"ordered_globals\": [\"x\", \"i\"], \"heap\": {}, \"stdout\": \"\", \"stack_to_render\": []}, {\"func_name\": \"<module>\", \"globals\": {\"x\": 358, \"i\": 357}, \"line\": 3, \"event\": \"step_line\", \"ordered_globals\": [\"x\", \"i\"], \"heap\": {}, \"stdout\": \"\", \"stack_to_render\": []}, {\"func_name\": \"<module>\", \"globals\": {\"x\": 358, \"i\": 358}, \"line\": 4, \"event\": \"step_line\", \"ordered_globals\": [\"x\", \"i\"], \"heap\": {}, \"stdout\": \"\", \"stack_to_render\": []}, {\"func_name\": \"<module>\", \"globals\": {\"x\": 359, \"i\": 358}, \"line\": 3, \"event\": \"step_line\", \"ordered_globals\": [\"x\", \"i\"], \"heap\": {}, \"stdout\": \"\", \"stack_to_render\": []}, {\"func_name\": \"<module>\", \"globals\": {\"x\": 359, \"i\": 359}, \"line\": 4, \"event\": \"step_line\", \"ordered_globals\": [\"x\", \"i\"], \"heap\": {}, \"stdout\": \"\", \"stack_to_render\": []}, {\"func_name\": \"<module>\", \"globals\": {\"x\": 360, \"i\": 359}, \"line\": 3, \"event\": \"step_line\", \"ordered_globals\": [\"x\", \"i\"], \"heap\": {}, \"stdout\": \"\", \"stack_to_render\": []}, {\"func_name\": \"<module>\", \"globals\": {\"x\": 360, \"i\": 360}, \"line\": 4, \"event\": \"step_line\", \"ordered_globals\": [\"x\", \"i\"], \"heap\": {}, \"stdout\": \"\", \"stack_to_render\": []}, {\"func_name\": \"<module>\", \"globals\": {\"x\": 361, \"i\": 360}, \"line\": 3, \"event\": \"step_line\", \"ordered_globals\": [\"x\", \"i\"], \"heap\": {}, \"stdout\": \"\", \"stack_to_render\": []}, {\"func_name\": \"<module>\", \"globals\": {\"x\": 361, \"i\": 361}, \"line\": 4, \"event\": \"step_line\", \"ordered_globals\": [\"x\", \"i\"], \"heap\": {}, \"stdout\": \"\", \"stack_to_render\": []}, {\"func_name\": \"<module>\", \"globals\": {\"x\": 362, \"i\": 361}, \"line\": 3, \"event\": \"step_line\", \"ordered_globals\": [\"x\", \"i\"], \"heap\": {}, \"stdout\": \"\", \"stack_to_render\": []}, {\"func_name\": \"<module>\", \"globals\": {\"x\": 362, \"i\": 362}, \"line\": 4, \"event\": \"step_line\", \"ordered_globals\": [\"x\", \"i\"], \"heap\": {}, \"stdout\": \"\", \"stack_to_render\": []}, {\"func_name\": \"<module>\", \"globals\": {\"x\": 363, \"i\": 362}, \"line\": 3, \"event\": \"step_line\", \"ordered_globals\": [\"x\", \"i\"], \"heap\": {}, \"stdout\": \"\", \"stack_to_render\": []}, {\"func_name\": \"<module>\", \"globals\": {\"x\": 363, \"i\": 363}, \"line\": 4, \"event\": \"step_line\", \"ordered_globals\": [\"x\", \"i\"], \"heap\": {}, \"stdout\": \"\", \"stack_to_render\": []}, {\"func_name\": \"<module>\", \"globals\": {\"x\": 364, \"i\": 363}, \"line\": 3, \"event\": \"step_line\", \"ordered_globals\": [\"x\", \"i\"], \"heap\": {}, \"stdout\": \"\", \"stack_to_render\": []}, {\"func_name\": \"<module>\", \"globals\": {\"x\": 364, \"i\": 364}, \"line\": 4, \"event\": \"step_line\", \"ordered_globals\": [\"x\", \"i\"], \"heap\": {}, \"stdout\": \"\", \"stack_to_render\": []}, {\"func_name\": \"<module>\", \"globals\": {\"x\": 365, \"i\": 364}, \"line\": 3, \"event\": \"step_line\", \"ordered_globals\": [\"x\", \"i\"], \"heap\": {}, \"stdout\": \"\", \"stack_to_render\": []}, {\"func_name\": \"<module>\", \"globals\": {\"x\": 365, \"i\": 365}, \"line\": 4, \"event\": \"step_line\", \"ordered_globals\": [\"x\", \"i\"], \"heap\": {}, \"stdout\": \"\", \"stack_to_render\": []}, {\"func_name\": \"<module>\", \"globals\": {\"x\": 366, \"i\": 365}, \"line\": 3, \"event\": \"step_line\", \"ordered_globals\": [\"x\", \"i\"], \"heap\": {}, \"stdout\": \"\", \"stack_to_render\": []}, {\"func_name\": \"<module>\", \"globals\": {\"x\": 366, \"i\": 366}, \"line\": 4, \"event\": \"step_line\", \"ordered_globals\": [\"x\", \"i\"], \"heap\": {}, \"stdout\": \"\", \"stack_to_render\": []}, {\"func_name\": \"<module>\", \"globals\": {\"x\": 367, \"i\": 366}, \"line\": 3, \"event\": \"step_line\", \"ordered_globals\": [\"x\", \"i\"], \"heap\": {}, \"stdout\": \"\", \"stack_to_render\": []}, {\"func_name\": \"<module>\", \"globals\": {\"x\": 367, \"i\": 367}, \"line\": 4, \"event\": \"step_line\", \"ordered_globals\": [\"x\", \"i\"], \"heap\": {}, \"stdout\": \"\", \"stack_to_render\": []}, {\"func_name\": \"<module>\", \"globals\": {\"x\": 368, \"i\": 367}, \"line\": 3, \"event\": \"step_line\", \"ordered_globals\": [\"x\", \"i\"], \"heap\": {}, \"stdout\": \"\", \"stack_to_render\": []}, {\"func_name\": \"<module>\", \"globals\": {\"x\": 368, \"i\": 368}, \"line\": 4, \"event\": \"step_line\", \"ordered_globals\": [\"x\", \"i\"], \"heap\": {}, \"stdout\": \"\", \"stack_to_render\": []}, {\"func_name\": \"<module>\", \"globals\": {\"x\": 369, \"i\": 368}, \"line\": 3, \"event\": \"step_line\", \"ordered_globals\": [\"x\", \"i\"], \"heap\": {}, \"stdout\": \"\", \"stack_to_render\": []}, {\"func_name\": \"<module>\", \"globals\": {\"x\": 369, \"i\": 369}, \"line\": 4, \"event\": \"step_line\", \"ordered_globals\": [\"x\", \"i\"], \"heap\": {}, \"stdout\": \"\", \"stack_to_render\": []}, {\"func_name\": \"<module>\", \"globals\": {\"x\": 370, \"i\": 369}, \"line\": 3, \"event\": \"step_line\", \"ordered_globals\": [\"x\", \"i\"], \"heap\": {}, \"stdout\": \"\", \"stack_to_render\": []}, {\"func_name\": \"<module>\", \"globals\": {\"x\": 370, \"i\": 370}, \"line\": 4, \"event\": \"step_line\", \"ordered_globals\": [\"x\", \"i\"], \"heap\": {}, \"stdout\": \"\", \"stack_to_render\": []}, {\"func_name\": \"<module>\", \"globals\": {\"x\": 371, \"i\": 370}, \"line\": 3, \"event\": \"step_line\", \"ordered_globals\": [\"x\", \"i\"], \"heap\": {}, \"stdout\": \"\", \"stack_to_render\": []}, {\"func_name\": \"<module>\", \"globals\": {\"x\": 371, \"i\": 371}, \"line\": 4, \"event\": \"step_line\", \"ordered_globals\": [\"x\", \"i\"], \"heap\": {}, \"stdout\": \"\", \"stack_to_render\": []}, {\"func_name\": \"<module>\", \"globals\": {\"x\": 372, \"i\": 371}, \"line\": 3, \"event\": \"step_line\", \"ordered_globals\": [\"x\", \"i\"], \"heap\": {}, \"stdout\": \"\", \"stack_to_render\": []}, {\"func_name\": \"<module>\", \"globals\": {\"x\": 372, \"i\": 372}, \"line\": 4, \"event\": \"step_line\", \"ordered_globals\": [\"x\", \"i\"], \"heap\": {}, \"stdout\": \"\", \"stack_to_render\": []}, {\"func_name\": \"<module>\", \"globals\": {\"x\": 373, \"i\": 372}, \"line\": 3, \"event\": \"step_line\", \"ordered_globals\": [\"x\", \"i\"], \"heap\": {}, \"stdout\": \"\", \"stack_to_render\": []}, {\"func_name\": \"<module>\", \"globals\": {\"x\": 373, \"i\": 373}, \"line\": 4, \"event\": \"step_line\", \"ordered_globals\": [\"x\", \"i\"], \"heap\": {}, \"stdout\": \"\", \"stack_to_render\": []}, {\"func_name\": \"<module>\", \"globals\": {\"x\": 374, \"i\": 373}, \"line\": 3, \"event\": \"step_line\", \"ordered_globals\": [\"x\", \"i\"], \"heap\": {}, \"stdout\": \"\", \"stack_to_render\": []}, {\"func_name\": \"<module>\", \"globals\": {\"x\": 374, \"i\": 374}, \"line\": 4, \"event\": \"step_line\", \"ordered_globals\": [\"x\", \"i\"], \"heap\": {}, \"stdout\": \"\", \"stack_to_render\": []}, {\"func_name\": \"<module>\", \"globals\": {\"x\": 375, \"i\": 374}, \"line\": 3, \"event\": \"step_line\", \"ordered_globals\": [\"x\", \"i\"], \"heap\": {}, \"stdout\": \"\", \"stack_to_render\": []}, {\"func_name\": \"<module>\", \"globals\": {\"x\": 375, \"i\": 375}, \"line\": 4, \"event\": \"step_line\", \"ordered_globals\": [\"x\", \"i\"], \"heap\": {}, \"stdout\": \"\", \"stack_to_render\": []}, {\"func_name\": \"<module>\", \"globals\": {\"x\": 376, \"i\": 375}, \"line\": 3, \"event\": \"step_line\", \"ordered_globals\": [\"x\", \"i\"], \"heap\": {}, \"stdout\": \"\", \"stack_to_render\": []}, {\"func_name\": \"<module>\", \"globals\": {\"x\": 376, \"i\": 376}, \"line\": 4, \"event\": \"step_line\", \"ordered_globals\": [\"x\", \"i\"], \"heap\": {}, \"stdout\": \"\", \"stack_to_render\": []}, {\"func_name\": \"<module>\", \"globals\": {\"x\": 377, \"i\": 376}, \"line\": 3, \"event\": \"step_line\", \"ordered_globals\": [\"x\", \"i\"], \"heap\": {}, \"stdout\": \"\", \"stack_to_render\": []}, {\"func_name\": \"<module>\", \"globals\": {\"x\": 377, \"i\": 377}, \"line\": 4, \"event\": \"step_line\", \"ordered_globals\": [\"x\", \"i\"], \"heap\": {}, \"stdout\": \"\", \"stack_to_render\": []}, {\"func_name\": \"<module>\", \"globals\": {\"x\": 378, \"i\": 377}, \"line\": 3, \"event\": \"step_line\", \"ordered_globals\": [\"x\", \"i\"], \"heap\": {}, \"stdout\": \"\", \"stack_to_render\": []}, {\"func_name\": \"<module>\", \"globals\": {\"x\": 378, \"i\": 378}, \"line\": 4, \"event\": \"step_line\", \"ordered_globals\": [\"x\", \"i\"], \"heap\": {}, \"stdout\": \"\", \"stack_to_render\": []}, {\"func_name\": \"<module>\", \"globals\": {\"x\": 379, \"i\": 378}, \"line\": 3, \"event\": \"step_line\", \"ordered_globals\": [\"x\", \"i\"], \"heap\": {}, \"stdout\": \"\", \"stack_to_render\": []}, {\"func_name\": \"<module>\", \"globals\": {\"x\": 379, \"i\": 379}, \"line\": 4, \"event\": \"step_line\", \"ordered_globals\": [\"x\", \"i\"], \"heap\": {}, \"stdout\": \"\", \"stack_to_render\": []}, {\"func_name\": \"<module>\", \"globals\": {\"x\": 380, \"i\": 379}, \"line\": 3, \"event\": \"step_line\", \"ordered_globals\": [\"x\", \"i\"], \"heap\": {}, \"stdout\": \"\", \"stack_to_render\": []}, {\"func_name\": \"<module>\", \"globals\": {\"x\": 380, \"i\": 380}, \"line\": 4, \"event\": \"step_line\", \"ordered_globals\": [\"x\", \"i\"], \"heap\": {}, \"stdout\": \"\", \"stack_to_render\": []}, {\"func_name\": \"<module>\", \"globals\": {\"x\": 381, \"i\": 380}, \"line\": 3, \"event\": \"step_line\", \"ordered_globals\": [\"x\", \"i\"], \"heap\": {}, \"stdout\": \"\", \"stack_to_render\": []}, {\"func_name\": \"<module>\", \"globals\": {\"x\": 381, \"i\": 381}, \"line\": 4, \"event\": \"step_line\", \"ordered_globals\": [\"x\", \"i\"], \"heap\": {}, \"stdout\": \"\", \"stack_to_render\": []}, {\"func_name\": \"<module>\", \"globals\": {\"x\": 382, \"i\": 381}, \"line\": 3, \"event\": \"step_line\", \"ordered_globals\": [\"x\", \"i\"], \"heap\": {}, \"stdout\": \"\", \"stack_to_render\": []}, {\"func_name\": \"<module>\", \"globals\": {\"x\": 382, \"i\": 382}, \"line\": 4, \"event\": \"step_line\", \"ordered_globals\": [\"x\", \"i\"], \"heap\": {}, \"stdout\": \"\", \"stack_to_render\": []}, {\"func_name\": \"<module>\", \"globals\": {\"x\": 383, \"i\": 382}, \"line\": 3, \"event\": \"step_line\", \"ordered_globals\": [\"x\", \"i\"], \"heap\": {}, \"stdout\": \"\", \"stack_to_render\": []}, {\"func_name\": \"<module>\", \"globals\": {\"x\": 383, \"i\": 383}, \"line\": 4, \"event\": \"step_line\", \"ordered_globals\": [\"x\", \"i\"], \"heap\": {}, \"stdout\": \"\", \"stack_to_render\": []}, {\"func_name\": \"<module>\", \"globals\": {\"x\": 384, \"i\": 383}, \"line\": 3, \"event\": \"step_line\", \"ordered_globals\": [\"x\", \"i\"], \"heap\": {}, \"stdout\": \"\", \"stack_to_render\": []}, {\"func_name\": \"<module>\", \"globals\": {\"x\": 384, \"i\": 384}, \"line\": 4, \"event\": \"step_line\", \"ordered_globals\": [\"x\", \"i\"], \"heap\": {}, \"stdout\": \"\", \"stack_to_render\": []}, {\"func_name\": \"<module>\", \"globals\": {\"x\": 385, \"i\": 384}, \"line\": 3, \"event\": \"step_line\", \"ordered_globals\": [\"x\", \"i\"], \"heap\": {}, \"stdout\": \"\", \"stack_to_render\": []}, {\"func_name\": \"<module>\", \"globals\": {\"x\": 385, \"i\": 385}, \"line\": 4, \"event\": \"step_line\", \"ordered_globals\": [\"x\", \"i\"], \"heap\": {}, \"stdout\": \"\", \"stack_to_render\": []}, {\"func_name\": \"<module>\", \"globals\": {\"x\": 386, \"i\": 385}, \"line\": 3, \"event\": \"step_line\", \"ordered_globals\": [\"x\", \"i\"], \"heap\": {}, \"stdout\": \"\", \"stack_to_render\": []}, {\"func_name\": \"<module>\", \"globals\": {\"x\": 386, \"i\": 386}, \"line\": 4, \"event\": \"step_line\", \"ordered_globals\": [\"x\", \"i\"], \"heap\": {}, \"stdout\": \"\", \"stack_to_render\": []}, {\"func_name\": \"<module>\", \"globals\": {\"x\": 387, \"i\": 386}, \"line\": 3, \"event\": \"step_line\", \"ordered_globals\": [\"x\", \"i\"], \"heap\": {}, \"stdout\": \"\", \"stack_to_render\": []}, {\"func_name\": \"<module>\", \"globals\": {\"x\": 387, \"i\": 387}, \"line\": 4, \"event\": \"step_line\", \"ordered_globals\": [\"x\", \"i\"], \"heap\": {}, \"stdout\": \"\", \"stack_to_render\": []}, {\"func_name\": \"<module>\", \"globals\": {\"x\": 388, \"i\": 387}, \"line\": 3, \"event\": \"step_line\", \"ordered_globals\": [\"x\", \"i\"], \"heap\": {}, \"stdout\": \"\", \"stack_to_render\": []}, {\"func_name\": \"<module>\", \"globals\": {\"x\": 388, \"i\": 388}, \"line\": 4, \"event\": \"step_line\", \"ordered_globals\": [\"x\", \"i\"], \"heap\": {}, \"stdout\": \"\", \"stack_to_render\": []}, {\"func_name\": \"<module>\", \"globals\": {\"x\": 389, \"i\": 388}, \"line\": 3, \"event\": \"step_line\", \"ordered_globals\": [\"x\", \"i\"], \"heap\": {}, \"stdout\": \"\", \"stack_to_render\": []}, {\"func_name\": \"<module>\", \"globals\": {\"x\": 389, \"i\": 389}, \"line\": 4, \"event\": \"step_line\", \"ordered_globals\": [\"x\", \"i\"], \"heap\": {}, \"stdout\": \"\", \"stack_to_render\": []}, {\"func_name\": \"<module>\", \"globals\": {\"x\": 390, \"i\": 389}, \"line\": 3, \"event\": \"step_line\", \"ordered_globals\": [\"x\", \"i\"], \"heap\": {}, \"stdout\": \"\", \"stack_to_render\": []}, {\"func_name\": \"<module>\", \"globals\": {\"x\": 390, \"i\": 390}, \"line\": 4, \"event\": \"step_line\", \"ordered_globals\": [\"x\", \"i\"], \"heap\": {}, \"stdout\": \"\", \"stack_to_render\": []}, {\"func_name\": \"<module>\", \"globals\": {\"x\": 391, \"i\": 390}, \"line\": 3, \"event\": \"step_line\", \"ordered_globals\": [\"x\", \"i\"], \"heap\": {}, \"stdout\": \"\", \"stack_to_render\": []}, {\"func_name\": \"<module>\", \"globals\": {\"x\": 391, \"i\": 391}, \"line\": 4, \"event\": \"step_line\", \"ordered_globals\": [\"x\", \"i\"], \"heap\": {}, \"stdout\": \"\", \"stack_to_render\": []}, {\"func_name\": \"<module>\", \"globals\": {\"x\": 392, \"i\": 391}, \"line\": 3, \"event\": \"step_line\", \"ordered_globals\": [\"x\", \"i\"], \"heap\": {}, \"stdout\": \"\", \"stack_to_render\": []}, {\"func_name\": \"<module>\", \"globals\": {\"x\": 392, \"i\": 392}, \"line\": 4, \"event\": \"step_line\", \"ordered_globals\": [\"x\", \"i\"], \"heap\": {}, \"stdout\": \"\", \"stack_to_render\": []}, {\"func_name\": \"<module>\", \"globals\": {\"x\": 393, \"i\": 392}, \"line\": 3, \"event\": \"step_line\", \"ordered_globals\": [\"x\", \"i\"], \"heap\": {}, \"stdout\": \"\", \"stack_to_render\": []}, {\"func_name\": \"<module>\", \"globals\": {\"x\": 393, \"i\": 393}, \"line\": 4, \"event\": \"step_line\", \"ordered_globals\": [\"x\", \"i\"], \"heap\": {}, \"stdout\": \"\", \"stack_to_render\": []}, {\"func_name\": \"<module>\", \"globals\": {\"x\": 394, \"i\": 393}, \"line\": 3, \"event\": \"step_line\", \"ordered_globals\": [\"x\", \"i\"], \"heap\": {}, \"stdout\": \"\", \"stack_to_render\": []}, {\"func_name\": \"<module>\", \"globals\": {\"x\": 394, \"i\": 394}, \"line\": 4, \"event\": \"step_line\", \"ordered_globals\": [\"x\", \"i\"], \"heap\": {}, \"stdout\": \"\", \"stack_to_render\": []}, {\"func_name\": \"<module>\", \"globals\": {\"x\": 395, \"i\": 394}, \"line\": 3, \"event\": \"step_line\", \"ordered_globals\": [\"x\", \"i\"], \"heap\": {}, \"stdout\": \"\", \"stack_to_render\": []}, {\"func_name\": \"<module>\", \"globals\": {\"x\": 395, \"i\": 395}, \"line\": 4, \"event\": \"step_line\", \"ordered_globals\": [\"x\", \"i\"], \"heap\": {}, \"stdout\": \"\", \"stack_to_render\": []}, {\"func_name\": \"<module>\", \"globals\": {\"x\": 396, \"i\": 395}, \"line\": 3, \"event\": \"step_line\", \"ordered_globals\": [\"x\", \"i\"], \"heap\": {}, \"stdout\": \"\", \"stack_to_render\": []}, {\"func_name\": \"<module>\", \"globals\": {\"x\": 396, \"i\": 396}, \"line\": 4, \"event\": \"step_line\", \"ordered_globals\": [\"x\", \"i\"], \"heap\": {}, \"stdout\": \"\", \"stack_to_render\": []}, {\"func_name\": \"<module>\", \"globals\": {\"x\": 397, \"i\": 396}, \"line\": 3, \"event\": \"step_line\", \"ordered_globals\": [\"x\", \"i\"], \"heap\": {}, \"stdout\": \"\", \"stack_to_render\": []}, {\"func_name\": \"<module>\", \"globals\": {\"x\": 397, \"i\": 397}, \"line\": 4, \"event\": \"step_line\", \"ordered_globals\": [\"x\", \"i\"], \"heap\": {}, \"stdout\": \"\", \"stack_to_render\": []}, {\"func_name\": \"<module>\", \"globals\": {\"x\": 398, \"i\": 397}, \"line\": 3, \"event\": \"step_line\", \"ordered_globals\": [\"x\", \"i\"], \"heap\": {}, \"stdout\": \"\", \"stack_to_render\": []}, {\"func_name\": \"<module>\", \"globals\": {\"x\": 398, \"i\": 398}, \"line\": 4, \"event\": \"step_line\", \"ordered_globals\": [\"x\", \"i\"], \"heap\": {}, \"stdout\": \"\", \"stack_to_render\": []}, {\"func_name\": \"<module>\", \"globals\": {\"x\": 399, \"i\": 398}, \"line\": 3, \"event\": \"step_line\", \"ordered_globals\": [\"x\", \"i\"], \"heap\": {}, \"stdout\": \"\", \"stack_to_render\": []}, {\"func_name\": \"<module>\", \"globals\": {\"x\": 399, \"i\": 399}, \"line\": 4, \"event\": \"step_line\", \"ordered_globals\": [\"x\", \"i\"], \"heap\": {}, \"stdout\": \"\", \"stack_to_render\": []}, {\"func_name\": \"<module>\", \"globals\": {\"x\": 400, \"i\": 399}, \"line\": 3, \"event\": \"step_line\", \"ordered_globals\": [\"x\", \"i\"], \"heap\": {}, \"stdout\": \"\", \"stack_to_render\": []}, {\"func_name\": \"<module>\", \"globals\": {\"x\": 400, \"i\": 400}, \"line\": 4, \"event\": \"step_line\", \"ordered_globals\": [\"x\", \"i\"], \"heap\": {}, \"stdout\": \"\", \"stack_to_render\": []}, {\"func_name\": \"<module>\", \"globals\": {\"x\": 401, \"i\": 400}, \"line\": 3, \"event\": \"step_line\", \"ordered_globals\": [\"x\", \"i\"], \"heap\": {}, \"stdout\": \"\", \"stack_to_render\": []}, {\"func_name\": \"<module>\", \"globals\": {\"x\": 401, \"i\": 401}, \"line\": 4, \"event\": \"step_line\", \"ordered_globals\": [\"x\", \"i\"], \"heap\": {}, \"stdout\": \"\", \"stack_to_render\": []}, {\"func_name\": \"<module>\", \"globals\": {\"x\": 402, \"i\": 401}, \"line\": 3, \"event\": \"step_line\", \"ordered_globals\": [\"x\", \"i\"], \"heap\": {}, \"stdout\": \"\", \"stack_to_render\": []}, {\"func_name\": \"<module>\", \"globals\": {\"x\": 402, \"i\": 402}, \"line\": 4, \"event\": \"step_line\", \"ordered_globals\": [\"x\", \"i\"], \"heap\": {}, \"stdout\": \"\", \"stack_to_render\": []}, {\"func_name\": \"<module>\", \"globals\": {\"x\": 403, \"i\": 402}, \"line\": 3, \"event\": \"step_line\", \"ordered_globals\": [\"x\", \"i\"], \"heap\": {}, \"stdout\": \"\", \"stack_to_render\": []}, {\"func_name\": \"<module>\", \"globals\": {\"x\": 403, \"i\": 403}, \"line\": 4, \"event\": \"step_line\", \"ordered_globals\": [\"x\", \"i\"], \"heap\": {}, \"stdout\": \"\", \"stack_to_render\": []}, {\"func_name\": \"<module>\", \"globals\": {\"x\": 404, \"i\": 403}, \"line\": 3, \"event\": \"step_line\", \"ordered_globals\": [\"x\", \"i\"], \"heap\": {}, \"stdout\": \"\", \"stack_to_render\": []}, {\"func_name\": \"<module>\", \"globals\": {\"x\": 404, \"i\": 404}, \"line\": 4, \"event\": \"step_line\", \"ordered_globals\": [\"x\", \"i\"], \"heap\": {}, \"stdout\": \"\", \"stack_to_render\": []}, {\"func_name\": \"<module>\", \"globals\": {\"x\": 405, \"i\": 404}, \"line\": 3, \"event\": \"step_line\", \"ordered_globals\": [\"x\", \"i\"], \"heap\": {}, \"stdout\": \"\", \"stack_to_render\": []}, {\"func_name\": \"<module>\", \"globals\": {\"x\": 405, \"i\": 405}, \"line\": 4, \"event\": \"step_line\", \"ordered_globals\": [\"x\", \"i\"], \"heap\": {}, \"stdout\": \"\", \"stack_to_render\": []}, {\"func_name\": \"<module>\", \"globals\": {\"x\": 406, \"i\": 405}, \"line\": 3, \"event\": \"step_line\", \"ordered_globals\": [\"x\", \"i\"], \"heap\": {}, \"stdout\": \"\", \"stack_to_render\": []}, {\"func_name\": \"<module>\", \"globals\": {\"x\": 406, \"i\": 406}, \"line\": 4, \"event\": \"step_line\", \"ordered_globals\": [\"x\", \"i\"], \"heap\": {}, \"stdout\": \"\", \"stack_to_render\": []}, {\"func_name\": \"<module>\", \"globals\": {\"x\": 407, \"i\": 406}, \"line\": 3, \"event\": \"step_line\", \"ordered_globals\": [\"x\", \"i\"], \"heap\": {}, \"stdout\": \"\", \"stack_to_render\": []}, {\"func_name\": \"<module>\", \"globals\": {\"x\": 407, \"i\": 407}, \"line\": 4, \"event\": \"step_line\", \"ordered_globals\": [\"x\", \"i\"], \"heap\": {}, \"stdout\": \"\", \"stack_to_render\": []}, {\"func_name\": \"<module>\", \"globals\": {\"x\": 408, \"i\": 407}, \"line\": 3, \"event\": \"step_line\", \"ordered_globals\": [\"x\", \"i\"], \"heap\": {}, \"stdout\": \"\", \"stack_to_render\": []}, {\"func_name\": \"<module>\", \"globals\": {\"x\": 408, \"i\": 408}, \"line\": 4, \"event\": \"step_line\", \"ordered_globals\": [\"x\", \"i\"], \"heap\": {}, \"stdout\": \"\", \"stack_to_render\": []}, {\"func_name\": \"<module>\", \"globals\": {\"x\": 409, \"i\": 408}, \"line\": 3, \"event\": \"step_line\", \"ordered_globals\": [\"x\", \"i\"], \"heap\": {}, \"stdout\": \"\", \"stack_to_render\": []}, {\"func_name\": \"<module>\", \"globals\": {\"x\": 409, \"i\": 409}, \"line\": 4, \"event\": \"step_line\", \"ordered_globals\": [\"x\", \"i\"], \"heap\": {}, \"stdout\": \"\", \"stack_to_render\": []}, {\"func_name\": \"<module>\", \"globals\": {\"x\": 410, \"i\": 409}, \"line\": 3, \"event\": \"step_line\", \"ordered_globals\": [\"x\", \"i\"], \"heap\": {}, \"stdout\": \"\", \"stack_to_render\": []}, {\"func_name\": \"<module>\", \"globals\": {\"x\": 410, \"i\": 410}, \"line\": 4, \"event\": \"step_line\", \"ordered_globals\": [\"x\", \"i\"], \"heap\": {}, \"stdout\": \"\", \"stack_to_render\": []}, {\"func_name\": \"<module>\", \"globals\": {\"x\": 411, \"i\": 410}, \"line\": 3, \"event\": \"step_line\", \"ordered_globals\": [\"x\", \"i\"], \"heap\": {}, \"stdout\": \"\", \"stack_to_render\": []}, {\"func_name\": \"<module>\", \"globals\": {\"x\": 411, \"i\": 411}, \"line\": 4, \"event\": \"step_line\", \"ordered_globals\": [\"x\", \"i\"], \"heap\": {}, \"stdout\": \"\", \"stack_to_render\": []}, {\"func_name\": \"<module>\", \"globals\": {\"x\": 412, \"i\": 411}, \"line\": 3, \"event\": \"step_line\", \"ordered_globals\": [\"x\", \"i\"], \"heap\": {}, \"stdout\": \"\", \"stack_to_render\": []}, {\"func_name\": \"<module>\", \"globals\": {\"x\": 412, \"i\": 412}, \"line\": 4, \"event\": \"step_line\", \"ordered_globals\": [\"x\", \"i\"], \"heap\": {}, \"stdout\": \"\", \"stack_to_render\": []}, {\"func_name\": \"<module>\", \"globals\": {\"x\": 413, \"i\": 412}, \"line\": 3, \"event\": \"step_line\", \"ordered_globals\": [\"x\", \"i\"], \"heap\": {}, \"stdout\": \"\", \"stack_to_render\": []}, {\"func_name\": \"<module>\", \"globals\": {\"x\": 413, \"i\": 413}, \"line\": 4, \"event\": \"step_line\", \"ordered_globals\": [\"x\", \"i\"], \"heap\": {}, \"stdout\": \"\", \"stack_to_render\": []}, {\"func_name\": \"<module>\", \"globals\": {\"x\": 414, \"i\": 413}, \"line\": 3, \"event\": \"step_line\", \"ordered_globals\": [\"x\", \"i\"], \"heap\": {}, \"stdout\": \"\", \"stack_to_render\": []}, {\"func_name\": \"<module>\", \"globals\": {\"x\": 414, \"i\": 414}, \"line\": 4, \"event\": \"step_line\", \"ordered_globals\": [\"x\", \"i\"], \"heap\": {}, \"stdout\": \"\", \"stack_to_render\": []}, {\"func_name\": \"<module>\", \"globals\": {\"x\": 415, \"i\": 414}, \"line\": 3, \"event\": \"step_line\", \"ordered_globals\": [\"x\", \"i\"], \"heap\": {}, \"stdout\": \"\", \"stack_to_render\": []}, {\"func_name\": \"<module>\", \"globals\": {\"x\": 415, \"i\": 415}, \"line\": 4, \"event\": \"step_line\", \"ordered_globals\": [\"x\", \"i\"], \"heap\": {}, \"stdout\": \"\", \"stack_to_render\": []}, {\"func_name\": \"<module>\", \"globals\": {\"x\": 416, \"i\": 415}, \"line\": 3, \"event\": \"step_line\", \"ordered_globals\": [\"x\", \"i\"], \"heap\": {}, \"stdout\": \"\", \"stack_to_render\": []}, {\"func_name\": \"<module>\", \"globals\": {\"x\": 416, \"i\": 416}, \"line\": 4, \"event\": \"step_line\", \"ordered_globals\": [\"x\", \"i\"], \"heap\": {}, \"stdout\": \"\", \"stack_to_render\": []}, {\"func_name\": \"<module>\", \"globals\": {\"x\": 417, \"i\": 416}, \"line\": 3, \"event\": \"step_line\", \"ordered_globals\": [\"x\", \"i\"], \"heap\": {}, \"stdout\": \"\", \"stack_to_render\": []}, {\"func_name\": \"<module>\", \"globals\": {\"x\": 417, \"i\": 417}, \"line\": 4, \"event\": \"step_line\", \"ordered_globals\": [\"x\", \"i\"], \"heap\": {}, \"stdout\": \"\", \"stack_to_render\": []}, {\"func_name\": \"<module>\", \"globals\": {\"x\": 418, \"i\": 417}, \"line\": 3, \"event\": \"step_line\", \"ordered_globals\": [\"x\", \"i\"], \"heap\": {}, \"stdout\": \"\", \"stack_to_render\": []}, {\"func_name\": \"<module>\", \"globals\": {\"x\": 418, \"i\": 418}, \"line\": 4, \"event\": \"step_line\", \"ordered_globals\": [\"x\", \"i\"], \"heap\": {}, \"stdout\": \"\", \"stack_to_render\": []}, {\"func_name\": \"<module>\", \"globals\": {\"x\": 419, \"i\": 418}, \"line\": 3, \"event\": \"step_line\", \"ordered_globals\": [\"x\", \"i\"], \"heap\": {}, \"stdout\": \"\", \"stack_to_render\": []}, {\"func_name\": \"<module>\", \"globals\": {\"x\": 419, \"i\": 419}, \"line\": 4, \"event\": \"step_line\", \"ordered_globals\": [\"x\", \"i\"], \"heap\": {}, \"stdout\": \"\", \"stack_to_render\": []}, {\"func_name\": \"<module>\", \"globals\": {\"x\": 420, \"i\": 419}, \"line\": 3, \"event\": \"step_line\", \"ordered_globals\": [\"x\", \"i\"], \"heap\": {}, \"stdout\": \"\", \"stack_to_render\": []}, {\"func_name\": \"<module>\", \"globals\": {\"x\": 420, \"i\": 420}, \"line\": 4, \"event\": \"step_line\", \"ordered_globals\": [\"x\", \"i\"], \"heap\": {}, \"stdout\": \"\", \"stack_to_render\": []}, {\"func_name\": \"<module>\", \"globals\": {\"x\": 421, \"i\": 420}, \"line\": 3, \"event\": \"step_line\", \"ordered_globals\": [\"x\", \"i\"], \"heap\": {}, \"stdout\": \"\", \"stack_to_render\": []}, {\"func_name\": \"<module>\", \"globals\": {\"x\": 421, \"i\": 421}, \"line\": 4, \"event\": \"step_line\", \"ordered_globals\": [\"x\", \"i\"], \"heap\": {}, \"stdout\": \"\", \"stack_to_render\": []}, {\"func_name\": \"<module>\", \"globals\": {\"x\": 422, \"i\": 421}, \"line\": 3, \"event\": \"step_line\", \"ordered_globals\": [\"x\", \"i\"], \"heap\": {}, \"stdout\": \"\", \"stack_to_render\": []}, {\"func_name\": \"<module>\", \"globals\": {\"x\": 422, \"i\": 422}, \"line\": 4, \"event\": \"step_line\", \"ordered_globals\": [\"x\", \"i\"], \"heap\": {}, \"stdout\": \"\", \"stack_to_render\": []}, {\"func_name\": \"<module>\", \"globals\": {\"x\": 423, \"i\": 422}, \"line\": 3, \"event\": \"step_line\", \"ordered_globals\": [\"x\", \"i\"], \"heap\": {}, \"stdout\": \"\", \"stack_to_render\": []}, {\"func_name\": \"<module>\", \"globals\": {\"x\": 423, \"i\": 423}, \"line\": 4, \"event\": \"step_line\", \"ordered_globals\": [\"x\", \"i\"], \"heap\": {}, \"stdout\": \"\", \"stack_to_render\": []}, {\"func_name\": \"<module>\", \"globals\": {\"x\": 424, \"i\": 423}, \"line\": 3, \"event\": \"step_line\", \"ordered_globals\": [\"x\", \"i\"], \"heap\": {}, \"stdout\": \"\", \"stack_to_render\": []}, {\"func_name\": \"<module>\", \"globals\": {\"x\": 424, \"i\": 424}, \"line\": 4, \"event\": \"step_line\", \"ordered_globals\": [\"x\", \"i\"], \"heap\": {}, \"stdout\": \"\", \"stack_to_render\": []}, {\"func_name\": \"<module>\", \"globals\": {\"x\": 425, \"i\": 424}, \"line\": 3, \"event\": \"step_line\", \"ordered_globals\": [\"x\", \"i\"], \"heap\": {}, \"stdout\": \"\", \"stack_to_render\": []}, {\"func_name\": \"<module>\", \"globals\": {\"x\": 425, \"i\": 425}, \"line\": 4, \"event\": \"step_line\", \"ordered_globals\": [\"x\", \"i\"], \"heap\": {}, \"stdout\": \"\", \"stack_to_render\": []}, {\"func_name\": \"<module>\", \"globals\": {\"x\": 426, \"i\": 425}, \"line\": 3, \"event\": \"step_line\", \"ordered_globals\": [\"x\", \"i\"], \"heap\": {}, \"stdout\": \"\", \"stack_to_render\": []}, {\"func_name\": \"<module>\", \"globals\": {\"x\": 426, \"i\": 426}, \"line\": 4, \"event\": \"step_line\", \"ordered_globals\": [\"x\", \"i\"], \"heap\": {}, \"stdout\": \"\", \"stack_to_render\": []}, {\"func_name\": \"<module>\", \"globals\": {\"x\": 427, \"i\": 426}, \"line\": 3, \"event\": \"step_line\", \"ordered_globals\": [\"x\", \"i\"], \"heap\": {}, \"stdout\": \"\", \"stack_to_render\": []}, {\"func_name\": \"<module>\", \"globals\": {\"x\": 427, \"i\": 427}, \"line\": 4, \"event\": \"step_line\", \"ordered_globals\": [\"x\", \"i\"], \"heap\": {}, \"stdout\": \"\", \"stack_to_render\": []}, {\"func_name\": \"<module>\", \"globals\": {\"x\": 428, \"i\": 427}, \"line\": 3, \"event\": \"step_line\", \"ordered_globals\": [\"x\", \"i\"], \"heap\": {}, \"stdout\": \"\", \"stack_to_render\": []}, {\"func_name\": \"<module>\", \"globals\": {\"x\": 428, \"i\": 428}, \"line\": 4, \"event\": \"step_line\", \"ordered_globals\": [\"x\", \"i\"], \"heap\": {}, \"stdout\": \"\", \"stack_to_render\": []}, {\"func_name\": \"<module>\", \"globals\": {\"x\": 429, \"i\": 428}, \"line\": 3, \"event\": \"step_line\", \"ordered_globals\": [\"x\", \"i\"], \"heap\": {}, \"stdout\": \"\", \"stack_to_render\": []}, {\"func_name\": \"<module>\", \"globals\": {\"x\": 429, \"i\": 429}, \"line\": 4, \"event\": \"step_line\", \"ordered_globals\": [\"x\", \"i\"], \"heap\": {}, \"stdout\": \"\", \"stack_to_render\": []}, {\"func_name\": \"<module>\", \"globals\": {\"x\": 430, \"i\": 429}, \"line\": 3, \"event\": \"step_line\", \"ordered_globals\": [\"x\", \"i\"], \"heap\": {}, \"stdout\": \"\", \"stack_to_render\": []}, {\"func_name\": \"<module>\", \"globals\": {\"x\": 430, \"i\": 430}, \"line\": 4, \"event\": \"step_line\", \"ordered_globals\": [\"x\", \"i\"], \"heap\": {}, \"stdout\": \"\", \"stack_to_render\": []}, {\"func_name\": \"<module>\", \"globals\": {\"x\": 431, \"i\": 430}, \"line\": 3, \"event\": \"step_line\", \"ordered_globals\": [\"x\", \"i\"], \"heap\": {}, \"stdout\": \"\", \"stack_to_render\": []}, {\"func_name\": \"<module>\", \"globals\": {\"x\": 431, \"i\": 431}, \"line\": 4, \"event\": \"step_line\", \"ordered_globals\": [\"x\", \"i\"], \"heap\": {}, \"stdout\": \"\", \"stack_to_render\": []}, {\"func_name\": \"<module>\", \"globals\": {\"x\": 432, \"i\": 431}, \"line\": 3, \"event\": \"step_line\", \"ordered_globals\": [\"x\", \"i\"], \"heap\": {}, \"stdout\": \"\", \"stack_to_render\": []}, {\"func_name\": \"<module>\", \"globals\": {\"x\": 432, \"i\": 432}, \"line\": 4, \"event\": \"step_line\", \"ordered_globals\": [\"x\", \"i\"], \"heap\": {}, \"stdout\": \"\", \"stack_to_render\": []}, {\"func_name\": \"<module>\", \"globals\": {\"x\": 433, \"i\": 432}, \"line\": 3, \"event\": \"step_line\", \"ordered_globals\": [\"x\", \"i\"], \"heap\": {}, \"stdout\": \"\", \"stack_to_render\": []}, {\"func_name\": \"<module>\", \"globals\": {\"x\": 433, \"i\": 433}, \"line\": 4, \"event\": \"step_line\", \"ordered_globals\": [\"x\", \"i\"], \"heap\": {}, \"stdout\": \"\", \"stack_to_render\": []}, {\"func_name\": \"<module>\", \"globals\": {\"x\": 434, \"i\": 433}, \"line\": 3, \"event\": \"step_line\", \"ordered_globals\": [\"x\", \"i\"], \"heap\": {}, \"stdout\": \"\", \"stack_to_render\": []}, {\"func_name\": \"<module>\", \"globals\": {\"x\": 434, \"i\": 434}, \"line\": 4, \"event\": \"step_line\", \"ordered_globals\": [\"x\", \"i\"], \"heap\": {}, \"stdout\": \"\", \"stack_to_render\": []}, {\"func_name\": \"<module>\", \"globals\": {\"x\": 435, \"i\": 434}, \"line\": 3, \"event\": \"step_line\", \"ordered_globals\": [\"x\", \"i\"], \"heap\": {}, \"stdout\": \"\", \"stack_to_render\": []}, {\"func_name\": \"<module>\", \"globals\": {\"x\": 435, \"i\": 435}, \"line\": 4, \"event\": \"step_line\", \"ordered_globals\": [\"x\", \"i\"], \"heap\": {}, \"stdout\": \"\", \"stack_to_render\": []}, {\"func_name\": \"<module>\", \"globals\": {\"x\": 436, \"i\": 435}, \"line\": 3, \"event\": \"step_line\", \"ordered_globals\": [\"x\", \"i\"], \"heap\": {}, \"stdout\": \"\", \"stack_to_render\": []}, {\"func_name\": \"<module>\", \"globals\": {\"x\": 436, \"i\": 436}, \"line\": 4, \"event\": \"step_line\", \"ordered_globals\": [\"x\", \"i\"], \"heap\": {}, \"stdout\": \"\", \"stack_to_render\": []}, {\"func_name\": \"<module>\", \"globals\": {\"x\": 437, \"i\": 436}, \"line\": 3, \"event\": \"step_line\", \"ordered_globals\": [\"x\", \"i\"], \"heap\": {}, \"stdout\": \"\", \"stack_to_render\": []}, {\"func_name\": \"<module>\", \"globals\": {\"x\": 437, \"i\": 437}, \"line\": 4, \"event\": \"step_line\", \"ordered_globals\": [\"x\", \"i\"], \"heap\": {}, \"stdout\": \"\", \"stack_to_render\": []}, {\"func_name\": \"<module>\", \"globals\": {\"x\": 438, \"i\": 437}, \"line\": 3, \"event\": \"step_line\", \"ordered_globals\": [\"x\", \"i\"], \"heap\": {}, \"stdout\": \"\", \"stack_to_render\": []}, {\"func_name\": \"<module>\", \"globals\": {\"x\": 438, \"i\": 438}, \"line\": 4, \"event\": \"step_line\", \"ordered_globals\": [\"x\", \"i\"], \"heap\": {}, \"stdout\": \"\", \"stack_to_render\": []}, {\"func_name\": \"<module>\", \"globals\": {\"x\": 439, \"i\": 438}, \"line\": 3, \"event\": \"step_line\", \"ordered_globals\": [\"x\", \"i\"], \"heap\": {}, \"stdout\": \"\", \"stack_to_render\": []}, {\"func_name\": \"<module>\", \"globals\": {\"x\": 439, \"i\": 439}, \"line\": 4, \"event\": \"step_line\", \"ordered_globals\": [\"x\", \"i\"], \"heap\": {}, \"stdout\": \"\", \"stack_to_render\": []}, {\"func_name\": \"<module>\", \"globals\": {\"x\": 440, \"i\": 439}, \"line\": 3, \"event\": \"step_line\", \"ordered_globals\": [\"x\", \"i\"], \"heap\": {}, \"stdout\": \"\", \"stack_to_render\": []}, {\"func_name\": \"<module>\", \"globals\": {\"x\": 440, \"i\": 440}, \"line\": 4, \"event\": \"step_line\", \"ordered_globals\": [\"x\", \"i\"], \"heap\": {}, \"stdout\": \"\", \"stack_to_render\": []}, {\"func_name\": \"<module>\", \"globals\": {\"x\": 441, \"i\": 440}, \"line\": 3, \"event\": \"step_line\", \"ordered_globals\": [\"x\", \"i\"], \"heap\": {}, \"stdout\": \"\", \"stack_to_render\": []}, {\"func_name\": \"<module>\", \"globals\": {\"x\": 441, \"i\": 441}, \"line\": 4, \"event\": \"step_line\", \"ordered_globals\": [\"x\", \"i\"], \"heap\": {}, \"stdout\": \"\", \"stack_to_render\": []}, {\"func_name\": \"<module>\", \"globals\": {\"x\": 442, \"i\": 441}, \"line\": 3, \"event\": \"step_line\", \"ordered_globals\": [\"x\", \"i\"], \"heap\": {}, \"stdout\": \"\", \"stack_to_render\": []}, {\"func_name\": \"<module>\", \"globals\": {\"x\": 442, \"i\": 442}, \"line\": 4, \"event\": \"step_line\", \"ordered_globals\": [\"x\", \"i\"], \"heap\": {}, \"stdout\": \"\", \"stack_to_render\": []}, {\"func_name\": \"<module>\", \"globals\": {\"x\": 443, \"i\": 442}, \"line\": 3, \"event\": \"step_line\", \"ordered_globals\": [\"x\", \"i\"], \"heap\": {}, \"stdout\": \"\", \"stack_to_render\": []}, {\"func_name\": \"<module>\", \"globals\": {\"x\": 443, \"i\": 443}, \"line\": 4, \"event\": \"step_line\", \"ordered_globals\": [\"x\", \"i\"], \"heap\": {}, \"stdout\": \"\", \"stack_to_render\": []}, {\"func_name\": \"<module>\", \"globals\": {\"x\": 444, \"i\": 443}, \"line\": 3, \"event\": \"step_line\", \"ordered_globals\": [\"x\", \"i\"], \"heap\": {}, \"stdout\": \"\", \"stack_to_render\": []}, {\"func_name\": \"<module>\", \"globals\": {\"x\": 444, \"i\": 444}, \"line\": 4, \"event\": \"step_line\", \"ordered_globals\": [\"x\", \"i\"], \"heap\": {}, \"stdout\": \"\", \"stack_to_render\": []}, {\"func_name\": \"<module>\", \"globals\": {\"x\": 445, \"i\": 444}, \"line\": 3, \"event\": \"step_line\", \"ordered_globals\": [\"x\", \"i\"], \"heap\": {}, \"stdout\": \"\", \"stack_to_render\": []}, {\"func_name\": \"<module>\", \"globals\": {\"x\": 445, \"i\": 445}, \"line\": 4, \"event\": \"step_line\", \"ordered_globals\": [\"x\", \"i\"], \"heap\": {}, \"stdout\": \"\", \"stack_to_render\": []}, {\"func_name\": \"<module>\", \"globals\": {\"x\": 446, \"i\": 445}, \"line\": 3, \"event\": \"step_line\", \"ordered_globals\": [\"x\", \"i\"], \"heap\": {}, \"stdout\": \"\", \"stack_to_render\": []}, {\"func_name\": \"<module>\", \"globals\": {\"x\": 446, \"i\": 446}, \"line\": 4, \"event\": \"step_line\", \"ordered_globals\": [\"x\", \"i\"], \"heap\": {}, \"stdout\": \"\", \"stack_to_render\": []}, {\"func_name\": \"<module>\", \"globals\": {\"x\": 447, \"i\": 446}, \"line\": 3, \"event\": \"step_line\", \"ordered_globals\": [\"x\", \"i\"], \"heap\": {}, \"stdout\": \"\", \"stack_to_render\": []}, {\"func_name\": \"<module>\", \"globals\": {\"x\": 447, \"i\": 447}, \"line\": 4, \"event\": \"step_line\", \"ordered_globals\": [\"x\", \"i\"], \"heap\": {}, \"stdout\": \"\", \"stack_to_render\": []}, {\"func_name\": \"<module>\", \"globals\": {\"x\": 448, \"i\": 447}, \"line\": 3, \"event\": \"step_line\", \"ordered_globals\": [\"x\", \"i\"], \"heap\": {}, \"stdout\": \"\", \"stack_to_render\": []}, {\"func_name\": \"<module>\", \"globals\": {\"x\": 448, \"i\": 448}, \"line\": 4, \"event\": \"step_line\", \"ordered_globals\": [\"x\", \"i\"], \"heap\": {}, \"stdout\": \"\", \"stack_to_render\": []}, {\"func_name\": \"<module>\", \"globals\": {\"x\": 449, \"i\": 448}, \"line\": 3, \"event\": \"step_line\", \"ordered_globals\": [\"x\", \"i\"], \"heap\": {}, \"stdout\": \"\", \"stack_to_render\": []}, {\"func_name\": \"<module>\", \"globals\": {\"x\": 449, \"i\": 449}, \"line\": 4, \"event\": \"step_line\", \"ordered_globals\": [\"x\", \"i\"], \"heap\": {}, \"stdout\": \"\", \"stack_to_render\": []}, {\"func_name\": \"<module>\", \"globals\": {\"x\": 450, \"i\": 449}, \"line\": 3, \"event\": \"step_line\", \"ordered_globals\": [\"x\", \"i\"], \"heap\": {}, \"stdout\": \"\", \"stack_to_render\": []}, {\"func_name\": \"<module>\", \"globals\": {\"x\": 450, \"i\": 450}, \"line\": 4, \"event\": \"step_line\", \"ordered_globals\": [\"x\", \"i\"], \"heap\": {}, \"stdout\": \"\", \"stack_to_render\": []}, {\"func_name\": \"<module>\", \"globals\": {\"x\": 451, \"i\": 450}, \"line\": 3, \"event\": \"step_line\", \"ordered_globals\": [\"x\", \"i\"], \"heap\": {}, \"stdout\": \"\", \"stack_to_render\": []}, {\"func_name\": \"<module>\", \"globals\": {\"x\": 451, \"i\": 451}, \"line\": 4, \"event\": \"step_line\", \"ordered_globals\": [\"x\", \"i\"], \"heap\": {}, \"stdout\": \"\", \"stack_to_render\": []}, {\"func_name\": \"<module>\", \"globals\": {\"x\": 452, \"i\": 451}, \"line\": 3, \"event\": \"step_line\", \"ordered_globals\": [\"x\", \"i\"], \"heap\": {}, \"stdout\": \"\", \"stack_to_render\": []}, {\"func_name\": \"<module>\", \"globals\": {\"x\": 452, \"i\": 452}, \"line\": 4, \"event\": \"step_line\", \"ordered_globals\": [\"x\", \"i\"], \"heap\": {}, \"stdout\": \"\", \"stack_to_render\": []}, {\"func_name\": \"<module>\", \"globals\": {\"x\": 453, \"i\": 452}, \"line\": 3, \"event\": \"step_line\", \"ordered_globals\": [\"x\", \"i\"], \"heap\": {}, \"stdout\": \"\", \"stack_to_render\": []}, {\"func_name\": \"<module>\", \"globals\": {\"x\": 453, \"i\": 453}, \"line\": 4, \"event\": \"step_line\", \"ordered_globals\": [\"x\", \"i\"], \"heap\": {}, \"stdout\": \"\", \"stack_to_render\": []}, {\"func_name\": \"<module>\", \"globals\": {\"x\": 454, \"i\": 453}, \"line\": 3, \"event\": \"step_line\", \"ordered_globals\": [\"x\", \"i\"], \"heap\": {}, \"stdout\": \"\", \"stack_to_render\": []}, {\"func_name\": \"<module>\", \"globals\": {\"x\": 454, \"i\": 454}, \"line\": 4, \"event\": \"step_line\", \"ordered_globals\": [\"x\", \"i\"], \"heap\": {}, \"stdout\": \"\", \"stack_to_render\": []}, {\"func_name\": \"<module>\", \"globals\": {\"x\": 455, \"i\": 454}, \"line\": 3, \"event\": \"step_line\", \"ordered_globals\": [\"x\", \"i\"], \"heap\": {}, \"stdout\": \"\", \"stack_to_render\": []}, {\"func_name\": \"<module>\", \"globals\": {\"x\": 455, \"i\": 455}, \"line\": 4, \"event\": \"step_line\", \"ordered_globals\": [\"x\", \"i\"], \"heap\": {}, \"stdout\": \"\", \"stack_to_render\": []}, {\"func_name\": \"<module>\", \"globals\": {\"x\": 456, \"i\": 455}, \"line\": 3, \"event\": \"step_line\", \"ordered_globals\": [\"x\", \"i\"], \"heap\": {}, \"stdout\": \"\", \"stack_to_render\": []}, {\"func_name\": \"<module>\", \"globals\": {\"x\": 456, \"i\": 456}, \"line\": 4, \"event\": \"step_line\", \"ordered_globals\": [\"x\", \"i\"], \"heap\": {}, \"stdout\": \"\", \"stack_to_render\": []}, {\"func_name\": \"<module>\", \"globals\": {\"x\": 457, \"i\": 456}, \"line\": 3, \"event\": \"step_line\", \"ordered_globals\": [\"x\", \"i\"], \"heap\": {}, \"stdout\": \"\", \"stack_to_render\": []}, {\"func_name\": \"<module>\", \"globals\": {\"x\": 457, \"i\": 457}, \"line\": 4, \"event\": \"step_line\", \"ordered_globals\": [\"x\", \"i\"], \"heap\": {}, \"stdout\": \"\", \"stack_to_render\": []}, {\"func_name\": \"<module>\", \"globals\": {\"x\": 458, \"i\": 457}, \"line\": 3, \"event\": \"step_line\", \"ordered_globals\": [\"x\", \"i\"], \"heap\": {}, \"stdout\": \"\", \"stack_to_render\": []}, {\"func_name\": \"<module>\", \"globals\": {\"x\": 458, \"i\": 458}, \"line\": 4, \"event\": \"step_line\", \"ordered_globals\": [\"x\", \"i\"], \"heap\": {}, \"stdout\": \"\", \"stack_to_render\": []}, {\"func_name\": \"<module>\", \"globals\": {\"x\": 459, \"i\": 458}, \"line\": 3, \"event\": \"step_line\", \"ordered_globals\": [\"x\", \"i\"], \"heap\": {}, \"stdout\": \"\", \"stack_to_render\": []}, {\"func_name\": \"<module>\", \"globals\": {\"x\": 459, \"i\": 459}, \"line\": 4, \"event\": \"step_line\", \"ordered_globals\": [\"x\", \"i\"], \"heap\": {}, \"stdout\": \"\", \"stack_to_render\": []}, {\"func_name\": \"<module>\", \"globals\": {\"x\": 460, \"i\": 459}, \"line\": 3, \"event\": \"step_line\", \"ordered_globals\": [\"x\", \"i\"], \"heap\": {}, \"stdout\": \"\", \"stack_to_render\": []}, {\"func_name\": \"<module>\", \"globals\": {\"x\": 460, \"i\": 460}, \"line\": 4, \"event\": \"step_line\", \"ordered_globals\": [\"x\", \"i\"], \"heap\": {}, \"stdout\": \"\", \"stack_to_render\": []}, {\"func_name\": \"<module>\", \"globals\": {\"x\": 461, \"i\": 460}, \"line\": 3, \"event\": \"step_line\", \"ordered_globals\": [\"x\", \"i\"], \"heap\": {}, \"stdout\": \"\", \"stack_to_render\": []}, {\"func_name\": \"<module>\", \"globals\": {\"x\": 461, \"i\": 461}, \"line\": 4, \"event\": \"step_line\", \"ordered_globals\": [\"x\", \"i\"], \"heap\": {}, \"stdout\": \"\", \"stack_to_render\": []}, {\"func_name\": \"<module>\", \"globals\": {\"x\": 462, \"i\": 461}, \"line\": 3, \"event\": \"step_line\", \"ordered_globals\": [\"x\", \"i\"], \"heap\": {}, \"stdout\": \"\", \"stack_to_render\": []}, {\"func_name\": \"<module>\", \"globals\": {\"x\": 462, \"i\": 462}, \"line\": 4, \"event\": \"step_line\", \"ordered_globals\": [\"x\", \"i\"], \"heap\": {}, \"stdout\": \"\", \"stack_to_render\": []}, {\"func_name\": \"<module>\", \"globals\": {\"x\": 463, \"i\": 462}, \"line\": 3, \"event\": \"step_line\", \"ordered_globals\": [\"x\", \"i\"], \"heap\": {}, \"stdout\": \"\", \"stack_to_render\": []}, {\"func_name\": \"<module>\", \"globals\": {\"x\": 463, \"i\": 463}, \"line\": 4, \"event\": \"step_line\", \"ordered_globals\": [\"x\", \"i\"], \"heap\": {}, \"stdout\": \"\", \"stack_to_render\": []}, {\"func_name\": \"<module>\", \"globals\": {\"x\": 464, \"i\": 463}, \"line\": 3, \"event\": \"step_line\", \"ordered_globals\": [\"x\", \"i\"], \"heap\": {}, \"stdout\": \"\", \"stack_to_render\": []}, {\"func_name\": \"<module>\", \"globals\": {\"x\": 464, \"i\": 464}, \"line\": 4, \"event\": \"step_line\", \"ordered_globals\": [\"x\", \"i\"], \"heap\": {}, \"stdout\": \"\", \"stack_to_render\": []}, {\"func_name\": \"<module>\", \"globals\": {\"x\": 465, \"i\": 464}, \"line\": 3, \"event\": \"step_line\", \"ordered_globals\": [\"x\", \"i\"], \"heap\": {}, \"stdout\": \"\", \"stack_to_render\": []}, {\"func_name\": \"<module>\", \"globals\": {\"x\": 465, \"i\": 465}, \"line\": 4, \"event\": \"step_line\", \"ordered_globals\": [\"x\", \"i\"], \"heap\": {}, \"stdout\": \"\", \"stack_to_render\": []}, {\"func_name\": \"<module>\", \"globals\": {\"x\": 466, \"i\": 465}, \"line\": 3, \"event\": \"step_line\", \"ordered_globals\": [\"x\", \"i\"], \"heap\": {}, \"stdout\": \"\", \"stack_to_render\": []}, {\"func_name\": \"<module>\", \"globals\": {\"x\": 466, \"i\": 466}, \"line\": 4, \"event\": \"step_line\", \"ordered_globals\": [\"x\", \"i\"], \"heap\": {}, \"stdout\": \"\", \"stack_to_render\": []}, {\"func_name\": \"<module>\", \"globals\": {\"x\": 467, \"i\": 466}, \"line\": 3, \"event\": \"step_line\", \"ordered_globals\": [\"x\", \"i\"], \"heap\": {}, \"stdout\": \"\", \"stack_to_render\": []}, {\"func_name\": \"<module>\", \"globals\": {\"x\": 467, \"i\": 467}, \"line\": 4, \"event\": \"step_line\", \"ordered_globals\": [\"x\", \"i\"], \"heap\": {}, \"stdout\": \"\", \"stack_to_render\": []}, {\"func_name\": \"<module>\", \"globals\": {\"x\": 468, \"i\": 467}, \"line\": 3, \"event\": \"step_line\", \"ordered_globals\": [\"x\", \"i\"], \"heap\": {}, \"stdout\": \"\", \"stack_to_render\": []}, {\"func_name\": \"<module>\", \"globals\": {\"x\": 468, \"i\": 468}, \"line\": 4, \"event\": \"step_line\", \"ordered_globals\": [\"x\", \"i\"], \"heap\": {}, \"stdout\": \"\", \"stack_to_render\": []}, {\"func_name\": \"<module>\", \"globals\": {\"x\": 469, \"i\": 468}, \"line\": 3, \"event\": \"step_line\", \"ordered_globals\": [\"x\", \"i\"], \"heap\": {}, \"stdout\": \"\", \"stack_to_render\": []}, {\"func_name\": \"<module>\", \"globals\": {\"x\": 469, \"i\": 469}, \"line\": 4, \"event\": \"step_line\", \"ordered_globals\": [\"x\", \"i\"], \"heap\": {}, \"stdout\": \"\", \"stack_to_render\": []}, {\"func_name\": \"<module>\", \"globals\": {\"x\": 470, \"i\": 469}, \"line\": 3, \"event\": \"step_line\", \"ordered_globals\": [\"x\", \"i\"], \"heap\": {}, \"stdout\": \"\", \"stack_to_render\": []}, {\"func_name\": \"<module>\", \"globals\": {\"x\": 470, \"i\": 470}, \"line\": 4, \"event\": \"step_line\", \"ordered_globals\": [\"x\", \"i\"], \"heap\": {}, \"stdout\": \"\", \"stack_to_render\": []}, {\"func_name\": \"<module>\", \"globals\": {\"x\": 471, \"i\": 470}, \"line\": 3, \"event\": \"step_line\", \"ordered_globals\": [\"x\", \"i\"], \"heap\": {}, \"stdout\": \"\", \"stack_to_render\": []}, {\"func_name\": \"<module>\", \"globals\": {\"x\": 471, \"i\": 471}, \"line\": 4, \"event\": \"step_line\", \"ordered_globals\": [\"x\", \"i\"], \"heap\": {}, \"stdout\": \"\", \"stack_to_render\": []}, {\"func_name\": \"<module>\", \"globals\": {\"x\": 472, \"i\": 471}, \"line\": 3, \"event\": \"step_line\", \"ordered_globals\": [\"x\", \"i\"], \"heap\": {}, \"stdout\": \"\", \"stack_to_render\": []}, {\"func_name\": \"<module>\", \"globals\": {\"x\": 472, \"i\": 472}, \"line\": 4, \"event\": \"step_line\", \"ordered_globals\": [\"x\", \"i\"], \"heap\": {}, \"stdout\": \"\", \"stack_to_render\": []}, {\"func_name\": \"<module>\", \"globals\": {\"x\": 473, \"i\": 472}, \"line\": 3, \"event\": \"step_line\", \"ordered_globals\": [\"x\", \"i\"], \"heap\": {}, \"stdout\": \"\", \"stack_to_render\": []}, {\"func_name\": \"<module>\", \"globals\": {\"x\": 473, \"i\": 473}, \"line\": 4, \"event\": \"step_line\", \"ordered_globals\": [\"x\", \"i\"], \"heap\": {}, \"stdout\": \"\", \"stack_to_render\": []}, {\"func_name\": \"<module>\", \"globals\": {\"x\": 474, \"i\": 473}, \"line\": 3, \"event\": \"step_line\", \"ordered_globals\": [\"x\", \"i\"], \"heap\": {}, \"stdout\": \"\", \"stack_to_render\": []}, {\"func_name\": \"<module>\", \"globals\": {\"x\": 474, \"i\": 474}, \"line\": 4, \"event\": \"step_line\", \"ordered_globals\": [\"x\", \"i\"], \"heap\": {}, \"stdout\": \"\", \"stack_to_render\": []}, {\"func_name\": \"<module>\", \"globals\": {\"x\": 475, \"i\": 474}, \"line\": 3, \"event\": \"step_line\", \"ordered_globals\": [\"x\", \"i\"], \"heap\": {}, \"stdout\": \"\", \"stack_to_render\": []}, {\"func_name\": \"<module>\", \"globals\": {\"x\": 475, \"i\": 475}, \"line\": 4, \"event\": \"step_line\", \"ordered_globals\": [\"x\", \"i\"], \"heap\": {}, \"stdout\": \"\", \"stack_to_render\": []}, {\"func_name\": \"<module>\", \"globals\": {\"x\": 476, \"i\": 475}, \"line\": 3, \"event\": \"step_line\", \"ordered_globals\": [\"x\", \"i\"], \"heap\": {}, \"stdout\": \"\", \"stack_to_render\": []}, {\"func_name\": \"<module>\", \"globals\": {\"x\": 476, \"i\": 476}, \"line\": 4, \"event\": \"step_line\", \"ordered_globals\": [\"x\", \"i\"], \"heap\": {}, \"stdout\": \"\", \"stack_to_render\": []}, {\"func_name\": \"<module>\", \"globals\": {\"x\": 477, \"i\": 476}, \"line\": 3, \"event\": \"step_line\", \"ordered_globals\": [\"x\", \"i\"], \"heap\": {}, \"stdout\": \"\", \"stack_to_render\": []}, {\"func_name\": \"<module>\", \"globals\": {\"x\": 477, \"i\": 477}, \"line\": 4, \"event\": \"step_line\", \"ordered_globals\": [\"x\", \"i\"], \"heap\": {}, \"stdout\": \"\", \"stack_to_render\": []}, {\"func_name\": \"<module>\", \"globals\": {\"x\": 478, \"i\": 477}, \"line\": 3, \"event\": \"step_line\", \"ordered_globals\": [\"x\", \"i\"], \"heap\": {}, \"stdout\": \"\", \"stack_to_render\": []}, {\"func_name\": \"<module>\", \"globals\": {\"x\": 478, \"i\": 478}, \"line\": 4, \"event\": \"step_line\", \"ordered_globals\": [\"x\", \"i\"], \"heap\": {}, \"stdout\": \"\", \"stack_to_render\": []}, {\"func_name\": \"<module>\", \"globals\": {\"x\": 479, \"i\": 478}, \"line\": 3, \"event\": \"step_line\", \"ordered_globals\": [\"x\", \"i\"], \"heap\": {}, \"stdout\": \"\", \"stack_to_render\": []}, {\"func_name\": \"<module>\", \"globals\": {\"x\": 479, \"i\": 479}, \"line\": 4, \"event\": \"step_line\", \"ordered_globals\": [\"x\", \"i\"], \"heap\": {}, \"stdout\": \"\", \"stack_to_render\": []}, {\"func_name\": \"<module>\", \"globals\": {\"x\": 480, \"i\": 479}, \"line\": 3, \"event\": \"step_line\", \"ordered_globals\": [\"x\", \"i\"], \"heap\": {}, \"stdout\": \"\", \"stack_to_render\": []}, {\"func_name\": \"<module>\", \"globals\": {\"x\": 480, \"i\": 480}, \"line\": 4, \"event\": \"step_line\", \"ordered_globals\": [\"x\", \"i\"], \"heap\": {}, \"stdout\": \"\", \"stack_to_render\": []}, {\"func_name\": \"<module>\", \"globals\": {\"x\": 481, \"i\": 480}, \"line\": 3, \"event\": \"step_line\", \"ordered_globals\": [\"x\", \"i\"], \"heap\": {}, \"stdout\": \"\", \"stack_to_render\": []}, {\"func_name\": \"<module>\", \"globals\": {\"x\": 481, \"i\": 481}, \"line\": 4, \"event\": \"step_line\", \"ordered_globals\": [\"x\", \"i\"], \"heap\": {}, \"stdout\": \"\", \"stack_to_render\": []}, {\"func_name\": \"<module>\", \"globals\": {\"x\": 482, \"i\": 481}, \"line\": 3, \"event\": \"step_line\", \"ordered_globals\": [\"x\", \"i\"], \"heap\": {}, \"stdout\": \"\", \"stack_to_render\": []}, {\"func_name\": \"<module>\", \"globals\": {\"x\": 482, \"i\": 482}, \"line\": 4, \"event\": \"step_line\", \"ordered_globals\": [\"x\", \"i\"], \"heap\": {}, \"stdout\": \"\", \"stack_to_render\": []}, {\"func_name\": \"<module>\", \"globals\": {\"x\": 483, \"i\": 482}, \"line\": 3, \"event\": \"step_line\", \"ordered_globals\": [\"x\", \"i\"], \"heap\": {}, \"stdout\": \"\", \"stack_to_render\": []}, {\"func_name\": \"<module>\", \"globals\": {\"x\": 483, \"i\": 483}, \"line\": 4, \"event\": \"step_line\", \"ordered_globals\": [\"x\", \"i\"], \"heap\": {}, \"stdout\": \"\", \"stack_to_render\": []}, {\"func_name\": \"<module>\", \"globals\": {\"x\": 484, \"i\": 483}, \"line\": 3, \"event\": \"step_line\", \"ordered_globals\": [\"x\", \"i\"], \"heap\": {}, \"stdout\": \"\", \"stack_to_render\": []}, {\"func_name\": \"<module>\", \"globals\": {\"x\": 484, \"i\": 484}, \"line\": 4, \"event\": \"step_line\", \"ordered_globals\": [\"x\", \"i\"], \"heap\": {}, \"stdout\": \"\", \"stack_to_render\": []}, {\"func_name\": \"<module>\", \"globals\": {\"x\": 485, \"i\": 484}, \"line\": 3, \"event\": \"step_line\", \"ordered_globals\": [\"x\", \"i\"], \"heap\": {}, \"stdout\": \"\", \"stack_to_render\": []}, {\"func_name\": \"<module>\", \"globals\": {\"x\": 485, \"i\": 485}, \"line\": 4, \"event\": \"step_line\", \"ordered_globals\": [\"x\", \"i\"], \"heap\": {}, \"stdout\": \"\", \"stack_to_render\": []}, {\"func_name\": \"<module>\", \"globals\": {\"x\": 486, \"i\": 485}, \"line\": 3, \"event\": \"step_line\", \"ordered_globals\": [\"x\", \"i\"], \"heap\": {}, \"stdout\": \"\", \"stack_to_render\": []}, {\"func_name\": \"<module>\", \"globals\": {\"x\": 486, \"i\": 486}, \"line\": 4, \"event\": \"step_line\", \"ordered_globals\": [\"x\", \"i\"], \"heap\": {}, \"stdout\": \"\", \"stack_to_render\": []}, {\"func_name\": \"<module>\", \"globals\": {\"x\": 487, \"i\": 486}, \"line\": 3, \"event\": \"step_line\", \"ordered_globals\": [\"x\", \"i\"], \"heap\": {}, \"stdout\": \"\", \"stack_to_render\": []}, {\"func_name\": \"<module>\", \"globals\": {\"x\": 487, \"i\": 487}, \"line\": 4, \"event\": \"step_line\", \"ordered_globals\": [\"x\", \"i\"], \"heap\": {}, \"stdout\": \"\", \"stack_to_render\": []}, {\"func_name\": \"<module>\", \"globals\": {\"x\": 488, \"i\": 487}, \"line\": 3, \"event\": \"step_line\", \"ordered_globals\": [\"x\", \"i\"], \"heap\": {}, \"stdout\": \"\", \"stack_to_render\": []}, {\"func_name\": \"<module>\", \"globals\": {\"x\": 488, \"i\": 488}, \"line\": 4, \"event\": \"step_line\", \"ordered_globals\": [\"x\", \"i\"], \"heap\": {}, \"stdout\": \"\", \"stack_to_render\": []}, {\"func_name\": \"<module>\", \"globals\": {\"x\": 489, \"i\": 488}, \"line\": 3, \"event\": \"step_line\", \"ordered_globals\": [\"x\", \"i\"], \"heap\": {}, \"stdout\": \"\", \"stack_to_render\": []}, {\"func_name\": \"<module>\", \"globals\": {\"x\": 489, \"i\": 489}, \"line\": 4, \"event\": \"step_line\", \"ordered_globals\": [\"x\", \"i\"], \"heap\": {}, \"stdout\": \"\", \"stack_to_render\": []}, {\"func_name\": \"<module>\", \"globals\": {\"x\": 490, \"i\": 489}, \"line\": 3, \"event\": \"step_line\", \"ordered_globals\": [\"x\", \"i\"], \"heap\": {}, \"stdout\": \"\", \"stack_to_render\": []}, {\"func_name\": \"<module>\", \"globals\": {\"x\": 490, \"i\": 490}, \"line\": 4, \"event\": \"step_line\", \"ordered_globals\": [\"x\", \"i\"], \"heap\": {}, \"stdout\": \"\", \"stack_to_render\": []}, {\"func_name\": \"<module>\", \"globals\": {\"x\": 491, \"i\": 490}, \"line\": 3, \"event\": \"step_line\", \"ordered_globals\": [\"x\", \"i\"], \"heap\": {}, \"stdout\": \"\", \"stack_to_render\": []}, {\"func_name\": \"<module>\", \"globals\": {\"x\": 491, \"i\": 491}, \"line\": 4, \"event\": \"step_line\", \"ordered_globals\": [\"x\", \"i\"], \"heap\": {}, \"stdout\": \"\", \"stack_to_render\": []}, {\"func_name\": \"<module>\", \"globals\": {\"x\": 492, \"i\": 491}, \"line\": 3, \"event\": \"step_line\", \"ordered_globals\": [\"x\", \"i\"], \"heap\": {}, \"stdout\": \"\", \"stack_to_render\": []}, {\"func_name\": \"<module>\", \"globals\": {\"x\": 492, \"i\": 492}, \"line\": 4, \"event\": \"step_line\", \"ordered_globals\": [\"x\", \"i\"], \"heap\": {}, \"stdout\": \"\", \"stack_to_render\": []}, {\"func_name\": \"<module>\", \"globals\": {\"x\": 493, \"i\": 492}, \"line\": 3, \"event\": \"step_line\", \"ordered_globals\": [\"x\", \"i\"], \"heap\": {}, \"stdout\": \"\", \"stack_to_render\": []}, {\"func_name\": \"<module>\", \"globals\": {\"x\": 493, \"i\": 493}, \"line\": 4, \"event\": \"step_line\", \"ordered_globals\": [\"x\", \"i\"], \"heap\": {}, \"stdout\": \"\", \"stack_to_render\": []}, {\"func_name\": \"<module>\", \"globals\": {\"x\": 494, \"i\": 493}, \"line\": 3, \"event\": \"step_line\", \"ordered_globals\": [\"x\", \"i\"], \"heap\": {}, \"stdout\": \"\", \"stack_to_render\": []}, {\"func_name\": \"<module>\", \"globals\": {\"x\": 494, \"i\": 494}, \"line\": 4, \"event\": \"step_line\", \"ordered_globals\": [\"x\", \"i\"], \"heap\": {}, \"stdout\": \"\", \"stack_to_render\": []}, {\"func_name\": \"<module>\", \"globals\": {\"x\": 495, \"i\": 494}, \"line\": 3, \"event\": \"step_line\", \"ordered_globals\": [\"x\", \"i\"], \"heap\": {}, \"stdout\": \"\", \"stack_to_render\": []}, {\"func_name\": \"<module>\", \"globals\": {\"x\": 495, \"i\": 495}, \"line\": 4, \"event\": \"step_line\", \"ordered_globals\": [\"x\", \"i\"], \"heap\": {}, \"stdout\": \"\", \"stack_to_render\": []}, {\"func_name\": \"<module>\", \"globals\": {\"x\": 496, \"i\": 495}, \"line\": 3, \"event\": \"step_line\", \"ordered_globals\": [\"x\", \"i\"], \"heap\": {}, \"stdout\": \"\", \"stack_to_render\": []}, {\"func_name\": \"<module>\", \"globals\": {\"x\": 496, \"i\": 496}, \"line\": 4, \"event\": \"step_line\", \"ordered_globals\": [\"x\", \"i\"], \"heap\": {}, \"stdout\": \"\", \"stack_to_render\": []}, {\"func_name\": \"<module>\", \"globals\": {\"x\": 497, \"i\": 496}, \"line\": 3, \"event\": \"step_line\", \"ordered_globals\": [\"x\", \"i\"], \"heap\": {}, \"stdout\": \"\", \"stack_to_render\": []}, {\"func_name\": \"<module>\", \"globals\": {\"x\": 497, \"i\": 497}, \"line\": 4, \"event\": \"step_line\", \"ordered_globals\": [\"x\", \"i\"], \"heap\": {}, \"stdout\": \"\", \"stack_to_render\": []}, {\"func_name\": \"<module>\", \"globals\": {\"x\": 498, \"i\": 497}, \"line\": 3, \"event\": \"step_line\", \"ordered_globals\": [\"x\", \"i\"], \"heap\": {}, \"stdout\": \"\", \"stack_to_render\": []}, {\"func_name\": \"<module>\", \"globals\": {\"x\": 498, \"i\": 498}, \"line\": 4, \"event\": \"step_line\", \"ordered_globals\": [\"x\", \"i\"], \"heap\": {}, \"stdout\": \"\", \"stack_to_render\": []}, {\"func_name\": \"<module>\", \"globals\": {\"x\": 499, \"i\": 498}, \"line\": 3, \"event\": \"step_line\", \"ordered_globals\": [\"x\", \"i\"], \"heap\": {}, \"stdout\": \"\", \"stack_to_render\": []}, {\"event\": \"instruction_limit_reached\", \"exception_msg\": \"Stopped after running 1000 steps. Please shorten your code,\\nsince Python Tutor is not designed to handle long-running code.\"}]}\n",
       "        </script>\n",
       "        <div id=\"jm29d127c5-f34f-4d37-86cd-2179d1d9f5c9\" class=\"pytutorVisualizer\"> </div>\n",
       " \n",
       "        <style>\n",
       "        .vizLayoutTd {\n",
       "            background-color: #fff !important;\n",
       "        }\n",
       "                            \n",
       "        #pyStdout {\n",
       "            min-height:25px;\n",
       "        }\n",
       "\n",
       "        /* 'Edit this code' link, hiding because replaces browser tab !!!*/\n",
       "        #editCodeLinkDiv {\n",
       "            display:none;  \n",
       "        }\n",
       "        </style>   \n",
       "                            \n",
       "        <script>\n",
       "        (function(){\n",
       "\n",
       "            var trace = JSON.parse(document.getElementById('json-jm29d127c5-f34f-4d37-86cd-2179d1d9f5c9').innerHTML);                                        \n",
       "            // NOTE 1: id without #\n",
       "            // NOTE 2 - maybe there are more predictable ways, but this will work anyway\n",
       "            //        - id should be number\n",
       "            visualizerIdOverride = Math.trunc(Math.random() * 100000000000)\n",
       "            addVisualizerToPage(trace, 'jm29d127c5-f34f-4d37-86cd-2179d1d9f5c9',{'embeddedMode' : false,\n",
       "                                             'visualizerIdOverride':visualizerIdOverride})  \n",
       "            \n",
       "            \n",
       "            // set overflow for pytuts - need to do in python as css \n",
       "            // does not allow parent selection\n",
       "            var pytuts = $('.pytutorVisualizer')\n",
       "            pytuts.closest('div.output_html.rendered_html.output_result')\n",
       "                    .css('overflow-x', 'visible')\n",
       "        \n",
       "            //pytuts.closest('div.output_html.rendered_html.output_result')\n",
       "            //      .css('background-color','red')                \n",
       "            \n",
       "        })()\n",
       "        </script>\n",
       "                \n",
       "                "
      ],
      "text/plain": [
       "<IPython.core.display.HTML object>"
      ]
     },
     "execution_count": 7,
     "metadata": {},
     "output_type": "execute_result"
    }
   ],
   "source": [
    "x = 0\n",
    "for i in range(10000):\n",
    "    x += 1\n",
    "print(x)\n",
    "jupman.pytut()"
   ]
  },
  {
   "cell_type": "markdown",
   "metadata": {},
   "source": [
    "**jupman.pytut infinite loops**: Since execution occurs first in Jupyter and then in Python tutor, if you have an infinite loop no Python Tutor instance will be spawned: \n",
    "\n",
    "```python\n",
    "while True:\n",
    "    pass\n",
    "\n",
    "jupman.pytut()\n",
    "```"
   ]
  },
  {
   "cell_type": "markdown",
   "metadata": {},
   "source": [
    "**jupman.pytut() resizability:** long vertical and horizontal expansion should work:"
   ]
  },
  {
   "cell_type": "code",
   "execution_count": 8,
   "metadata": {},
   "outputs": [
    {
     "data": {
      "text/html": [
       "\n",
       "        <script src=\"_static/js/pytutor-embed.bundle.min.js\" type=\"application/javascript\"></script>\n",
       "     \n",
       "        <script id=\"json-jm927e8e3a-4fa8-49a4-8368-087fe721750f\" type=\"application/json\" >\n",
       "            {\"code\": \" \\nx = {0:'a'}\\nfor i in range(1,30):\\n    x[i] = x[i-1]+str(i*10000)\", \"trace\": [{\"func_name\": \"<module>\", \"globals\": {}, \"line\": 2, \"event\": \"step_line\", \"ordered_globals\": [], \"heap\": {}, \"stdout\": \"\", \"stack_to_render\": []}, {\"func_name\": \"<module>\", \"globals\": {\"x\": [\"REF\", 1]}, \"line\": 3, \"event\": \"step_line\", \"ordered_globals\": [\"x\"], \"heap\": {\"1\": [\"DICT\", [0, \"a\"]]}, \"stdout\": \"\", \"stack_to_render\": []}, {\"func_name\": \"<module>\", \"globals\": {\"x\": [\"REF\", 1], \"i\": 1}, \"line\": 4, \"event\": \"step_line\", \"ordered_globals\": [\"x\", \"i\"], \"heap\": {\"1\": [\"DICT\", [0, \"a\"]]}, \"stdout\": \"\", \"stack_to_render\": []}, {\"func_name\": \"<module>\", \"globals\": {\"x\": [\"REF\", 1], \"i\": 1}, \"line\": 3, \"event\": \"step_line\", \"ordered_globals\": [\"x\", \"i\"], \"heap\": {\"1\": [\"DICT\", [0, \"a\"], [1, \"a10000\"]]}, \"stdout\": \"\", \"stack_to_render\": []}, {\"func_name\": \"<module>\", \"globals\": {\"x\": [\"REF\", 1], \"i\": 2}, \"line\": 4, \"event\": \"step_line\", \"ordered_globals\": [\"x\", \"i\"], \"heap\": {\"1\": [\"DICT\", [0, \"a\"], [1, \"a10000\"]]}, \"stdout\": \"\", \"stack_to_render\": []}, {\"func_name\": \"<module>\", \"globals\": {\"x\": [\"REF\", 1], \"i\": 2}, \"line\": 3, \"event\": \"step_line\", \"ordered_globals\": [\"x\", \"i\"], \"heap\": {\"1\": [\"DICT\", [0, \"a\"], [1, \"a10000\"], [2, \"a1000020000\"]]}, \"stdout\": \"\", \"stack_to_render\": []}, {\"func_name\": \"<module>\", \"globals\": {\"x\": [\"REF\", 1], \"i\": 3}, \"line\": 4, \"event\": \"step_line\", \"ordered_globals\": [\"x\", \"i\"], \"heap\": {\"1\": [\"DICT\", [0, \"a\"], [1, \"a10000\"], [2, \"a1000020000\"]]}, \"stdout\": \"\", \"stack_to_render\": []}, {\"func_name\": \"<module>\", \"globals\": {\"x\": [\"REF\", 1], \"i\": 3}, \"line\": 3, \"event\": \"step_line\", \"ordered_globals\": [\"x\", \"i\"], \"heap\": {\"1\": [\"DICT\", [0, \"a\"], [1, \"a10000\"], [2, \"a1000020000\"], [3, \"a100002000030000\"]]}, \"stdout\": \"\", \"stack_to_render\": []}, {\"func_name\": \"<module>\", \"globals\": {\"x\": [\"REF\", 1], \"i\": 4}, \"line\": 4, \"event\": \"step_line\", \"ordered_globals\": [\"x\", \"i\"], \"heap\": {\"1\": [\"DICT\", [0, \"a\"], [1, \"a10000\"], [2, \"a1000020000\"], [3, \"a100002000030000\"]]}, \"stdout\": \"\", \"stack_to_render\": []}, {\"func_name\": \"<module>\", \"globals\": {\"x\": [\"REF\", 1], \"i\": 4}, \"line\": 3, \"event\": \"step_line\", \"ordered_globals\": [\"x\", \"i\"], \"heap\": {\"1\": [\"DICT\", [0, \"a\"], [1, \"a10000\"], [2, \"a1000020000\"], [3, \"a100002000030000\"], [4, \"a10000200003000040000\"]]}, \"stdout\": \"\", \"stack_to_render\": []}, {\"func_name\": \"<module>\", \"globals\": {\"x\": [\"REF\", 1], \"i\": 5}, \"line\": 4, \"event\": \"step_line\", \"ordered_globals\": [\"x\", \"i\"], \"heap\": {\"1\": [\"DICT\", [0, \"a\"], [1, \"a10000\"], [2, \"a1000020000\"], [3, \"a100002000030000\"], [4, \"a10000200003000040000\"]]}, \"stdout\": \"\", \"stack_to_render\": []}, {\"func_name\": \"<module>\", \"globals\": {\"x\": [\"REF\", 1], \"i\": 5}, \"line\": 3, \"event\": \"step_line\", \"ordered_globals\": [\"x\", \"i\"], \"heap\": {\"1\": [\"DICT\", [0, \"a\"], [1, \"a10000\"], [2, \"a1000020000\"], [3, \"a100002000030000\"], [4, \"a10000200003000040000\"], [5, \"a1000020000300004000050000\"]]}, \"stdout\": \"\", \"stack_to_render\": []}, {\"func_name\": \"<module>\", \"globals\": {\"x\": [\"REF\", 1], \"i\": 6}, \"line\": 4, \"event\": \"step_line\", \"ordered_globals\": [\"x\", \"i\"], \"heap\": {\"1\": [\"DICT\", [0, \"a\"], [1, \"a10000\"], [2, \"a1000020000\"], [3, \"a100002000030000\"], [4, \"a10000200003000040000\"], [5, \"a1000020000300004000050000\"]]}, \"stdout\": \"\", \"stack_to_render\": []}, {\"func_name\": \"<module>\", \"globals\": {\"x\": [\"REF\", 1], \"i\": 6}, \"line\": 3, \"event\": \"step_line\", \"ordered_globals\": [\"x\", \"i\"], \"heap\": {\"1\": [\"DICT\", [0, \"a\"], [1, \"a10000\"], [2, \"a1000020000\"], [3, \"a100002000030000\"], [4, \"a10000200003000040000\"], [5, \"a1000020000300004000050000\"], [6, \"a100002000030000400005000060000\"]]}, \"stdout\": \"\", \"stack_to_render\": []}, {\"func_name\": \"<module>\", \"globals\": {\"x\": [\"REF\", 1], \"i\": 7}, \"line\": 4, \"event\": \"step_line\", \"ordered_globals\": [\"x\", \"i\"], \"heap\": {\"1\": [\"DICT\", [0, \"a\"], [1, \"a10000\"], [2, \"a1000020000\"], [3, \"a100002000030000\"], [4, \"a10000200003000040000\"], [5, \"a1000020000300004000050000\"], [6, \"a100002000030000400005000060000\"]]}, \"stdout\": \"\", \"stack_to_render\": []}, {\"func_name\": \"<module>\", \"globals\": {\"x\": [\"REF\", 1], \"i\": 7}, \"line\": 3, \"event\": \"step_line\", \"ordered_globals\": [\"x\", \"i\"], \"heap\": {\"1\": [\"DICT\", [0, \"a\"], [1, \"a10000\"], [2, \"a1000020000\"], [3, \"a100002000030000\"], [4, \"a10000200003000040000\"], [5, \"a1000020000300004000050000\"], [6, \"a100002000030000400005000060000\"], [7, \"a10000200003000040000500006000070000\"]]}, \"stdout\": \"\", \"stack_to_render\": []}, {\"func_name\": \"<module>\", \"globals\": {\"x\": [\"REF\", 1], \"i\": 8}, \"line\": 4, \"event\": \"step_line\", \"ordered_globals\": [\"x\", \"i\"], \"heap\": {\"1\": [\"DICT\", [0, \"a\"], [1, \"a10000\"], [2, \"a1000020000\"], [3, \"a100002000030000\"], [4, \"a10000200003000040000\"], [5, \"a1000020000300004000050000\"], [6, \"a100002000030000400005000060000\"], [7, \"a10000200003000040000500006000070000\"]]}, \"stdout\": \"\", \"stack_to_render\": []}, {\"func_name\": \"<module>\", \"globals\": {\"x\": [\"REF\", 1], \"i\": 8}, \"line\": 3, \"event\": \"step_line\", \"ordered_globals\": [\"x\", \"i\"], \"heap\": {\"1\": [\"DICT\", [0, \"a\"], [1, \"a10000\"], [2, \"a1000020000\"], [3, \"a100002000030000\"], [4, \"a10000200003000040000\"], [5, \"a1000020000300004000050000\"], [6, \"a100002000030000400005000060000\"], [7, \"a10000200003000040000500006000070000\"], [8, \"a1000020000300004000050000600007000080000\"]]}, \"stdout\": \"\", \"stack_to_render\": []}, {\"func_name\": \"<module>\", \"globals\": {\"x\": [\"REF\", 1], \"i\": 9}, \"line\": 4, \"event\": \"step_line\", \"ordered_globals\": [\"x\", \"i\"], \"heap\": {\"1\": [\"DICT\", [0, \"a\"], [1, \"a10000\"], [2, \"a1000020000\"], [3, \"a100002000030000\"], [4, \"a10000200003000040000\"], [5, \"a1000020000300004000050000\"], [6, \"a100002000030000400005000060000\"], [7, \"a10000200003000040000500006000070000\"], [8, \"a1000020000300004000050000600007000080000\"]]}, \"stdout\": \"\", \"stack_to_render\": []}, {\"func_name\": \"<module>\", \"globals\": {\"x\": [\"REF\", 1], \"i\": 9}, \"line\": 3, \"event\": \"step_line\", \"ordered_globals\": [\"x\", \"i\"], \"heap\": {\"1\": [\"DICT\", [0, \"a\"], [1, \"a10000\"], [2, \"a1000020000\"], [3, \"a100002000030000\"], [4, \"a10000200003000040000\"], [5, \"a1000020000300004000050000\"], [6, \"a100002000030000400005000060000\"], [7, \"a10000200003000040000500006000070000\"], [8, \"a1000020000300004000050000600007000080000\"], [9, \"a100002000030000400005000060000700008000090000\"]]}, \"stdout\": \"\", \"stack_to_render\": []}, {\"func_name\": \"<module>\", \"globals\": {\"x\": [\"REF\", 1], \"i\": 10}, \"line\": 4, \"event\": \"step_line\", \"ordered_globals\": [\"x\", \"i\"], \"heap\": {\"1\": [\"DICT\", [0, \"a\"], [1, \"a10000\"], [2, \"a1000020000\"], [3, \"a100002000030000\"], [4, \"a10000200003000040000\"], [5, \"a1000020000300004000050000\"], [6, \"a100002000030000400005000060000\"], [7, \"a10000200003000040000500006000070000\"], [8, \"a1000020000300004000050000600007000080000\"], [9, \"a100002000030000400005000060000700008000090000\"]]}, \"stdout\": \"\", \"stack_to_render\": []}, {\"func_name\": \"<module>\", \"globals\": {\"x\": [\"REF\", 1], \"i\": 10}, \"line\": 3, \"event\": \"step_line\", \"ordered_globals\": [\"x\", \"i\"], \"heap\": {\"1\": [\"DICT\", [0, \"a\"], [1, \"a10000\"], [2, \"a1000020000\"], [3, \"a100002000030000\"], [4, \"a10000200003000040000\"], [5, \"a1000020000300004000050000\"], [6, \"a100002000030000400005000060000\"], [7, \"a10000200003000040000500006000070000\"], [8, \"a1000020000300004000050000600007000080000\"], [9, \"a100002000030000400005000060000700008000090000\"], [10, \"a100002000030000400005000060000700008000090000100000\"]]}, \"stdout\": \"\", \"stack_to_render\": []}, {\"func_name\": \"<module>\", \"globals\": {\"x\": [\"REF\", 1], \"i\": 11}, \"line\": 4, \"event\": \"step_line\", \"ordered_globals\": [\"x\", \"i\"], \"heap\": {\"1\": [\"DICT\", [0, \"a\"], [1, \"a10000\"], [2, \"a1000020000\"], [3, \"a100002000030000\"], [4, \"a10000200003000040000\"], [5, \"a1000020000300004000050000\"], [6, \"a100002000030000400005000060000\"], [7, \"a10000200003000040000500006000070000\"], [8, \"a1000020000300004000050000600007000080000\"], [9, \"a100002000030000400005000060000700008000090000\"], [10, \"a100002000030000400005000060000700008000090000100000\"]]}, \"stdout\": \"\", \"stack_to_render\": []}, {\"func_name\": \"<module>\", \"globals\": {\"x\": [\"REF\", 1], \"i\": 11}, \"line\": 3, \"event\": \"step_line\", \"ordered_globals\": [\"x\", \"i\"], \"heap\": {\"1\": [\"DICT\", [0, \"a\"], [1, \"a10000\"], [2, \"a1000020000\"], [3, \"a100002000030000\"], [4, \"a10000200003000040000\"], [5, \"a1000020000300004000050000\"], [6, \"a100002000030000400005000060000\"], [7, \"a10000200003000040000500006000070000\"], [8, \"a1000020000300004000050000600007000080000\"], [9, \"a100002000030000400005000060000700008000090000\"], [10, \"a100002000030000400005000060000700008000090000100000\"], [11, \"a100002000030000400005000060000700008000090000100000110000\"]]}, \"stdout\": \"\", \"stack_to_render\": []}, {\"func_name\": \"<module>\", \"globals\": {\"x\": [\"REF\", 1], \"i\": 12}, \"line\": 4, \"event\": \"step_line\", \"ordered_globals\": [\"x\", \"i\"], \"heap\": {\"1\": [\"DICT\", [0, \"a\"], [1, \"a10000\"], [2, \"a1000020000\"], [3, \"a100002000030000\"], [4, \"a10000200003000040000\"], [5, \"a1000020000300004000050000\"], [6, \"a100002000030000400005000060000\"], [7, \"a10000200003000040000500006000070000\"], [8, \"a1000020000300004000050000600007000080000\"], [9, \"a100002000030000400005000060000700008000090000\"], [10, \"a100002000030000400005000060000700008000090000100000\"], [11, \"a100002000030000400005000060000700008000090000100000110000\"]]}, \"stdout\": \"\", \"stack_to_render\": []}, {\"func_name\": \"<module>\", \"globals\": {\"x\": [\"REF\", 1], \"i\": 12}, \"line\": 3, \"event\": \"step_line\", \"ordered_globals\": [\"x\", \"i\"], \"heap\": {\"1\": [\"DICT\", [0, \"a\"], [1, \"a10000\"], [2, \"a1000020000\"], [3, \"a100002000030000\"], [4, \"a10000200003000040000\"], [5, \"a1000020000300004000050000\"], [6, \"a100002000030000400005000060000\"], [7, \"a10000200003000040000500006000070000\"], [8, \"a1000020000300004000050000600007000080000\"], [9, \"a100002000030000400005000060000700008000090000\"], [10, \"a100002000030000400005000060000700008000090000100000\"], [11, \"a100002000030000400005000060000700008000090000100000110000\"], [12, \"a100002000030000400005000060000700008000090000100000110000120000\"]]}, \"stdout\": \"\", \"stack_to_render\": []}, {\"func_name\": \"<module>\", \"globals\": {\"x\": [\"REF\", 1], \"i\": 13}, \"line\": 4, \"event\": \"step_line\", \"ordered_globals\": [\"x\", \"i\"], \"heap\": {\"1\": [\"DICT\", [0, \"a\"], [1, \"a10000\"], [2, \"a1000020000\"], [3, \"a100002000030000\"], [4, \"a10000200003000040000\"], [5, \"a1000020000300004000050000\"], [6, \"a100002000030000400005000060000\"], [7, \"a10000200003000040000500006000070000\"], [8, \"a1000020000300004000050000600007000080000\"], [9, \"a100002000030000400005000060000700008000090000\"], [10, \"a100002000030000400005000060000700008000090000100000\"], [11, \"a100002000030000400005000060000700008000090000100000110000\"], [12, \"a100002000030000400005000060000700008000090000100000110000120000\"]]}, \"stdout\": \"\", \"stack_to_render\": []}, {\"func_name\": \"<module>\", \"globals\": {\"x\": [\"REF\", 1], \"i\": 13}, \"line\": 3, \"event\": \"step_line\", \"ordered_globals\": [\"x\", \"i\"], \"heap\": {\"1\": [\"DICT\", [0, \"a\"], [1, \"a10000\"], [2, \"a1000020000\"], [3, \"a100002000030000\"], [4, \"a10000200003000040000\"], [5, \"a1000020000300004000050000\"], [6, \"a100002000030000400005000060000\"], [7, \"a10000200003000040000500006000070000\"], [8, \"a1000020000300004000050000600007000080000\"], [9, \"a100002000030000400005000060000700008000090000\"], [10, \"a100002000030000400005000060000700008000090000100000\"], [11, \"a100002000030000400005000060000700008000090000100000110000\"], [12, \"a100002000030000400005000060000700008000090000100000110000120000\"], [13, \"a100002000030000400005000060000700008000090000100000110000120000130000\"]]}, \"stdout\": \"\", \"stack_to_render\": []}, {\"func_name\": \"<module>\", \"globals\": {\"x\": [\"REF\", 1], \"i\": 14}, \"line\": 4, \"event\": \"step_line\", \"ordered_globals\": [\"x\", \"i\"], \"heap\": {\"1\": [\"DICT\", [0, \"a\"], [1, \"a10000\"], [2, \"a1000020000\"], [3, \"a100002000030000\"], [4, \"a10000200003000040000\"], [5, \"a1000020000300004000050000\"], [6, \"a100002000030000400005000060000\"], [7, \"a10000200003000040000500006000070000\"], [8, \"a1000020000300004000050000600007000080000\"], [9, \"a100002000030000400005000060000700008000090000\"], [10, \"a100002000030000400005000060000700008000090000100000\"], [11, \"a100002000030000400005000060000700008000090000100000110000\"], [12, \"a100002000030000400005000060000700008000090000100000110000120000\"], [13, \"a100002000030000400005000060000700008000090000100000110000120000130000\"]]}, \"stdout\": \"\", \"stack_to_render\": []}, {\"func_name\": \"<module>\", \"globals\": {\"x\": [\"REF\", 1], \"i\": 14}, \"line\": 3, \"event\": \"step_line\", \"ordered_globals\": [\"x\", \"i\"], \"heap\": {\"1\": [\"DICT\", [0, \"a\"], [1, \"a10000\"], [2, \"a1000020000\"], [3, \"a100002000030000\"], [4, \"a10000200003000040000\"], [5, \"a1000020000300004000050000\"], [6, \"a100002000030000400005000060000\"], [7, \"a10000200003000040000500006000070000\"], [8, \"a1000020000300004000050000600007000080000\"], [9, \"a100002000030000400005000060000700008000090000\"], [10, \"a100002000030000400005000060000700008000090000100000\"], [11, \"a100002000030000400005000060000700008000090000100000110000\"], [12, \"a100002000030000400005000060000700008000090000100000110000120000\"], [13, \"a100002000030000400005000060000700008000090000100000110000120000130000\"], [14, \"a100002000030000400005000060000700008000090000100000110000120000130000140000\"]]}, \"stdout\": \"\", \"stack_to_render\": []}, {\"func_name\": \"<module>\", \"globals\": {\"x\": [\"REF\", 1], \"i\": 15}, \"line\": 4, \"event\": \"step_line\", \"ordered_globals\": [\"x\", \"i\"], \"heap\": {\"1\": [\"DICT\", [0, \"a\"], [1, \"a10000\"], [2, \"a1000020000\"], [3, \"a100002000030000\"], [4, \"a10000200003000040000\"], [5, \"a1000020000300004000050000\"], [6, \"a100002000030000400005000060000\"], [7, \"a10000200003000040000500006000070000\"], [8, \"a1000020000300004000050000600007000080000\"], [9, \"a100002000030000400005000060000700008000090000\"], [10, \"a100002000030000400005000060000700008000090000100000\"], [11, \"a100002000030000400005000060000700008000090000100000110000\"], [12, \"a100002000030000400005000060000700008000090000100000110000120000\"], [13, \"a100002000030000400005000060000700008000090000100000110000120000130000\"], [14, \"a100002000030000400005000060000700008000090000100000110000120000130000140000\"]]}, \"stdout\": \"\", \"stack_to_render\": []}, {\"func_name\": \"<module>\", \"globals\": {\"x\": [\"REF\", 1], \"i\": 15}, \"line\": 3, \"event\": \"step_line\", \"ordered_globals\": [\"x\", \"i\"], \"heap\": {\"1\": [\"DICT\", [0, \"a\"], [1, \"a10000\"], [2, \"a1000020000\"], [3, \"a100002000030000\"], [4, \"a10000200003000040000\"], [5, \"a1000020000300004000050000\"], [6, \"a100002000030000400005000060000\"], [7, \"a10000200003000040000500006000070000\"], [8, \"a1000020000300004000050000600007000080000\"], [9, \"a100002000030000400005000060000700008000090000\"], [10, \"a100002000030000400005000060000700008000090000100000\"], [11, \"a100002000030000400005000060000700008000090000100000110000\"], [12, \"a100002000030000400005000060000700008000090000100000110000120000\"], [13, \"a100002000030000400005000060000700008000090000100000110000120000130000\"], [14, \"a100002000030000400005000060000700008000090000100000110000120000130000140000\"], [15, \"a100002000030000400005000060000700008000090000100000110000120000130000140000150000\"]]}, \"stdout\": \"\", \"stack_to_render\": []}, {\"func_name\": \"<module>\", \"globals\": {\"x\": [\"REF\", 1], \"i\": 16}, \"line\": 4, \"event\": \"step_line\", \"ordered_globals\": [\"x\", \"i\"], \"heap\": {\"1\": [\"DICT\", [0, \"a\"], [1, \"a10000\"], [2, \"a1000020000\"], [3, \"a100002000030000\"], [4, \"a10000200003000040000\"], [5, \"a1000020000300004000050000\"], [6, \"a100002000030000400005000060000\"], [7, \"a10000200003000040000500006000070000\"], [8, \"a1000020000300004000050000600007000080000\"], [9, \"a100002000030000400005000060000700008000090000\"], [10, \"a100002000030000400005000060000700008000090000100000\"], [11, \"a100002000030000400005000060000700008000090000100000110000\"], [12, \"a100002000030000400005000060000700008000090000100000110000120000\"], [13, \"a100002000030000400005000060000700008000090000100000110000120000130000\"], [14, \"a100002000030000400005000060000700008000090000100000110000120000130000140000\"], [15, \"a100002000030000400005000060000700008000090000100000110000120000130000140000150000\"]]}, \"stdout\": \"\", \"stack_to_render\": []}, {\"func_name\": \"<module>\", \"globals\": {\"x\": [\"REF\", 1], \"i\": 16}, \"line\": 3, \"event\": \"step_line\", \"ordered_globals\": [\"x\", \"i\"], \"heap\": {\"1\": [\"DICT\", [0, \"a\"], [1, \"a10000\"], [2, \"a1000020000\"], [3, \"a100002000030000\"], [4, \"a10000200003000040000\"], [5, \"a1000020000300004000050000\"], [6, \"a100002000030000400005000060000\"], [7, \"a10000200003000040000500006000070000\"], [8, \"a1000020000300004000050000600007000080000\"], [9, \"a100002000030000400005000060000700008000090000\"], [10, \"a100002000030000400005000060000700008000090000100000\"], [11, \"a100002000030000400005000060000700008000090000100000110000\"], [12, \"a100002000030000400005000060000700008000090000100000110000120000\"], [13, \"a100002000030000400005000060000700008000090000100000110000120000130000\"], [14, \"a100002000030000400005000060000700008000090000100000110000120000130000140000\"], [15, \"a100002000030000400005000060000700008000090000100000110000120000130000140000150000\"], [16, \"a100002000030000400005000060000700008000090000100000110000120000130000140000150000160000\"]]}, \"stdout\": \"\", \"stack_to_render\": []}, {\"func_name\": \"<module>\", \"globals\": {\"x\": [\"REF\", 1], \"i\": 17}, \"line\": 4, \"event\": \"step_line\", \"ordered_globals\": [\"x\", \"i\"], \"heap\": {\"1\": [\"DICT\", [0, \"a\"], [1, \"a10000\"], [2, \"a1000020000\"], [3, \"a100002000030000\"], [4, \"a10000200003000040000\"], [5, \"a1000020000300004000050000\"], [6, \"a100002000030000400005000060000\"], [7, \"a10000200003000040000500006000070000\"], [8, \"a1000020000300004000050000600007000080000\"], [9, \"a100002000030000400005000060000700008000090000\"], [10, \"a100002000030000400005000060000700008000090000100000\"], [11, \"a100002000030000400005000060000700008000090000100000110000\"], [12, \"a100002000030000400005000060000700008000090000100000110000120000\"], [13, \"a100002000030000400005000060000700008000090000100000110000120000130000\"], [14, \"a100002000030000400005000060000700008000090000100000110000120000130000140000\"], [15, \"a100002000030000400005000060000700008000090000100000110000120000130000140000150000\"], [16, \"a100002000030000400005000060000700008000090000100000110000120000130000140000150000160000\"]]}, \"stdout\": \"\", \"stack_to_render\": []}, {\"func_name\": \"<module>\", \"globals\": {\"x\": [\"REF\", 1], \"i\": 17}, \"line\": 3, \"event\": \"step_line\", \"ordered_globals\": [\"x\", \"i\"], \"heap\": {\"1\": [\"DICT\", [0, \"a\"], [1, \"a10000\"], [2, \"a1000020000\"], [3, \"a100002000030000\"], [4, \"a10000200003000040000\"], [5, \"a1000020000300004000050000\"], [6, \"a100002000030000400005000060000\"], [7, \"a10000200003000040000500006000070000\"], [8, \"a1000020000300004000050000600007000080000\"], [9, \"a100002000030000400005000060000700008000090000\"], [10, \"a100002000030000400005000060000700008000090000100000\"], [11, \"a100002000030000400005000060000700008000090000100000110000\"], [12, \"a100002000030000400005000060000700008000090000100000110000120000\"], [13, \"a100002000030000400005000060000700008000090000100000110000120000130000\"], [14, \"a100002000030000400005000060000700008000090000100000110000120000130000140000\"], [15, \"a100002000030000400005000060000700008000090000100000110000120000130000140000150000\"], [16, \"a100002000030000400005000060000700008000090000100000110000120000130000140000150000160000\"], [17, \"a100002000030000400005000060000700008000090000100000110000120000130000140000150000160000170000\"]]}, \"stdout\": \"\", \"stack_to_render\": []}, {\"func_name\": \"<module>\", \"globals\": {\"x\": [\"REF\", 1], \"i\": 18}, \"line\": 4, \"event\": \"step_line\", \"ordered_globals\": [\"x\", \"i\"], \"heap\": {\"1\": [\"DICT\", [0, \"a\"], [1, \"a10000\"], [2, \"a1000020000\"], [3, \"a100002000030000\"], [4, \"a10000200003000040000\"], [5, \"a1000020000300004000050000\"], [6, \"a100002000030000400005000060000\"], [7, \"a10000200003000040000500006000070000\"], [8, \"a1000020000300004000050000600007000080000\"], [9, \"a100002000030000400005000060000700008000090000\"], [10, \"a100002000030000400005000060000700008000090000100000\"], [11, \"a100002000030000400005000060000700008000090000100000110000\"], [12, \"a100002000030000400005000060000700008000090000100000110000120000\"], [13, \"a100002000030000400005000060000700008000090000100000110000120000130000\"], [14, \"a100002000030000400005000060000700008000090000100000110000120000130000140000\"], [15, \"a100002000030000400005000060000700008000090000100000110000120000130000140000150000\"], [16, \"a100002000030000400005000060000700008000090000100000110000120000130000140000150000160000\"], [17, \"a100002000030000400005000060000700008000090000100000110000120000130000140000150000160000170000\"]]}, \"stdout\": \"\", \"stack_to_render\": []}, {\"func_name\": \"<module>\", \"globals\": {\"x\": [\"REF\", 1], \"i\": 18}, \"line\": 3, \"event\": \"step_line\", \"ordered_globals\": [\"x\", \"i\"], \"heap\": {\"1\": [\"DICT\", [0, \"a\"], [1, \"a10000\"], [2, \"a1000020000\"], [3, \"a100002000030000\"], [4, \"a10000200003000040000\"], [5, \"a1000020000300004000050000\"], [6, \"a100002000030000400005000060000\"], [7, \"a10000200003000040000500006000070000\"], [8, \"a1000020000300004000050000600007000080000\"], [9, \"a100002000030000400005000060000700008000090000\"], [10, \"a100002000030000400005000060000700008000090000100000\"], [11, \"a100002000030000400005000060000700008000090000100000110000\"], [12, \"a100002000030000400005000060000700008000090000100000110000120000\"], [13, \"a100002000030000400005000060000700008000090000100000110000120000130000\"], [14, \"a100002000030000400005000060000700008000090000100000110000120000130000140000\"], [15, \"a100002000030000400005000060000700008000090000100000110000120000130000140000150000\"], [16, \"a100002000030000400005000060000700008000090000100000110000120000130000140000150000160000\"], [17, \"a100002000030000400005000060000700008000090000100000110000120000130000140000150000160000170000\"], [18, \"a100002000030000400005000060000700008000090000100000110000120000130000140000150000160000170000180000\"]]}, \"stdout\": \"\", \"stack_to_render\": []}, {\"func_name\": \"<module>\", \"globals\": {\"x\": [\"REF\", 1], \"i\": 19}, \"line\": 4, \"event\": \"step_line\", \"ordered_globals\": [\"x\", \"i\"], \"heap\": {\"1\": [\"DICT\", [0, \"a\"], [1, \"a10000\"], [2, \"a1000020000\"], [3, \"a100002000030000\"], [4, \"a10000200003000040000\"], [5, \"a1000020000300004000050000\"], [6, \"a100002000030000400005000060000\"], [7, \"a10000200003000040000500006000070000\"], [8, \"a1000020000300004000050000600007000080000\"], [9, \"a100002000030000400005000060000700008000090000\"], [10, \"a100002000030000400005000060000700008000090000100000\"], [11, \"a100002000030000400005000060000700008000090000100000110000\"], [12, \"a100002000030000400005000060000700008000090000100000110000120000\"], [13, \"a100002000030000400005000060000700008000090000100000110000120000130000\"], [14, \"a100002000030000400005000060000700008000090000100000110000120000130000140000\"], [15, \"a100002000030000400005000060000700008000090000100000110000120000130000140000150000\"], [16, \"a100002000030000400005000060000700008000090000100000110000120000130000140000150000160000\"], [17, \"a100002000030000400005000060000700008000090000100000110000120000130000140000150000160000170000\"], [18, \"a100002000030000400005000060000700008000090000100000110000120000130000140000150000160000170000180000\"]]}, \"stdout\": \"\", \"stack_to_render\": []}, {\"func_name\": \"<module>\", \"globals\": {\"x\": [\"REF\", 1], \"i\": 19}, \"line\": 3, \"event\": \"step_line\", \"ordered_globals\": [\"x\", \"i\"], \"heap\": {\"1\": [\"DICT\", [0, \"a\"], [1, \"a10000\"], [2, \"a1000020000\"], [3, \"a100002000030000\"], [4, \"a10000200003000040000\"], [5, \"a1000020000300004000050000\"], [6, \"a100002000030000400005000060000\"], [7, \"a10000200003000040000500006000070000\"], [8, \"a1000020000300004000050000600007000080000\"], [9, \"a100002000030000400005000060000700008000090000\"], [10, \"a100002000030000400005000060000700008000090000100000\"], [11, \"a100002000030000400005000060000700008000090000100000110000\"], [12, \"a100002000030000400005000060000700008000090000100000110000120000\"], [13, \"a100002000030000400005000060000700008000090000100000110000120000130000\"], [14, \"a100002000030000400005000060000700008000090000100000110000120000130000140000\"], [15, \"a100002000030000400005000060000700008000090000100000110000120000130000140000150000\"], [16, \"a100002000030000400005000060000700008000090000100000110000120000130000140000150000160000\"], [17, \"a100002000030000400005000060000700008000090000100000110000120000130000140000150000160000170000\"], [18, \"a100002000030000400005000060000700008000090000100000110000120000130000140000150000160000170000180000\"], [19, \"a100002000030000400005000060000700008000090000100000110000120000130000140000150000160000170000180000190000\"]]}, \"stdout\": \"\", \"stack_to_render\": []}, {\"func_name\": \"<module>\", \"globals\": {\"x\": [\"REF\", 1], \"i\": 20}, \"line\": 4, \"event\": \"step_line\", \"ordered_globals\": [\"x\", \"i\"], \"heap\": {\"1\": [\"DICT\", [0, \"a\"], [1, \"a10000\"], [2, \"a1000020000\"], [3, \"a100002000030000\"], [4, \"a10000200003000040000\"], [5, \"a1000020000300004000050000\"], [6, \"a100002000030000400005000060000\"], [7, \"a10000200003000040000500006000070000\"], [8, \"a1000020000300004000050000600007000080000\"], [9, \"a100002000030000400005000060000700008000090000\"], [10, \"a100002000030000400005000060000700008000090000100000\"], [11, \"a100002000030000400005000060000700008000090000100000110000\"], [12, \"a100002000030000400005000060000700008000090000100000110000120000\"], [13, \"a100002000030000400005000060000700008000090000100000110000120000130000\"], [14, \"a100002000030000400005000060000700008000090000100000110000120000130000140000\"], [15, \"a100002000030000400005000060000700008000090000100000110000120000130000140000150000\"], [16, \"a100002000030000400005000060000700008000090000100000110000120000130000140000150000160000\"], [17, \"a100002000030000400005000060000700008000090000100000110000120000130000140000150000160000170000\"], [18, \"a100002000030000400005000060000700008000090000100000110000120000130000140000150000160000170000180000\"], [19, \"a100002000030000400005000060000700008000090000100000110000120000130000140000150000160000170000180000190000\"]]}, \"stdout\": \"\", \"stack_to_render\": []}, {\"func_name\": \"<module>\", \"globals\": {\"x\": [\"REF\", 1], \"i\": 20}, \"line\": 3, \"event\": \"step_line\", \"ordered_globals\": [\"x\", \"i\"], \"heap\": {\"1\": [\"DICT\", [0, \"a\"], [1, \"a10000\"], [2, \"a1000020000\"], [3, \"a100002000030000\"], [4, \"a10000200003000040000\"], [5, \"a1000020000300004000050000\"], [6, \"a100002000030000400005000060000\"], [7, \"a10000200003000040000500006000070000\"], [8, \"a1000020000300004000050000600007000080000\"], [9, \"a100002000030000400005000060000700008000090000\"], [10, \"a100002000030000400005000060000700008000090000100000\"], [11, \"a100002000030000400005000060000700008000090000100000110000\"], [12, \"a100002000030000400005000060000700008000090000100000110000120000\"], [13, \"a100002000030000400005000060000700008000090000100000110000120000130000\"], [14, \"a100002000030000400005000060000700008000090000100000110000120000130000140000\"], [15, \"a100002000030000400005000060000700008000090000100000110000120000130000140000150000\"], [16, \"a100002000030000400005000060000700008000090000100000110000120000130000140000150000160000\"], [17, \"a100002000030000400005000060000700008000090000100000110000120000130000140000150000160000170000\"], [18, \"a100002000030000400005000060000700008000090000100000110000120000130000140000150000160000170000180000\"], [19, \"a100002000030000400005000060000700008000090000100000110000120000130000140000150000160000170000180000190000\"], [20, \"a100002000030000400005000060000700008000090000100000110000120000130000140000150000160000170000180000190000200000\"]]}, \"stdout\": \"\", \"stack_to_render\": []}, {\"func_name\": \"<module>\", \"globals\": {\"x\": [\"REF\", 1], \"i\": 21}, \"line\": 4, \"event\": \"step_line\", \"ordered_globals\": [\"x\", \"i\"], \"heap\": {\"1\": [\"DICT\", [0, \"a\"], [1, \"a10000\"], [2, \"a1000020000\"], [3, \"a100002000030000\"], [4, \"a10000200003000040000\"], [5, \"a1000020000300004000050000\"], [6, \"a100002000030000400005000060000\"], [7, \"a10000200003000040000500006000070000\"], [8, \"a1000020000300004000050000600007000080000\"], [9, \"a100002000030000400005000060000700008000090000\"], [10, \"a100002000030000400005000060000700008000090000100000\"], [11, \"a100002000030000400005000060000700008000090000100000110000\"], [12, \"a100002000030000400005000060000700008000090000100000110000120000\"], [13, \"a100002000030000400005000060000700008000090000100000110000120000130000\"], [14, \"a100002000030000400005000060000700008000090000100000110000120000130000140000\"], [15, \"a100002000030000400005000060000700008000090000100000110000120000130000140000150000\"], [16, \"a100002000030000400005000060000700008000090000100000110000120000130000140000150000160000\"], [17, \"a100002000030000400005000060000700008000090000100000110000120000130000140000150000160000170000\"], [18, \"a100002000030000400005000060000700008000090000100000110000120000130000140000150000160000170000180000\"], [19, \"a100002000030000400005000060000700008000090000100000110000120000130000140000150000160000170000180000190000\"], [20, \"a100002000030000400005000060000700008000090000100000110000120000130000140000150000160000170000180000190000200000\"]]}, \"stdout\": \"\", \"stack_to_render\": []}, {\"func_name\": \"<module>\", \"globals\": {\"x\": [\"REF\", 1], \"i\": 21}, \"line\": 3, \"event\": \"step_line\", \"ordered_globals\": [\"x\", \"i\"], \"heap\": {\"1\": [\"DICT\", [0, \"a\"], [1, \"a10000\"], [2, \"a1000020000\"], [3, \"a100002000030000\"], [4, \"a10000200003000040000\"], [5, \"a1000020000300004000050000\"], [6, \"a100002000030000400005000060000\"], [7, \"a10000200003000040000500006000070000\"], [8, \"a1000020000300004000050000600007000080000\"], [9, \"a100002000030000400005000060000700008000090000\"], [10, \"a100002000030000400005000060000700008000090000100000\"], [11, \"a100002000030000400005000060000700008000090000100000110000\"], [12, \"a100002000030000400005000060000700008000090000100000110000120000\"], [13, \"a100002000030000400005000060000700008000090000100000110000120000130000\"], [14, \"a100002000030000400005000060000700008000090000100000110000120000130000140000\"], [15, \"a100002000030000400005000060000700008000090000100000110000120000130000140000150000\"], [16, \"a100002000030000400005000060000700008000090000100000110000120000130000140000150000160000\"], [17, \"a100002000030000400005000060000700008000090000100000110000120000130000140000150000160000170000\"], [18, \"a100002000030000400005000060000700008000090000100000110000120000130000140000150000160000170000180000\"], [19, \"a100002000030000400005000060000700008000090000100000110000120000130000140000150000160000170000180000190000\"], [20, \"a100002000030000400005000060000700008000090000100000110000120000130000140000150000160000170000180000190000200000\"], [21, \"a100002000030000400005000060000700008000090000100000110000120000130000140000150000160000170000180000190000200000210000\"]]}, \"stdout\": \"\", \"stack_to_render\": []}, {\"func_name\": \"<module>\", \"globals\": {\"x\": [\"REF\", 1], \"i\": 22}, \"line\": 4, \"event\": \"step_line\", \"ordered_globals\": [\"x\", \"i\"], \"heap\": {\"1\": [\"DICT\", [0, \"a\"], [1, \"a10000\"], [2, \"a1000020000\"], [3, \"a100002000030000\"], [4, \"a10000200003000040000\"], [5, \"a1000020000300004000050000\"], [6, \"a100002000030000400005000060000\"], [7, \"a10000200003000040000500006000070000\"], [8, \"a1000020000300004000050000600007000080000\"], [9, \"a100002000030000400005000060000700008000090000\"], [10, \"a100002000030000400005000060000700008000090000100000\"], [11, \"a100002000030000400005000060000700008000090000100000110000\"], [12, \"a100002000030000400005000060000700008000090000100000110000120000\"], [13, \"a100002000030000400005000060000700008000090000100000110000120000130000\"], [14, \"a100002000030000400005000060000700008000090000100000110000120000130000140000\"], [15, \"a100002000030000400005000060000700008000090000100000110000120000130000140000150000\"], [16, \"a100002000030000400005000060000700008000090000100000110000120000130000140000150000160000\"], [17, \"a100002000030000400005000060000700008000090000100000110000120000130000140000150000160000170000\"], [18, \"a100002000030000400005000060000700008000090000100000110000120000130000140000150000160000170000180000\"], [19, \"a100002000030000400005000060000700008000090000100000110000120000130000140000150000160000170000180000190000\"], [20, \"a100002000030000400005000060000700008000090000100000110000120000130000140000150000160000170000180000190000200000\"], [21, \"a100002000030000400005000060000700008000090000100000110000120000130000140000150000160000170000180000190000200000210000\"]]}, \"stdout\": \"\", \"stack_to_render\": []}, {\"func_name\": \"<module>\", \"globals\": {\"x\": [\"REF\", 1], \"i\": 22}, \"line\": 3, \"event\": \"step_line\", \"ordered_globals\": [\"x\", \"i\"], \"heap\": {\"1\": [\"DICT\", [0, \"a\"], [1, \"a10000\"], [2, \"a1000020000\"], [3, \"a100002000030000\"], [4, \"a10000200003000040000\"], [5, \"a1000020000300004000050000\"], [6, \"a100002000030000400005000060000\"], [7, \"a10000200003000040000500006000070000\"], [8, \"a1000020000300004000050000600007000080000\"], [9, \"a100002000030000400005000060000700008000090000\"], [10, \"a100002000030000400005000060000700008000090000100000\"], [11, \"a100002000030000400005000060000700008000090000100000110000\"], [12, \"a100002000030000400005000060000700008000090000100000110000120000\"], [13, \"a100002000030000400005000060000700008000090000100000110000120000130000\"], [14, \"a100002000030000400005000060000700008000090000100000110000120000130000140000\"], [15, \"a100002000030000400005000060000700008000090000100000110000120000130000140000150000\"], [16, \"a100002000030000400005000060000700008000090000100000110000120000130000140000150000160000\"], [17, \"a100002000030000400005000060000700008000090000100000110000120000130000140000150000160000170000\"], [18, \"a100002000030000400005000060000700008000090000100000110000120000130000140000150000160000170000180000\"], [19, \"a100002000030000400005000060000700008000090000100000110000120000130000140000150000160000170000180000190000\"], [20, \"a100002000030000400005000060000700008000090000100000110000120000130000140000150000160000170000180000190000200000\"], [21, \"a100002000030000400005000060000700008000090000100000110000120000130000140000150000160000170000180000190000200000210000\"], [22, \"a100002000030000400005000060000700008000090000100000110000120000130000140000150000160000170000180000190000200000210000220000\"]]}, \"stdout\": \"\", \"stack_to_render\": []}, {\"func_name\": \"<module>\", \"globals\": {\"x\": [\"REF\", 1], \"i\": 23}, \"line\": 4, \"event\": \"step_line\", \"ordered_globals\": [\"x\", \"i\"], \"heap\": {\"1\": [\"DICT\", [0, \"a\"], [1, \"a10000\"], [2, \"a1000020000\"], [3, \"a100002000030000\"], [4, \"a10000200003000040000\"], [5, \"a1000020000300004000050000\"], [6, \"a100002000030000400005000060000\"], [7, \"a10000200003000040000500006000070000\"], [8, \"a1000020000300004000050000600007000080000\"], [9, \"a100002000030000400005000060000700008000090000\"], [10, \"a100002000030000400005000060000700008000090000100000\"], [11, \"a100002000030000400005000060000700008000090000100000110000\"], [12, \"a100002000030000400005000060000700008000090000100000110000120000\"], [13, \"a100002000030000400005000060000700008000090000100000110000120000130000\"], [14, \"a100002000030000400005000060000700008000090000100000110000120000130000140000\"], [15, \"a100002000030000400005000060000700008000090000100000110000120000130000140000150000\"], [16, \"a100002000030000400005000060000700008000090000100000110000120000130000140000150000160000\"], [17, \"a100002000030000400005000060000700008000090000100000110000120000130000140000150000160000170000\"], [18, \"a100002000030000400005000060000700008000090000100000110000120000130000140000150000160000170000180000\"], [19, \"a100002000030000400005000060000700008000090000100000110000120000130000140000150000160000170000180000190000\"], [20, \"a100002000030000400005000060000700008000090000100000110000120000130000140000150000160000170000180000190000200000\"], [21, \"a100002000030000400005000060000700008000090000100000110000120000130000140000150000160000170000180000190000200000210000\"], [22, \"a100002000030000400005000060000700008000090000100000110000120000130000140000150000160000170000180000190000200000210000220000\"]]}, \"stdout\": \"\", \"stack_to_render\": []}, {\"func_name\": \"<module>\", \"globals\": {\"x\": [\"REF\", 1], \"i\": 23}, \"line\": 3, \"event\": \"step_line\", \"ordered_globals\": [\"x\", \"i\"], \"heap\": {\"1\": [\"DICT\", [0, \"a\"], [1, \"a10000\"], [2, \"a1000020000\"], [3, \"a100002000030000\"], [4, \"a10000200003000040000\"], [5, \"a1000020000300004000050000\"], [6, \"a100002000030000400005000060000\"], [7, \"a10000200003000040000500006000070000\"], [8, \"a1000020000300004000050000600007000080000\"], [9, \"a100002000030000400005000060000700008000090000\"], [10, \"a100002000030000400005000060000700008000090000100000\"], [11, \"a100002000030000400005000060000700008000090000100000110000\"], [12, \"a100002000030000400005000060000700008000090000100000110000120000\"], [13, \"a100002000030000400005000060000700008000090000100000110000120000130000\"], [14, \"a100002000030000400005000060000700008000090000100000110000120000130000140000\"], [15, \"a100002000030000400005000060000700008000090000100000110000120000130000140000150000\"], [16, \"a100002000030000400005000060000700008000090000100000110000120000130000140000150000160000\"], [17, \"a100002000030000400005000060000700008000090000100000110000120000130000140000150000160000170000\"], [18, \"a100002000030000400005000060000700008000090000100000110000120000130000140000150000160000170000180000\"], [19, \"a100002000030000400005000060000700008000090000100000110000120000130000140000150000160000170000180000190000\"], [20, \"a100002000030000400005000060000700008000090000100000110000120000130000140000150000160000170000180000190000200000\"], [21, \"a100002000030000400005000060000700008000090000100000110000120000130000140000150000160000170000180000190000200000210000\"], [22, \"a100002000030000400005000060000700008000090000100000110000120000130000140000150000160000170000180000190000200000210000220000\"], [23, \"a100002000030000400005000060000700008000090000100000110000120000130000140000150000160000170000180000190000200000210000220000230000\"]]}, \"stdout\": \"\", \"stack_to_render\": []}, {\"func_name\": \"<module>\", \"globals\": {\"x\": [\"REF\", 1], \"i\": 24}, \"line\": 4, \"event\": \"step_line\", \"ordered_globals\": [\"x\", \"i\"], \"heap\": {\"1\": [\"DICT\", [0, \"a\"], [1, \"a10000\"], [2, \"a1000020000\"], [3, \"a100002000030000\"], [4, \"a10000200003000040000\"], [5, \"a1000020000300004000050000\"], [6, \"a100002000030000400005000060000\"], [7, \"a10000200003000040000500006000070000\"], [8, \"a1000020000300004000050000600007000080000\"], [9, \"a100002000030000400005000060000700008000090000\"], [10, \"a100002000030000400005000060000700008000090000100000\"], [11, \"a100002000030000400005000060000700008000090000100000110000\"], [12, \"a100002000030000400005000060000700008000090000100000110000120000\"], [13, \"a100002000030000400005000060000700008000090000100000110000120000130000\"], [14, \"a100002000030000400005000060000700008000090000100000110000120000130000140000\"], [15, \"a100002000030000400005000060000700008000090000100000110000120000130000140000150000\"], [16, \"a100002000030000400005000060000700008000090000100000110000120000130000140000150000160000\"], [17, \"a100002000030000400005000060000700008000090000100000110000120000130000140000150000160000170000\"], [18, \"a100002000030000400005000060000700008000090000100000110000120000130000140000150000160000170000180000\"], [19, \"a100002000030000400005000060000700008000090000100000110000120000130000140000150000160000170000180000190000\"], [20, \"a100002000030000400005000060000700008000090000100000110000120000130000140000150000160000170000180000190000200000\"], [21, \"a100002000030000400005000060000700008000090000100000110000120000130000140000150000160000170000180000190000200000210000\"], [22, \"a100002000030000400005000060000700008000090000100000110000120000130000140000150000160000170000180000190000200000210000220000\"], [23, \"a100002000030000400005000060000700008000090000100000110000120000130000140000150000160000170000180000190000200000210000220000230000\"]]}, \"stdout\": \"\", \"stack_to_render\": []}, {\"func_name\": \"<module>\", \"globals\": {\"x\": [\"REF\", 1], \"i\": 24}, \"line\": 3, \"event\": \"step_line\", \"ordered_globals\": [\"x\", \"i\"], \"heap\": {\"1\": [\"DICT\", [0, \"a\"], [1, \"a10000\"], [2, \"a1000020000\"], [3, \"a100002000030000\"], [4, \"a10000200003000040000\"], [5, \"a1000020000300004000050000\"], [6, \"a100002000030000400005000060000\"], [7, \"a10000200003000040000500006000070000\"], [8, \"a1000020000300004000050000600007000080000\"], [9, \"a100002000030000400005000060000700008000090000\"], [10, \"a100002000030000400005000060000700008000090000100000\"], [11, \"a100002000030000400005000060000700008000090000100000110000\"], [12, \"a100002000030000400005000060000700008000090000100000110000120000\"], [13, \"a100002000030000400005000060000700008000090000100000110000120000130000\"], [14, \"a100002000030000400005000060000700008000090000100000110000120000130000140000\"], [15, \"a100002000030000400005000060000700008000090000100000110000120000130000140000150000\"], [16, \"a100002000030000400005000060000700008000090000100000110000120000130000140000150000160000\"], [17, \"a100002000030000400005000060000700008000090000100000110000120000130000140000150000160000170000\"], [18, \"a100002000030000400005000060000700008000090000100000110000120000130000140000150000160000170000180000\"], [19, \"a100002000030000400005000060000700008000090000100000110000120000130000140000150000160000170000180000190000\"], [20, \"a100002000030000400005000060000700008000090000100000110000120000130000140000150000160000170000180000190000200000\"], [21, \"a100002000030000400005000060000700008000090000100000110000120000130000140000150000160000170000180000190000200000210000\"], [22, \"a100002000030000400005000060000700008000090000100000110000120000130000140000150000160000170000180000190000200000210000220000\"], [23, \"a100002000030000400005000060000700008000090000100000110000120000130000140000150000160000170000180000190000200000210000220000230000\"], [24, \"a100002000030000400005000060000700008000090000100000110000120000130000140000150000160000170000180000190000200000210000220000230000240000\"]]}, \"stdout\": \"\", \"stack_to_render\": []}, {\"func_name\": \"<module>\", \"globals\": {\"x\": [\"REF\", 1], \"i\": 25}, \"line\": 4, \"event\": \"step_line\", \"ordered_globals\": [\"x\", \"i\"], \"heap\": {\"1\": [\"DICT\", [0, \"a\"], [1, \"a10000\"], [2, \"a1000020000\"], [3, \"a100002000030000\"], [4, \"a10000200003000040000\"], [5, \"a1000020000300004000050000\"], [6, \"a100002000030000400005000060000\"], [7, \"a10000200003000040000500006000070000\"], [8, \"a1000020000300004000050000600007000080000\"], [9, \"a100002000030000400005000060000700008000090000\"], [10, \"a100002000030000400005000060000700008000090000100000\"], [11, \"a100002000030000400005000060000700008000090000100000110000\"], [12, \"a100002000030000400005000060000700008000090000100000110000120000\"], [13, \"a100002000030000400005000060000700008000090000100000110000120000130000\"], [14, \"a100002000030000400005000060000700008000090000100000110000120000130000140000\"], [15, \"a100002000030000400005000060000700008000090000100000110000120000130000140000150000\"], [16, \"a100002000030000400005000060000700008000090000100000110000120000130000140000150000160000\"], [17, \"a100002000030000400005000060000700008000090000100000110000120000130000140000150000160000170000\"], [18, \"a100002000030000400005000060000700008000090000100000110000120000130000140000150000160000170000180000\"], [19, \"a100002000030000400005000060000700008000090000100000110000120000130000140000150000160000170000180000190000\"], [20, \"a100002000030000400005000060000700008000090000100000110000120000130000140000150000160000170000180000190000200000\"], [21, \"a100002000030000400005000060000700008000090000100000110000120000130000140000150000160000170000180000190000200000210000\"], [22, \"a100002000030000400005000060000700008000090000100000110000120000130000140000150000160000170000180000190000200000210000220000\"], [23, \"a100002000030000400005000060000700008000090000100000110000120000130000140000150000160000170000180000190000200000210000220000230000\"], [24, \"a100002000030000400005000060000700008000090000100000110000120000130000140000150000160000170000180000190000200000210000220000230000240000\"]]}, \"stdout\": \"\", \"stack_to_render\": []}, {\"func_name\": \"<module>\", \"globals\": {\"x\": [\"REF\", 1], \"i\": 25}, \"line\": 3, \"event\": \"step_line\", \"ordered_globals\": [\"x\", \"i\"], \"heap\": {\"1\": [\"DICT\", [0, \"a\"], [1, \"a10000\"], [2, \"a1000020000\"], [3, \"a100002000030000\"], [4, \"a10000200003000040000\"], [5, \"a1000020000300004000050000\"], [6, \"a100002000030000400005000060000\"], [7, \"a10000200003000040000500006000070000\"], [8, \"a1000020000300004000050000600007000080000\"], [9, \"a100002000030000400005000060000700008000090000\"], [10, \"a100002000030000400005000060000700008000090000100000\"], [11, \"a100002000030000400005000060000700008000090000100000110000\"], [12, \"a100002000030000400005000060000700008000090000100000110000120000\"], [13, \"a100002000030000400005000060000700008000090000100000110000120000130000\"], [14, \"a100002000030000400005000060000700008000090000100000110000120000130000140000\"], [15, \"a100002000030000400005000060000700008000090000100000110000120000130000140000150000\"], [16, \"a100002000030000400005000060000700008000090000100000110000120000130000140000150000160000\"], [17, \"a100002000030000400005000060000700008000090000100000110000120000130000140000150000160000170000\"], [18, \"a100002000030000400005000060000700008000090000100000110000120000130000140000150000160000170000180000\"], [19, \"a100002000030000400005000060000700008000090000100000110000120000130000140000150000160000170000180000190000\"], [20, \"a100002000030000400005000060000700008000090000100000110000120000130000140000150000160000170000180000190000200000\"], [21, \"a100002000030000400005000060000700008000090000100000110000120000130000140000150000160000170000180000190000200000210000\"], [22, \"a100002000030000400005000060000700008000090000100000110000120000130000140000150000160000170000180000190000200000210000220000\"], [23, \"a100002000030000400005000060000700008000090000100000110000120000130000140000150000160000170000180000190000200000210000220000230000\"], [24, \"a100002000030000400005000060000700008000090000100000110000120000130000140000150000160000170000180000190000200000210000220000230000240000\"], [25, \"a100002000030000400005000060000700008000090000100000110000120000130000140000150000160000170000180000190000200000210000220000230000240000250000\"]]}, \"stdout\": \"\", \"stack_to_render\": []}, {\"func_name\": \"<module>\", \"globals\": {\"x\": [\"REF\", 1], \"i\": 26}, \"line\": 4, \"event\": \"step_line\", \"ordered_globals\": [\"x\", \"i\"], \"heap\": {\"1\": [\"DICT\", [0, \"a\"], [1, \"a10000\"], [2, \"a1000020000\"], [3, \"a100002000030000\"], [4, \"a10000200003000040000\"], [5, \"a1000020000300004000050000\"], [6, \"a100002000030000400005000060000\"], [7, \"a10000200003000040000500006000070000\"], [8, \"a1000020000300004000050000600007000080000\"], [9, \"a100002000030000400005000060000700008000090000\"], [10, \"a100002000030000400005000060000700008000090000100000\"], [11, \"a100002000030000400005000060000700008000090000100000110000\"], [12, \"a100002000030000400005000060000700008000090000100000110000120000\"], [13, \"a100002000030000400005000060000700008000090000100000110000120000130000\"], [14, \"a100002000030000400005000060000700008000090000100000110000120000130000140000\"], [15, \"a100002000030000400005000060000700008000090000100000110000120000130000140000150000\"], [16, \"a100002000030000400005000060000700008000090000100000110000120000130000140000150000160000\"], [17, \"a100002000030000400005000060000700008000090000100000110000120000130000140000150000160000170000\"], [18, \"a100002000030000400005000060000700008000090000100000110000120000130000140000150000160000170000180000\"], [19, \"a100002000030000400005000060000700008000090000100000110000120000130000140000150000160000170000180000190000\"], [20, \"a100002000030000400005000060000700008000090000100000110000120000130000140000150000160000170000180000190000200000\"], [21, \"a100002000030000400005000060000700008000090000100000110000120000130000140000150000160000170000180000190000200000210000\"], [22, \"a100002000030000400005000060000700008000090000100000110000120000130000140000150000160000170000180000190000200000210000220000\"], [23, \"a100002000030000400005000060000700008000090000100000110000120000130000140000150000160000170000180000190000200000210000220000230000\"], [24, \"a100002000030000400005000060000700008000090000100000110000120000130000140000150000160000170000180000190000200000210000220000230000240000\"], [25, \"a100002000030000400005000060000700008000090000100000110000120000130000140000150000160000170000180000190000200000210000220000230000240000250000\"]]}, \"stdout\": \"\", \"stack_to_render\": []}, {\"func_name\": \"<module>\", \"globals\": {\"x\": [\"REF\", 1], \"i\": 26}, \"line\": 3, \"event\": \"step_line\", \"ordered_globals\": [\"x\", \"i\"], \"heap\": {\"1\": [\"DICT\", [0, \"a\"], [1, \"a10000\"], [2, \"a1000020000\"], [3, \"a100002000030000\"], [4, \"a10000200003000040000\"], [5, \"a1000020000300004000050000\"], [6, \"a100002000030000400005000060000\"], [7, \"a10000200003000040000500006000070000\"], [8, \"a1000020000300004000050000600007000080000\"], [9, \"a100002000030000400005000060000700008000090000\"], [10, \"a100002000030000400005000060000700008000090000100000\"], [11, \"a100002000030000400005000060000700008000090000100000110000\"], [12, \"a100002000030000400005000060000700008000090000100000110000120000\"], [13, \"a100002000030000400005000060000700008000090000100000110000120000130000\"], [14, \"a100002000030000400005000060000700008000090000100000110000120000130000140000\"], [15, \"a100002000030000400005000060000700008000090000100000110000120000130000140000150000\"], [16, \"a100002000030000400005000060000700008000090000100000110000120000130000140000150000160000\"], [17, \"a100002000030000400005000060000700008000090000100000110000120000130000140000150000160000170000\"], [18, \"a100002000030000400005000060000700008000090000100000110000120000130000140000150000160000170000180000\"], [19, \"a100002000030000400005000060000700008000090000100000110000120000130000140000150000160000170000180000190000\"], [20, \"a100002000030000400005000060000700008000090000100000110000120000130000140000150000160000170000180000190000200000\"], [21, \"a100002000030000400005000060000700008000090000100000110000120000130000140000150000160000170000180000190000200000210000\"], [22, \"a100002000030000400005000060000700008000090000100000110000120000130000140000150000160000170000180000190000200000210000220000\"], [23, \"a100002000030000400005000060000700008000090000100000110000120000130000140000150000160000170000180000190000200000210000220000230000\"], [24, \"a100002000030000400005000060000700008000090000100000110000120000130000140000150000160000170000180000190000200000210000220000230000240000\"], [25, \"a100002000030000400005000060000700008000090000100000110000120000130000140000150000160000170000180000190000200000210000220000230000240000250000\"], [26, \"a100002000030000400005000060000700008000090000100000110000120000130000140000150000160000170000180000190000200000210000220000230000240000250000260000\"]]}, \"stdout\": \"\", \"stack_to_render\": []}, {\"func_name\": \"<module>\", \"globals\": {\"x\": [\"REF\", 1], \"i\": 27}, \"line\": 4, \"event\": \"step_line\", \"ordered_globals\": [\"x\", \"i\"], \"heap\": {\"1\": [\"DICT\", [0, \"a\"], [1, \"a10000\"], [2, \"a1000020000\"], [3, \"a100002000030000\"], [4, \"a10000200003000040000\"], [5, \"a1000020000300004000050000\"], [6, \"a100002000030000400005000060000\"], [7, \"a10000200003000040000500006000070000\"], [8, \"a1000020000300004000050000600007000080000\"], [9, \"a100002000030000400005000060000700008000090000\"], [10, \"a100002000030000400005000060000700008000090000100000\"], [11, \"a100002000030000400005000060000700008000090000100000110000\"], [12, \"a100002000030000400005000060000700008000090000100000110000120000\"], [13, \"a100002000030000400005000060000700008000090000100000110000120000130000\"], [14, \"a100002000030000400005000060000700008000090000100000110000120000130000140000\"], [15, \"a100002000030000400005000060000700008000090000100000110000120000130000140000150000\"], [16, \"a100002000030000400005000060000700008000090000100000110000120000130000140000150000160000\"], [17, \"a100002000030000400005000060000700008000090000100000110000120000130000140000150000160000170000\"], [18, \"a100002000030000400005000060000700008000090000100000110000120000130000140000150000160000170000180000\"], [19, \"a100002000030000400005000060000700008000090000100000110000120000130000140000150000160000170000180000190000\"], [20, \"a100002000030000400005000060000700008000090000100000110000120000130000140000150000160000170000180000190000200000\"], [21, \"a100002000030000400005000060000700008000090000100000110000120000130000140000150000160000170000180000190000200000210000\"], [22, \"a100002000030000400005000060000700008000090000100000110000120000130000140000150000160000170000180000190000200000210000220000\"], [23, \"a100002000030000400005000060000700008000090000100000110000120000130000140000150000160000170000180000190000200000210000220000230000\"], [24, \"a100002000030000400005000060000700008000090000100000110000120000130000140000150000160000170000180000190000200000210000220000230000240000\"], [25, \"a100002000030000400005000060000700008000090000100000110000120000130000140000150000160000170000180000190000200000210000220000230000240000250000\"], [26, \"a100002000030000400005000060000700008000090000100000110000120000130000140000150000160000170000180000190000200000210000220000230000240000250000260000\"]]}, \"stdout\": \"\", \"stack_to_render\": []}, {\"func_name\": \"<module>\", \"globals\": {\"x\": [\"REF\", 1], \"i\": 27}, \"line\": 3, \"event\": \"step_line\", \"ordered_globals\": [\"x\", \"i\"], \"heap\": {\"1\": [\"DICT\", [0, \"a\"], [1, \"a10000\"], [2, \"a1000020000\"], [3, \"a100002000030000\"], [4, \"a10000200003000040000\"], [5, \"a1000020000300004000050000\"], [6, \"a100002000030000400005000060000\"], [7, \"a10000200003000040000500006000070000\"], [8, \"a1000020000300004000050000600007000080000\"], [9, \"a100002000030000400005000060000700008000090000\"], [10, \"a100002000030000400005000060000700008000090000100000\"], [11, \"a100002000030000400005000060000700008000090000100000110000\"], [12, \"a100002000030000400005000060000700008000090000100000110000120000\"], [13, \"a100002000030000400005000060000700008000090000100000110000120000130000\"], [14, \"a100002000030000400005000060000700008000090000100000110000120000130000140000\"], [15, \"a100002000030000400005000060000700008000090000100000110000120000130000140000150000\"], [16, \"a100002000030000400005000060000700008000090000100000110000120000130000140000150000160000\"], [17, \"a100002000030000400005000060000700008000090000100000110000120000130000140000150000160000170000\"], [18, \"a100002000030000400005000060000700008000090000100000110000120000130000140000150000160000170000180000\"], [19, \"a100002000030000400005000060000700008000090000100000110000120000130000140000150000160000170000180000190000\"], [20, \"a100002000030000400005000060000700008000090000100000110000120000130000140000150000160000170000180000190000200000\"], [21, \"a100002000030000400005000060000700008000090000100000110000120000130000140000150000160000170000180000190000200000210000\"], [22, \"a100002000030000400005000060000700008000090000100000110000120000130000140000150000160000170000180000190000200000210000220000\"], [23, \"a100002000030000400005000060000700008000090000100000110000120000130000140000150000160000170000180000190000200000210000220000230000\"], [24, \"a100002000030000400005000060000700008000090000100000110000120000130000140000150000160000170000180000190000200000210000220000230000240000\"], [25, \"a100002000030000400005000060000700008000090000100000110000120000130000140000150000160000170000180000190000200000210000220000230000240000250000\"], [26, \"a100002000030000400005000060000700008000090000100000110000120000130000140000150000160000170000180000190000200000210000220000230000240000250000260000\"], [27, \"a100002000030000400005000060000700008000090000100000110000120000130000140000150000160000170000180000190000200000210000220000230000240000250000260000270000\"]]}, \"stdout\": \"\", \"stack_to_render\": []}, {\"func_name\": \"<module>\", \"globals\": {\"x\": [\"REF\", 1], \"i\": 28}, \"line\": 4, \"event\": \"step_line\", \"ordered_globals\": [\"x\", \"i\"], \"heap\": {\"1\": [\"DICT\", [0, \"a\"], [1, \"a10000\"], [2, \"a1000020000\"], [3, \"a100002000030000\"], [4, \"a10000200003000040000\"], [5, \"a1000020000300004000050000\"], [6, \"a100002000030000400005000060000\"], [7, \"a10000200003000040000500006000070000\"], [8, \"a1000020000300004000050000600007000080000\"], [9, \"a100002000030000400005000060000700008000090000\"], [10, \"a100002000030000400005000060000700008000090000100000\"], [11, \"a100002000030000400005000060000700008000090000100000110000\"], [12, \"a100002000030000400005000060000700008000090000100000110000120000\"], [13, \"a100002000030000400005000060000700008000090000100000110000120000130000\"], [14, \"a100002000030000400005000060000700008000090000100000110000120000130000140000\"], [15, \"a100002000030000400005000060000700008000090000100000110000120000130000140000150000\"], [16, \"a100002000030000400005000060000700008000090000100000110000120000130000140000150000160000\"], [17, \"a100002000030000400005000060000700008000090000100000110000120000130000140000150000160000170000\"], [18, \"a100002000030000400005000060000700008000090000100000110000120000130000140000150000160000170000180000\"], [19, \"a100002000030000400005000060000700008000090000100000110000120000130000140000150000160000170000180000190000\"], [20, \"a100002000030000400005000060000700008000090000100000110000120000130000140000150000160000170000180000190000200000\"], [21, \"a100002000030000400005000060000700008000090000100000110000120000130000140000150000160000170000180000190000200000210000\"], [22, \"a100002000030000400005000060000700008000090000100000110000120000130000140000150000160000170000180000190000200000210000220000\"], [23, \"a100002000030000400005000060000700008000090000100000110000120000130000140000150000160000170000180000190000200000210000220000230000\"], [24, \"a100002000030000400005000060000700008000090000100000110000120000130000140000150000160000170000180000190000200000210000220000230000240000\"], [25, \"a100002000030000400005000060000700008000090000100000110000120000130000140000150000160000170000180000190000200000210000220000230000240000250000\"], [26, \"a100002000030000400005000060000700008000090000100000110000120000130000140000150000160000170000180000190000200000210000220000230000240000250000260000\"], [27, \"a100002000030000400005000060000700008000090000100000110000120000130000140000150000160000170000180000190000200000210000220000230000240000250000260000270000\"]]}, \"stdout\": \"\", \"stack_to_render\": []}, {\"func_name\": \"<module>\", \"globals\": {\"x\": [\"REF\", 1], \"i\": 28}, \"line\": 3, \"event\": \"step_line\", \"ordered_globals\": [\"x\", \"i\"], \"heap\": {\"1\": [\"DICT\", [0, \"a\"], [1, \"a10000\"], [2, \"a1000020000\"], [3, \"a100002000030000\"], [4, \"a10000200003000040000\"], [5, \"a1000020000300004000050000\"], [6, \"a100002000030000400005000060000\"], [7, \"a10000200003000040000500006000070000\"], [8, \"a1000020000300004000050000600007000080000\"], [9, \"a100002000030000400005000060000700008000090000\"], [10, \"a100002000030000400005000060000700008000090000100000\"], [11, \"a100002000030000400005000060000700008000090000100000110000\"], [12, \"a100002000030000400005000060000700008000090000100000110000120000\"], [13, \"a100002000030000400005000060000700008000090000100000110000120000130000\"], [14, \"a100002000030000400005000060000700008000090000100000110000120000130000140000\"], [15, \"a100002000030000400005000060000700008000090000100000110000120000130000140000150000\"], [16, \"a100002000030000400005000060000700008000090000100000110000120000130000140000150000160000\"], [17, \"a100002000030000400005000060000700008000090000100000110000120000130000140000150000160000170000\"], [18, \"a100002000030000400005000060000700008000090000100000110000120000130000140000150000160000170000180000\"], [19, \"a100002000030000400005000060000700008000090000100000110000120000130000140000150000160000170000180000190000\"], [20, \"a100002000030000400005000060000700008000090000100000110000120000130000140000150000160000170000180000190000200000\"], [21, \"a100002000030000400005000060000700008000090000100000110000120000130000140000150000160000170000180000190000200000210000\"], [22, \"a100002000030000400005000060000700008000090000100000110000120000130000140000150000160000170000180000190000200000210000220000\"], [23, \"a100002000030000400005000060000700008000090000100000110000120000130000140000150000160000170000180000190000200000210000220000230000\"], [24, \"a100002000030000400005000060000700008000090000100000110000120000130000140000150000160000170000180000190000200000210000220000230000240000\"], [25, \"a100002000030000400005000060000700008000090000100000110000120000130000140000150000160000170000180000190000200000210000220000230000240000250000\"], [26, \"a100002000030000400005000060000700008000090000100000110000120000130000140000150000160000170000180000190000200000210000220000230000240000250000260000\"], [27, \"a100002000030000400005000060000700008000090000100000110000120000130000140000150000160000170000180000190000200000210000220000230000240000250000260000270000\"], [28, \"a100002000030000400005000060000700008000090000100000110000120000130000140000150000160000170000180000190000200000210000220000230000240000250000260000270000280000\"]]}, \"stdout\": \"\", \"stack_to_render\": []}, {\"func_name\": \"<module>\", \"globals\": {\"x\": [\"REF\", 1], \"i\": 29}, \"line\": 4, \"event\": \"step_line\", \"ordered_globals\": [\"x\", \"i\"], \"heap\": {\"1\": [\"DICT\", [0, \"a\"], [1, \"a10000\"], [2, \"a1000020000\"], [3, \"a100002000030000\"], [4, \"a10000200003000040000\"], [5, \"a1000020000300004000050000\"], [6, \"a100002000030000400005000060000\"], [7, \"a10000200003000040000500006000070000\"], [8, \"a1000020000300004000050000600007000080000\"], [9, \"a100002000030000400005000060000700008000090000\"], [10, \"a100002000030000400005000060000700008000090000100000\"], [11, \"a100002000030000400005000060000700008000090000100000110000\"], [12, \"a100002000030000400005000060000700008000090000100000110000120000\"], [13, \"a100002000030000400005000060000700008000090000100000110000120000130000\"], [14, \"a100002000030000400005000060000700008000090000100000110000120000130000140000\"], [15, \"a100002000030000400005000060000700008000090000100000110000120000130000140000150000\"], [16, \"a100002000030000400005000060000700008000090000100000110000120000130000140000150000160000\"], [17, \"a100002000030000400005000060000700008000090000100000110000120000130000140000150000160000170000\"], [18, \"a100002000030000400005000060000700008000090000100000110000120000130000140000150000160000170000180000\"], [19, \"a100002000030000400005000060000700008000090000100000110000120000130000140000150000160000170000180000190000\"], [20, \"a100002000030000400005000060000700008000090000100000110000120000130000140000150000160000170000180000190000200000\"], [21, \"a100002000030000400005000060000700008000090000100000110000120000130000140000150000160000170000180000190000200000210000\"], [22, \"a100002000030000400005000060000700008000090000100000110000120000130000140000150000160000170000180000190000200000210000220000\"], [23, \"a100002000030000400005000060000700008000090000100000110000120000130000140000150000160000170000180000190000200000210000220000230000\"], [24, \"a100002000030000400005000060000700008000090000100000110000120000130000140000150000160000170000180000190000200000210000220000230000240000\"], [25, \"a100002000030000400005000060000700008000090000100000110000120000130000140000150000160000170000180000190000200000210000220000230000240000250000\"], [26, \"a100002000030000400005000060000700008000090000100000110000120000130000140000150000160000170000180000190000200000210000220000230000240000250000260000\"], [27, \"a100002000030000400005000060000700008000090000100000110000120000130000140000150000160000170000180000190000200000210000220000230000240000250000260000270000\"], [28, \"a100002000030000400005000060000700008000090000100000110000120000130000140000150000160000170000180000190000200000210000220000230000240000250000260000270000280000\"]]}, \"stdout\": \"\", \"stack_to_render\": []}, {\"func_name\": \"<module>\", \"globals\": {\"x\": [\"REF\", 1], \"i\": 29}, \"line\": 3, \"event\": \"step_line\", \"ordered_globals\": [\"x\", \"i\"], \"heap\": {\"1\": [\"DICT\", [0, \"a\"], [1, \"a10000\"], [2, \"a1000020000\"], [3, \"a100002000030000\"], [4, \"a10000200003000040000\"], [5, \"a1000020000300004000050000\"], [6, \"a100002000030000400005000060000\"], [7, \"a10000200003000040000500006000070000\"], [8, \"a1000020000300004000050000600007000080000\"], [9, \"a100002000030000400005000060000700008000090000\"], [10, \"a100002000030000400005000060000700008000090000100000\"], [11, \"a100002000030000400005000060000700008000090000100000110000\"], [12, \"a100002000030000400005000060000700008000090000100000110000120000\"], [13, \"a100002000030000400005000060000700008000090000100000110000120000130000\"], [14, \"a100002000030000400005000060000700008000090000100000110000120000130000140000\"], [15, \"a100002000030000400005000060000700008000090000100000110000120000130000140000150000\"], [16, \"a100002000030000400005000060000700008000090000100000110000120000130000140000150000160000\"], [17, \"a100002000030000400005000060000700008000090000100000110000120000130000140000150000160000170000\"], [18, \"a100002000030000400005000060000700008000090000100000110000120000130000140000150000160000170000180000\"], [19, \"a100002000030000400005000060000700008000090000100000110000120000130000140000150000160000170000180000190000\"], [20, \"a100002000030000400005000060000700008000090000100000110000120000130000140000150000160000170000180000190000200000\"], [21, \"a100002000030000400005000060000700008000090000100000110000120000130000140000150000160000170000180000190000200000210000\"], [22, \"a100002000030000400005000060000700008000090000100000110000120000130000140000150000160000170000180000190000200000210000220000\"], [23, \"a100002000030000400005000060000700008000090000100000110000120000130000140000150000160000170000180000190000200000210000220000230000\"], [24, \"a100002000030000400005000060000700008000090000100000110000120000130000140000150000160000170000180000190000200000210000220000230000240000\"], [25, \"a100002000030000400005000060000700008000090000100000110000120000130000140000150000160000170000180000190000200000210000220000230000240000250000\"], [26, \"a100002000030000400005000060000700008000090000100000110000120000130000140000150000160000170000180000190000200000210000220000230000240000250000260000\"], [27, \"a100002000030000400005000060000700008000090000100000110000120000130000140000150000160000170000180000190000200000210000220000230000240000250000260000270000\"], [28, \"a100002000030000400005000060000700008000090000100000110000120000130000140000150000160000170000180000190000200000210000220000230000240000250000260000270000280000\"], [29, \"a100002000030000400005000060000700008000090000100000110000120000130000140000150000160000170000180000190000200000210000220000230000240000250000260000270000280000290000\"]]}, \"stdout\": \"\", \"stack_to_render\": []}, {\"func_name\": \"<module>\", \"globals\": {\"x\": [\"REF\", 1], \"i\": 29}, \"line\": 3, \"event\": \"return\", \"ordered_globals\": [\"x\", \"i\"], \"heap\": {\"1\": [\"DICT\", [0, \"a\"], [1, \"a10000\"], [2, \"a1000020000\"], [3, \"a100002000030000\"], [4, \"a10000200003000040000\"], [5, \"a1000020000300004000050000\"], [6, \"a100002000030000400005000060000\"], [7, \"a10000200003000040000500006000070000\"], [8, \"a1000020000300004000050000600007000080000\"], [9, \"a100002000030000400005000060000700008000090000\"], [10, \"a100002000030000400005000060000700008000090000100000\"], [11, \"a100002000030000400005000060000700008000090000100000110000\"], [12, \"a100002000030000400005000060000700008000090000100000110000120000\"], [13, \"a100002000030000400005000060000700008000090000100000110000120000130000\"], [14, \"a100002000030000400005000060000700008000090000100000110000120000130000140000\"], [15, \"a100002000030000400005000060000700008000090000100000110000120000130000140000150000\"], [16, \"a100002000030000400005000060000700008000090000100000110000120000130000140000150000160000\"], [17, \"a100002000030000400005000060000700008000090000100000110000120000130000140000150000160000170000\"], [18, \"a100002000030000400005000060000700008000090000100000110000120000130000140000150000160000170000180000\"], [19, \"a100002000030000400005000060000700008000090000100000110000120000130000140000150000160000170000180000190000\"], [20, \"a100002000030000400005000060000700008000090000100000110000120000130000140000150000160000170000180000190000200000\"], [21, \"a100002000030000400005000060000700008000090000100000110000120000130000140000150000160000170000180000190000200000210000\"], [22, \"a100002000030000400005000060000700008000090000100000110000120000130000140000150000160000170000180000190000200000210000220000\"], [23, \"a100002000030000400005000060000700008000090000100000110000120000130000140000150000160000170000180000190000200000210000220000230000\"], [24, \"a100002000030000400005000060000700008000090000100000110000120000130000140000150000160000170000180000190000200000210000220000230000240000\"], [25, \"a100002000030000400005000060000700008000090000100000110000120000130000140000150000160000170000180000190000200000210000220000230000240000250000\"], [26, \"a100002000030000400005000060000700008000090000100000110000120000130000140000150000160000170000180000190000200000210000220000230000240000250000260000\"], [27, \"a100002000030000400005000060000700008000090000100000110000120000130000140000150000160000170000180000190000200000210000220000230000240000250000260000270000\"], [28, \"a100002000030000400005000060000700008000090000100000110000120000130000140000150000160000170000180000190000200000210000220000230000240000250000260000270000280000\"], [29, \"a100002000030000400005000060000700008000090000100000110000120000130000140000150000160000170000180000190000200000210000220000230000240000250000260000270000280000290000\"]]}, \"stdout\": \"\", \"stack_to_render\": []}]}\n",
       "        </script>\n",
       "        <div id=\"jm927e8e3a-4fa8-49a4-8368-087fe721750f\" class=\"pytutorVisualizer\"> </div>\n",
       " \n",
       "        <style>\n",
       "        .vizLayoutTd {\n",
       "            background-color: #fff !important;\n",
       "        }\n",
       "                            \n",
       "        #pyStdout {\n",
       "            min-height:25px;\n",
       "        }\n",
       "\n",
       "        /* 'Edit this code' link, hiding because replaces browser tab !!!*/\n",
       "        #editCodeLinkDiv {\n",
       "            display:none;  \n",
       "        }\n",
       "        </style>   \n",
       "                            \n",
       "        <script>\n",
       "        (function(){\n",
       "\n",
       "            var trace = JSON.parse(document.getElementById('json-jm927e8e3a-4fa8-49a4-8368-087fe721750f').innerHTML);                                        \n",
       "            // NOTE 1: id without #\n",
       "            // NOTE 2 - maybe there are more predictable ways, but this will work anyway\n",
       "            //        - id should be number\n",
       "            visualizerIdOverride = Math.trunc(Math.random() * 100000000000)\n",
       "            addVisualizerToPage(trace, 'jm927e8e3a-4fa8-49a4-8368-087fe721750f',{'embeddedMode' : false,\n",
       "                                             'visualizerIdOverride':visualizerIdOverride})  \n",
       "            \n",
       "            \n",
       "            // set overflow for pytuts - need to do in python as css \n",
       "            // does not allow parent selection\n",
       "            var pytuts = $('.pytutorVisualizer')\n",
       "            pytuts.closest('div.output_html.rendered_html.output_result')\n",
       "                    .css('overflow-x', 'visible')\n",
       "        \n",
       "            //pytuts.closest('div.output_html.rendered_html.output_result')\n",
       "            //      .css('background-color','red')                \n",
       "            \n",
       "        })()\n",
       "        </script>\n",
       "                \n",
       "                "
      ],
      "text/plain": [
       "<IPython.core.display.HTML object>"
      ]
     },
     "execution_count": 8,
     "metadata": {},
     "output_type": "execute_result"
    }
   ],
   "source": [
    "x = {0:'a'}\n",
    "for i in range(1,30):\n",
    "    x[i] = x[i-1]+str(i*10000)\n",
    "jupman.pytut()"
   ]
  },
  {
   "cell_type": "markdown",
   "metadata": {},
   "source": [
    "**jupman.pytut cross arrows**: With multiple visualizations, arrows shouldn't cross from one to the other even if underlying script is loaded multiple times (relates to visualizerIdOverride)"
   ]
  },
  {
   "cell_type": "code",
   "execution_count": 9,
   "metadata": {},
   "outputs": [
    {
     "data": {
      "text/html": [
       "\n",
       "        <script src=\"_static/js/pytutor-embed.bundle.min.js\" type=\"application/javascript\"></script>\n",
       "     \n",
       "        <script id=\"json-jmb484a1fe-0b97-4dff-8ce8-8ca5426a0afa\" type=\"application/json\" >\n",
       "            {\"code\": \" \\nx = [1,2,3]\", \"trace\": [{\"func_name\": \"<module>\", \"globals\": {}, \"line\": 2, \"event\": \"step_line\", \"ordered_globals\": [], \"heap\": {}, \"stdout\": \"\", \"stack_to_render\": []}, {\"func_name\": \"<module>\", \"globals\": {\"x\": [\"REF\", 1]}, \"line\": 2, \"event\": \"return\", \"ordered_globals\": [\"x\"], \"heap\": {\"1\": [\"LIST\", 1, 2, 3]}, \"stdout\": \"\", \"stack_to_render\": []}]}\n",
       "        </script>\n",
       "        <div id=\"jmb484a1fe-0b97-4dff-8ce8-8ca5426a0afa\" class=\"pytutorVisualizer\"> </div>\n",
       " \n",
       "        <style>\n",
       "        .vizLayoutTd {\n",
       "            background-color: #fff !important;\n",
       "        }\n",
       "                            \n",
       "        #pyStdout {\n",
       "            min-height:25px;\n",
       "        }\n",
       "\n",
       "        /* 'Edit this code' link, hiding because replaces browser tab !!!*/\n",
       "        #editCodeLinkDiv {\n",
       "            display:none;  \n",
       "        }\n",
       "        </style>   \n",
       "                            \n",
       "        <script>\n",
       "        (function(){\n",
       "\n",
       "            var trace = JSON.parse(document.getElementById('json-jmb484a1fe-0b97-4dff-8ce8-8ca5426a0afa').innerHTML);                                        \n",
       "            // NOTE 1: id without #\n",
       "            // NOTE 2 - maybe there are more predictable ways, but this will work anyway\n",
       "            //        - id should be number\n",
       "            visualizerIdOverride = Math.trunc(Math.random() * 100000000000)\n",
       "            addVisualizerToPage(trace, 'jmb484a1fe-0b97-4dff-8ce8-8ca5426a0afa',{'embeddedMode' : false,\n",
       "                                             'visualizerIdOverride':visualizerIdOverride})  \n",
       "            \n",
       "            \n",
       "            // set overflow for pytuts - need to do in python as css \n",
       "            // does not allow parent selection\n",
       "            var pytuts = $('.pytutorVisualizer')\n",
       "            pytuts.closest('div.output_html.rendered_html.output_result')\n",
       "                    .css('overflow-x', 'visible')\n",
       "        \n",
       "            //pytuts.closest('div.output_html.rendered_html.output_result')\n",
       "            //      .css('background-color','red')                \n",
       "            \n",
       "        })()\n",
       "        </script>\n",
       "                \n",
       "                "
      ],
      "text/plain": [
       "<IPython.core.display.HTML object>"
      ]
     },
     "execution_count": 9,
     "metadata": {},
     "output_type": "execute_result"
    }
   ],
   "source": [
    "x = [1,2,3]\n",
    "\n",
    "\n",
    "jupman.pytut()"
   ]
  },
  {
   "cell_type": "markdown",
   "metadata": {},
   "source": [
    "**jupman.pytut print output**: With only one line of print, Print output panel shouldn't be too short:"
   ]
  },
  {
   "cell_type": "code",
   "execution_count": 10,
   "metadata": {
    "scrolled": true
   },
   "outputs": [
    {
     "name": "stdout",
     "output_type": "stream",
     "text": [
      "hello\n"
     ]
    },
    {
     "data": {
      "text/html": [
       "\n",
       "        <script src=\"_static/js/pytutor-embed.bundle.min.js\" type=\"application/javascript\"></script>\n",
       "     \n",
       "        <script id=\"json-jmf6858fb1-7642-4064-bdb8-988fce0bff40\" type=\"application/json\" >\n",
       "            {\"code\": \" \\nprint(\\\"hello\\\")\", \"trace\": [{\"func_name\": \"<module>\", \"globals\": {}, \"line\": 2, \"event\": \"step_line\", \"ordered_globals\": [], \"heap\": {}, \"stdout\": \"\", \"stack_to_render\": []}, {\"func_name\": \"<module>\", \"globals\": {}, \"line\": 2, \"event\": \"return\", \"ordered_globals\": [], \"heap\": {}, \"stdout\": \"hello\\n\", \"stack_to_render\": []}]}\n",
       "        </script>\n",
       "        <div id=\"jmf6858fb1-7642-4064-bdb8-988fce0bff40\" class=\"pytutorVisualizer\"> </div>\n",
       " \n",
       "        <style>\n",
       "        .vizLayoutTd {\n",
       "            background-color: #fff !important;\n",
       "        }\n",
       "                            \n",
       "        #pyStdout {\n",
       "            min-height:25px;\n",
       "        }\n",
       "\n",
       "        /* 'Edit this code' link, hiding because replaces browser tab !!!*/\n",
       "        #editCodeLinkDiv {\n",
       "            display:none;  \n",
       "        }\n",
       "        </style>   \n",
       "                            \n",
       "        <script>\n",
       "        (function(){\n",
       "\n",
       "            var trace = JSON.parse(document.getElementById('json-jmf6858fb1-7642-4064-bdb8-988fce0bff40').innerHTML);                                        \n",
       "            // NOTE 1: id without #\n",
       "            // NOTE 2 - maybe there are more predictable ways, but this will work anyway\n",
       "            //        - id should be number\n",
       "            visualizerIdOverride = Math.trunc(Math.random() * 100000000000)\n",
       "            addVisualizerToPage(trace, 'jmf6858fb1-7642-4064-bdb8-988fce0bff40',{'embeddedMode' : false,\n",
       "                                             'visualizerIdOverride':visualizerIdOverride})  \n",
       "            \n",
       "            \n",
       "            // set overflow for pytuts - need to do in python as css \n",
       "            // does not allow parent selection\n",
       "            var pytuts = $('.pytutorVisualizer')\n",
       "            pytuts.closest('div.output_html.rendered_html.output_result')\n",
       "                    .css('overflow-x', 'visible')\n",
       "        \n",
       "            //pytuts.closest('div.output_html.rendered_html.output_result')\n",
       "            //      .css('background-color','red')                \n",
       "            \n",
       "        })()\n",
       "        </script>\n",
       "                \n",
       "                "
      ],
      "text/plain": [
       "<IPython.core.display.HTML object>"
      ]
     },
     "execution_count": 10,
     "metadata": {},
     "output_type": "execute_result"
    }
   ],
   "source": [
    "print(\"hello\")\n",
    "\n",
    "jupman.pytut()"
   ]
  },
  {
   "cell_type": "code",
   "execution_count": 11,
   "metadata": {},
   "outputs": [
    {
     "data": {
      "text/html": [
       "\n",
       "        <script src=\"_static/js/pytutor-embed.bundle.min.js\" type=\"application/javascript\"></script>\n",
       "     \n",
       "        <script id=\"json-jm79c396da-bfcf-47a5-b60a-80b683936ba6\" type=\"application/json\" >\n",
       "            {\"code\": \" \\ny = [1,2,3,4]\", \"trace\": [{\"func_name\": \"<module>\", \"globals\": {}, \"line\": 2, \"event\": \"step_line\", \"ordered_globals\": [], \"heap\": {}, \"stdout\": \"\", \"stack_to_render\": []}, {\"func_name\": \"<module>\", \"globals\": {\"y\": [\"REF\", 1]}, \"line\": 2, \"event\": \"return\", \"ordered_globals\": [\"y\"], \"heap\": {\"1\": [\"LIST\", 1, 2, 3, 4]}, \"stdout\": \"\", \"stack_to_render\": []}]}\n",
       "        </script>\n",
       "        <div id=\"jm79c396da-bfcf-47a5-b60a-80b683936ba6\" class=\"pytutorVisualizer\"> </div>\n",
       " \n",
       "        <style>\n",
       "        .vizLayoutTd {\n",
       "            background-color: #fff !important;\n",
       "        }\n",
       "                            \n",
       "        #pyStdout {\n",
       "            min-height:25px;\n",
       "        }\n",
       "\n",
       "        /* 'Edit this code' link, hiding because replaces browser tab !!!*/\n",
       "        #editCodeLinkDiv {\n",
       "            display:none;  \n",
       "        }\n",
       "        </style>   \n",
       "                            \n",
       "        <script>\n",
       "        (function(){\n",
       "\n",
       "            var trace = JSON.parse(document.getElementById('json-jm79c396da-bfcf-47a5-b60a-80b683936ba6').innerHTML);                                        \n",
       "            // NOTE 1: id without #\n",
       "            // NOTE 2 - maybe there are more predictable ways, but this will work anyway\n",
       "            //        - id should be number\n",
       "            visualizerIdOverride = Math.trunc(Math.random() * 100000000000)\n",
       "            addVisualizerToPage(trace, 'jm79c396da-bfcf-47a5-b60a-80b683936ba6',{'embeddedMode' : false,\n",
       "                                             'visualizerIdOverride':visualizerIdOverride})  \n",
       "            \n",
       "            \n",
       "            // set overflow for pytuts - need to do in python as css \n",
       "            // does not allow parent selection\n",
       "            var pytuts = $('.pytutorVisualizer')\n",
       "            pytuts.closest('div.output_html.rendered_html.output_result')\n",
       "                    .css('overflow-x', 'visible')\n",
       "        \n",
       "            //pytuts.closest('div.output_html.rendered_html.output_result')\n",
       "            //      .css('background-color','red')                \n",
       "            \n",
       "        })()\n",
       "        </script>\n",
       "                \n",
       "                "
      ],
      "text/plain": [
       "<IPython.core.display.HTML object>"
      ]
     },
     "execution_count": 11,
     "metadata": {},
     "output_type": "execute_result"
    }
   ],
   "source": [
    "y = [1,2,3,4]\n",
    "\n",
    "\n",
    "jupman.pytut()"
   ]
  },
  {
   "cell_type": "markdown",
   "metadata": {},
   "source": [
    "### HTML magics\n",
    "\n",
    "Another option is to directly paste Python Tutor iframe in the cells, and use Jupyter `%%HTML` magics command. \n",
    "\n",
    "HTML should be available both in notebook and website - of course, requires an internet connection.\n",
    "\n",
    "Beware: you need the HTTP**S** !"
   ]
  },
  {
   "cell_type": "code",
   "execution_count": 12,
   "metadata": {
    "raw_mimetype": "text/html"
   },
   "outputs": [
    {
     "data": {
      "text/html": [
       "\n",
       "<iframe width=\"800\" height=\"300\" frameborder=\"0\"\n",
       "        src=\"https://pythontutor.com/iframe-embed.html#code=x+%3D+5%0Ay+%3D+10%0Az+%3D+x+%2B+y&cumulative=false&py=2&curInstr=3\">\n",
       "</iframe>"
      ],
      "text/plain": [
       "<IPython.core.display.HTML object>"
      ]
     },
     "metadata": {},
     "output_type": "display_data"
    }
   ],
   "source": [
    "%%HTML\n",
    "\n",
    "<iframe width=\"800\" height=\"300\" frameborder=\"0\"\n",
    "        src=\"https://pythontutor.com/iframe-embed.html#code=x+%3D+5%0Ay+%3D+10%0Az+%3D+x+%2B+y&cumulative=false&py=2&curInstr=3\">\n",
    "</iframe>"
   ]
  },
  {
   "cell_type": "markdown",
   "metadata": {},
   "source": [
    "### NBTutor"
   ]
  },
  {
   "cell_type": "markdown",
   "metadata": {},
   "source": [
    "To show Python Tutor in notebooks, there is already a jupyter extension called [NBTutor](https://github.com/lgpage/nbtutor) , afterwards you can use magic `%%nbtutor` to show the interpreter.\n",
    "\n",
    "Unfortunately, it doesn't show in the generated HTML :-/\n"
   ]
  },
  {
   "cell_type": "code",
   "execution_count": 13,
   "metadata": {},
   "outputs": [],
   "source": [
    "%reload_ext nbtutor"
   ]
  },
  {
   "cell_type": "code",
   "execution_count": 14,
   "metadata": {},
   "outputs": [
    {
     "name": "stdout",
     "output_type": "stream",
     "text": [
      "ciao\n",
      "ciao\n",
      "ciao\n"
     ]
    },
    {
     "data": {
      "text/plain": [
       "12"
      ]
     },
     "execution_count": 14,
     "metadata": {},
     "output_type": "execute_result"
    }
   ],
   "source": [
    "%%nbtutor\n",
    "\n",
    "for x in range(1,4):\n",
    "    print(\"ciao\")\n",
    "x=5\n",
    "y=7\n",
    "x +y\n"
   ]
  },
  {
   "cell_type": "markdown",
   "metadata": {},
   "source": [
    "## Stripping answers\n",
    "\n",
    "For stripping answers examples, see [jupyter-example/jupyter-example-sol](jupyter-example/jupyter-example-sol.ipynb). For explanation, see [usage](usage.ipynb#Tags-to-strip)"
   ]
  },
  {
   "cell_type": "markdown",
   "metadata": {
    "dav-prop": "bla"
   },
   "source": [
    "## Metadata to HTML classes\n"
   ]
  },
  {
   "cell_type": "markdown",
   "metadata": {},
   "source": [
    "## Formatting problems"
   ]
  },
  {
   "cell_type": "markdown",
   "metadata": {},
   "source": [
    "### Characters per line\n",
    "\n",
    "\n",
    "Python standard for code has limit to 79, many styles have 80 (see [Wikipedia](https://en.wikipedia.org/wiki/Characters_per_line))\n",
    "\n",
    "We can keep 80:\n",
    "\n",
    "```\n",
    "--------------------------------------------------------------------------------\n",
    "```\n",
    "\n",
    "\n",
    "```python\n",
    "--------------------------------------------------------------------------------\n",
    "```\n",
    "\n",
    "\n",
    "Errors hold 75 dashes:\n",
    "\n",
    "Plain:\n",
    "```\n",
    "---------------------------------------------------------------------------\n",
    "ZeroDivisionError                         Traceback (most recent call last)\n",
    "<ipython-input-15-9e1622b385b6> in <module>()\n",
    "----> 1 1/0\n",
    "\n",
    "ZeroDivisionError: division by zero\n",
    "\n",
    "```\n",
    "\n",
    "As Python markup:\n",
    "```python\n",
    "---------------------------------------------------------------------------\n",
    "ZeroDivisionError                         Traceback (most recent call last)\n",
    "<ipython-input-15-9e1622b385b6> in <module>()\n",
    "----> 1 1/0\n",
    "\n",
    "ZeroDivisionError: division by zero\n",
    "```"
   ]
  },
  {
   "cell_type": "code",
   "execution_count": 15,
   "metadata": {},
   "outputs": [
    {
     "data": {
      "text/plain": [
       "75"
      ]
     },
     "execution_count": 15,
     "metadata": {},
     "output_type": "execute_result"
    }
   ],
   "source": [
    "len('---------------------------------------------------------------------------')"
   ]
  },
  {
   "cell_type": "markdown",
   "metadata": {},
   "source": [
    "On website this **may** display a scroll bar, because it will actually print `'` apexes plus the dashes"
   ]
  },
  {
   "cell_type": "code",
   "execution_count": 16,
   "metadata": {},
   "outputs": [
    {
     "data": {
      "text/plain": [
       "'--------------------------------------------------------------------------------'"
      ]
     },
     "execution_count": 16,
     "metadata": {},
     "output_type": "execute_result"
    }
   ],
   "source": [
    "'-'*80"
   ]
  },
  {
   "cell_type": "markdown",
   "metadata": {},
   "source": [
    "This should **not** display a scrollbar:"
   ]
  },
  {
   "cell_type": "code",
   "execution_count": 17,
   "metadata": {},
   "outputs": [
    {
     "data": {
      "text/plain": [
       "'------------------------------------------------------------------------------'"
      ]
     },
     "execution_count": 17,
     "metadata": {},
     "output_type": "execute_result"
    }
   ],
   "source": [
    "'-'*78"
   ]
  },
  {
   "cell_type": "markdown",
   "metadata": {},
   "source": [
    "This should **not** display a scrollbar:"
   ]
  },
  {
   "cell_type": "code",
   "execution_count": 18,
   "metadata": {
    "scrolled": true
   },
   "outputs": [
    {
     "name": "stdout",
     "output_type": "stream",
     "text": [
      "--------------------------------------------------------------------------------\n"
     ]
    }
   ],
   "source": [
    "print('-'*80)"
   ]
  },
  {
   "cell_type": "markdown",
   "metadata": {},
   "source": [
    "### Very large input\n",
    "\n",
    "In Jupyter: default behaviour, show scrollbar\n",
    "\n",
    "On the website: should expand in horizontal as much as it wants, the rationale is that for input code since it may be printed to PDF you should always manually put line breaks."
   ]
  },
  {
   "cell_type": "code",
   "execution_count": 19,
   "metadata": {},
   "outputs": [],
   "source": [
    "# line with an exceedingly long comment line with an exceedingly long comment line with an exceedingly long comment line with an exceedingly long comment line with an exceedingly long comment line with an exceedingly long comment\n",
    "\n",
    "# line with an an out-of-this-world long comment line with an an out-of-this-world long comment line with an an out-of-this-world long comment line with an an out-of-this-world long comment line with an an out-of-this-world long comment line with an an out-of-this-world long comment line with an an out-of-this-world long comment line with an an out-of-this-world long comment line with an an out-of-this-world long comment line with an an out-of-this-world long comment line with an an out-of-this-world long comment line with an an out-of-this-world long comment line with an an out-of-this-world long comment line with an an out-of-this-world long comment line with an an out-of-this-world long comment line with an an out-of-this-world long comment line with an an out-of-this-world long comment line with an an out-of-this-world long comment line with an an out-of-this-world long comment line with an an out-of-this-world long comment line with an an out-of-this-world long comment line with an an out-of-this-world long comment line with an an out-of-this-world long comment line with an an out-of-this-world long comment line with an an out-of-this-world long comment line with an an out-of-this-world long comment line with an an out-of-this-world long comment line with an an out-of-this-world long comment line with an an out-of-this-world long comment line with an an out-of-this-world long comment line with an an out-of-this-world long comment line with an an out-of-this-world long comment line with an an out-of-this-world long comment line with an an out-of-this-world long comment line with an an out-of-this-world long comment line with an an out-of-this-world long comment line with an an out-of-this-world long comment line with an an out-of-this-world long comment line with an an out-of-this-world long comment line with an an out-of-this-world long comment line with an an out-of-this-world long comment line with an an out-of-this-world long comment line with an an out-of-this-world long comment line with an an out-of-this-world long comment line with an an out-of-this-world long comment line with an an out-of-this-world long comment line with an an out-of-this-world long comment line with an an out-of-this-world long comment line with an an out-of-this-world long comment line with an an out-of-this-world long comment line with an an out-of-this-world long comment line with an an out-of-this-world long comment line with an an out-of-this-world long comment line with an an out-of-this-world long comment line with an an out-of-this-world long comment line with an an out-of-this-world long comment line with an an out-of-this-world long comment line with an an out-of-this-world long comment line with an an out-of-this-world long comment line with an an out-of-this-world long comment line with an an out-of-this-world long comment line with an an out-of-this-world long comment line with an an out-of-this-world long comment line with an an out-of-this-world long comment line with an an out-of-this-world long comment line with an an out-of-this-world long comment line with an an out-of-this-world long comment line with an an out-of-this-world long comment line with an an out-of-this-world long comment line with an an out-of-this-world long comment line with an an out-of-this-world long comment line with an an out-of-this-world long comment line with an an out-of-this-world long comment line with an an out-of-this-world long comment line with an an out-of-this-world long comment line with an an out-of-this-world long comment line with an an out-of-this-world long comment line with an an out-of-this-world long comment line with an an out-of-this-world long comment line with an an out-of-this-world long comment line with an an out-of-this-world long comment line with an an out-of-this-world long comment line with an an out-of-this-world long comment line with an an out-of-this-world long comment line with an an out-of-this-world long comment line with an an out-of-this-world long comment line with an an out-of-this-world long comment line with an an out-of-this-world long comment line with an an out-of-this-world long comment line with an an out-of-this-world long comment line with an an out-of-this-world long comment line with an an out-of-this-world long comment line with an an out-of-this-world long comment line with an an out-of-this-world long comment line with an an out-of-this-world long comment line with an an out-of-this-world long comment line with an an out-of-this-world long comment line with an an out-of-this-world long comment line with an an out-of-this-world long comment line with an an out-of-this-world long comment line with an an out-of-this-world long comment line with an an out-of-this-world long comment line with an an out-of-this-world long comment line with an an out-of-this-world long comment line with an an out-of-this-world long comment line with an an out-of-this-world long comment line with an an out-of-this-world long comment line with an an out-of-this-world long comment\n",
    "\n"
   ]
  },
  {
   "cell_type": "markdown",
   "metadata": {},
   "source": [
    "**Very long HTML** (and long code line)\n",
    "\n",
    "Should expand in vertical as much as it wants."
   ]
  },
  {
   "cell_type": "code",
   "execution_count": 20,
   "metadata": {},
   "outputs": [
    {
     "data": {
      "text/html": [
       "\n",
       "<iframe width=\"100%\" height=\"1300px\" frameBorder=\"0\" src=\"https://umap.openstreetmap.fr/en/map/mia-mappa-agritur_182055?scaleControl=false&miniMap=false&scrollWheelZoom=false&zoomControl=true&allowEdit=false&moreControl=true&searchControl=null&tilelayersControl=null&embedControl=null&datalayersControl=true&onLoadPanel=undefined&captionBar=false#11/46.0966/11.4024\"></iframe><p><a href=\"http://umap.openstreetmap.fr/en/map/mia-mappa-agritur_182055\">See full screen</a></p>\n"
      ],
      "text/plain": [
       "<IPython.core.display.HTML object>"
      ]
     },
     "metadata": {},
     "output_type": "display_data"
    }
   ],
   "source": [
    "%%HTML\n",
    "\n",
    "<iframe width=\"100%\" height=\"1300px\" frameBorder=\"0\" src=\"https://umap.openstreetmap.fr/en/map/mia-mappa-agritur_182055?scaleControl=false&miniMap=false&scrollWheelZoom=false&zoomControl=true&allowEdit=false&moreControl=true&searchControl=null&tilelayersControl=null&embedControl=null&datalayersControl=true&onLoadPanel=undefined&captionBar=false#11/46.0966/11.4024\"></iframe><p><a href=\"http://umap.openstreetmap.fr/en/map/mia-mappa-agritur_182055\">See full screen</a></p>\n",
    "\n"
   ]
  },
  {
   "cell_type": "markdown",
   "metadata": {},
   "source": [
    "### Very long output\n",
    "\n",
    "In Jupyter: by clicking, you can collapse\n",
    "\n",
    "On the website: a scrollbar should appear"
   ]
  },
  {
   "cell_type": "code",
   "execution_count": 21,
   "metadata": {
    "scrolled": false
   },
   "outputs": [
    {
     "name": "stdout",
     "output_type": "stream",
     "text": [
      "long output ... 0\n",
      "long output ... 1\n",
      "long output ... 2\n",
      "long output ... 3\n",
      "long output ... 4\n",
      "long output ... 5\n",
      "long output ... 6\n",
      "long output ... 7\n",
      "long output ... 8\n",
      "long output ... 9\n",
      "long output ... 10\n",
      "long output ... 11\n",
      "long output ... 12\n",
      "long output ... 13\n",
      "long output ... 14\n",
      "long output ... 15\n",
      "long output ... 16\n",
      "long output ... 17\n",
      "long output ... 18\n",
      "long output ... 19\n",
      "long output ... 20\n",
      "long output ... 21\n",
      "long output ... 22\n",
      "long output ... 23\n",
      "long output ... 24\n",
      "long output ... 25\n",
      "long output ... 26\n",
      "long output ... 27\n",
      "long output ... 28\n",
      "long output ... 29\n",
      "long output ... 30\n",
      "long output ... 31\n",
      "long output ... 32\n",
      "long output ... 33\n",
      "long output ... 34\n",
      "long output ... 35\n",
      "long output ... 36\n",
      "long output ... 37\n",
      "long output ... 38\n",
      "long output ... 39\n",
      "long output ... 40\n",
      "long output ... 41\n",
      "long output ... 42\n",
      "long output ... 43\n",
      "long output ... 44\n",
      "long output ... 45\n",
      "long output ... 46\n",
      "long output ... 47\n",
      "long output ... 48\n",
      "long output ... 49\n",
      "long output ... 50\n",
      "long output ... 51\n",
      "long output ... 52\n",
      "long output ... 53\n",
      "long output ... 54\n",
      "long output ... 55\n",
      "long output ... 56\n",
      "long output ... 57\n",
      "long output ... 58\n",
      "long output ... 59\n",
      "long output ... 60\n",
      "long output ... 61\n",
      "long output ... 62\n",
      "long output ... 63\n",
      "long output ... 64\n",
      "long output ... 65\n",
      "long output ... 66\n",
      "long output ... 67\n",
      "long output ... 68\n",
      "long output ... 69\n",
      "long output ... 70\n",
      "long output ... 71\n",
      "long output ... 72\n",
      "long output ... 73\n",
      "long output ... 74\n",
      "long output ... 75\n",
      "long output ... 76\n",
      "long output ... 77\n",
      "long output ... 78\n",
      "long output ... 79\n",
      "long output ... 80\n",
      "long output ... 81\n",
      "long output ... 82\n",
      "long output ... 83\n",
      "long output ... 84\n",
      "long output ... 85\n",
      "long output ... 86\n",
      "long output ... 87\n",
      "long output ... 88\n",
      "long output ... 89\n",
      "long output ... 90\n",
      "long output ... 91\n",
      "long output ... 92\n",
      "long output ... 93\n",
      "long output ... 94\n",
      "long output ... 95\n",
      "long output ... 96\n",
      "long output ... 97\n",
      "long output ... 98\n",
      "long output ... 99\n",
      "long output ... 100\n",
      "long output ... 101\n",
      "long output ... 102\n",
      "long output ... 103\n",
      "long output ... 104\n",
      "long output ... 105\n",
      "long output ... 106\n",
      "long output ... 107\n",
      "long output ... 108\n",
      "long output ... 109\n",
      "long output ... 110\n",
      "long output ... 111\n",
      "long output ... 112\n",
      "long output ... 113\n",
      "long output ... 114\n",
      "long output ... 115\n",
      "long output ... 116\n",
      "long output ... 117\n",
      "long output ... 118\n",
      "long output ... 119\n",
      "long output ... 120\n",
      "long output ... 121\n",
      "long output ... 122\n",
      "long output ... 123\n",
      "long output ... 124\n",
      "long output ... 125\n",
      "long output ... 126\n",
      "long output ... 127\n",
      "long output ... 128\n",
      "long output ... 129\n",
      "long output ... 130\n",
      "long output ... 131\n",
      "long output ... 132\n",
      "long output ... 133\n",
      "long output ... 134\n",
      "long output ... 135\n",
      "long output ... 136\n",
      "long output ... 137\n",
      "long output ... 138\n",
      "long output ... 139\n",
      "long output ... 140\n",
      "long output ... 141\n",
      "long output ... 142\n",
      "long output ... 143\n",
      "long output ... 144\n",
      "long output ... 145\n",
      "long output ... 146\n",
      "long output ... 147\n",
      "long output ... 148\n",
      "long output ... 149\n"
     ]
    }
   ],
   "source": [
    "for x in range(150):\n",
    "    print('long output ...', x)"
   ]
  },
  {
   "cell_type": "code",
   "execution_count": null,
   "metadata": {},
   "outputs": [],
   "source": []
  }
 ],
 "metadata": {
  "celltoolbar": "Visualize",
  "kernelspec": {
   "display_name": "Python 3",
   "language": "python",
   "name": "python3"
  },
  "language_info": {
   "codemirror_mode": {
    "name": "ipython",
    "version": 3
   },
   "file_extension": ".py",
   "mimetype": "text/x-python",
   "name": "python",
   "nbconvert_exporter": "python",
   "pygments_lexer": "ipython3",
   "version": "3.5.2"
  },
  "toc": {
   "base_numbering": 1,
   "nav_menu": {},
   "number_sections": false,
   "sideBar": true,
   "skip_h1_title": false,
   "title_cell": "Table of Contents",
   "title_sidebar": "Contents",
   "toc_cell": false,
   "toc_position": {
    "height": "calc(100% - 180px)",
    "left": "10px",
    "top": "150px",
    "width": "311px"
   },
   "toc_section_display": true,
   "toc_window_display": true
  }
 },
 "nbformat": 4,
 "nbformat_minor": 2
}
